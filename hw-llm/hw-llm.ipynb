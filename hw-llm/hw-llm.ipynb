{
 "cells": [
  {
   "cell_type": "markdown",
   "metadata": {},
   "source": [
    "# Homework 8: Large Language Models\n",
    "\n",
    "An PDF overview of the homework is [here](https://www.cs.jhu.edu/~jason/465/hw-llm/).\n",
    "\n",
    "It mentions: \"We'll send hand-in instructions soon.  Probably we will ask you to submit a version\n",
    "of the main notebook, with your answers added and extraneous materials deleted. We may also\n",
    "ask for a summary.\"\n",
    "\n",
    "![image](https://cs.jhu.edu/~jason/465/hw-llm/handin.png)\n",
    "This symbol marks a question or exercise that you will be expected to hand in."
   ]
  },
  {
   "cell_type": "markdown",
   "metadata": {},
   "source": [
    "# Getting started\n",
    "\n",
    "## Activate `conda` environment\n",
    "\n",
    "When executing cells in this notebook, you will need to connect to an `nlp-class` kernel, which is a Python process running in that environment.  This is the notebook equivalent of the terminal command `conda activate nlp-class`.  \n",
    "\n",
    "If you need to create or update that environment, first download the [nlp-class.yml](http://cs.jhu.edu/~jason/465/hw-llm/nlp-class.yml) file, and execute\n",
    "```\n",
    "conda env update --file nlp-class.yml --prune\n",
    "```"
   ]
  },
  {
   "cell_type": "markdown",
   "metadata": {},
   "source": [
    "## Fetch code and data files for this homework\n",
    "\n",
    "All of the files you need are in the directory <https://www.cs.jhu.edu/~jason/465/hw-llm/>.  To get a local copy of that directory, including this notebook, you can download and unpack [HW-LLM.zip](https://www.cs.jhu.edu/~jason/465/hw-llm/HW-LLM.zip).  Then open this notebook.\n",
    "\n",
    "Note that the other files must be in the *same directory* as this notebook.  Otherwise, a command like `import tracking` won't be able to find the tracking module, `tracking.py`.\n",
    "\n",
    "*Note:* These files might get improved after the homework is released, in which case you'll want to re-download them.  Make sure not to overwrite changes you've already made.  One way to do it: use a terminal to `cd` to the directory containing this notebook, and run the following shell commands to get the latest versions of all other files.\n",
    "```\n",
    "wget --quiet -r -np -nH --cut-dirs=3 -A '*.txt' -A '*.py' -A 'demo.ipynb' https://www.cs.jhu.edu/~jason/465/hw-llm/\n",
    "rm -f data/*.1 robots.txt   # remove any backup versions of the static files\n",
    "```\n",
    "Any existing versions of the files will not be overwritten; they will be renamed with names like `tracking.py.1`."
   ]
  },
  {
   "cell_type": "code",
   "execution_count": 1,
   "metadata": {},
   "outputs": [
    {
     "name": "stdout",
     "output_type": "stream",
     "text": [
      "-rw-rw-r--@ 1 griffinmontalvo  staff  19742 Nov 23 07:20 agents.py\n",
      "-rw-rw-r--@ 1 griffinmontalvo  staff   3131 Nov 23 07:20 argubots.py\n",
      "-rw-rw-r--@ 1 griffinmontalvo  staff   2836 Nov 23 10:43 characters.py\n",
      "-rw-rw-r--@ 1 griffinmontalvo  staff   2641 Dec  5  2023 dialogue.py\n",
      "-rw-rw-r--@ 1 griffinmontalvo  staff  14216 Nov 23 09:41 evaluate.py\n",
      "-rw-rw-r--@ 1 griffinmontalvo  staff  10426 Dec  5  2023 kialo.py\n",
      "-rw-rw-r--@ 1 griffinmontalvo  staff   1347 Dec  3  2023 logging_cm.py\n",
      "-rw-rw-r--@ 1 griffinmontalvo  staff   1503 Dec  5  2023 simulate.py\n",
      "-rw-rw-r--@ 1 griffinmontalvo  staff   6130 Nov 30 15:11 tracking.py\n",
      "\n",
      "data:\n",
      "total 4512\n",
      "-rw-rw-r--@ 1 griffinmontalvo  staff     407 Nov 29  2023 LICENSE\n",
      "-rw-rw-r--@ 1 griffinmontalvo  staff  613106 Nov 25  2023 all-humans-should-be-vegan-2762.txt\n",
      "-rw-rw-r--@ 1 griffinmontalvo  staff   81917 Nov 29  2023 have-authoritarian-governments-handled-covid-19-better-than-others-54145.txt\n",
      "-rw-rw-r--@ 1 griffinmontalvo  staff   52771 Dec  4  2023 is-biden-an-incompetent-president-44217.txt\n",
      "-rw-rw-r--@ 1 griffinmontalvo  staff  153551 Dec  4  2023 is-joe-biden-a-good-president-53071.txt\n",
      "-rw-rw-r--@ 1 griffinmontalvo  staff   60556 Dec  4  2023 is-joe-biden-better-than-donald-trump-39949.txt\n",
      "-rw-rw-r--@ 1 griffinmontalvo  staff  113781 Nov 29  2023 should-covid-19-vaccines-be-mandatory-39517.txt\n",
      "-rw-rw-r--@ 1 griffinmontalvo  staff   19702 Nov 25  2023 should-enforcing-a-vegan-diet-on-children-be-condemned-as-child-abuse-33850.txt\n",
      "-rw-rw-r--@ 1 griffinmontalvo  staff    6615 Nov 25  2023 should-people-go-vegan-if-they-can-31640.txt\n",
      "-rw-rw-r--@ 1 griffinmontalvo  staff   18637 Nov 29  2023 should-schools-close-during-the-covid-19-pandemic-44845.txt\n",
      "-rw-rw-r--@ 1 griffinmontalvo  staff  704648 Nov 25  2023 the-ethics-of-eating-animals-is-eating-meat-wrong-1229.txt\n",
      "-rw-rw-r--@ 1 griffinmontalvo  staff  376707 Dec  4  2023 was-donald-trump-a-good-president-6079.txt\n",
      "-rw-rw-r--@ 1 griffinmontalvo  staff   87301 Dec  4  2023 was-trump-a-good-president-3295.txt\n"
     ]
    }
   ],
   "source": [
    "# Check that the current directory does contain the files.\n",
    "!ls -lR *.py data"
   ]
  },
  {
   "cell_type": "markdown",
   "metadata": {},
   "source": [
    "\n",
    "The `autoreload` feature of Jupyter ensures that if an imported module (.py file) changes, the notebook will automatically import the new version.  \n",
    "(However, objects that were defined with the old version of the class won't change.)"
   ]
  },
  {
   "cell_type": "code",
   "execution_count": 2,
   "metadata": {},
   "outputs": [],
   "source": [
    "# Executing this cell does some magic\n",
    "%load_ext autoreload\n",
    "%autoreload 2"
   ]
  },
  {
   "cell_type": "markdown",
   "metadata": {},
   "source": [
    "## Create an OpenAI client"
   ]
  },
  {
   "cell_type": "markdown",
   "metadata": {},
   "source": [
    "An OpenAI API key will be sent to you.  (Or are you not in the class? Then you can make your own API key by [signing up for an OpenAI platform account](https://platform.openai.com/signup) and putting some money on it.  This assignment should cost only about $1 US.)\n",
    "\n",
    "Make an `.env` file in the same directory as this notebook, containing the following:\n",
    "```\n",
    "export OPENAI_API_KEY=[your API key]    # do not include the brackets here\n",
    "```\n",
    "Make sure others can't read this file:\n",
    "```\n",
    "chmod 600 .env\n",
    "```\n",
    "\n",
    "**Be sure to keep the key secret.  It gives access to a billable account.** If OpenAI finds it on the public web, they will invalidate it, and then no one (including you) can use this key to make requests anymore.\n",
    "\n",
    "\n",
    "\n",
    "Now you can execute the following to get an OpenAI client object."
   ]
  },
  {
   "cell_type": "code",
   "execution_count": 3,
   "metadata": {},
   "outputs": [],
   "source": [
    "from tracking import new_default_client, read_usage\n",
    "client = new_default_client() "
   ]
  },
  {
   "cell_type": "markdown",
   "metadata": {},
   "source": [
    "That fetches your API key and calls `openai.OpenAI()` to make a new **client** object, whose job is to talk to the OpenAI **server** over HTTP.  (The `OpenAI` constructor has some optional arguments that configure these HTTP messages.\n",
    "However, the defaults should work fine for you.)\n",
    "\n",
    "That command also saved the new client in `tracking.default_client`, which is the client that the starter code will use by default whenever it needs to talk to the OpenAI server.  Thus, you should **rerun the above cell** to get a new client if you change the `default_model` in `tracking.py`, or if your API key in  `.env` ever changes, or its associated organization ever changes."
   ]
  },
  {
   "cell_type": "markdown",
   "metadata": {},
   "source": [
    "## Try the model!\n",
    "\n",
    "You can now get answers from OpenAI models by calling methods of the `client` instance.  \n",
    "You will have to specify which OpenAI model to use.\n",
    "Documentation of the methods is [here](https://pypi.org/project/openai/) if you are curious."
   ]
  },
  {
   "cell_type": "markdown",
   "metadata": {},
   "source": [
    "### Continue a textual prompt\n",
    "\n",
    "This is what language models excel at.  In principle you should do it by calling [`client.completions.create`](https://platform.openai.com/docs/api-reference/completions/create?lang=python).  However, OpenAI has [retired](https://openai.com/blog/gpt-4-api-general-availability) most of the models that support that API (keeping only `gpt-3.5-turbo-instruct`).  So we'll use the more modern API, [`client.chat.completions.create`](https://platform.openai.com/docs/api-reference/chat/create?lang=python)."
   ]
  },
  {
   "cell_type": "code",
   "execution_count": 12,
   "metadata": {},
   "outputs": [
    {
     "data": {
      "text/html": [
       "<pre style=\"white-space:pre;overflow-x:auto;line-height:normal;font-family:Menlo,'DejaVu Sans Mono',consolas,'Courier New',monospace\"><span style=\"color: #800080; text-decoration-color: #800080; font-weight: bold\">ChatCompletion</span><span style=\"font-weight: bold\">(</span>\n",
       "    <span style=\"color: #808000; text-decoration-color: #808000\">id</span>=<span style=\"color: #008000; text-decoration-color: #008000\">'chatcmpl-AbutXxIAIQ2SWxXJnbPpPJb6DO1Yl'</span>,\n",
       "    <span style=\"color: #808000; text-decoration-color: #808000\">choices</span>=<span style=\"font-weight: bold\">[</span>\n",
       "        <span style=\"color: #800080; text-decoration-color: #800080; font-weight: bold\">Choice</span><span style=\"font-weight: bold\">(</span>\n",
       "            <span style=\"color: #808000; text-decoration-color: #808000\">finish_reason</span>=<span style=\"color: #008000; text-decoration-color: #008000\">'stop'</span>,\n",
       "            <span style=\"color: #808000; text-decoration-color: #808000\">index</span>=<span style=\"color: #008080; text-decoration-color: #008080; font-weight: bold\">0</span>,\n",
       "            <span style=\"color: #808000; text-decoration-color: #808000\">logprobs</span>=<span style=\"color: #800080; text-decoration-color: #800080; font-weight: bold\">ChoiceLogprobs</span><span style=\"font-weight: bold\">(</span>\n",
       "                <span style=\"color: #808000; text-decoration-color: #808000\">content</span>=<span style=\"font-weight: bold\">[</span>\n",
       "                    <span style=\"color: #800080; text-decoration-color: #800080; font-weight: bold\">ChatCompletionTokenLogprob</span><span style=\"font-weight: bold\">(</span>\n",
       "                        <span style=\"color: #808000; text-decoration-color: #808000\">token</span>=<span style=\"color: #008000; text-decoration-color: #008000\">'Mer'</span>,\n",
       "                        <span style=\"color: #808000; text-decoration-color: #808000\">bytes</span>=<span style=\"font-weight: bold\">[</span><span style=\"color: #008080; text-decoration-color: #008080; font-weight: bold\">77</span>, <span style=\"color: #008080; text-decoration-color: #008080; font-weight: bold\">101</span>, <span style=\"color: #008080; text-decoration-color: #008080; font-weight: bold\">114</span><span style=\"font-weight: bold\">]</span>,\n",
       "                        <span style=\"color: #808000; text-decoration-color: #808000\">logprob</span>=<span style=\"color: #008080; text-decoration-color: #008080; font-weight: bold\">-1.050902</span>,\n",
       "                        <span style=\"color: #808000; text-decoration-color: #808000\">top_logprobs</span>=<span style=\"font-weight: bold\">[</span>\n",
       "                            <span style=\"color: #800080; text-decoration-color: #800080; font-weight: bold\">TopLogprob</span><span style=\"font-weight: bold\">(</span><span style=\"color: #808000; text-decoration-color: #808000\">token</span>=<span style=\"color: #008000; text-decoration-color: #008000\">'1'</span>, <span style=\"color: #808000; text-decoration-color: #808000\">bytes</span>=<span style=\"font-weight: bold\">[</span><span style=\"color: #008080; text-decoration-color: #008080; font-weight: bold\">49</span><span style=\"font-weight: bold\">]</span>, <span style=\"color: #808000; text-decoration-color: #808000\">logprob</span>=<span style=\"color: #008080; text-decoration-color: #008080; font-weight: bold\">-0.5625769</span><span style=\"font-weight: bold\">)</span>,\n",
       "                            <span style=\"color: #800080; text-decoration-color: #800080; font-weight: bold\">TopLogprob</span><span style=\"font-weight: bold\">(</span><span style=\"color: #808000; text-decoration-color: #808000\">token</span>=<span style=\"color: #008000; text-decoration-color: #008000\">'Mer'</span>, <span style=\"color: #808000; text-decoration-color: #808000\">bytes</span>=<span style=\"font-weight: bold\">[</span><span style=\"color: #008080; text-decoration-color: #008080; font-weight: bold\">77</span>, <span style=\"color: #008080; text-decoration-color: #008080; font-weight: bold\">101</span>, <span style=\"color: #008080; text-decoration-color: #008080; font-weight: bold\">114</span><span style=\"font-weight: bold\">]</span>, <span style=\"color: #808000; text-decoration-color: #808000\">logprob</span>=<span style=\"color: #008080; text-decoration-color: #008080; font-weight: bold\">-1.050902</span><span style=\"font-weight: bold\">)</span>,\n",
       "                            <span style=\"color: #800080; text-decoration-color: #800080; font-weight: bold\">TopLogprob</span><span style=\"font-weight: bold\">(</span><span style=\"color: #808000; text-decoration-color: #808000\">token</span>=<span style=\"color: #008000; text-decoration-color: #008000\">'The'</span>, <span style=\"color: #808000; text-decoration-color: #808000\">bytes</span>=<span style=\"font-weight: bold\">[</span><span style=\"color: #008080; text-decoration-color: #008080; font-weight: bold\">84</span>, <span style=\"color: #008080; text-decoration-color: #008080; font-weight: bold\">104</span>, <span style=\"color: #008080; text-decoration-color: #008080; font-weight: bold\">101</span><span style=\"font-weight: bold\">]</span>, <span style=\"color: #808000; text-decoration-color: #808000\">logprob</span>=<span style=\"color: #008080; text-decoration-color: #008080; font-weight: bold\">-2.8802953</span><span style=\"font-weight: bold\">)</span>,\n",
       "                            <span style=\"color: #800080; text-decoration-color: #800080; font-weight: bold\">TopLogprob</span><span style=\"font-weight: bold\">(</span><span style=\"color: #808000; text-decoration-color: #808000\">token</span>=<span style=\"color: #008000; text-decoration-color: #008000\">'-'</span>, <span style=\"color: #808000; text-decoration-color: #808000\">bytes</span>=<span style=\"font-weight: bold\">[</span><span style=\"color: #008080; text-decoration-color: #008080; font-weight: bold\">45</span><span style=\"font-weight: bold\">]</span>, <span style=\"color: #808000; text-decoration-color: #808000\">logprob</span>=<span style=\"color: #008080; text-decoration-color: #008080; font-weight: bold\">-4.1521287</span><span style=\"font-weight: bold\">)</span>,\n",
       "                            <span style=\"color: #800080; text-decoration-color: #800080; font-weight: bold\">TopLogprob</span><span style=\"font-weight: bold\">(</span><span style=\"color: #808000; text-decoration-color: #808000\">token</span>=<span style=\"color: #008000; text-decoration-color: #008000\">'There'</span>, <span style=\"color: #808000; text-decoration-color: #808000\">bytes</span>=<span style=\"font-weight: bold\">[</span><span style=\"color: #008080; text-decoration-color: #008080; font-weight: bold\">84</span>, <span style=\"color: #008080; text-decoration-color: #008080; font-weight: bold\">104</span>, <span style=\"color: #008080; text-decoration-color: #008080; font-weight: bold\">101</span>, <span style=\"color: #008080; text-decoration-color: #008080; font-weight: bold\">114</span>, <span style=\"color: #008080; text-decoration-color: #008080; font-weight: bold\">101</span><span style=\"font-weight: bold\">]</span>, <span style=\"color: #808000; text-decoration-color: #808000\">logprob</span>=<span style=\"color: #008080; text-decoration-color: #008080; font-weight: bold\">-5.6867146</span><span style=\"font-weight: bold\">)</span>\n",
       "                        <span style=\"font-weight: bold\">]</span>\n",
       "                    <span style=\"font-weight: bold\">)</span>,\n",
       "                    <span style=\"color: #800080; text-decoration-color: #800080; font-weight: bold\">ChatCompletionTokenLogprob</span><span style=\"font-weight: bold\">(</span>\n",
       "                        <span style=\"color: #808000; text-decoration-color: #808000\">token</span>=<span style=\"color: #008000; text-decoration-color: #008000\">'cury'</span>,\n",
       "                        <span style=\"color: #808000; text-decoration-color: #808000\">bytes</span>=<span style=\"font-weight: bold\">[</span><span style=\"color: #008080; text-decoration-color: #008080; font-weight: bold\">99</span>, <span style=\"color: #008080; text-decoration-color: #008080; font-weight: bold\">117</span>, <span style=\"color: #008080; text-decoration-color: #008080; font-weight: bold\">114</span>, <span style=\"color: #008080; text-decoration-color: #008080; font-weight: bold\">121</span><span style=\"font-weight: bold\">]</span>,\n",
       "                        <span style=\"color: #808000; text-decoration-color: #808000\">logprob</span>=<span style=\"color: #008080; text-decoration-color: #008080; font-weight: bold\">0.0</span>,\n",
       "                        <span style=\"color: #808000; text-decoration-color: #808000\">top_logprobs</span>=<span style=\"font-weight: bold\">[</span>\n",
       "                            <span style=\"color: #800080; text-decoration-color: #800080; font-weight: bold\">TopLogprob</span><span style=\"font-weight: bold\">(</span><span style=\"color: #808000; text-decoration-color: #808000\">token</span>=<span style=\"color: #008000; text-decoration-color: #008000\">'cury'</span>, <span style=\"color: #808000; text-decoration-color: #808000\">bytes</span>=<span style=\"font-weight: bold\">[</span><span style=\"color: #008080; text-decoration-color: #008080; font-weight: bold\">99</span>, <span style=\"color: #008080; text-decoration-color: #008080; font-weight: bold\">117</span>, <span style=\"color: #008080; text-decoration-color: #008080; font-weight: bold\">114</span>, <span style=\"color: #008080; text-decoration-color: #008080; font-weight: bold\">121</span><span style=\"font-weight: bold\">]</span>, <span style=\"color: #808000; text-decoration-color: #808000\">logprob</span>=<span style=\"color: #008080; text-decoration-color: #008080; font-weight: bold\">0.0</span><span style=\"font-weight: bold\">)</span>,\n",
       "                            <span style=\"color: #800080; text-decoration-color: #800080; font-weight: bold\">TopLogprob</span><span style=\"font-weight: bold\">(</span><span style=\"color: #808000; text-decoration-color: #808000\">token</span>=<span style=\"color: #008000; text-decoration-color: #008000\">'ury'</span>, <span style=\"color: #808000; text-decoration-color: #808000\">bytes</span>=<span style=\"font-weight: bold\">[</span><span style=\"color: #008080; text-decoration-color: #008080; font-weight: bold\">117</span>, <span style=\"color: #008080; text-decoration-color: #008080; font-weight: bold\">114</span>, <span style=\"color: #008080; text-decoration-color: #008080; font-weight: bold\">121</span><span style=\"font-weight: bold\">]</span>, <span style=\"color: #808000; text-decoration-color: #808000\">logprob</span>=<span style=\"color: #008080; text-decoration-color: #008080; font-weight: bold\">-17.271332</span><span style=\"font-weight: bold\">)</span>,\n",
       "                            <span style=\"color: #800080; text-decoration-color: #800080; font-weight: bold\">TopLogprob</span><span style=\"font-weight: bold\">(</span><span style=\"color: #808000; text-decoration-color: #808000\">token</span>=<span style=\"color: #008000; text-decoration-color: #008000\">'cur'</span>, <span style=\"color: #808000; text-decoration-color: #808000\">bytes</span>=<span style=\"font-weight: bold\">[</span><span style=\"color: #008080; text-decoration-color: #008080; font-weight: bold\">99</span>, <span style=\"color: #008080; text-decoration-color: #008080; font-weight: bold\">117</span>, <span style=\"color: #008080; text-decoration-color: #008080; font-weight: bold\">114</span><span style=\"font-weight: bold\">]</span>, <span style=\"color: #808000; text-decoration-color: #808000\">logprob</span>=<span style=\"color: #008080; text-decoration-color: #008080; font-weight: bold\">-18.114151</span><span style=\"font-weight: bold\">)</span>,\n",
       "                            <span style=\"color: #800080; text-decoration-color: #800080; font-weight: bold\">TopLogprob</span><span style=\"font-weight: bold\">(</span><span style=\"color: #808000; text-decoration-color: #808000\">token</span>=<span style=\"color: #008000; text-decoration-color: #008000\">'uc'</span>, <span style=\"color: #808000; text-decoration-color: #808000\">bytes</span>=<span style=\"font-weight: bold\">[</span><span style=\"color: #008080; text-decoration-color: #008080; font-weight: bold\">117</span>, <span style=\"color: #008080; text-decoration-color: #008080; font-weight: bold\">99</span><span style=\"font-weight: bold\">]</span>, <span style=\"color: #808000; text-decoration-color: #808000\">logprob</span>=<span style=\"color: #008080; text-decoration-color: #008080; font-weight: bold\">-18.547878</span><span style=\"font-weight: bold\">)</span>,\n",
       "                            <span style=\"color: #800080; text-decoration-color: #800080; font-weight: bold\">TopLogprob</span><span style=\"font-weight: bold\">(</span>\n",
       "                                <span style=\"color: #808000; text-decoration-color: #808000\">token</span>=<span style=\"color: #008000; text-decoration-color: #008000\">' Mercury'</span>,\n",
       "                                <span style=\"color: #808000; text-decoration-color: #808000\">bytes</span>=<span style=\"font-weight: bold\">[</span><span style=\"color: #008080; text-decoration-color: #008080; font-weight: bold\">32</span>, <span style=\"color: #008080; text-decoration-color: #008080; font-weight: bold\">77</span>, <span style=\"color: #008080; text-decoration-color: #008080; font-weight: bold\">101</span>, <span style=\"color: #008080; text-decoration-color: #008080; font-weight: bold\">114</span>, <span style=\"color: #008080; text-decoration-color: #008080; font-weight: bold\">99</span>, <span style=\"color: #008080; text-decoration-color: #008080; font-weight: bold\">117</span>, <span style=\"color: #008080; text-decoration-color: #008080; font-weight: bold\">114</span>, <span style=\"color: #008080; text-decoration-color: #008080; font-weight: bold\">121</span><span style=\"font-weight: bold\">]</span>,\n",
       "                                <span style=\"color: #808000; text-decoration-color: #808000\">logprob</span>=<span style=\"color: #008080; text-decoration-color: #008080; font-weight: bold\">-20.207407</span>\n",
       "                            <span style=\"font-weight: bold\">)</span>\n",
       "                        <span style=\"font-weight: bold\">]</span>\n",
       "                    <span style=\"font-weight: bold\">)</span>,\n",
       "                    <span style=\"color: #800080; text-decoration-color: #800080; font-weight: bold\">ChatCompletionTokenLogprob</span><span style=\"font-weight: bold\">(</span>\n",
       "                        <span style=\"color: #808000; text-decoration-color: #808000\">token</span>=<span style=\"color: #008000; text-decoration-color: #008000\">','</span>,\n",
       "                        <span style=\"color: #808000; text-decoration-color: #808000\">bytes</span>=<span style=\"font-weight: bold\">[</span><span style=\"color: #008080; text-decoration-color: #008080; font-weight: bold\">44</span><span style=\"font-weight: bold\">]</span>,\n",
       "                        <span style=\"color: #808000; text-decoration-color: #808000\">logprob</span>=<span style=\"color: #008080; text-decoration-color: #008080; font-weight: bold\">-0.0057383403</span>,\n",
       "                        <span style=\"color: #808000; text-decoration-color: #808000\">top_logprobs</span>=<span style=\"font-weight: bold\">[</span>\n",
       "                            <span style=\"color: #800080; text-decoration-color: #800080; font-weight: bold\">TopLogprob</span><span style=\"font-weight: bold\">(</span><span style=\"color: #808000; text-decoration-color: #808000\">token</span>=<span style=\"color: #008000; text-decoration-color: #008000\">','</span>, <span style=\"color: #808000; text-decoration-color: #808000\">bytes</span>=<span style=\"font-weight: bold\">[</span><span style=\"color: #008080; text-decoration-color: #008080; font-weight: bold\">44</span><span style=\"font-weight: bold\">]</span>, <span style=\"color: #808000; text-decoration-color: #808000\">logprob</span>=<span style=\"color: #008080; text-decoration-color: #008080; font-weight: bold\">-0.0057383403</span><span style=\"font-weight: bold\">)</span>,\n",
       "                            <span style=\"color: #800080; text-decoration-color: #800080; font-weight: bold\">TopLogprob</span><span style=\"font-weight: bold\">(</span><span style=\"color: #808000; text-decoration-color: #808000\">token</span>=<span style=\"color: #008000; text-decoration-color: #008000\">'\\n'</span>, <span style=\"color: #808000; text-decoration-color: #808000\">bytes</span>=<span style=\"font-weight: bold\">[</span><span style=\"color: #008080; text-decoration-color: #008080; font-weight: bold\">10</span><span style=\"font-weight: bold\">]</span>, <span style=\"color: #808000; text-decoration-color: #808000\">logprob</span>=<span style=\"color: #008080; text-decoration-color: #008080; font-weight: bold\">-5.1852446</span><span style=\"font-weight: bold\">)</span>,\n",
       "                            <span style=\"color: #800080; text-decoration-color: #800080; font-weight: bold\">TopLogprob</span><span style=\"font-weight: bold\">(</span><span style=\"color: #808000; text-decoration-color: #808000\">token</span>=<span style=\"color: #008000; text-decoration-color: #008000\">' \\n'</span>, <span style=\"color: #808000; text-decoration-color: #808000\">bytes</span>=<span style=\"font-weight: bold\">[</span><span style=\"color: #008080; text-decoration-color: #008080; font-weight: bold\">32</span>, <span style=\"color: #008080; text-decoration-color: #008080; font-weight: bold\">10</span><span style=\"font-weight: bold\">]</span>, <span style=\"color: #808000; text-decoration-color: #808000\">logprob</span>=<span style=\"color: #008080; text-decoration-color: #008080; font-weight: bold\">-9.419543</span><span style=\"font-weight: bold\">)</span>,\n",
       "                            <span style=\"color: #800080; text-decoration-color: #800080; font-weight: bold\">TopLogprob</span><span style=\"font-weight: bold\">(</span><span style=\"color: #808000; text-decoration-color: #808000\">token</span>=<span style=\"color: #008000; text-decoration-color: #008000\">',\\n'</span>, <span style=\"color: #808000; text-decoration-color: #808000\">bytes</span>=<span style=\"font-weight: bold\">[</span><span style=\"color: #008080; text-decoration-color: #008080; font-weight: bold\">44</span>, <span style=\"color: #008080; text-decoration-color: #008080; font-weight: bold\">10</span><span style=\"font-weight: bold\">]</span>, <span style=\"color: #808000; text-decoration-color: #808000\">logprob</span>=<span style=\"color: #008080; text-decoration-color: #008080; font-weight: bold\">-10.927722</span><span style=\"font-weight: bold\">)</span>,\n",
       "                            <span style=\"color: #800080; text-decoration-color: #800080; font-weight: bold\">TopLogprob</span><span style=\"font-weight: bold\">(</span><span style=\"color: #808000; text-decoration-color: #808000\">token</span>=<span style=\"color: #008000; text-decoration-color: #008000\">',V'</span>, <span style=\"color: #808000; text-decoration-color: #808000\">bytes</span>=<span style=\"font-weight: bold\">[</span><span style=\"color: #008080; text-decoration-color: #008080; font-weight: bold\">44</span>, <span style=\"color: #008080; text-decoration-color: #008080; font-weight: bold\">86</span><span style=\"font-weight: bold\">]</span>, <span style=\"color: #808000; text-decoration-color: #808000\">logprob</span>=<span style=\"color: #008080; text-decoration-color: #008080; font-weight: bold\">-11.489453</span><span style=\"font-weight: bold\">)</span>\n",
       "                        <span style=\"font-weight: bold\">]</span>\n",
       "                    <span style=\"font-weight: bold\">)</span>,\n",
       "                    <span style=\"color: #800080; text-decoration-color: #800080; font-weight: bold\">ChatCompletionTokenLogprob</span><span style=\"font-weight: bold\">(</span>\n",
       "                        <span style=\"color: #808000; text-decoration-color: #808000\">token</span>=<span style=\"color: #008000; text-decoration-color: #008000\">' Venus'</span>,\n",
       "                        <span style=\"color: #808000; text-decoration-color: #808000\">bytes</span>=<span style=\"font-weight: bold\">[</span><span style=\"color: #008080; text-decoration-color: #008080; font-weight: bold\">32</span>, <span style=\"color: #008080; text-decoration-color: #008080; font-weight: bold\">86</span>, <span style=\"color: #008080; text-decoration-color: #008080; font-weight: bold\">101</span>, <span style=\"color: #008080; text-decoration-color: #008080; font-weight: bold\">110</span>, <span style=\"color: #008080; text-decoration-color: #008080; font-weight: bold\">117</span>, <span style=\"color: #008080; text-decoration-color: #008080; font-weight: bold\">115</span><span style=\"font-weight: bold\">]</span>,\n",
       "                        <span style=\"color: #808000; text-decoration-color: #808000\">logprob</span>=<span style=\"color: #008080; text-decoration-color: #008080; font-weight: bold\">-7.703444e-06</span>,\n",
       "                        <span style=\"color: #808000; text-decoration-color: #808000\">top_logprobs</span>=<span style=\"font-weight: bold\">[</span>\n",
       "                            <span style=\"color: #800080; text-decoration-color: #800080; font-weight: bold\">TopLogprob</span><span style=\"font-weight: bold\">(</span><span style=\"color: #808000; text-decoration-color: #808000\">token</span>=<span style=\"color: #008000; text-decoration-color: #008000\">' Venus'</span>, <span style=\"color: #808000; text-decoration-color: #808000\">bytes</span>=<span style=\"font-weight: bold\">[</span><span style=\"color: #008080; text-decoration-color: #008080; font-weight: bold\">32</span>, <span style=\"color: #008080; text-decoration-color: #008080; font-weight: bold\">86</span>, <span style=\"color: #008080; text-decoration-color: #008080; font-weight: bold\">101</span>, <span style=\"color: #008080; text-decoration-color: #008080; font-weight: bold\">110</span>, <span style=\"color: #008080; text-decoration-color: #008080; font-weight: bold\">117</span>, <span style=\"color: #008080; text-decoration-color: #008080; font-weight: bold\">115</span><span style=\"font-weight: bold\">]</span>, <span style=\"color: #808000; text-decoration-color: #808000\">logprob</span>=<span style=\"color: #008080; text-decoration-color: #008080; font-weight: bold\">-7.703444e-06</span><span style=\"font-weight: bold\">)</span>,\n",
       "                            <span style=\"color: #800080; text-decoration-color: #800080; font-weight: bold\">TopLogprob</span><span style=\"font-weight: bold\">(</span><span style=\"color: #808000; text-decoration-color: #808000\">token</span>=<span style=\"color: #008000; text-decoration-color: #008000\">' '</span>, <span style=\"color: #808000; text-decoration-color: #808000\">bytes</span>=<span style=\"font-weight: bold\">[</span><span style=\"color: #008080; text-decoration-color: #008080; font-weight: bold\">32</span><span style=\"font-weight: bold\">]</span>, <span style=\"color: #808000; text-decoration-color: #808000\">logprob</span>=<span style=\"color: #008080; text-decoration-color: #008080; font-weight: bold\">-11.961809</span><span style=\"font-weight: bold\">)</span>,\n",
       "                            <span style=\"color: #800080; text-decoration-color: #800080; font-weight: bold\">TopLogprob</span><span style=\"font-weight: bold\">(</span><span style=\"color: #808000; text-decoration-color: #808000\">token</span>=<span style=\"color: #008000; text-decoration-color: #008000\">' \\n'</span>, <span style=\"color: #808000; text-decoration-color: #808000\">bytes</span>=<span style=\"font-weight: bold\">[</span><span style=\"color: #008080; text-decoration-color: #008080; font-weight: bold\">32</span>, <span style=\"color: #008080; text-decoration-color: #008080; font-weight: bold\">10</span><span style=\"font-weight: bold\">]</span>, <span style=\"color: #808000; text-decoration-color: #808000\">logprob</span>=<span style=\"color: #008080; text-decoration-color: #008080; font-weight: bold\">-14.105684</span><span style=\"font-weight: bold\">)</span>,\n",
       "                            <span style=\"color: #800080; text-decoration-color: #800080; font-weight: bold\">TopLogprob</span><span style=\"font-weight: bold\">(</span><span style=\"color: #808000; text-decoration-color: #808000\">token</span>=<span style=\"color: #008000; text-decoration-color: #008000\">' Mars'</span>, <span style=\"color: #808000; text-decoration-color: #808000\">bytes</span>=<span style=\"font-weight: bold\">[</span><span style=\"color: #008080; text-decoration-color: #008080; font-weight: bold\">32</span>, <span style=\"color: #008080; text-decoration-color: #008080; font-weight: bold\">77</span>, <span style=\"color: #008080; text-decoration-color: #008080; font-weight: bold\">97</span>, <span style=\"color: #008080; text-decoration-color: #008080; font-weight: bold\">114</span>, <span style=\"color: #008080; text-decoration-color: #008080; font-weight: bold\">115</span><span style=\"font-weight: bold\">]</span>, <span style=\"color: #808000; text-decoration-color: #808000\">logprob</span>=<span style=\"color: #008080; text-decoration-color: #008080; font-weight: bold\">-15.172667</span><span style=\"font-weight: bold\">)</span>,\n",
       "                            <span style=\"color: #800080; text-decoration-color: #800080; font-weight: bold\">TopLogprob</span><span style=\"font-weight: bold\">(</span><span style=\"color: #808000; text-decoration-color: #808000\">token</span>=<span style=\"color: #008000; text-decoration-color: #008000\">'  '</span>, <span style=\"color: #808000; text-decoration-color: #808000\">bytes</span>=<span style=\"font-weight: bold\">[</span><span style=\"color: #008080; text-decoration-color: #008080; font-weight: bold\">32</span>, <span style=\"color: #008080; text-decoration-color: #008080; font-weight: bold\">32</span><span style=\"font-weight: bold\">]</span>, <span style=\"color: #808000; text-decoration-color: #808000\">logprob</span>=<span style=\"color: #008080; text-decoration-color: #008080; font-weight: bold\">-16.471138</span><span style=\"font-weight: bold\">)</span>\n",
       "                        <span style=\"font-weight: bold\">]</span>\n",
       "                    <span style=\"font-weight: bold\">)</span>,\n",
       "                    <span style=\"color: #800080; text-decoration-color: #800080; font-weight: bold\">ChatCompletionTokenLogprob</span><span style=\"font-weight: bold\">(</span>\n",
       "                        <span style=\"color: #808000; text-decoration-color: #808000\">token</span>=<span style=\"color: #008000; text-decoration-color: #008000\">','</span>,\n",
       "                        <span style=\"color: #808000; text-decoration-color: #808000\">bytes</span>=<span style=\"font-weight: bold\">[</span><span style=\"color: #008080; text-decoration-color: #008080; font-weight: bold\">44</span><span style=\"font-weight: bold\">]</span>,\n",
       "                        <span style=\"color: #808000; text-decoration-color: #808000\">logprob</span>=<span style=\"color: #008080; text-decoration-color: #008080; font-weight: bold\">-2.8160932e-06</span>,\n",
       "                        <span style=\"color: #808000; text-decoration-color: #808000\">top_logprobs</span>=<span style=\"font-weight: bold\">[</span>\n",
       "                            <span style=\"color: #800080; text-decoration-color: #800080; font-weight: bold\">TopLogprob</span><span style=\"font-weight: bold\">(</span><span style=\"color: #808000; text-decoration-color: #808000\">token</span>=<span style=\"color: #008000; text-decoration-color: #008000\">','</span>, <span style=\"color: #808000; text-decoration-color: #808000\">bytes</span>=<span style=\"font-weight: bold\">[</span><span style=\"color: #008080; text-decoration-color: #008080; font-weight: bold\">44</span><span style=\"font-weight: bold\">]</span>, <span style=\"color: #808000; text-decoration-color: #808000\">logprob</span>=<span style=\"color: #008080; text-decoration-color: #008080; font-weight: bold\">-2.8160932e-06</span><span style=\"font-weight: bold\">)</span>,\n",
       "                            <span style=\"color: #800080; text-decoration-color: #800080; font-weight: bold\">TopLogprob</span><span style=\"font-weight: bold\">(</span><span style=\"color: #808000; text-decoration-color: #808000\">token</span>=<span style=\"color: #008000; text-decoration-color: #008000\">',\\n'</span>, <span style=\"color: #808000; text-decoration-color: #808000\">bytes</span>=<span style=\"font-weight: bold\">[</span><span style=\"color: #008080; text-decoration-color: #008080; font-weight: bold\">44</span>, <span style=\"color: #008080; text-decoration-color: #008080; font-weight: bold\">10</span><span style=\"font-weight: bold\">]</span>, <span style=\"color: #808000; text-decoration-color: #808000\">logprob</span>=<span style=\"color: #008080; text-decoration-color: #008080; font-weight: bold\">-13.782844</span><span style=\"font-weight: bold\">)</span>,\n",
       "                            <span style=\"color: #800080; text-decoration-color: #800080; font-weight: bold\">TopLogprob</span><span style=\"font-weight: bold\">(</span><span style=\"color: #808000; text-decoration-color: #808000\">token</span>=<span style=\"color: #008000; text-decoration-color: #008000\">' ,'</span>, <span style=\"color: #808000; text-decoration-color: #808000\">bytes</span>=<span style=\"font-weight: bold\">[</span><span style=\"color: #008080; text-decoration-color: #008080; font-weight: bold\">32</span>, <span style=\"color: #008080; text-decoration-color: #008080; font-weight: bold\">44</span><span style=\"font-weight: bold\">]</span>, <span style=\"color: #808000; text-decoration-color: #808000\">logprob</span>=<span style=\"color: #008080; text-decoration-color: #008080; font-weight: bold\">-14.124192</span><span style=\"font-weight: bold\">)</span>,\n",
       "                            <span style=\"color: #800080; text-decoration-color: #800080; font-weight: bold\">TopLogprob</span><span style=\"font-weight: bold\">(</span><span style=\"color: #808000; text-decoration-color: #808000\">token</span>=<span style=\"color: #008000; text-decoration-color: #008000\">'.'</span>, <span style=\"color: #808000; text-decoration-color: #808000\">bytes</span>=<span style=\"font-weight: bold\">[</span><span style=\"color: #008080; text-decoration-color: #008080; font-weight: bold\">46</span><span style=\"font-weight: bold\">]</span>, <span style=\"color: #808000; text-decoration-color: #808000\">logprob</span>=<span style=\"color: #008080; text-decoration-color: #008080; font-weight: bold\">-14.604064</span><span style=\"font-weight: bold\">)</span>,\n",
       "                            <span style=\"color: #800080; text-decoration-color: #800080; font-weight: bold\">TopLogprob</span><span style=\"font-weight: bold\">(</span><span style=\"color: #808000; text-decoration-color: #808000\">token</span>=<span style=\"color: #008000; text-decoration-color: #008000\">',M'</span>, <span style=\"color: #808000; text-decoration-color: #808000\">bytes</span>=<span style=\"font-weight: bold\">[</span><span style=\"color: #008080; text-decoration-color: #008080; font-weight: bold\">44</span>, <span style=\"color: #008080; text-decoration-color: #008080; font-weight: bold\">77</span><span style=\"font-weight: bold\">]</span>, <span style=\"color: #808000; text-decoration-color: #808000\">logprob</span>=<span style=\"color: #008080; text-decoration-color: #008080; font-weight: bold\">-16.103325</span><span style=\"font-weight: bold\">)</span>\n",
       "                        <span style=\"font-weight: bold\">]</span>\n",
       "                    <span style=\"font-weight: bold\">)</span>,\n",
       "                    <span style=\"color: #800080; text-decoration-color: #800080; font-weight: bold\">ChatCompletionTokenLogprob</span><span style=\"font-weight: bold\">(</span>\n",
       "                        <span style=\"color: #808000; text-decoration-color: #808000\">token</span>=<span style=\"color: #008000; text-decoration-color: #008000\">' Earth'</span>,\n",
       "                        <span style=\"color: #808000; text-decoration-color: #808000\">bytes</span>=<span style=\"font-weight: bold\">[</span><span style=\"color: #008080; text-decoration-color: #008080; font-weight: bold\">32</span>, <span style=\"color: #008080; text-decoration-color: #008080; font-weight: bold\">69</span>, <span style=\"color: #008080; text-decoration-color: #008080; font-weight: bold\">97</span>, <span style=\"color: #008080; text-decoration-color: #008080; font-weight: bold\">114</span>, <span style=\"color: #008080; text-decoration-color: #008080; font-weight: bold\">116</span>, <span style=\"color: #008080; text-decoration-color: #008080; font-weight: bold\">104</span><span style=\"font-weight: bold\">]</span>,\n",
       "                        <span style=\"color: #808000; text-decoration-color: #808000\">logprob</span>=<span style=\"color: #008080; text-decoration-color: #008080; font-weight: bold\">-1.3856493e-06</span>,\n",
       "                        <span style=\"color: #808000; text-decoration-color: #808000\">top_logprobs</span>=<span style=\"font-weight: bold\">[</span>\n",
       "                            <span style=\"color: #800080; text-decoration-color: #800080; font-weight: bold\">TopLogprob</span><span style=\"font-weight: bold\">(</span><span style=\"color: #808000; text-decoration-color: #808000\">token</span>=<span style=\"color: #008000; text-decoration-color: #008000\">' Earth'</span>, <span style=\"color: #808000; text-decoration-color: #808000\">bytes</span>=<span style=\"font-weight: bold\">[</span><span style=\"color: #008080; text-decoration-color: #008080; font-weight: bold\">32</span>, <span style=\"color: #008080; text-decoration-color: #008080; font-weight: bold\">69</span>, <span style=\"color: #008080; text-decoration-color: #008080; font-weight: bold\">97</span>, <span style=\"color: #008080; text-decoration-color: #008080; font-weight: bold\">114</span>, <span style=\"color: #008080; text-decoration-color: #008080; font-weight: bold\">116</span>, <span style=\"color: #008080; text-decoration-color: #008080; font-weight: bold\">104</span><span style=\"font-weight: bold\">]</span>, <span style=\"color: #808000; text-decoration-color: #808000\">logprob</span>=<span style=\"color: #008080; text-decoration-color: #008080; font-weight: bold\">-1.3856493e-06</span><span style=\"font-weight: bold\">)</span>,\n",
       "                            <span style=\"color: #800080; text-decoration-color: #800080; font-weight: bold\">TopLogprob</span><span style=\"font-weight: bold\">(</span><span style=\"color: #808000; text-decoration-color: #808000\">token</span>=<span style=\"color: #008000; text-decoration-color: #008000\">' Mars'</span>, <span style=\"color: #808000; text-decoration-color: #808000\">bytes</span>=<span style=\"font-weight: bold\">[</span><span style=\"color: #008080; text-decoration-color: #008080; font-weight: bold\">32</span>, <span style=\"color: #008080; text-decoration-color: #008080; font-weight: bold\">77</span>, <span style=\"color: #008080; text-decoration-color: #008080; font-weight: bold\">97</span>, <span style=\"color: #008080; text-decoration-color: #008080; font-weight: bold\">114</span>, <span style=\"color: #008080; text-decoration-color: #008080; font-weight: bold\">115</span><span style=\"font-weight: bold\">]</span>, <span style=\"color: #808000; text-decoration-color: #808000\">logprob</span>=<span style=\"color: #008080; text-decoration-color: #008080; font-weight: bold\">-14.342288</span><span style=\"font-weight: bold\">)</span>,\n",
       "                            <span style=\"color: #800080; text-decoration-color: #800080; font-weight: bold\">TopLogprob</span><span style=\"font-weight: bold\">(</span><span style=\"color: #808000; text-decoration-color: #808000\">token</span>=<span style=\"color: #008000; text-decoration-color: #008000\">' '</span>, <span style=\"color: #808000; text-decoration-color: #808000\">bytes</span>=<span style=\"font-weight: bold\">[</span><span style=\"color: #008080; text-decoration-color: #008080; font-weight: bold\">32</span><span style=\"font-weight: bold\">]</span>, <span style=\"color: #808000; text-decoration-color: #808000\">logprob</span>=<span style=\"color: #008080; text-decoration-color: #008080; font-weight: bold\">-14.605254</span><span style=\"font-weight: bold\">)</span>,\n",
       "                            <span style=\"color: #800080; text-decoration-color: #800080; font-weight: bold\">TopLogprob</span><span style=\"font-weight: bold\">(</span><span style=\"color: #808000; text-decoration-color: #808000\">token</span>=<span style=\"color: #008000; text-decoration-color: #008000\">'Earth'</span>, <span style=\"color: #808000; text-decoration-color: #808000\">bytes</span>=<span style=\"font-weight: bold\">[</span><span style=\"color: #008080; text-decoration-color: #008080; font-weight: bold\">69</span>, <span style=\"color: #008080; text-decoration-color: #008080; font-weight: bold\">97</span>, <span style=\"color: #008080; text-decoration-color: #008080; font-weight: bold\">114</span>, <span style=\"color: #008080; text-decoration-color: #008080; font-weight: bold\">116</span>, <span style=\"color: #008080; text-decoration-color: #008080; font-weight: bold\">104</span><span style=\"font-weight: bold\">]</span>, <span style=\"color: #808000; text-decoration-color: #808000\">logprob</span>=<span style=\"color: #008080; text-decoration-color: #008080; font-weight: bold\">-15.350402</span><span style=\"font-weight: bold\">)</span>,\n",
       "                            <span style=\"color: #800080; text-decoration-color: #800080; font-weight: bold\">TopLogprob</span><span style=\"font-weight: bold\">(</span><span style=\"color: #808000; text-decoration-color: #808000\">token</span>=<span style=\"color: #008000; text-decoration-color: #008000\">' E'</span>, <span style=\"color: #808000; text-decoration-color: #808000\">bytes</span>=<span style=\"font-weight: bold\">[</span><span style=\"color: #008080; text-decoration-color: #008080; font-weight: bold\">32</span>, <span style=\"color: #008080; text-decoration-color: #008080; font-weight: bold\">69</span><span style=\"font-weight: bold\">]</span>, <span style=\"color: #808000; text-decoration-color: #808000\">logprob</span>=<span style=\"color: #008080; text-decoration-color: #008080; font-weight: bold\">-18.948992</span><span style=\"font-weight: bold\">)</span>\n",
       "                        <span style=\"font-weight: bold\">]</span>\n",
       "                    <span style=\"font-weight: bold\">)</span>,\n",
       "                    <span style=\"color: #800080; text-decoration-color: #800080; font-weight: bold\">ChatCompletionTokenLogprob</span><span style=\"font-weight: bold\">(</span>\n",
       "                        <span style=\"color: #808000; text-decoration-color: #808000\">token</span>=<span style=\"color: #008000; text-decoration-color: #008000\">','</span>,\n",
       "                        <span style=\"color: #808000; text-decoration-color: #808000\">bytes</span>=<span style=\"font-weight: bold\">[</span><span style=\"color: #008080; text-decoration-color: #008080; font-weight: bold\">44</span><span style=\"font-weight: bold\">]</span>,\n",
       "                        <span style=\"color: #808000; text-decoration-color: #808000\">logprob</span>=<span style=\"color: #008080; text-decoration-color: #008080; font-weight: bold\">-7.465036e-06</span>,\n",
       "                        <span style=\"color: #808000; text-decoration-color: #808000\">top_logprobs</span>=<span style=\"font-weight: bold\">[</span>\n",
       "                            <span style=\"color: #800080; text-decoration-color: #800080; font-weight: bold\">TopLogprob</span><span style=\"font-weight: bold\">(</span><span style=\"color: #808000; text-decoration-color: #808000\">token</span>=<span style=\"color: #008000; text-decoration-color: #008000\">','</span>, <span style=\"color: #808000; text-decoration-color: #808000\">bytes</span>=<span style=\"font-weight: bold\">[</span><span style=\"color: #008080; text-decoration-color: #008080; font-weight: bold\">44</span><span style=\"font-weight: bold\">]</span>, <span style=\"color: #808000; text-decoration-color: #808000\">logprob</span>=<span style=\"color: #008080; text-decoration-color: #008080; font-weight: bold\">-7.465036e-06</span><span style=\"font-weight: bold\">)</span>,\n",
       "                            <span style=\"color: #800080; text-decoration-color: #800080; font-weight: bold\">TopLogprob</span><span style=\"font-weight: bold\">(</span><span style=\"color: #808000; text-decoration-color: #808000\">token</span>=<span style=\"color: #008000; text-decoration-color: #008000\">',\\n'</span>, <span style=\"color: #808000; text-decoration-color: #808000\">bytes</span>=<span style=\"font-weight: bold\">[</span><span style=\"color: #008080; text-decoration-color: #008080; font-weight: bold\">44</span>, <span style=\"color: #008080; text-decoration-color: #008080; font-weight: bold\">10</span><span style=\"font-weight: bold\">]</span>, <span style=\"color: #808000; text-decoration-color: #808000\">logprob</span>=<span style=\"color: #008080; text-decoration-color: #008080; font-weight: bold\">-12.991686</span><span style=\"font-weight: bold\">)</span>,\n",
       "                            <span style=\"color: #800080; text-decoration-color: #800080; font-weight: bold\">TopLogprob</span><span style=\"font-weight: bold\">(</span><span style=\"color: #808000; text-decoration-color: #808000\">token</span>=<span style=\"color: #008000; text-decoration-color: #008000\">' ,'</span>, <span style=\"color: #808000; text-decoration-color: #808000\">bytes</span>=<span style=\"font-weight: bold\">[</span><span style=\"color: #008080; text-decoration-color: #008080; font-weight: bold\">32</span>, <span style=\"color: #008080; text-decoration-color: #008080; font-weight: bold\">44</span><span style=\"font-weight: bold\">]</span>, <span style=\"color: #808000; text-decoration-color: #808000\">logprob</span>=<span style=\"color: #008080; text-decoration-color: #008080; font-weight: bold\">-13.143423</span><span style=\"font-weight: bold\">)</span>,\n",
       "                            <span style=\"color: #800080; text-decoration-color: #800080; font-weight: bold\">TopLogprob</span><span style=\"font-weight: bold\">(</span><span style=\"color: #808000; text-decoration-color: #808000\">token</span>=<span style=\"color: #008000; text-decoration-color: #008000\">'.'</span>, <span style=\"color: #808000; text-decoration-color: #808000\">bytes</span>=<span style=\"font-weight: bold\">[</span><span style=\"color: #008080; text-decoration-color: #008080; font-weight: bold\">46</span><span style=\"font-weight: bold\">]</span>, <span style=\"color: #808000; text-decoration-color: #808000\">logprob</span>=<span style=\"color: #008080; text-decoration-color: #008080; font-weight: bold\">-13.576906</span><span style=\"font-weight: bold\">)</span>,\n",
       "                            <span style=\"color: #800080; text-decoration-color: #800080; font-weight: bold\">TopLogprob</span><span style=\"font-weight: bold\">(</span><span style=\"color: #808000; text-decoration-color: #808000\">token</span>=<span style=\"color: #008000; text-decoration-color: #008000\">',M'</span>, <span style=\"color: #808000; text-decoration-color: #808000\">bytes</span>=<span style=\"font-weight: bold\">[</span><span style=\"color: #008080; text-decoration-color: #008080; font-weight: bold\">44</span>, <span style=\"color: #008080; text-decoration-color: #008080; font-weight: bold\">77</span><span style=\"font-weight: bold\">]</span>, <span style=\"color: #808000; text-decoration-color: #808000\">logprob</span>=<span style=\"color: #008080; text-decoration-color: #008080; font-weight: bold\">-14.514378</span><span style=\"font-weight: bold\">)</span>\n",
       "                        <span style=\"font-weight: bold\">]</span>\n",
       "                    <span style=\"font-weight: bold\">)</span>,\n",
       "                    <span style=\"color: #800080; text-decoration-color: #800080; font-weight: bold\">ChatCompletionTokenLogprob</span><span style=\"font-weight: bold\">(</span>\n",
       "                        <span style=\"color: #808000; text-decoration-color: #808000\">token</span>=<span style=\"color: #008000; text-decoration-color: #008000\">' Mars'</span>,\n",
       "                        <span style=\"color: #808000; text-decoration-color: #808000\">bytes</span>=<span style=\"font-weight: bold\">[</span><span style=\"color: #008080; text-decoration-color: #008080; font-weight: bold\">32</span>, <span style=\"color: #008080; text-decoration-color: #008080; font-weight: bold\">77</span>, <span style=\"color: #008080; text-decoration-color: #008080; font-weight: bold\">97</span>, <span style=\"color: #008080; text-decoration-color: #008080; font-weight: bold\">114</span>, <span style=\"color: #008080; text-decoration-color: #008080; font-weight: bold\">115</span><span style=\"font-weight: bold\">]</span>,\n",
       "                        <span style=\"color: #808000; text-decoration-color: #808000\">logprob</span>=<span style=\"color: #008080; text-decoration-color: #008080; font-weight: bold\">-1.6240566e-06</span>,\n",
       "                        <span style=\"color: #808000; text-decoration-color: #808000\">top_logprobs</span>=<span style=\"font-weight: bold\">[</span>\n",
       "                            <span style=\"color: #800080; text-decoration-color: #800080; font-weight: bold\">TopLogprob</span><span style=\"font-weight: bold\">(</span><span style=\"color: #808000; text-decoration-color: #808000\">token</span>=<span style=\"color: #008000; text-decoration-color: #008000\">' Mars'</span>, <span style=\"color: #808000; text-decoration-color: #808000\">bytes</span>=<span style=\"font-weight: bold\">[</span><span style=\"color: #008080; text-decoration-color: #008080; font-weight: bold\">32</span>, <span style=\"color: #008080; text-decoration-color: #008080; font-weight: bold\">77</span>, <span style=\"color: #008080; text-decoration-color: #008080; font-weight: bold\">97</span>, <span style=\"color: #008080; text-decoration-color: #008080; font-weight: bold\">114</span>, <span style=\"color: #008080; text-decoration-color: #008080; font-weight: bold\">115</span><span style=\"font-weight: bold\">]</span>, <span style=\"color: #808000; text-decoration-color: #808000\">logprob</span>=<span style=\"color: #008080; text-decoration-color: #008080; font-weight: bold\">-1.6240566e-06</span><span style=\"font-weight: bold\">)</span>,\n",
       "                            <span style=\"color: #800080; text-decoration-color: #800080; font-weight: bold\">TopLogprob</span><span style=\"font-weight: bold\">(</span><span style=\"color: #808000; text-decoration-color: #808000\">token</span>=<span style=\"color: #008000; text-decoration-color: #008000\">' '</span>, <span style=\"color: #808000; text-decoration-color: #808000\">bytes</span>=<span style=\"font-weight: bold\">[</span><span style=\"color: #008080; text-decoration-color: #008080; font-weight: bold\">32</span><span style=\"font-weight: bold\">]</span>, <span style=\"color: #808000; text-decoration-color: #808000\">logprob</span>=<span style=\"color: #008080; text-decoration-color: #008080; font-weight: bold\">-13.402063</span><span style=\"font-weight: bold\">)</span>,\n",
       "                            <span style=\"color: #800080; text-decoration-color: #800080; font-weight: bold\">TopLogprob</span><span style=\"font-weight: bold\">(</span>\n",
       "                                <span style=\"color: #808000; text-decoration-color: #808000\">token</span>=<span style=\"color: #008000; text-decoration-color: #008000\">' Jupiter'</span>,\n",
       "                                <span style=\"color: #808000; text-decoration-color: #808000\">bytes</span>=<span style=\"font-weight: bold\">[</span><span style=\"color: #008080; text-decoration-color: #008080; font-weight: bold\">32</span>, <span style=\"color: #008080; text-decoration-color: #008080; font-weight: bold\">74</span>, <span style=\"color: #008080; text-decoration-color: #008080; font-weight: bold\">117</span>, <span style=\"color: #008080; text-decoration-color: #008080; font-weight: bold\">112</span>, <span style=\"color: #008080; text-decoration-color: #008080; font-weight: bold\">105</span>, <span style=\"color: #008080; text-decoration-color: #008080; font-weight: bold\">116</span>, <span style=\"color: #008080; text-decoration-color: #008080; font-weight: bold\">101</span>, <span style=\"color: #008080; text-decoration-color: #008080; font-weight: bold\">114</span><span style=\"font-weight: bold\">]</span>,\n",
       "                                <span style=\"color: #808000; text-decoration-color: #808000\">logprob</span>=<span style=\"color: #008080; text-decoration-color: #008080; font-weight: bold\">-18.124308</span>\n",
       "                            <span style=\"font-weight: bold\">)</span>,\n",
       "                            <span style=\"color: #800080; text-decoration-color: #800080; font-weight: bold\">TopLogprob</span><span style=\"font-weight: bold\">(</span><span style=\"color: #808000; text-decoration-color: #808000\">token</span>=<span style=\"color: #008000; text-decoration-color: #008000\">' mars'</span>, <span style=\"color: #808000; text-decoration-color: #808000\">bytes</span>=<span style=\"font-weight: bold\">[</span><span style=\"color: #008080; text-decoration-color: #008080; font-weight: bold\">32</span>, <span style=\"color: #008080; text-decoration-color: #008080; font-weight: bold\">109</span>, <span style=\"color: #008080; text-decoration-color: #008080; font-weight: bold\">97</span>, <span style=\"color: #008080; text-decoration-color: #008080; font-weight: bold\">114</span>, <span style=\"color: #008080; text-decoration-color: #008080; font-weight: bold\">115</span><span style=\"font-weight: bold\">]</span>, <span style=\"color: #808000; text-decoration-color: #808000\">logprob</span>=<span style=\"color: #008080; text-decoration-color: #008080; font-weight: bold\">-18.488142</span><span style=\"font-weight: bold\">)</span>,\n",
       "                            <span style=\"color: #800080; text-decoration-color: #800080; font-weight: bold\">TopLogprob</span><span style=\"font-weight: bold\">(</span><span style=\"color: #808000; text-decoration-color: #808000\">token</span>=<span style=\"color: #008000; text-decoration-color: #008000\">' Mar'</span>, <span style=\"color: #808000; text-decoration-color: #808000\">bytes</span>=<span style=\"font-weight: bold\">[</span><span style=\"color: #008080; text-decoration-color: #008080; font-weight: bold\">32</span>, <span style=\"color: #008080; text-decoration-color: #008080; font-weight: bold\">77</span>, <span style=\"color: #008080; text-decoration-color: #008080; font-weight: bold\">97</span>, <span style=\"color: #008080; text-decoration-color: #008080; font-weight: bold\">114</span><span style=\"font-weight: bold\">]</span>, <span style=\"color: #808000; text-decoration-color: #808000\">logprob</span>=<span style=\"color: #008080; text-decoration-color: #008080; font-weight: bold\">-18.813066</span><span style=\"font-weight: bold\">)</span>\n",
       "                        <span style=\"font-weight: bold\">]</span>\n",
       "                    <span style=\"font-weight: bold\">)</span>,\n",
       "                    <span style=\"color: #800080; text-decoration-color: #800080; font-weight: bold\">ChatCompletionTokenLogprob</span><span style=\"font-weight: bold\">(</span>\n",
       "                        <span style=\"color: #808000; text-decoration-color: #808000\">token</span>=<span style=\"color: #008000; text-decoration-color: #008000\">','</span>,\n",
       "                        <span style=\"color: #808000; text-decoration-color: #808000\">bytes</span>=<span style=\"font-weight: bold\">[</span><span style=\"color: #008080; text-decoration-color: #008080; font-weight: bold\">44</span><span style=\"font-weight: bold\">]</span>,\n",
       "                        <span style=\"color: #808000; text-decoration-color: #808000\">logprob</span>=<span style=\"color: #008080; text-decoration-color: #008080; font-weight: bold\">-9.014684e-06</span>,\n",
       "                        <span style=\"color: #808000; text-decoration-color: #808000\">top_logprobs</span>=<span style=\"font-weight: bold\">[</span>\n",
       "                            <span style=\"color: #800080; text-decoration-color: #800080; font-weight: bold\">TopLogprob</span><span style=\"font-weight: bold\">(</span><span style=\"color: #808000; text-decoration-color: #808000\">token</span>=<span style=\"color: #008000; text-decoration-color: #008000\">','</span>, <span style=\"color: #808000; text-decoration-color: #808000\">bytes</span>=<span style=\"font-weight: bold\">[</span><span style=\"color: #008080; text-decoration-color: #008080; font-weight: bold\">44</span><span style=\"font-weight: bold\">]</span>, <span style=\"color: #808000; text-decoration-color: #808000\">logprob</span>=<span style=\"color: #008080; text-decoration-color: #008080; font-weight: bold\">-9.014684e-06</span><span style=\"font-weight: bold\">)</span>,\n",
       "                            <span style=\"color: #800080; text-decoration-color: #800080; font-weight: bold\">TopLogprob</span><span style=\"font-weight: bold\">(</span><span style=\"color: #808000; text-decoration-color: #808000\">token</span>=<span style=\"color: #008000; text-decoration-color: #008000\">',\\n'</span>, <span style=\"color: #808000; text-decoration-color: #808000\">bytes</span>=<span style=\"font-weight: bold\">[</span><span style=\"color: #008080; text-decoration-color: #008080; font-weight: bold\">44</span>, <span style=\"color: #008080; text-decoration-color: #008080; font-weight: bold\">10</span><span style=\"font-weight: bold\">]</span>, <span style=\"color: #808000; text-decoration-color: #808000\">logprob</span>=<span style=\"color: #008080; text-decoration-color: #008080; font-weight: bold\">-12.120347</span><span style=\"font-weight: bold\">)</span>,\n",
       "                            <span style=\"color: #800080; text-decoration-color: #800080; font-weight: bold\">TopLogprob</span><span style=\"font-weight: bold\">(</span><span style=\"color: #808000; text-decoration-color: #808000\">token</span>=<span style=\"color: #008000; text-decoration-color: #008000\">' ,'</span>, <span style=\"color: #808000; text-decoration-color: #808000\">bytes</span>=<span style=\"font-weight: bold\">[</span><span style=\"color: #008080; text-decoration-color: #008080; font-weight: bold\">32</span>, <span style=\"color: #008080; text-decoration-color: #008080; font-weight: bold\">44</span><span style=\"font-weight: bold\">]</span>, <span style=\"color: #808000; text-decoration-color: #808000\">logprob</span>=<span style=\"color: #008080; text-decoration-color: #008080; font-weight: bold\">-13.935138</span><span style=\"font-weight: bold\">)</span>,\n",
       "                            <span style=\"color: #800080; text-decoration-color: #800080; font-weight: bold\">TopLogprob</span><span style=\"font-weight: bold\">(</span><span style=\"color: #808000; text-decoration-color: #808000\">token</span>=<span style=\"color: #008000; text-decoration-color: #008000\">'\\n'</span>, <span style=\"color: #808000; text-decoration-color: #808000\">bytes</span>=<span style=\"font-weight: bold\">[</span><span style=\"color: #008080; text-decoration-color: #008080; font-weight: bold\">10</span><span style=\"font-weight: bold\">]</span>, <span style=\"color: #808000; text-decoration-color: #808000\">logprob</span>=<span style=\"color: #008080; text-decoration-color: #008080; font-weight: bold\">-14.009761</span><span style=\"font-weight: bold\">)</span>,\n",
       "                            <span style=\"color: #800080; text-decoration-color: #800080; font-weight: bold\">TopLogprob</span><span style=\"font-weight: bold\">(</span>\n",
       "                                <span style=\"color: #808000; text-decoration-color: #808000\">token</span>=<span style=\"color: #008000; text-decoration-color: #008000\">' Jupiter'</span>,\n",
       "                                <span style=\"color: #808000; text-decoration-color: #808000\">bytes</span>=<span style=\"font-weight: bold\">[</span><span style=\"color: #008080; text-decoration-color: #008080; font-weight: bold\">32</span>, <span style=\"color: #008080; text-decoration-color: #008080; font-weight: bold\">74</span>, <span style=\"color: #008080; text-decoration-color: #008080; font-weight: bold\">117</span>, <span style=\"color: #008080; text-decoration-color: #008080; font-weight: bold\">112</span>, <span style=\"color: #008080; text-decoration-color: #008080; font-weight: bold\">105</span>, <span style=\"color: #008080; text-decoration-color: #008080; font-weight: bold\">116</span>, <span style=\"color: #008080; text-decoration-color: #008080; font-weight: bold\">101</span>, <span style=\"color: #008080; text-decoration-color: #008080; font-weight: bold\">114</span><span style=\"font-weight: bold\">]</span>,\n",
       "                                <span style=\"color: #808000; text-decoration-color: #808000\">logprob</span>=<span style=\"color: #008080; text-decoration-color: #008080; font-weight: bold\">-14.551078</span>\n",
       "                            <span style=\"font-weight: bold\">)</span>\n",
       "                        <span style=\"font-weight: bold\">]</span>\n",
       "                    <span style=\"font-weight: bold\">)</span>,\n",
       "                    <span style=\"color: #800080; text-decoration-color: #800080; font-weight: bold\">ChatCompletionTokenLogprob</span><span style=\"font-weight: bold\">(</span>\n",
       "                        <span style=\"color: #808000; text-decoration-color: #808000\">token</span>=<span style=\"color: #008000; text-decoration-color: #008000\">' Jupiter'</span>,\n",
       "                        <span style=\"color: #808000; text-decoration-color: #808000\">bytes</span>=<span style=\"font-weight: bold\">[</span><span style=\"color: #008080; text-decoration-color: #008080; font-weight: bold\">32</span>, <span style=\"color: #008080; text-decoration-color: #008080; font-weight: bold\">74</span>, <span style=\"color: #008080; text-decoration-color: #008080; font-weight: bold\">117</span>, <span style=\"color: #008080; text-decoration-color: #008080; font-weight: bold\">112</span>, <span style=\"color: #008080; text-decoration-color: #008080; font-weight: bold\">105</span>, <span style=\"color: #008080; text-decoration-color: #008080; font-weight: bold\">116</span>, <span style=\"color: #008080; text-decoration-color: #008080; font-weight: bold\">101</span>, <span style=\"color: #008080; text-decoration-color: #008080; font-weight: bold\">114</span><span style=\"font-weight: bold\">]</span>,\n",
       "                        <span style=\"color: #808000; text-decoration-color: #808000\">logprob</span>=<span style=\"color: #008080; text-decoration-color: #008080; font-weight: bold\">-6.511407e-06</span>,\n",
       "                        <span style=\"color: #808000; text-decoration-color: #808000\">top_logprobs</span>=<span style=\"font-weight: bold\">[</span>\n",
       "                            <span style=\"color: #800080; text-decoration-color: #800080; font-weight: bold\">TopLogprob</span><span style=\"font-weight: bold\">(</span>\n",
       "                                <span style=\"color: #808000; text-decoration-color: #808000\">token</span>=<span style=\"color: #008000; text-decoration-color: #008000\">' Jupiter'</span>,\n",
       "                                <span style=\"color: #808000; text-decoration-color: #808000\">bytes</span>=<span style=\"font-weight: bold\">[</span><span style=\"color: #008080; text-decoration-color: #008080; font-weight: bold\">32</span>, <span style=\"color: #008080; text-decoration-color: #008080; font-weight: bold\">74</span>, <span style=\"color: #008080; text-decoration-color: #008080; font-weight: bold\">117</span>, <span style=\"color: #008080; text-decoration-color: #008080; font-weight: bold\">112</span>, <span style=\"color: #008080; text-decoration-color: #008080; font-weight: bold\">105</span>, <span style=\"color: #008080; text-decoration-color: #008080; font-weight: bold\">116</span>, <span style=\"color: #008080; text-decoration-color: #008080; font-weight: bold\">101</span>, <span style=\"color: #008080; text-decoration-color: #008080; font-weight: bold\">114</span><span style=\"font-weight: bold\">]</span>,\n",
       "                                <span style=\"color: #808000; text-decoration-color: #808000\">logprob</span>=<span style=\"color: #008080; text-decoration-color: #008080; font-weight: bold\">-6.511407e-06</span>\n",
       "                            <span style=\"font-weight: bold\">)</span>,\n",
       "                            <span style=\"color: #800080; text-decoration-color: #800080; font-weight: bold\">TopLogprob</span><span style=\"font-weight: bold\">(</span><span style=\"color: #808000; text-decoration-color: #808000\">token</span>=<span style=\"color: #008000; text-decoration-color: #008000\">' '</span>, <span style=\"color: #808000; text-decoration-color: #808000\">bytes</span>=<span style=\"font-weight: bold\">[</span><span style=\"color: #008080; text-decoration-color: #008080; font-weight: bold\">32</span><span style=\"font-weight: bold\">]</span>, <span style=\"color: #808000; text-decoration-color: #808000\">logprob</span>=<span style=\"color: #008080; text-decoration-color: #008080; font-weight: bold\">-12.1744585</span><span style=\"font-weight: bold\">)</span>,\n",
       "                            <span style=\"color: #800080; text-decoration-color: #800080; font-weight: bold\">TopLogprob</span><span style=\"font-weight: bold\">(</span>\n",
       "                                <span style=\"color: #808000; text-decoration-color: #808000\">token</span>=<span style=\"color: #008000; text-decoration-color: #008000\">' Saturn'</span>,\n",
       "                                <span style=\"color: #808000; text-decoration-color: #808000\">bytes</span>=<span style=\"font-weight: bold\">[</span><span style=\"color: #008080; text-decoration-color: #008080; font-weight: bold\">32</span>, <span style=\"color: #008080; text-decoration-color: #008080; font-weight: bold\">83</span>, <span style=\"color: #008080; text-decoration-color: #008080; font-weight: bold\">97</span>, <span style=\"color: #008080; text-decoration-color: #008080; font-weight: bold\">116</span>, <span style=\"color: #008080; text-decoration-color: #008080; font-weight: bold\">117</span>, <span style=\"color: #008080; text-decoration-color: #008080; font-weight: bold\">114</span>, <span style=\"color: #008080; text-decoration-color: #008080; font-weight: bold\">110</span><span style=\"font-weight: bold\">]</span>,\n",
       "                                <span style=\"color: #808000; text-decoration-color: #808000\">logprob</span>=<span style=\"color: #008080; text-decoration-color: #008080; font-weight: bold\">-13.88033</span>\n",
       "                            <span style=\"font-weight: bold\">)</span>,\n",
       "                            <span style=\"color: #800080; text-decoration-color: #800080; font-weight: bold\">TopLogprob</span><span style=\"font-weight: bold\">(</span><span style=\"color: #808000; text-decoration-color: #808000\">token</span>=<span style=\"color: #008000; text-decoration-color: #008000\">' \\n'</span>, <span style=\"color: #808000; text-decoration-color: #808000\">bytes</span>=<span style=\"font-weight: bold\">[</span><span style=\"color: #008080; text-decoration-color: #008080; font-weight: bold\">32</span>, <span style=\"color: #008080; text-decoration-color: #008080; font-weight: bold\">10</span><span style=\"font-weight: bold\">]</span>, <span style=\"color: #808000; text-decoration-color: #808000\">logprob</span>=<span style=\"color: #008080; text-decoration-color: #008080; font-weight: bold\">-15.721894</span><span style=\"font-weight: bold\">)</span>,\n",
       "                            <span style=\"color: #800080; text-decoration-color: #800080; font-weight: bold\">TopLogprob</span><span style=\"font-weight: bold\">(</span><span style=\"color: #808000; text-decoration-color: #808000\">token</span>=<span style=\"color: #008000; text-decoration-color: #008000\">' J'</span>, <span style=\"color: #808000; text-decoration-color: #808000\">bytes</span>=<span style=\"font-weight: bold\">[</span><span style=\"color: #008080; text-decoration-color: #008080; font-weight: bold\">32</span>, <span style=\"color: #008080; text-decoration-color: #008080; font-weight: bold\">74</span><span style=\"font-weight: bold\">]</span>, <span style=\"color: #808000; text-decoration-color: #808000\">logprob</span>=<span style=\"color: #008080; text-decoration-color: #008080; font-weight: bold\">-16.877975</span><span style=\"font-weight: bold\">)</span>\n",
       "                        <span style=\"font-weight: bold\">]</span>\n",
       "                    <span style=\"font-weight: bold\">)</span>,\n",
       "                    <span style=\"color: #800080; text-decoration-color: #800080; font-weight: bold\">ChatCompletionTokenLogprob</span><span style=\"font-weight: bold\">(</span>\n",
       "                        <span style=\"color: #808000; text-decoration-color: #808000\">token</span>=<span style=\"color: #008000; text-decoration-color: #008000\">','</span>,\n",
       "                        <span style=\"color: #808000; text-decoration-color: #808000\">bytes</span>=<span style=\"font-weight: bold\">[</span><span style=\"color: #008080; text-decoration-color: #008080; font-weight: bold\">44</span><span style=\"font-weight: bold\">]</span>,\n",
       "                        <span style=\"color: #808000; text-decoration-color: #808000\">logprob</span>=<span style=\"color: #008080; text-decoration-color: #008080; font-weight: bold\">-4.00813e-06</span>,\n",
       "                        <span style=\"color: #808000; text-decoration-color: #808000\">top_logprobs</span>=<span style=\"font-weight: bold\">[</span>\n",
       "                            <span style=\"color: #800080; text-decoration-color: #800080; font-weight: bold\">TopLogprob</span><span style=\"font-weight: bold\">(</span><span style=\"color: #808000; text-decoration-color: #808000\">token</span>=<span style=\"color: #008000; text-decoration-color: #008000\">','</span>, <span style=\"color: #808000; text-decoration-color: #808000\">bytes</span>=<span style=\"font-weight: bold\">[</span><span style=\"color: #008080; text-decoration-color: #008080; font-weight: bold\">44</span><span style=\"font-weight: bold\">]</span>, <span style=\"color: #808000; text-decoration-color: #808000\">logprob</span>=<span style=\"color: #008080; text-decoration-color: #008080; font-weight: bold\">-4.00813e-06</span><span style=\"font-weight: bold\">)</span>,\n",
       "                            <span style=\"color: #800080; text-decoration-color: #800080; font-weight: bold\">TopLogprob</span><span style=\"font-weight: bold\">(</span><span style=\"color: #808000; text-decoration-color: #808000\">token</span>=<span style=\"color: #008000; text-decoration-color: #008000\">',\\n'</span>, <span style=\"color: #808000; text-decoration-color: #808000\">bytes</span>=<span style=\"font-weight: bold\">[</span><span style=\"color: #008080; text-decoration-color: #008080; font-weight: bold\">44</span>, <span style=\"color: #008080; text-decoration-color: #008080; font-weight: bold\">10</span><span style=\"font-weight: bold\">]</span>, <span style=\"color: #808000; text-decoration-color: #808000\">logprob</span>=<span style=\"color: #008080; text-decoration-color: #008080; font-weight: bold\">-13.130329</span><span style=\"font-weight: bold\">)</span>,\n",
       "                            <span style=\"color: #800080; text-decoration-color: #800080; font-weight: bold\">TopLogprob</span><span style=\"font-weight: bold\">(</span><span style=\"color: #808000; text-decoration-color: #808000\">token</span>=<span style=\"color: #008000; text-decoration-color: #008000\">' ,'</span>, <span style=\"color: #808000; text-decoration-color: #808000\">bytes</span>=<span style=\"font-weight: bold\">[</span><span style=\"color: #008080; text-decoration-color: #008080; font-weight: bold\">32</span>, <span style=\"color: #008080; text-decoration-color: #008080; font-weight: bold\">44</span><span style=\"font-weight: bold\">]</span>, <span style=\"color: #808000; text-decoration-color: #808000\">logprob</span>=<span style=\"color: #008080; text-decoration-color: #008080; font-weight: bold\">-13.775162</span><span style=\"font-weight: bold\">)</span>,\n",
       "                            <span style=\"color: #800080; text-decoration-color: #800080; font-weight: bold\">TopLogprob</span><span style=\"font-weight: bold\">(</span><span style=\"color: #808000; text-decoration-color: #808000\">token</span>=<span style=\"color: #008000; text-decoration-color: #008000\">',S'</span>, <span style=\"color: #808000; text-decoration-color: #808000\">bytes</span>=<span style=\"font-weight: bold\">[</span><span style=\"color: #008080; text-decoration-color: #008080; font-weight: bold\">44</span>, <span style=\"color: #008080; text-decoration-color: #008080; font-weight: bold\">83</span><span style=\"font-weight: bold\">]</span>, <span style=\"color: #808000; text-decoration-color: #808000\">logprob</span>=<span style=\"color: #008080; text-decoration-color: #008080; font-weight: bold\">-15.022457</span><span style=\"font-weight: bold\">)</span>,\n",
       "                            <span style=\"color: #800080; text-decoration-color: #800080; font-weight: bold\">TopLogprob</span><span style=\"font-weight: bold\">(</span><span style=\"color: #808000; text-decoration-color: #808000\">token</span>=<span style=\"color: #008000; text-decoration-color: #008000\">'\\n'</span>, <span style=\"color: #808000; text-decoration-color: #808000\">bytes</span>=<span style=\"font-weight: bold\">[</span><span style=\"color: #008080; text-decoration-color: #008080; font-weight: bold\">10</span><span style=\"font-weight: bold\">]</span>, <span style=\"color: #808000; text-decoration-color: #808000\">logprob</span>=<span style=\"color: #008080; text-decoration-color: #008080; font-weight: bold\">-15.201521</span><span style=\"font-weight: bold\">)</span>\n",
       "                        <span style=\"font-weight: bold\">]</span>\n",
       "                    <span style=\"font-weight: bold\">)</span>,\n",
       "                    <span style=\"color: #800080; text-decoration-color: #800080; font-weight: bold\">ChatCompletionTokenLogprob</span><span style=\"font-weight: bold\">(</span>\n",
       "                        <span style=\"color: #808000; text-decoration-color: #808000\">token</span>=<span style=\"color: #008000; text-decoration-color: #008000\">' Saturn'</span>,\n",
       "                        <span style=\"color: #808000; text-decoration-color: #808000\">bytes</span>=<span style=\"font-weight: bold\">[</span><span style=\"color: #008080; text-decoration-color: #008080; font-weight: bold\">32</span>, <span style=\"color: #008080; text-decoration-color: #008080; font-weight: bold\">83</span>, <span style=\"color: #008080; text-decoration-color: #008080; font-weight: bold\">97</span>, <span style=\"color: #008080; text-decoration-color: #008080; font-weight: bold\">116</span>, <span style=\"color: #008080; text-decoration-color: #008080; font-weight: bold\">117</span>, <span style=\"color: #008080; text-decoration-color: #008080; font-weight: bold\">114</span>, <span style=\"color: #008080; text-decoration-color: #008080; font-weight: bold\">110</span><span style=\"font-weight: bold\">]</span>,\n",
       "                        <span style=\"color: #808000; text-decoration-color: #808000\">logprob</span>=<span style=\"color: #008080; text-decoration-color: #008080; font-weight: bold\">-7.89631e-07</span>,\n",
       "                        <span style=\"color: #808000; text-decoration-color: #808000\">top_logprobs</span>=<span style=\"font-weight: bold\">[</span>\n",
       "                            <span style=\"color: #800080; text-decoration-color: #800080; font-weight: bold\">TopLogprob</span><span style=\"font-weight: bold\">(</span>\n",
       "                                <span style=\"color: #808000; text-decoration-color: #808000\">token</span>=<span style=\"color: #008000; text-decoration-color: #008000\">' Saturn'</span>,\n",
       "                                <span style=\"color: #808000; text-decoration-color: #808000\">bytes</span>=<span style=\"font-weight: bold\">[</span><span style=\"color: #008080; text-decoration-color: #008080; font-weight: bold\">32</span>, <span style=\"color: #008080; text-decoration-color: #008080; font-weight: bold\">83</span>, <span style=\"color: #008080; text-decoration-color: #008080; font-weight: bold\">97</span>, <span style=\"color: #008080; text-decoration-color: #008080; font-weight: bold\">116</span>, <span style=\"color: #008080; text-decoration-color: #008080; font-weight: bold\">117</span>, <span style=\"color: #008080; text-decoration-color: #008080; font-weight: bold\">114</span>, <span style=\"color: #008080; text-decoration-color: #008080; font-weight: bold\">110</span><span style=\"font-weight: bold\">]</span>,\n",
       "                                <span style=\"color: #808000; text-decoration-color: #808000\">logprob</span>=<span style=\"color: #008080; text-decoration-color: #008080; font-weight: bold\">-7.89631e-07</span>\n",
       "                            <span style=\"font-weight: bold\">)</span>,\n",
       "                            <span style=\"color: #800080; text-decoration-color: #800080; font-weight: bold\">TopLogprob</span><span style=\"font-weight: bold\">(</span><span style=\"color: #808000; text-decoration-color: #808000\">token</span>=<span style=\"color: #008000; text-decoration-color: #008000\">' '</span>, <span style=\"color: #808000; text-decoration-color: #808000\">bytes</span>=<span style=\"font-weight: bold\">[</span><span style=\"color: #008080; text-decoration-color: #008080; font-weight: bold\">32</span><span style=\"font-weight: bold\">]</span>, <span style=\"color: #808000; text-decoration-color: #808000\">logprob</span>=<span style=\"color: #008080; text-decoration-color: #008080; font-weight: bold\">-14.184451</span><span style=\"font-weight: bold\">)</span>,\n",
       "                            <span style=\"color: #800080; text-decoration-color: #800080; font-weight: bold\">TopLogprob</span><span style=\"font-weight: bold\">(</span><span style=\"color: #808000; text-decoration-color: #808000\">token</span>=<span style=\"color: #008000; text-decoration-color: #008000\">' Sat'</span>, <span style=\"color: #808000; text-decoration-color: #808000\">bytes</span>=<span style=\"font-weight: bold\">[</span><span style=\"color: #008080; text-decoration-color: #008080; font-weight: bold\">32</span>, <span style=\"color: #008080; text-decoration-color: #008080; font-weight: bold\">83</span>, <span style=\"color: #008080; text-decoration-color: #008080; font-weight: bold\">97</span>, <span style=\"color: #008080; text-decoration-color: #008080; font-weight: bold\">116</span><span style=\"font-weight: bold\">]</span>, <span style=\"color: #808000; text-decoration-color: #808000\">logprob</span>=<span style=\"color: #008080; text-decoration-color: #008080; font-weight: bold\">-16.732485</span><span style=\"font-weight: bold\">)</span>,\n",
       "                            <span style=\"color: #800080; text-decoration-color: #800080; font-weight: bold\">TopLogprob</span><span style=\"font-weight: bold\">(</span>\n",
       "                                <span style=\"color: #808000; text-decoration-color: #808000\">token</span>=<span style=\"color: #008000; text-decoration-color: #008000\">' Neptune'</span>,\n",
       "                                <span style=\"color: #808000; text-decoration-color: #808000\">bytes</span>=<span style=\"font-weight: bold\">[</span><span style=\"color: #008080; text-decoration-color: #008080; font-weight: bold\">32</span>, <span style=\"color: #008080; text-decoration-color: #008080; font-weight: bold\">78</span>, <span style=\"color: #008080; text-decoration-color: #008080; font-weight: bold\">101</span>, <span style=\"color: #008080; text-decoration-color: #008080; font-weight: bold\">112</span>, <span style=\"color: #008080; text-decoration-color: #008080; font-weight: bold\">116</span>, <span style=\"color: #008080; text-decoration-color: #008080; font-weight: bold\">117</span>, <span style=\"color: #008080; text-decoration-color: #008080; font-weight: bold\">110</span>, <span style=\"color: #008080; text-decoration-color: #008080; font-weight: bold\">101</span><span style=\"font-weight: bold\">]</span>,\n",
       "                                <span style=\"color: #808000; text-decoration-color: #808000\">logprob</span>=<span style=\"color: #008080; text-decoration-color: #008080; font-weight: bold\">-18.147596</span>\n",
       "                            <span style=\"font-weight: bold\">)</span>,\n",
       "                            <span style=\"color: #800080; text-decoration-color: #800080; font-weight: bold\">TopLogprob</span><span style=\"font-weight: bold\">(</span><span style=\"color: #808000; text-decoration-color: #808000\">token</span>=<span style=\"color: #008000; text-decoration-color: #008000\">' S'</span>, <span style=\"color: #808000; text-decoration-color: #808000\">bytes</span>=<span style=\"font-weight: bold\">[</span><span style=\"color: #008080; text-decoration-color: #008080; font-weight: bold\">32</span>, <span style=\"color: #008080; text-decoration-color: #008080; font-weight: bold\">83</span><span style=\"font-weight: bold\">]</span>, <span style=\"color: #808000; text-decoration-color: #808000\">logprob</span>=<span style=\"color: #008080; text-decoration-color: #008080; font-weight: bold\">-18.29653</span><span style=\"font-weight: bold\">)</span>\n",
       "                        <span style=\"font-weight: bold\">]</span>\n",
       "                    <span style=\"font-weight: bold\">)</span>,\n",
       "                    <span style=\"color: #800080; text-decoration-color: #800080; font-weight: bold\">ChatCompletionTokenLogprob</span><span style=\"font-weight: bold\">(</span>\n",
       "                        <span style=\"color: #808000; text-decoration-color: #808000\">token</span>=<span style=\"color: #008000; text-decoration-color: #008000\">','</span>,\n",
       "                        <span style=\"color: #808000; text-decoration-color: #808000\">bytes</span>=<span style=\"font-weight: bold\">[</span><span style=\"color: #008080; text-decoration-color: #008080; font-weight: bold\">44</span><span style=\"font-weight: bold\">]</span>,\n",
       "                        <span style=\"color: #808000; text-decoration-color: #808000\">logprob</span>=<span style=\"color: #008080; text-decoration-color: #008080; font-weight: bold\">-7.465036e-06</span>,\n",
       "                        <span style=\"color: #808000; text-decoration-color: #808000\">top_logprobs</span>=<span style=\"font-weight: bold\">[</span>\n",
       "                            <span style=\"color: #800080; text-decoration-color: #800080; font-weight: bold\">TopLogprob</span><span style=\"font-weight: bold\">(</span><span style=\"color: #808000; text-decoration-color: #808000\">token</span>=<span style=\"color: #008000; text-decoration-color: #008000\">','</span>, <span style=\"color: #808000; text-decoration-color: #808000\">bytes</span>=<span style=\"font-weight: bold\">[</span><span style=\"color: #008080; text-decoration-color: #008080; font-weight: bold\">44</span><span style=\"font-weight: bold\">]</span>, <span style=\"color: #808000; text-decoration-color: #808000\">logprob</span>=<span style=\"color: #008080; text-decoration-color: #008080; font-weight: bold\">-7.465036e-06</span><span style=\"font-weight: bold\">)</span>,\n",
       "                            <span style=\"color: #800080; text-decoration-color: #800080; font-weight: bold\">TopLogprob</span><span style=\"font-weight: bold\">(</span><span style=\"color: #808000; text-decoration-color: #808000\">token</span>=<span style=\"color: #008000; text-decoration-color: #008000\">',\\n'</span>, <span style=\"color: #808000; text-decoration-color: #808000\">bytes</span>=<span style=\"font-weight: bold\">[</span><span style=\"color: #008080; text-decoration-color: #008080; font-weight: bold\">44</span>, <span style=\"color: #008080; text-decoration-color: #008080; font-weight: bold\">10</span><span style=\"font-weight: bold\">]</span>, <span style=\"color: #808000; text-decoration-color: #808000\">logprob</span>=<span style=\"color: #008080; text-decoration-color: #008080; font-weight: bold\">-12.525568</span><span style=\"font-weight: bold\">)</span>,\n",
       "                            <span style=\"color: #800080; text-decoration-color: #800080; font-weight: bold\">TopLogprob</span><span style=\"font-weight: bold\">(</span><span style=\"color: #808000; text-decoration-color: #808000\">token</span>=<span style=\"color: #008000; text-decoration-color: #008000\">' ,'</span>, <span style=\"color: #808000; text-decoration-color: #808000\">bytes</span>=<span style=\"font-weight: bold\">[</span><span style=\"color: #008080; text-decoration-color: #008080; font-weight: bold\">32</span>, <span style=\"color: #008080; text-decoration-color: #008080; font-weight: bold\">44</span><span style=\"font-weight: bold\">]</span>, <span style=\"color: #808000; text-decoration-color: #808000\">logprob</span>=<span style=\"color: #008080; text-decoration-color: #008080; font-weight: bold\">-12.971264</span><span style=\"font-weight: bold\">)</span>,\n",
       "                            <span style=\"color: #800080; text-decoration-color: #800080; font-weight: bold\">TopLogprob</span><span style=\"font-weight: bold\">(</span><span style=\"color: #808000; text-decoration-color: #808000\">token</span>=<span style=\"color: #008000; text-decoration-color: #008000\">'.'</span>, <span style=\"color: #808000; text-decoration-color: #808000\">bytes</span>=<span style=\"font-weight: bold\">[</span><span style=\"color: #008080; text-decoration-color: #008080; font-weight: bold\">46</span><span style=\"font-weight: bold\">]</span>, <span style=\"color: #808000; text-decoration-color: #808000\">logprob</span>=<span style=\"color: #008080; text-decoration-color: #008080; font-weight: bold\">-14.6729145</span><span style=\"font-weight: bold\">)</span>,\n",
       "                            <span style=\"color: #800080; text-decoration-color: #800080; font-weight: bold\">TopLogprob</span><span style=\"font-weight: bold\">(</span><span style=\"color: #808000; text-decoration-color: #808000\">token</span>=<span style=\"color: #008000; text-decoration-color: #008000\">'\\n'</span>, <span style=\"color: #808000; text-decoration-color: #808000\">bytes</span>=<span style=\"font-weight: bold\">[</span><span style=\"color: #008080; text-decoration-color: #008080; font-weight: bold\">10</span><span style=\"font-weight: bold\">]</span>, <span style=\"color: #808000; text-decoration-color: #808000\">logprob</span>=<span style=\"color: #008080; text-decoration-color: #008080; font-weight: bold\">-15.268833</span><span style=\"font-weight: bold\">)</span>\n",
       "                        <span style=\"font-weight: bold\">]</span>\n",
       "                    <span style=\"font-weight: bold\">)</span>,\n",
       "                    <span style=\"color: #800080; text-decoration-color: #800080; font-weight: bold\">ChatCompletionTokenLogprob</span><span style=\"font-weight: bold\">(</span>\n",
       "                        <span style=\"color: #808000; text-decoration-color: #808000\">token</span>=<span style=\"color: #008000; text-decoration-color: #008000\">' Uran'</span>,\n",
       "                        <span style=\"color: #808000; text-decoration-color: #808000\">bytes</span>=<span style=\"font-weight: bold\">[</span><span style=\"color: #008080; text-decoration-color: #008080; font-weight: bold\">32</span>, <span style=\"color: #008080; text-decoration-color: #008080; font-weight: bold\">85</span>, <span style=\"color: #008080; text-decoration-color: #008080; font-weight: bold\">114</span>, <span style=\"color: #008080; text-decoration-color: #008080; font-weight: bold\">97</span>, <span style=\"color: #008080; text-decoration-color: #008080; font-weight: bold\">110</span><span style=\"font-weight: bold\">]</span>,\n",
       "                        <span style=\"color: #808000; text-decoration-color: #808000\">logprob</span>=<span style=\"color: #008080; text-decoration-color: #008080; font-weight: bold\">-3.5477897e-05</span>,\n",
       "                        <span style=\"color: #808000; text-decoration-color: #808000\">top_logprobs</span>=<span style=\"font-weight: bold\">[</span>\n",
       "                            <span style=\"color: #800080; text-decoration-color: #800080; font-weight: bold\">TopLogprob</span><span style=\"font-weight: bold\">(</span><span style=\"color: #808000; text-decoration-color: #808000\">token</span>=<span style=\"color: #008000; text-decoration-color: #008000\">' Uran'</span>, <span style=\"color: #808000; text-decoration-color: #808000\">bytes</span>=<span style=\"font-weight: bold\">[</span><span style=\"color: #008080; text-decoration-color: #008080; font-weight: bold\">32</span>, <span style=\"color: #008080; text-decoration-color: #008080; font-weight: bold\">85</span>, <span style=\"color: #008080; text-decoration-color: #008080; font-weight: bold\">114</span>, <span style=\"color: #008080; text-decoration-color: #008080; font-weight: bold\">97</span>, <span style=\"color: #008080; text-decoration-color: #008080; font-weight: bold\">110</span><span style=\"font-weight: bold\">]</span>, <span style=\"color: #808000; text-decoration-color: #808000\">logprob</span>=<span style=\"color: #008080; text-decoration-color: #008080; font-weight: bold\">-3.5477897e-05</span><span style=\"font-weight: bold\">)</span>,\n",
       "                            <span style=\"color: #800080; text-decoration-color: #800080; font-weight: bold\">TopLogprob</span><span style=\"font-weight: bold\">(</span>\n",
       "                                <span style=\"color: #808000; text-decoration-color: #808000\">token</span>=<span style=\"color: #008000; text-decoration-color: #008000\">' Neptune'</span>,\n",
       "                                <span style=\"color: #808000; text-decoration-color: #808000\">bytes</span>=<span style=\"font-weight: bold\">[</span><span style=\"color: #008080; text-decoration-color: #008080; font-weight: bold\">32</span>, <span style=\"color: #008080; text-decoration-color: #008080; font-weight: bold\">78</span>, <span style=\"color: #008080; text-decoration-color: #008080; font-weight: bold\">101</span>, <span style=\"color: #008080; text-decoration-color: #008080; font-weight: bold\">112</span>, <span style=\"color: #008080; text-decoration-color: #008080; font-weight: bold\">116</span>, <span style=\"color: #008080; text-decoration-color: #008080; font-weight: bold\">117</span>, <span style=\"color: #008080; text-decoration-color: #008080; font-weight: bold\">110</span>, <span style=\"color: #008080; text-decoration-color: #008080; font-weight: bold\">101</span><span style=\"font-weight: bold\">]</span>,\n",
       "                                <span style=\"color: #808000; text-decoration-color: #808000\">logprob</span>=<span style=\"color: #008080; text-decoration-color: #008080; font-weight: bold\">-10.509114</span>\n",
       "                            <span style=\"font-weight: bold\">)</span>,\n",
       "                            <span style=\"color: #800080; text-decoration-color: #800080; font-weight: bold\">TopLogprob</span><span style=\"font-weight: bold\">(</span><span style=\"color: #808000; text-decoration-color: #808000\">token</span>=<span style=\"color: #008000; text-decoration-color: #008000\">' '</span>, <span style=\"color: #808000; text-decoration-color: #808000\">bytes</span>=<span style=\"font-weight: bold\">[</span><span style=\"color: #008080; text-decoration-color: #008080; font-weight: bold\">32</span><span style=\"font-weight: bold\">]</span>, <span style=\"color: #808000; text-decoration-color: #808000\">logprob</span>=<span style=\"color: #008080; text-decoration-color: #008080; font-weight: bold\">-11.771441</span><span style=\"font-weight: bold\">)</span>,\n",
       "                            <span style=\"color: #800080; text-decoration-color: #800080; font-weight: bold\">TopLogprob</span><span style=\"font-weight: bold\">(</span><span style=\"color: #808000; text-decoration-color: #808000\">token</span>=<span style=\"color: #008000; text-decoration-color: #008000\">' Ur'</span>, <span style=\"color: #808000; text-decoration-color: #808000\">bytes</span>=<span style=\"font-weight: bold\">[</span><span style=\"color: #008080; text-decoration-color: #008080; font-weight: bold\">32</span>, <span style=\"color: #008080; text-decoration-color: #008080; font-weight: bold\">85</span>, <span style=\"color: #008080; text-decoration-color: #008080; font-weight: bold\">114</span><span style=\"font-weight: bold\">]</span>, <span style=\"color: #808000; text-decoration-color: #808000\">logprob</span>=<span style=\"color: #008080; text-decoration-color: #008080; font-weight: bold\">-16.197191</span><span style=\"font-weight: bold\">)</span>,\n",
       "                            <span style=\"color: #800080; text-decoration-color: #800080; font-weight: bold\">TopLogprob</span><span style=\"font-weight: bold\">(</span><span style=\"color: #808000; text-decoration-color: #808000\">token</span>=<span style=\"color: #008000; text-decoration-color: #008000\">' \\n'</span>, <span style=\"color: #808000; text-decoration-color: #808000\">bytes</span>=<span style=\"font-weight: bold\">[</span><span style=\"color: #008080; text-decoration-color: #008080; font-weight: bold\">32</span>, <span style=\"color: #008080; text-decoration-color: #008080; font-weight: bold\">10</span><span style=\"font-weight: bold\">]</span>, <span style=\"color: #808000; text-decoration-color: #808000\">logprob</span>=<span style=\"color: #008080; text-decoration-color: #008080; font-weight: bold\">-16.359787</span><span style=\"font-weight: bold\">)</span>\n",
       "                        <span style=\"font-weight: bold\">]</span>\n",
       "                    <span style=\"font-weight: bold\">)</span>,\n",
       "                    <span style=\"color: #800080; text-decoration-color: #800080; font-weight: bold\">ChatCompletionTokenLogprob</span><span style=\"font-weight: bold\">(</span>\n",
       "                        <span style=\"color: #808000; text-decoration-color: #808000\">token</span>=<span style=\"color: #008000; text-decoration-color: #008000\">'us'</span>,\n",
       "                        <span style=\"color: #808000; text-decoration-color: #808000\">bytes</span>=<span style=\"font-weight: bold\">[</span><span style=\"color: #008080; text-decoration-color: #008080; font-weight: bold\">117</span>, <span style=\"color: #008080; text-decoration-color: #008080; font-weight: bold\">115</span><span style=\"font-weight: bold\">]</span>,\n",
       "                        <span style=\"color: #808000; text-decoration-color: #808000\">logprob</span>=<span style=\"color: #008080; text-decoration-color: #008080; font-weight: bold\">-1.3067608e-05</span>,\n",
       "                        <span style=\"color: #808000; text-decoration-color: #808000\">top_logprobs</span>=<span style=\"font-weight: bold\">[</span>\n",
       "                            <span style=\"color: #800080; text-decoration-color: #800080; font-weight: bold\">TopLogprob</span><span style=\"font-weight: bold\">(</span><span style=\"color: #808000; text-decoration-color: #808000\">token</span>=<span style=\"color: #008000; text-decoration-color: #008000\">'us'</span>, <span style=\"color: #808000; text-decoration-color: #808000\">bytes</span>=<span style=\"font-weight: bold\">[</span><span style=\"color: #008080; text-decoration-color: #008080; font-weight: bold\">117</span>, <span style=\"color: #008080; text-decoration-color: #008080; font-weight: bold\">115</span><span style=\"font-weight: bold\">]</span>, <span style=\"color: #808000; text-decoration-color: #808000\">logprob</span>=<span style=\"color: #008080; text-decoration-color: #008080; font-weight: bold\">-1.3067608e-05</span><span style=\"font-weight: bold\">)</span>,\n",
       "                            <span style=\"color: #800080; text-decoration-color: #800080; font-weight: bold\">TopLogprob</span><span style=\"font-weight: bold\">(</span><span style=\"color: #808000; text-decoration-color: #808000\">token</span>=<span style=\"color: #008000; text-decoration-color: #008000\">'u'</span>, <span style=\"color: #808000; text-decoration-color: #808000\">bytes</span>=<span style=\"font-weight: bold\">[</span><span style=\"color: #008080; text-decoration-color: #008080; font-weight: bold\">117</span><span style=\"font-weight: bold\">]</span>, <span style=\"color: #808000; text-decoration-color: #808000\">logprob</span>=<span style=\"color: #008080; text-decoration-color: #008080; font-weight: bold\">-12.654243</span><span style=\"font-weight: bold\">)</span>,\n",
       "                            <span style=\"color: #800080; text-decoration-color: #800080; font-weight: bold\">TopLogprob</span><span style=\"font-weight: bold\">(</span><span style=\"color: #808000; text-decoration-color: #808000\">token</span>=<span style=\"color: #008000; text-decoration-color: #008000\">'is'</span>, <span style=\"color: #808000; text-decoration-color: #808000\">bytes</span>=<span style=\"font-weight: bold\">[</span><span style=\"color: #008080; text-decoration-color: #008080; font-weight: bold\">105</span>, <span style=\"color: #008080; text-decoration-color: #008080; font-weight: bold\">115</span><span style=\"font-weight: bold\">]</span>, <span style=\"color: #808000; text-decoration-color: #808000\">logprob</span>=<span style=\"color: #008080; text-decoration-color: #008080; font-weight: bold\">-12.803968</span><span style=\"font-weight: bold\">)</span>,\n",
       "                            <span style=\"color: #800080; text-decoration-color: #800080; font-weight: bold\">TopLogprob</span><span style=\"font-weight: bold\">(</span><span style=\"color: #808000; text-decoration-color: #808000\">token</span>=<span style=\"color: #008000; text-decoration-color: #008000\">'as'</span>, <span style=\"color: #808000; text-decoration-color: #808000\">bytes</span>=<span style=\"font-weight: bold\">[</span><span style=\"color: #008080; text-decoration-color: #008080; font-weight: bold\">97</span>, <span style=\"color: #008080; text-decoration-color: #008080; font-weight: bold\">115</span><span style=\"font-weight: bold\">]</span>, <span style=\"color: #808000; text-decoration-color: #808000\">logprob</span>=<span style=\"color: #008080; text-decoration-color: #008080; font-weight: bold\">-13.4831505</span><span style=\"font-weight: bold\">)</span>,\n",
       "                            <span style=\"color: #800080; text-decoration-color: #800080; font-weight: bold\">TopLogprob</span><span style=\"font-weight: bold\">(</span><span style=\"color: #808000; text-decoration-color: #808000\">token</span>=<span style=\"color: #008000; text-decoration-color: #008000\">'os'</span>, <span style=\"color: #808000; text-decoration-color: #808000\">bytes</span>=<span style=\"font-weight: bold\">[</span><span style=\"color: #008080; text-decoration-color: #008080; font-weight: bold\">111</span>, <span style=\"color: #008080; text-decoration-color: #008080; font-weight: bold\">115</span><span style=\"font-weight: bold\">]</span>, <span style=\"color: #808000; text-decoration-color: #808000\">logprob</span>=<span style=\"color: #008080; text-decoration-color: #008080; font-weight: bold\">-13.868574</span><span style=\"font-weight: bold\">)</span>\n",
       "                        <span style=\"font-weight: bold\">]</span>\n",
       "                    <span style=\"font-weight: bold\">)</span>,\n",
       "                    <span style=\"color: #800080; text-decoration-color: #800080; font-weight: bold\">ChatCompletionTokenLogprob</span><span style=\"font-weight: bold\">(</span>\n",
       "                        <span style=\"color: #808000; text-decoration-color: #808000\">token</span>=<span style=\"color: #008000; text-decoration-color: #008000\">','</span>,\n",
       "                        <span style=\"color: #808000; text-decoration-color: #808000\">bytes</span>=<span style=\"font-weight: bold\">[</span><span style=\"color: #008080; text-decoration-color: #008080; font-weight: bold\">44</span><span style=\"font-weight: bold\">]</span>,\n",
       "                        <span style=\"color: #808000; text-decoration-color: #808000\">logprob</span>=<span style=\"color: #008080; text-decoration-color: #008080; font-weight: bold\">-3.0471343e-05</span>,\n",
       "                        <span style=\"color: #808000; text-decoration-color: #808000\">top_logprobs</span>=<span style=\"font-weight: bold\">[</span>\n",
       "                            <span style=\"color: #800080; text-decoration-color: #800080; font-weight: bold\">TopLogprob</span><span style=\"font-weight: bold\">(</span><span style=\"color: #808000; text-decoration-color: #808000\">token</span>=<span style=\"color: #008000; text-decoration-color: #008000\">','</span>, <span style=\"color: #808000; text-decoration-color: #808000\">bytes</span>=<span style=\"font-weight: bold\">[</span><span style=\"color: #008080; text-decoration-color: #008080; font-weight: bold\">44</span><span style=\"font-weight: bold\">]</span>, <span style=\"color: #808000; text-decoration-color: #808000\">logprob</span>=<span style=\"color: #008080; text-decoration-color: #008080; font-weight: bold\">-3.0471343e-05</span><span style=\"font-weight: bold\">)</span>,\n",
       "                            <span style=\"color: #800080; text-decoration-color: #800080; font-weight: bold\">TopLogprob</span><span style=\"font-weight: bold\">(</span><span style=\"color: #808000; text-decoration-color: #808000\">token</span>=<span style=\"color: #008000; text-decoration-color: #008000\">' and'</span>, <span style=\"color: #808000; text-decoration-color: #808000\">bytes</span>=<span style=\"font-weight: bold\">[</span><span style=\"color: #008080; text-decoration-color: #008080; font-weight: bold\">32</span>, <span style=\"color: #008080; text-decoration-color: #008080; font-weight: bold\">97</span>, <span style=\"color: #008080; text-decoration-color: #008080; font-weight: bold\">110</span>, <span style=\"color: #008080; text-decoration-color: #008080; font-weight: bold\">100</span><span style=\"font-weight: bold\">]</span>, <span style=\"color: #808000; text-decoration-color: #808000\">logprob</span>=<span style=\"color: #008080; text-decoration-color: #008080; font-weight: bold\">-10.424301</span><span style=\"font-weight: bold\">)</span>,\n",
       "                            <span style=\"color: #800080; text-decoration-color: #800080; font-weight: bold\">TopLogprob</span><span style=\"font-weight: bold\">(</span><span style=\"color: #808000; text-decoration-color: #808000\">token</span>=<span style=\"color: #008000; text-decoration-color: #008000\">',\\n'</span>, <span style=\"color: #808000; text-decoration-color: #808000\">bytes</span>=<span style=\"font-weight: bold\">[</span><span style=\"color: #008080; text-decoration-color: #008080; font-weight: bold\">44</span>, <span style=\"color: #008080; text-decoration-color: #008080; font-weight: bold\">10</span><span style=\"font-weight: bold\">]</span>, <span style=\"color: #808000; text-decoration-color: #808000\">logprob</span>=<span style=\"color: #008080; text-decoration-color: #008080; font-weight: bold\">-15.263325</span><span style=\"font-weight: bold\">)</span>,\n",
       "                            <span style=\"color: #800080; text-decoration-color: #800080; font-weight: bold\">TopLogprob</span><span style=\"font-weight: bold\">(</span><span style=\"color: #808000; text-decoration-color: #808000\">token</span>=<span style=\"color: #008000; text-decoration-color: #008000\">' ,'</span>, <span style=\"color: #808000; text-decoration-color: #808000\">bytes</span>=<span style=\"font-weight: bold\">[</span><span style=\"color: #008080; text-decoration-color: #008080; font-weight: bold\">32</span>, <span style=\"color: #008080; text-decoration-color: #008080; font-weight: bold\">44</span><span style=\"font-weight: bold\">]</span>, <span style=\"color: #808000; text-decoration-color: #808000\">logprob</span>=<span style=\"color: #008080; text-decoration-color: #008080; font-weight: bold\">-15.344509</span><span style=\"font-weight: bold\">)</span>,\n",
       "                            <span style=\"color: #800080; text-decoration-color: #800080; font-weight: bold\">TopLogprob</span><span style=\"font-weight: bold\">(</span><span style=\"color: #808000; text-decoration-color: #808000\">token</span>=<span style=\"color: #008000; text-decoration-color: #008000\">',and'</span>, <span style=\"color: #808000; text-decoration-color: #808000\">bytes</span>=<span style=\"font-weight: bold\">[</span><span style=\"color: #008080; text-decoration-color: #008080; font-weight: bold\">44</span>, <span style=\"color: #008080; text-decoration-color: #008080; font-weight: bold\">97</span>, <span style=\"color: #008080; text-decoration-color: #008080; font-weight: bold\">110</span>, <span style=\"color: #008080; text-decoration-color: #008080; font-weight: bold\">100</span><span style=\"font-weight: bold\">]</span>, <span style=\"color: #808000; text-decoration-color: #808000\">logprob</span>=<span style=\"color: #008080; text-decoration-color: #008080; font-weight: bold\">-15.558033</span><span style=\"font-weight: bold\">)</span>\n",
       "                        <span style=\"font-weight: bold\">]</span>\n",
       "                    <span style=\"font-weight: bold\">)</span>,\n",
       "                    <span style=\"color: #800080; text-decoration-color: #800080; font-weight: bold\">ChatCompletionTokenLogprob</span><span style=\"font-weight: bold\">(</span>\n",
       "                        <span style=\"color: #808000; text-decoration-color: #808000\">token</span>=<span style=\"color: #008000; text-decoration-color: #008000\">' Neptune'</span>,\n",
       "                        <span style=\"color: #808000; text-decoration-color: #808000\">bytes</span>=<span style=\"font-weight: bold\">[</span><span style=\"color: #008080; text-decoration-color: #008080; font-weight: bold\">32</span>, <span style=\"color: #008080; text-decoration-color: #008080; font-weight: bold\">78</span>, <span style=\"color: #008080; text-decoration-color: #008080; font-weight: bold\">101</span>, <span style=\"color: #008080; text-decoration-color: #008080; font-weight: bold\">112</span>, <span style=\"color: #008080; text-decoration-color: #008080; font-weight: bold\">116</span>, <span style=\"color: #008080; text-decoration-color: #008080; font-weight: bold\">117</span>, <span style=\"color: #008080; text-decoration-color: #008080; font-weight: bold\">110</span>, <span style=\"color: #008080; text-decoration-color: #008080; font-weight: bold\">101</span><span style=\"font-weight: bold\">]</span>,\n",
       "                        <span style=\"color: #808000; text-decoration-color: #808000\">logprob</span>=<span style=\"color: #008080; text-decoration-color: #008080; font-weight: bold\">-0.0067509008</span>,\n",
       "                        <span style=\"color: #808000; text-decoration-color: #808000\">top_logprobs</span>=<span style=\"font-weight: bold\">[</span>\n",
       "                            <span style=\"color: #800080; text-decoration-color: #800080; font-weight: bold\">TopLogprob</span><span style=\"font-weight: bold\">(</span>\n",
       "                                <span style=\"color: #808000; text-decoration-color: #808000\">token</span>=<span style=\"color: #008000; text-decoration-color: #008000\">' Neptune'</span>,\n",
       "                                <span style=\"color: #808000; text-decoration-color: #808000\">bytes</span>=<span style=\"font-weight: bold\">[</span><span style=\"color: #008080; text-decoration-color: #008080; font-weight: bold\">32</span>, <span style=\"color: #008080; text-decoration-color: #008080; font-weight: bold\">78</span>, <span style=\"color: #008080; text-decoration-color: #008080; font-weight: bold\">101</span>, <span style=\"color: #008080; text-decoration-color: #008080; font-weight: bold\">112</span>, <span style=\"color: #008080; text-decoration-color: #008080; font-weight: bold\">116</span>, <span style=\"color: #008080; text-decoration-color: #008080; font-weight: bold\">117</span>, <span style=\"color: #008080; text-decoration-color: #008080; font-weight: bold\">110</span>, <span style=\"color: #008080; text-decoration-color: #008080; font-weight: bold\">101</span><span style=\"font-weight: bold\">]</span>,\n",
       "                                <span style=\"color: #808000; text-decoration-color: #808000\">logprob</span>=<span style=\"color: #008080; text-decoration-color: #008080; font-weight: bold\">-0.0067509008</span>\n",
       "                            <span style=\"font-weight: bold\">)</span>,\n",
       "                            <span style=\"color: #800080; text-decoration-color: #800080; font-weight: bold\">TopLogprob</span><span style=\"font-weight: bold\">(</span><span style=\"color: #808000; text-decoration-color: #808000\">token</span>=<span style=\"color: #008000; text-decoration-color: #008000\">' and'</span>, <span style=\"color: #808000; text-decoration-color: #808000\">bytes</span>=<span style=\"font-weight: bold\">[</span><span style=\"color: #008080; text-decoration-color: #008080; font-weight: bold\">32</span>, <span style=\"color: #008080; text-decoration-color: #008080; font-weight: bold\">97</span>, <span style=\"color: #008080; text-decoration-color: #008080; font-weight: bold\">110</span>, <span style=\"color: #008080; text-decoration-color: #008080; font-weight: bold\">100</span><span style=\"font-weight: bold\">]</span>, <span style=\"color: #808000; text-decoration-color: #808000\">logprob</span>=<span style=\"color: #008080; text-decoration-color: #008080; font-weight: bold\">-5.005843</span><span style=\"font-weight: bold\">)</span>,\n",
       "                            <span style=\"color: #800080; text-decoration-color: #800080; font-weight: bold\">TopLogprob</span><span style=\"font-weight: bold\">(</span><span style=\"color: #808000; text-decoration-color: #808000\">token</span>=<span style=\"color: #008000; text-decoration-color: #008000\">' '</span>, <span style=\"color: #808000; text-decoration-color: #808000\">bytes</span>=<span style=\"font-weight: bold\">[</span><span style=\"color: #008080; text-decoration-color: #008080; font-weight: bold\">32</span><span style=\"font-weight: bold\">]</span>, <span style=\"color: #808000; text-decoration-color: #808000\">logprob</span>=<span style=\"color: #008080; text-decoration-color: #008080; font-weight: bold\">-10.953055</span><span style=\"font-weight: bold\">)</span>,\n",
       "                            <span style=\"color: #800080; text-decoration-color: #800080; font-weight: bold\">TopLogprob</span><span style=\"font-weight: bold\">(</span><span style=\"color: #808000; text-decoration-color: #808000\">token</span>=<span style=\"color: #008000; text-decoration-color: #008000\">' Ne'</span>, <span style=\"color: #808000; text-decoration-color: #808000\">bytes</span>=<span style=\"font-weight: bold\">[</span><span style=\"color: #008080; text-decoration-color: #008080; font-weight: bold\">32</span>, <span style=\"color: #008080; text-decoration-color: #008080; font-weight: bold\">78</span>, <span style=\"color: #008080; text-decoration-color: #008080; font-weight: bold\">101</span><span style=\"font-weight: bold\">]</span>, <span style=\"color: #808000; text-decoration-color: #808000\">logprob</span>=<span style=\"color: #008080; text-decoration-color: #008080; font-weight: bold\">-11.483464</span><span style=\"font-weight: bold\">)</span>,\n",
       "                            <span style=\"color: #800080; text-decoration-color: #800080; font-weight: bold\">TopLogprob</span><span style=\"font-weight: bold\">(</span><span style=\"color: #808000; text-decoration-color: #808000\">token</span>=<span style=\"color: #008000; text-decoration-color: #008000\">'Ne'</span>, <span style=\"color: #808000; text-decoration-color: #808000\">bytes</span>=<span style=\"font-weight: bold\">[</span><span style=\"color: #008080; text-decoration-color: #008080; font-weight: bold\">78</span>, <span style=\"color: #008080; text-decoration-color: #008080; font-weight: bold\">101</span><span style=\"font-weight: bold\">]</span>, <span style=\"color: #808000; text-decoration-color: #808000\">logprob</span>=<span style=\"color: #008080; text-decoration-color: #008080; font-weight: bold\">-13.798982</span><span style=\"font-weight: bold\">)</span>\n",
       "                        <span style=\"font-weight: bold\">]</span>\n",
       "                    <span style=\"font-weight: bold\">)</span>\n",
       "                <span style=\"font-weight: bold\">]</span>,\n",
       "                <span style=\"color: #808000; text-decoration-color: #808000\">refusal</span>=<span style=\"color: #800080; text-decoration-color: #800080; font-style: italic\">None</span>\n",
       "            <span style=\"font-weight: bold\">)</span>,\n",
       "            <span style=\"color: #808000; text-decoration-color: #808000\">message</span>=<span style=\"color: #800080; text-decoration-color: #800080; font-weight: bold\">ChatCompletionMessage</span><span style=\"font-weight: bold\">(</span>\n",
       "                <span style=\"color: #808000; text-decoration-color: #808000\">content</span>=<span style=\"color: #008000; text-decoration-color: #008000\">'Mercury, Venus, Earth, Mars, Jupiter, Saturn, Uranus, Neptune'</span>,\n",
       "                <span style=\"color: #808000; text-decoration-color: #808000\">refusal</span>=<span style=\"color: #800080; text-decoration-color: #800080; font-style: italic\">None</span>,\n",
       "                <span style=\"color: #808000; text-decoration-color: #808000\">role</span>=<span style=\"color: #008000; text-decoration-color: #008000\">'assistant'</span>,\n",
       "                <span style=\"color: #808000; text-decoration-color: #808000\">function_call</span>=<span style=\"color: #800080; text-decoration-color: #800080; font-style: italic\">None</span>,\n",
       "                <span style=\"color: #808000; text-decoration-color: #808000\">tool_calls</span>=<span style=\"color: #800080; text-decoration-color: #800080; font-style: italic\">None</span>\n",
       "            <span style=\"font-weight: bold\">)</span>\n",
       "        <span style=\"font-weight: bold\">)</span>\n",
       "    <span style=\"font-weight: bold\">]</span>,\n",
       "    <span style=\"color: #808000; text-decoration-color: #808000\">created</span>=<span style=\"color: #008080; text-decoration-color: #008080; font-weight: bold\">1733600203</span>,\n",
       "    <span style=\"color: #808000; text-decoration-color: #808000\">model</span>=<span style=\"color: #008000; text-decoration-color: #008000\">'gpt-3.5-turbo-0125'</span>,\n",
       "    <span style=\"color: #808000; text-decoration-color: #808000\">object</span>=<span style=\"color: #008000; text-decoration-color: #008000\">'chat.completion'</span>,\n",
       "    <span style=\"color: #808000; text-decoration-color: #808000\">service_tier</span>=<span style=\"color: #800080; text-decoration-color: #800080; font-style: italic\">None</span>,\n",
       "    <span style=\"color: #808000; text-decoration-color: #808000\">system_fingerprint</span>=<span style=\"color: #800080; text-decoration-color: #800080; font-style: italic\">None</span>,\n",
       "    <span style=\"color: #808000; text-decoration-color: #808000\">usage</span>=<span style=\"color: #800080; text-decoration-color: #800080; font-weight: bold\">CompletionUsage</span><span style=\"font-weight: bold\">(</span>\n",
       "        <span style=\"color: #808000; text-decoration-color: #808000\">completion_tokens</span>=<span style=\"color: #008080; text-decoration-color: #008080; font-weight: bold\">17</span>,\n",
       "        <span style=\"color: #808000; text-decoration-color: #808000\">prompt_tokens</span>=<span style=\"color: #008080; text-decoration-color: #008080; font-weight: bold\">20</span>,\n",
       "        <span style=\"color: #808000; text-decoration-color: #808000\">total_tokens</span>=<span style=\"color: #008080; text-decoration-color: #008080; font-weight: bold\">37</span>,\n",
       "        <span style=\"color: #808000; text-decoration-color: #808000\">completion_tokens_details</span>=<span style=\"color: #800080; text-decoration-color: #800080; font-weight: bold\">CompletionTokensDetails</span><span style=\"font-weight: bold\">(</span>\n",
       "            <span style=\"color: #808000; text-decoration-color: #808000\">reasoning_tokens</span>=<span style=\"color: #008080; text-decoration-color: #008080; font-weight: bold\">0</span>,\n",
       "            <span style=\"color: #808000; text-decoration-color: #808000\">audio_tokens</span>=<span style=\"color: #008080; text-decoration-color: #008080; font-weight: bold\">0</span>,\n",
       "            <span style=\"color: #808000; text-decoration-color: #808000\">accepted_prediction_tokens</span>=<span style=\"color: #008080; text-decoration-color: #008080; font-weight: bold\">0</span>,\n",
       "            <span style=\"color: #808000; text-decoration-color: #808000\">rejected_prediction_tokens</span>=<span style=\"color: #008080; text-decoration-color: #008080; font-weight: bold\">0</span>\n",
       "        <span style=\"font-weight: bold\">)</span>,\n",
       "        <span style=\"color: #808000; text-decoration-color: #808000\">prompt_tokens_details</span>=<span style=\"font-weight: bold\">{</span><span style=\"color: #008000; text-decoration-color: #008000\">'cached_tokens'</span>: <span style=\"color: #008080; text-decoration-color: #008080; font-weight: bold\">0</span>, <span style=\"color: #008000; text-decoration-color: #008000\">'audio_tokens'</span>: <span style=\"color: #008080; text-decoration-color: #008080; font-weight: bold\">0</span><span style=\"font-weight: bold\">}</span>\n",
       "    <span style=\"font-weight: bold\">)</span>\n",
       "<span style=\"font-weight: bold\">)</span>\n",
       "</pre>\n"
      ],
      "text/plain": [
       "\u001b[1;35mChatCompletion\u001b[0m\u001b[1m(\u001b[0m\n",
       "    \u001b[33mid\u001b[0m=\u001b[32m'chatcmpl-AbutXxIAIQ2SWxXJnbPpPJb6DO1Yl'\u001b[0m,\n",
       "    \u001b[33mchoices\u001b[0m=\u001b[1m[\u001b[0m\n",
       "        \u001b[1;35mChoice\u001b[0m\u001b[1m(\u001b[0m\n",
       "            \u001b[33mfinish_reason\u001b[0m=\u001b[32m'stop'\u001b[0m,\n",
       "            \u001b[33mindex\u001b[0m=\u001b[1;36m0\u001b[0m,\n",
       "            \u001b[33mlogprobs\u001b[0m=\u001b[1;35mChoiceLogprobs\u001b[0m\u001b[1m(\u001b[0m\n",
       "                \u001b[33mcontent\u001b[0m=\u001b[1m[\u001b[0m\n",
       "                    \u001b[1;35mChatCompletionTokenLogprob\u001b[0m\u001b[1m(\u001b[0m\n",
       "                        \u001b[33mtoken\u001b[0m=\u001b[32m'Mer'\u001b[0m,\n",
       "                        \u001b[33mbytes\u001b[0m=\u001b[1m[\u001b[0m\u001b[1;36m77\u001b[0m, \u001b[1;36m101\u001b[0m, \u001b[1;36m114\u001b[0m\u001b[1m]\u001b[0m,\n",
       "                        \u001b[33mlogprob\u001b[0m=\u001b[1;36m-1.050902\u001b[0m,\n",
       "                        \u001b[33mtop_logprobs\u001b[0m=\u001b[1m[\u001b[0m\n",
       "                            \u001b[1;35mTopLogprob\u001b[0m\u001b[1m(\u001b[0m\u001b[33mtoken\u001b[0m=\u001b[32m'1'\u001b[0m, \u001b[33mbytes\u001b[0m=\u001b[1m[\u001b[0m\u001b[1;36m49\u001b[0m\u001b[1m]\u001b[0m, \u001b[33mlogprob\u001b[0m=\u001b[1;36m-0.5625769\u001b[0m\u001b[1m)\u001b[0m,\n",
       "                            \u001b[1;35mTopLogprob\u001b[0m\u001b[1m(\u001b[0m\u001b[33mtoken\u001b[0m=\u001b[32m'Mer'\u001b[0m, \u001b[33mbytes\u001b[0m=\u001b[1m[\u001b[0m\u001b[1;36m77\u001b[0m, \u001b[1;36m101\u001b[0m, \u001b[1;36m114\u001b[0m\u001b[1m]\u001b[0m, \u001b[33mlogprob\u001b[0m=\u001b[1;36m-1.050902\u001b[0m\u001b[1m)\u001b[0m,\n",
       "                            \u001b[1;35mTopLogprob\u001b[0m\u001b[1m(\u001b[0m\u001b[33mtoken\u001b[0m=\u001b[32m'The'\u001b[0m, \u001b[33mbytes\u001b[0m=\u001b[1m[\u001b[0m\u001b[1;36m84\u001b[0m, \u001b[1;36m104\u001b[0m, \u001b[1;36m101\u001b[0m\u001b[1m]\u001b[0m, \u001b[33mlogprob\u001b[0m=\u001b[1;36m-2.8802953\u001b[0m\u001b[1m)\u001b[0m,\n",
       "                            \u001b[1;35mTopLogprob\u001b[0m\u001b[1m(\u001b[0m\u001b[33mtoken\u001b[0m=\u001b[32m'-'\u001b[0m, \u001b[33mbytes\u001b[0m=\u001b[1m[\u001b[0m\u001b[1;36m45\u001b[0m\u001b[1m]\u001b[0m, \u001b[33mlogprob\u001b[0m=\u001b[1;36m-4.1521287\u001b[0m\u001b[1m)\u001b[0m,\n",
       "                            \u001b[1;35mTopLogprob\u001b[0m\u001b[1m(\u001b[0m\u001b[33mtoken\u001b[0m=\u001b[32m'There'\u001b[0m, \u001b[33mbytes\u001b[0m=\u001b[1m[\u001b[0m\u001b[1;36m84\u001b[0m, \u001b[1;36m104\u001b[0m, \u001b[1;36m101\u001b[0m, \u001b[1;36m114\u001b[0m, \u001b[1;36m101\u001b[0m\u001b[1m]\u001b[0m, \u001b[33mlogprob\u001b[0m=\u001b[1;36m-5.6867146\u001b[0m\u001b[1m)\u001b[0m\n",
       "                        \u001b[1m]\u001b[0m\n",
       "                    \u001b[1m)\u001b[0m,\n",
       "                    \u001b[1;35mChatCompletionTokenLogprob\u001b[0m\u001b[1m(\u001b[0m\n",
       "                        \u001b[33mtoken\u001b[0m=\u001b[32m'cury'\u001b[0m,\n",
       "                        \u001b[33mbytes\u001b[0m=\u001b[1m[\u001b[0m\u001b[1;36m99\u001b[0m, \u001b[1;36m117\u001b[0m, \u001b[1;36m114\u001b[0m, \u001b[1;36m121\u001b[0m\u001b[1m]\u001b[0m,\n",
       "                        \u001b[33mlogprob\u001b[0m=\u001b[1;36m0\u001b[0m\u001b[1;36m.0\u001b[0m,\n",
       "                        \u001b[33mtop_logprobs\u001b[0m=\u001b[1m[\u001b[0m\n",
       "                            \u001b[1;35mTopLogprob\u001b[0m\u001b[1m(\u001b[0m\u001b[33mtoken\u001b[0m=\u001b[32m'cury'\u001b[0m, \u001b[33mbytes\u001b[0m=\u001b[1m[\u001b[0m\u001b[1;36m99\u001b[0m, \u001b[1;36m117\u001b[0m, \u001b[1;36m114\u001b[0m, \u001b[1;36m121\u001b[0m\u001b[1m]\u001b[0m, \u001b[33mlogprob\u001b[0m=\u001b[1;36m0\u001b[0m\u001b[1;36m.0\u001b[0m\u001b[1m)\u001b[0m,\n",
       "                            \u001b[1;35mTopLogprob\u001b[0m\u001b[1m(\u001b[0m\u001b[33mtoken\u001b[0m=\u001b[32m'ury'\u001b[0m, \u001b[33mbytes\u001b[0m=\u001b[1m[\u001b[0m\u001b[1;36m117\u001b[0m, \u001b[1;36m114\u001b[0m, \u001b[1;36m121\u001b[0m\u001b[1m]\u001b[0m, \u001b[33mlogprob\u001b[0m=\u001b[1;36m-17.271332\u001b[0m\u001b[1m)\u001b[0m,\n",
       "                            \u001b[1;35mTopLogprob\u001b[0m\u001b[1m(\u001b[0m\u001b[33mtoken\u001b[0m=\u001b[32m'cur'\u001b[0m, \u001b[33mbytes\u001b[0m=\u001b[1m[\u001b[0m\u001b[1;36m99\u001b[0m, \u001b[1;36m117\u001b[0m, \u001b[1;36m114\u001b[0m\u001b[1m]\u001b[0m, \u001b[33mlogprob\u001b[0m=\u001b[1;36m-18.114151\u001b[0m\u001b[1m)\u001b[0m,\n",
       "                            \u001b[1;35mTopLogprob\u001b[0m\u001b[1m(\u001b[0m\u001b[33mtoken\u001b[0m=\u001b[32m'uc'\u001b[0m, \u001b[33mbytes\u001b[0m=\u001b[1m[\u001b[0m\u001b[1;36m117\u001b[0m, \u001b[1;36m99\u001b[0m\u001b[1m]\u001b[0m, \u001b[33mlogprob\u001b[0m=\u001b[1;36m-18.547878\u001b[0m\u001b[1m)\u001b[0m,\n",
       "                            \u001b[1;35mTopLogprob\u001b[0m\u001b[1m(\u001b[0m\n",
       "                                \u001b[33mtoken\u001b[0m=\u001b[32m' Mercury'\u001b[0m,\n",
       "                                \u001b[33mbytes\u001b[0m=\u001b[1m[\u001b[0m\u001b[1;36m32\u001b[0m, \u001b[1;36m77\u001b[0m, \u001b[1;36m101\u001b[0m, \u001b[1;36m114\u001b[0m, \u001b[1;36m99\u001b[0m, \u001b[1;36m117\u001b[0m, \u001b[1;36m114\u001b[0m, \u001b[1;36m121\u001b[0m\u001b[1m]\u001b[0m,\n",
       "                                \u001b[33mlogprob\u001b[0m=\u001b[1;36m-20.207407\u001b[0m\n",
       "                            \u001b[1m)\u001b[0m\n",
       "                        \u001b[1m]\u001b[0m\n",
       "                    \u001b[1m)\u001b[0m,\n",
       "                    \u001b[1;35mChatCompletionTokenLogprob\u001b[0m\u001b[1m(\u001b[0m\n",
       "                        \u001b[33mtoken\u001b[0m=\u001b[32m','\u001b[0m,\n",
       "                        \u001b[33mbytes\u001b[0m=\u001b[1m[\u001b[0m\u001b[1;36m44\u001b[0m\u001b[1m]\u001b[0m,\n",
       "                        \u001b[33mlogprob\u001b[0m=\u001b[1;36m-0.0057383403\u001b[0m,\n",
       "                        \u001b[33mtop_logprobs\u001b[0m=\u001b[1m[\u001b[0m\n",
       "                            \u001b[1;35mTopLogprob\u001b[0m\u001b[1m(\u001b[0m\u001b[33mtoken\u001b[0m=\u001b[32m','\u001b[0m, \u001b[33mbytes\u001b[0m=\u001b[1m[\u001b[0m\u001b[1;36m44\u001b[0m\u001b[1m]\u001b[0m, \u001b[33mlogprob\u001b[0m=\u001b[1;36m-0.0057383403\u001b[0m\u001b[1m)\u001b[0m,\n",
       "                            \u001b[1;35mTopLogprob\u001b[0m\u001b[1m(\u001b[0m\u001b[33mtoken\u001b[0m=\u001b[32m'\\n'\u001b[0m, \u001b[33mbytes\u001b[0m=\u001b[1m[\u001b[0m\u001b[1;36m10\u001b[0m\u001b[1m]\u001b[0m, \u001b[33mlogprob\u001b[0m=\u001b[1;36m-5.1852446\u001b[0m\u001b[1m)\u001b[0m,\n",
       "                            \u001b[1;35mTopLogprob\u001b[0m\u001b[1m(\u001b[0m\u001b[33mtoken\u001b[0m=\u001b[32m' \\n'\u001b[0m, \u001b[33mbytes\u001b[0m=\u001b[1m[\u001b[0m\u001b[1;36m32\u001b[0m, \u001b[1;36m10\u001b[0m\u001b[1m]\u001b[0m, \u001b[33mlogprob\u001b[0m=\u001b[1;36m-9.419543\u001b[0m\u001b[1m)\u001b[0m,\n",
       "                            \u001b[1;35mTopLogprob\u001b[0m\u001b[1m(\u001b[0m\u001b[33mtoken\u001b[0m=\u001b[32m',\\n'\u001b[0m, \u001b[33mbytes\u001b[0m=\u001b[1m[\u001b[0m\u001b[1;36m44\u001b[0m, \u001b[1;36m10\u001b[0m\u001b[1m]\u001b[0m, \u001b[33mlogprob\u001b[0m=\u001b[1;36m-10.927722\u001b[0m\u001b[1m)\u001b[0m,\n",
       "                            \u001b[1;35mTopLogprob\u001b[0m\u001b[1m(\u001b[0m\u001b[33mtoken\u001b[0m=\u001b[32m',V'\u001b[0m, \u001b[33mbytes\u001b[0m=\u001b[1m[\u001b[0m\u001b[1;36m44\u001b[0m, \u001b[1;36m86\u001b[0m\u001b[1m]\u001b[0m, \u001b[33mlogprob\u001b[0m=\u001b[1;36m-11.489453\u001b[0m\u001b[1m)\u001b[0m\n",
       "                        \u001b[1m]\u001b[0m\n",
       "                    \u001b[1m)\u001b[0m,\n",
       "                    \u001b[1;35mChatCompletionTokenLogprob\u001b[0m\u001b[1m(\u001b[0m\n",
       "                        \u001b[33mtoken\u001b[0m=\u001b[32m' Venus'\u001b[0m,\n",
       "                        \u001b[33mbytes\u001b[0m=\u001b[1m[\u001b[0m\u001b[1;36m32\u001b[0m, \u001b[1;36m86\u001b[0m, \u001b[1;36m101\u001b[0m, \u001b[1;36m110\u001b[0m, \u001b[1;36m117\u001b[0m, \u001b[1;36m115\u001b[0m\u001b[1m]\u001b[0m,\n",
       "                        \u001b[33mlogprob\u001b[0m=\u001b[1;36m-7.703444e-06\u001b[0m,\n",
       "                        \u001b[33mtop_logprobs\u001b[0m=\u001b[1m[\u001b[0m\n",
       "                            \u001b[1;35mTopLogprob\u001b[0m\u001b[1m(\u001b[0m\u001b[33mtoken\u001b[0m=\u001b[32m' Venus'\u001b[0m, \u001b[33mbytes\u001b[0m=\u001b[1m[\u001b[0m\u001b[1;36m32\u001b[0m, \u001b[1;36m86\u001b[0m, \u001b[1;36m101\u001b[0m, \u001b[1;36m110\u001b[0m, \u001b[1;36m117\u001b[0m, \u001b[1;36m115\u001b[0m\u001b[1m]\u001b[0m, \u001b[33mlogprob\u001b[0m=\u001b[1;36m-7.703444e-06\u001b[0m\u001b[1m)\u001b[0m,\n",
       "                            \u001b[1;35mTopLogprob\u001b[0m\u001b[1m(\u001b[0m\u001b[33mtoken\u001b[0m=\u001b[32m' '\u001b[0m, \u001b[33mbytes\u001b[0m=\u001b[1m[\u001b[0m\u001b[1;36m32\u001b[0m\u001b[1m]\u001b[0m, \u001b[33mlogprob\u001b[0m=\u001b[1;36m-11.961809\u001b[0m\u001b[1m)\u001b[0m,\n",
       "                            \u001b[1;35mTopLogprob\u001b[0m\u001b[1m(\u001b[0m\u001b[33mtoken\u001b[0m=\u001b[32m' \\n'\u001b[0m, \u001b[33mbytes\u001b[0m=\u001b[1m[\u001b[0m\u001b[1;36m32\u001b[0m, \u001b[1;36m10\u001b[0m\u001b[1m]\u001b[0m, \u001b[33mlogprob\u001b[0m=\u001b[1;36m-14.105684\u001b[0m\u001b[1m)\u001b[0m,\n",
       "                            \u001b[1;35mTopLogprob\u001b[0m\u001b[1m(\u001b[0m\u001b[33mtoken\u001b[0m=\u001b[32m' Mars'\u001b[0m, \u001b[33mbytes\u001b[0m=\u001b[1m[\u001b[0m\u001b[1;36m32\u001b[0m, \u001b[1;36m77\u001b[0m, \u001b[1;36m97\u001b[0m, \u001b[1;36m114\u001b[0m, \u001b[1;36m115\u001b[0m\u001b[1m]\u001b[0m, \u001b[33mlogprob\u001b[0m=\u001b[1;36m-15.172667\u001b[0m\u001b[1m)\u001b[0m,\n",
       "                            \u001b[1;35mTopLogprob\u001b[0m\u001b[1m(\u001b[0m\u001b[33mtoken\u001b[0m=\u001b[32m'  '\u001b[0m, \u001b[33mbytes\u001b[0m=\u001b[1m[\u001b[0m\u001b[1;36m32\u001b[0m, \u001b[1;36m32\u001b[0m\u001b[1m]\u001b[0m, \u001b[33mlogprob\u001b[0m=\u001b[1;36m-16.471138\u001b[0m\u001b[1m)\u001b[0m\n",
       "                        \u001b[1m]\u001b[0m\n",
       "                    \u001b[1m)\u001b[0m,\n",
       "                    \u001b[1;35mChatCompletionTokenLogprob\u001b[0m\u001b[1m(\u001b[0m\n",
       "                        \u001b[33mtoken\u001b[0m=\u001b[32m','\u001b[0m,\n",
       "                        \u001b[33mbytes\u001b[0m=\u001b[1m[\u001b[0m\u001b[1;36m44\u001b[0m\u001b[1m]\u001b[0m,\n",
       "                        \u001b[33mlogprob\u001b[0m=\u001b[1;36m-2.8160932e-06\u001b[0m,\n",
       "                        \u001b[33mtop_logprobs\u001b[0m=\u001b[1m[\u001b[0m\n",
       "                            \u001b[1;35mTopLogprob\u001b[0m\u001b[1m(\u001b[0m\u001b[33mtoken\u001b[0m=\u001b[32m','\u001b[0m, \u001b[33mbytes\u001b[0m=\u001b[1m[\u001b[0m\u001b[1;36m44\u001b[0m\u001b[1m]\u001b[0m, \u001b[33mlogprob\u001b[0m=\u001b[1;36m-2.8160932e-06\u001b[0m\u001b[1m)\u001b[0m,\n",
       "                            \u001b[1;35mTopLogprob\u001b[0m\u001b[1m(\u001b[0m\u001b[33mtoken\u001b[0m=\u001b[32m',\\n'\u001b[0m, \u001b[33mbytes\u001b[0m=\u001b[1m[\u001b[0m\u001b[1;36m44\u001b[0m, \u001b[1;36m10\u001b[0m\u001b[1m]\u001b[0m, \u001b[33mlogprob\u001b[0m=\u001b[1;36m-13.782844\u001b[0m\u001b[1m)\u001b[0m,\n",
       "                            \u001b[1;35mTopLogprob\u001b[0m\u001b[1m(\u001b[0m\u001b[33mtoken\u001b[0m=\u001b[32m' ,'\u001b[0m, \u001b[33mbytes\u001b[0m=\u001b[1m[\u001b[0m\u001b[1;36m32\u001b[0m, \u001b[1;36m44\u001b[0m\u001b[1m]\u001b[0m, \u001b[33mlogprob\u001b[0m=\u001b[1;36m-14.124192\u001b[0m\u001b[1m)\u001b[0m,\n",
       "                            \u001b[1;35mTopLogprob\u001b[0m\u001b[1m(\u001b[0m\u001b[33mtoken\u001b[0m=\u001b[32m'.'\u001b[0m, \u001b[33mbytes\u001b[0m=\u001b[1m[\u001b[0m\u001b[1;36m46\u001b[0m\u001b[1m]\u001b[0m, \u001b[33mlogprob\u001b[0m=\u001b[1;36m-14.604064\u001b[0m\u001b[1m)\u001b[0m,\n",
       "                            \u001b[1;35mTopLogprob\u001b[0m\u001b[1m(\u001b[0m\u001b[33mtoken\u001b[0m=\u001b[32m',M'\u001b[0m, \u001b[33mbytes\u001b[0m=\u001b[1m[\u001b[0m\u001b[1;36m44\u001b[0m, \u001b[1;36m77\u001b[0m\u001b[1m]\u001b[0m, \u001b[33mlogprob\u001b[0m=\u001b[1;36m-16.103325\u001b[0m\u001b[1m)\u001b[0m\n",
       "                        \u001b[1m]\u001b[0m\n",
       "                    \u001b[1m)\u001b[0m,\n",
       "                    \u001b[1;35mChatCompletionTokenLogprob\u001b[0m\u001b[1m(\u001b[0m\n",
       "                        \u001b[33mtoken\u001b[0m=\u001b[32m' Earth'\u001b[0m,\n",
       "                        \u001b[33mbytes\u001b[0m=\u001b[1m[\u001b[0m\u001b[1;36m32\u001b[0m, \u001b[1;36m69\u001b[0m, \u001b[1;36m97\u001b[0m, \u001b[1;36m114\u001b[0m, \u001b[1;36m116\u001b[0m, \u001b[1;36m104\u001b[0m\u001b[1m]\u001b[0m,\n",
       "                        \u001b[33mlogprob\u001b[0m=\u001b[1;36m-1.3856493e-06\u001b[0m,\n",
       "                        \u001b[33mtop_logprobs\u001b[0m=\u001b[1m[\u001b[0m\n",
       "                            \u001b[1;35mTopLogprob\u001b[0m\u001b[1m(\u001b[0m\u001b[33mtoken\u001b[0m=\u001b[32m' Earth'\u001b[0m, \u001b[33mbytes\u001b[0m=\u001b[1m[\u001b[0m\u001b[1;36m32\u001b[0m, \u001b[1;36m69\u001b[0m, \u001b[1;36m97\u001b[0m, \u001b[1;36m114\u001b[0m, \u001b[1;36m116\u001b[0m, \u001b[1;36m104\u001b[0m\u001b[1m]\u001b[0m, \u001b[33mlogprob\u001b[0m=\u001b[1;36m-1.3856493e-06\u001b[0m\u001b[1m)\u001b[0m,\n",
       "                            \u001b[1;35mTopLogprob\u001b[0m\u001b[1m(\u001b[0m\u001b[33mtoken\u001b[0m=\u001b[32m' Mars'\u001b[0m, \u001b[33mbytes\u001b[0m=\u001b[1m[\u001b[0m\u001b[1;36m32\u001b[0m, \u001b[1;36m77\u001b[0m, \u001b[1;36m97\u001b[0m, \u001b[1;36m114\u001b[0m, \u001b[1;36m115\u001b[0m\u001b[1m]\u001b[0m, \u001b[33mlogprob\u001b[0m=\u001b[1;36m-14.342288\u001b[0m\u001b[1m)\u001b[0m,\n",
       "                            \u001b[1;35mTopLogprob\u001b[0m\u001b[1m(\u001b[0m\u001b[33mtoken\u001b[0m=\u001b[32m' '\u001b[0m, \u001b[33mbytes\u001b[0m=\u001b[1m[\u001b[0m\u001b[1;36m32\u001b[0m\u001b[1m]\u001b[0m, \u001b[33mlogprob\u001b[0m=\u001b[1;36m-14.605254\u001b[0m\u001b[1m)\u001b[0m,\n",
       "                            \u001b[1;35mTopLogprob\u001b[0m\u001b[1m(\u001b[0m\u001b[33mtoken\u001b[0m=\u001b[32m'Earth'\u001b[0m, \u001b[33mbytes\u001b[0m=\u001b[1m[\u001b[0m\u001b[1;36m69\u001b[0m, \u001b[1;36m97\u001b[0m, \u001b[1;36m114\u001b[0m, \u001b[1;36m116\u001b[0m, \u001b[1;36m104\u001b[0m\u001b[1m]\u001b[0m, \u001b[33mlogprob\u001b[0m=\u001b[1;36m-15.350402\u001b[0m\u001b[1m)\u001b[0m,\n",
       "                            \u001b[1;35mTopLogprob\u001b[0m\u001b[1m(\u001b[0m\u001b[33mtoken\u001b[0m=\u001b[32m' E'\u001b[0m, \u001b[33mbytes\u001b[0m=\u001b[1m[\u001b[0m\u001b[1;36m32\u001b[0m, \u001b[1;36m69\u001b[0m\u001b[1m]\u001b[0m, \u001b[33mlogprob\u001b[0m=\u001b[1;36m-18.948992\u001b[0m\u001b[1m)\u001b[0m\n",
       "                        \u001b[1m]\u001b[0m\n",
       "                    \u001b[1m)\u001b[0m,\n",
       "                    \u001b[1;35mChatCompletionTokenLogprob\u001b[0m\u001b[1m(\u001b[0m\n",
       "                        \u001b[33mtoken\u001b[0m=\u001b[32m','\u001b[0m,\n",
       "                        \u001b[33mbytes\u001b[0m=\u001b[1m[\u001b[0m\u001b[1;36m44\u001b[0m\u001b[1m]\u001b[0m,\n",
       "                        \u001b[33mlogprob\u001b[0m=\u001b[1;36m-7.465036e-06\u001b[0m,\n",
       "                        \u001b[33mtop_logprobs\u001b[0m=\u001b[1m[\u001b[0m\n",
       "                            \u001b[1;35mTopLogprob\u001b[0m\u001b[1m(\u001b[0m\u001b[33mtoken\u001b[0m=\u001b[32m','\u001b[0m, \u001b[33mbytes\u001b[0m=\u001b[1m[\u001b[0m\u001b[1;36m44\u001b[0m\u001b[1m]\u001b[0m, \u001b[33mlogprob\u001b[0m=\u001b[1;36m-7.465036e-06\u001b[0m\u001b[1m)\u001b[0m,\n",
       "                            \u001b[1;35mTopLogprob\u001b[0m\u001b[1m(\u001b[0m\u001b[33mtoken\u001b[0m=\u001b[32m',\\n'\u001b[0m, \u001b[33mbytes\u001b[0m=\u001b[1m[\u001b[0m\u001b[1;36m44\u001b[0m, \u001b[1;36m10\u001b[0m\u001b[1m]\u001b[0m, \u001b[33mlogprob\u001b[0m=\u001b[1;36m-12.991686\u001b[0m\u001b[1m)\u001b[0m,\n",
       "                            \u001b[1;35mTopLogprob\u001b[0m\u001b[1m(\u001b[0m\u001b[33mtoken\u001b[0m=\u001b[32m' ,'\u001b[0m, \u001b[33mbytes\u001b[0m=\u001b[1m[\u001b[0m\u001b[1;36m32\u001b[0m, \u001b[1;36m44\u001b[0m\u001b[1m]\u001b[0m, \u001b[33mlogprob\u001b[0m=\u001b[1;36m-13.143423\u001b[0m\u001b[1m)\u001b[0m,\n",
       "                            \u001b[1;35mTopLogprob\u001b[0m\u001b[1m(\u001b[0m\u001b[33mtoken\u001b[0m=\u001b[32m'.'\u001b[0m, \u001b[33mbytes\u001b[0m=\u001b[1m[\u001b[0m\u001b[1;36m46\u001b[0m\u001b[1m]\u001b[0m, \u001b[33mlogprob\u001b[0m=\u001b[1;36m-13.576906\u001b[0m\u001b[1m)\u001b[0m,\n",
       "                            \u001b[1;35mTopLogprob\u001b[0m\u001b[1m(\u001b[0m\u001b[33mtoken\u001b[0m=\u001b[32m',M'\u001b[0m, \u001b[33mbytes\u001b[0m=\u001b[1m[\u001b[0m\u001b[1;36m44\u001b[0m, \u001b[1;36m77\u001b[0m\u001b[1m]\u001b[0m, \u001b[33mlogprob\u001b[0m=\u001b[1;36m-14.514378\u001b[0m\u001b[1m)\u001b[0m\n",
       "                        \u001b[1m]\u001b[0m\n",
       "                    \u001b[1m)\u001b[0m,\n",
       "                    \u001b[1;35mChatCompletionTokenLogprob\u001b[0m\u001b[1m(\u001b[0m\n",
       "                        \u001b[33mtoken\u001b[0m=\u001b[32m' Mars'\u001b[0m,\n",
       "                        \u001b[33mbytes\u001b[0m=\u001b[1m[\u001b[0m\u001b[1;36m32\u001b[0m, \u001b[1;36m77\u001b[0m, \u001b[1;36m97\u001b[0m, \u001b[1;36m114\u001b[0m, \u001b[1;36m115\u001b[0m\u001b[1m]\u001b[0m,\n",
       "                        \u001b[33mlogprob\u001b[0m=\u001b[1;36m-1.6240566e-06\u001b[0m,\n",
       "                        \u001b[33mtop_logprobs\u001b[0m=\u001b[1m[\u001b[0m\n",
       "                            \u001b[1;35mTopLogprob\u001b[0m\u001b[1m(\u001b[0m\u001b[33mtoken\u001b[0m=\u001b[32m' Mars'\u001b[0m, \u001b[33mbytes\u001b[0m=\u001b[1m[\u001b[0m\u001b[1;36m32\u001b[0m, \u001b[1;36m77\u001b[0m, \u001b[1;36m97\u001b[0m, \u001b[1;36m114\u001b[0m, \u001b[1;36m115\u001b[0m\u001b[1m]\u001b[0m, \u001b[33mlogprob\u001b[0m=\u001b[1;36m-1.6240566e-06\u001b[0m\u001b[1m)\u001b[0m,\n",
       "                            \u001b[1;35mTopLogprob\u001b[0m\u001b[1m(\u001b[0m\u001b[33mtoken\u001b[0m=\u001b[32m' '\u001b[0m, \u001b[33mbytes\u001b[0m=\u001b[1m[\u001b[0m\u001b[1;36m32\u001b[0m\u001b[1m]\u001b[0m, \u001b[33mlogprob\u001b[0m=\u001b[1;36m-13.402063\u001b[0m\u001b[1m)\u001b[0m,\n",
       "                            \u001b[1;35mTopLogprob\u001b[0m\u001b[1m(\u001b[0m\n",
       "                                \u001b[33mtoken\u001b[0m=\u001b[32m' Jupiter'\u001b[0m,\n",
       "                                \u001b[33mbytes\u001b[0m=\u001b[1m[\u001b[0m\u001b[1;36m32\u001b[0m, \u001b[1;36m74\u001b[0m, \u001b[1;36m117\u001b[0m, \u001b[1;36m112\u001b[0m, \u001b[1;36m105\u001b[0m, \u001b[1;36m116\u001b[0m, \u001b[1;36m101\u001b[0m, \u001b[1;36m114\u001b[0m\u001b[1m]\u001b[0m,\n",
       "                                \u001b[33mlogprob\u001b[0m=\u001b[1;36m-18.124308\u001b[0m\n",
       "                            \u001b[1m)\u001b[0m,\n",
       "                            \u001b[1;35mTopLogprob\u001b[0m\u001b[1m(\u001b[0m\u001b[33mtoken\u001b[0m=\u001b[32m' mars'\u001b[0m, \u001b[33mbytes\u001b[0m=\u001b[1m[\u001b[0m\u001b[1;36m32\u001b[0m, \u001b[1;36m109\u001b[0m, \u001b[1;36m97\u001b[0m, \u001b[1;36m114\u001b[0m, \u001b[1;36m115\u001b[0m\u001b[1m]\u001b[0m, \u001b[33mlogprob\u001b[0m=\u001b[1;36m-18.488142\u001b[0m\u001b[1m)\u001b[0m,\n",
       "                            \u001b[1;35mTopLogprob\u001b[0m\u001b[1m(\u001b[0m\u001b[33mtoken\u001b[0m=\u001b[32m' Mar'\u001b[0m, \u001b[33mbytes\u001b[0m=\u001b[1m[\u001b[0m\u001b[1;36m32\u001b[0m, \u001b[1;36m77\u001b[0m, \u001b[1;36m97\u001b[0m, \u001b[1;36m114\u001b[0m\u001b[1m]\u001b[0m, \u001b[33mlogprob\u001b[0m=\u001b[1;36m-18.813066\u001b[0m\u001b[1m)\u001b[0m\n",
       "                        \u001b[1m]\u001b[0m\n",
       "                    \u001b[1m)\u001b[0m,\n",
       "                    \u001b[1;35mChatCompletionTokenLogprob\u001b[0m\u001b[1m(\u001b[0m\n",
       "                        \u001b[33mtoken\u001b[0m=\u001b[32m','\u001b[0m,\n",
       "                        \u001b[33mbytes\u001b[0m=\u001b[1m[\u001b[0m\u001b[1;36m44\u001b[0m\u001b[1m]\u001b[0m,\n",
       "                        \u001b[33mlogprob\u001b[0m=\u001b[1;36m-9.014684e-06\u001b[0m,\n",
       "                        \u001b[33mtop_logprobs\u001b[0m=\u001b[1m[\u001b[0m\n",
       "                            \u001b[1;35mTopLogprob\u001b[0m\u001b[1m(\u001b[0m\u001b[33mtoken\u001b[0m=\u001b[32m','\u001b[0m, \u001b[33mbytes\u001b[0m=\u001b[1m[\u001b[0m\u001b[1;36m44\u001b[0m\u001b[1m]\u001b[0m, \u001b[33mlogprob\u001b[0m=\u001b[1;36m-9.014684e-06\u001b[0m\u001b[1m)\u001b[0m,\n",
       "                            \u001b[1;35mTopLogprob\u001b[0m\u001b[1m(\u001b[0m\u001b[33mtoken\u001b[0m=\u001b[32m',\\n'\u001b[0m, \u001b[33mbytes\u001b[0m=\u001b[1m[\u001b[0m\u001b[1;36m44\u001b[0m, \u001b[1;36m10\u001b[0m\u001b[1m]\u001b[0m, \u001b[33mlogprob\u001b[0m=\u001b[1;36m-12.120347\u001b[0m\u001b[1m)\u001b[0m,\n",
       "                            \u001b[1;35mTopLogprob\u001b[0m\u001b[1m(\u001b[0m\u001b[33mtoken\u001b[0m=\u001b[32m' ,'\u001b[0m, \u001b[33mbytes\u001b[0m=\u001b[1m[\u001b[0m\u001b[1;36m32\u001b[0m, \u001b[1;36m44\u001b[0m\u001b[1m]\u001b[0m, \u001b[33mlogprob\u001b[0m=\u001b[1;36m-13.935138\u001b[0m\u001b[1m)\u001b[0m,\n",
       "                            \u001b[1;35mTopLogprob\u001b[0m\u001b[1m(\u001b[0m\u001b[33mtoken\u001b[0m=\u001b[32m'\\n'\u001b[0m, \u001b[33mbytes\u001b[0m=\u001b[1m[\u001b[0m\u001b[1;36m10\u001b[0m\u001b[1m]\u001b[0m, \u001b[33mlogprob\u001b[0m=\u001b[1;36m-14.009761\u001b[0m\u001b[1m)\u001b[0m,\n",
       "                            \u001b[1;35mTopLogprob\u001b[0m\u001b[1m(\u001b[0m\n",
       "                                \u001b[33mtoken\u001b[0m=\u001b[32m' Jupiter'\u001b[0m,\n",
       "                                \u001b[33mbytes\u001b[0m=\u001b[1m[\u001b[0m\u001b[1;36m32\u001b[0m, \u001b[1;36m74\u001b[0m, \u001b[1;36m117\u001b[0m, \u001b[1;36m112\u001b[0m, \u001b[1;36m105\u001b[0m, \u001b[1;36m116\u001b[0m, \u001b[1;36m101\u001b[0m, \u001b[1;36m114\u001b[0m\u001b[1m]\u001b[0m,\n",
       "                                \u001b[33mlogprob\u001b[0m=\u001b[1;36m-14.551078\u001b[0m\n",
       "                            \u001b[1m)\u001b[0m\n",
       "                        \u001b[1m]\u001b[0m\n",
       "                    \u001b[1m)\u001b[0m,\n",
       "                    \u001b[1;35mChatCompletionTokenLogprob\u001b[0m\u001b[1m(\u001b[0m\n",
       "                        \u001b[33mtoken\u001b[0m=\u001b[32m' Jupiter'\u001b[0m,\n",
       "                        \u001b[33mbytes\u001b[0m=\u001b[1m[\u001b[0m\u001b[1;36m32\u001b[0m, \u001b[1;36m74\u001b[0m, \u001b[1;36m117\u001b[0m, \u001b[1;36m112\u001b[0m, \u001b[1;36m105\u001b[0m, \u001b[1;36m116\u001b[0m, \u001b[1;36m101\u001b[0m, \u001b[1;36m114\u001b[0m\u001b[1m]\u001b[0m,\n",
       "                        \u001b[33mlogprob\u001b[0m=\u001b[1;36m-6.511407e-06\u001b[0m,\n",
       "                        \u001b[33mtop_logprobs\u001b[0m=\u001b[1m[\u001b[0m\n",
       "                            \u001b[1;35mTopLogprob\u001b[0m\u001b[1m(\u001b[0m\n",
       "                                \u001b[33mtoken\u001b[0m=\u001b[32m' Jupiter'\u001b[0m,\n",
       "                                \u001b[33mbytes\u001b[0m=\u001b[1m[\u001b[0m\u001b[1;36m32\u001b[0m, \u001b[1;36m74\u001b[0m, \u001b[1;36m117\u001b[0m, \u001b[1;36m112\u001b[0m, \u001b[1;36m105\u001b[0m, \u001b[1;36m116\u001b[0m, \u001b[1;36m101\u001b[0m, \u001b[1;36m114\u001b[0m\u001b[1m]\u001b[0m,\n",
       "                                \u001b[33mlogprob\u001b[0m=\u001b[1;36m-6.511407e-06\u001b[0m\n",
       "                            \u001b[1m)\u001b[0m,\n",
       "                            \u001b[1;35mTopLogprob\u001b[0m\u001b[1m(\u001b[0m\u001b[33mtoken\u001b[0m=\u001b[32m' '\u001b[0m, \u001b[33mbytes\u001b[0m=\u001b[1m[\u001b[0m\u001b[1;36m32\u001b[0m\u001b[1m]\u001b[0m, \u001b[33mlogprob\u001b[0m=\u001b[1;36m-12.1744585\u001b[0m\u001b[1m)\u001b[0m,\n",
       "                            \u001b[1;35mTopLogprob\u001b[0m\u001b[1m(\u001b[0m\n",
       "                                \u001b[33mtoken\u001b[0m=\u001b[32m' Saturn'\u001b[0m,\n",
       "                                \u001b[33mbytes\u001b[0m=\u001b[1m[\u001b[0m\u001b[1;36m32\u001b[0m, \u001b[1;36m83\u001b[0m, \u001b[1;36m97\u001b[0m, \u001b[1;36m116\u001b[0m, \u001b[1;36m117\u001b[0m, \u001b[1;36m114\u001b[0m, \u001b[1;36m110\u001b[0m\u001b[1m]\u001b[0m,\n",
       "                                \u001b[33mlogprob\u001b[0m=\u001b[1;36m-13.88033\u001b[0m\n",
       "                            \u001b[1m)\u001b[0m,\n",
       "                            \u001b[1;35mTopLogprob\u001b[0m\u001b[1m(\u001b[0m\u001b[33mtoken\u001b[0m=\u001b[32m' \\n'\u001b[0m, \u001b[33mbytes\u001b[0m=\u001b[1m[\u001b[0m\u001b[1;36m32\u001b[0m, \u001b[1;36m10\u001b[0m\u001b[1m]\u001b[0m, \u001b[33mlogprob\u001b[0m=\u001b[1;36m-15.721894\u001b[0m\u001b[1m)\u001b[0m,\n",
       "                            \u001b[1;35mTopLogprob\u001b[0m\u001b[1m(\u001b[0m\u001b[33mtoken\u001b[0m=\u001b[32m' J'\u001b[0m, \u001b[33mbytes\u001b[0m=\u001b[1m[\u001b[0m\u001b[1;36m32\u001b[0m, \u001b[1;36m74\u001b[0m\u001b[1m]\u001b[0m, \u001b[33mlogprob\u001b[0m=\u001b[1;36m-16.877975\u001b[0m\u001b[1m)\u001b[0m\n",
       "                        \u001b[1m]\u001b[0m\n",
       "                    \u001b[1m)\u001b[0m,\n",
       "                    \u001b[1;35mChatCompletionTokenLogprob\u001b[0m\u001b[1m(\u001b[0m\n",
       "                        \u001b[33mtoken\u001b[0m=\u001b[32m','\u001b[0m,\n",
       "                        \u001b[33mbytes\u001b[0m=\u001b[1m[\u001b[0m\u001b[1;36m44\u001b[0m\u001b[1m]\u001b[0m,\n",
       "                        \u001b[33mlogprob\u001b[0m=\u001b[1;36m-4.00813e-06\u001b[0m,\n",
       "                        \u001b[33mtop_logprobs\u001b[0m=\u001b[1m[\u001b[0m\n",
       "                            \u001b[1;35mTopLogprob\u001b[0m\u001b[1m(\u001b[0m\u001b[33mtoken\u001b[0m=\u001b[32m','\u001b[0m, \u001b[33mbytes\u001b[0m=\u001b[1m[\u001b[0m\u001b[1;36m44\u001b[0m\u001b[1m]\u001b[0m, \u001b[33mlogprob\u001b[0m=\u001b[1;36m-4.00813e-06\u001b[0m\u001b[1m)\u001b[0m,\n",
       "                            \u001b[1;35mTopLogprob\u001b[0m\u001b[1m(\u001b[0m\u001b[33mtoken\u001b[0m=\u001b[32m',\\n'\u001b[0m, \u001b[33mbytes\u001b[0m=\u001b[1m[\u001b[0m\u001b[1;36m44\u001b[0m, \u001b[1;36m10\u001b[0m\u001b[1m]\u001b[0m, \u001b[33mlogprob\u001b[0m=\u001b[1;36m-13.130329\u001b[0m\u001b[1m)\u001b[0m,\n",
       "                            \u001b[1;35mTopLogprob\u001b[0m\u001b[1m(\u001b[0m\u001b[33mtoken\u001b[0m=\u001b[32m' ,'\u001b[0m, \u001b[33mbytes\u001b[0m=\u001b[1m[\u001b[0m\u001b[1;36m32\u001b[0m, \u001b[1;36m44\u001b[0m\u001b[1m]\u001b[0m, \u001b[33mlogprob\u001b[0m=\u001b[1;36m-13.775162\u001b[0m\u001b[1m)\u001b[0m,\n",
       "                            \u001b[1;35mTopLogprob\u001b[0m\u001b[1m(\u001b[0m\u001b[33mtoken\u001b[0m=\u001b[32m',S'\u001b[0m, \u001b[33mbytes\u001b[0m=\u001b[1m[\u001b[0m\u001b[1;36m44\u001b[0m, \u001b[1;36m83\u001b[0m\u001b[1m]\u001b[0m, \u001b[33mlogprob\u001b[0m=\u001b[1;36m-15.022457\u001b[0m\u001b[1m)\u001b[0m,\n",
       "                            \u001b[1;35mTopLogprob\u001b[0m\u001b[1m(\u001b[0m\u001b[33mtoken\u001b[0m=\u001b[32m'\\n'\u001b[0m, \u001b[33mbytes\u001b[0m=\u001b[1m[\u001b[0m\u001b[1;36m10\u001b[0m\u001b[1m]\u001b[0m, \u001b[33mlogprob\u001b[0m=\u001b[1;36m-15.201521\u001b[0m\u001b[1m)\u001b[0m\n",
       "                        \u001b[1m]\u001b[0m\n",
       "                    \u001b[1m)\u001b[0m,\n",
       "                    \u001b[1;35mChatCompletionTokenLogprob\u001b[0m\u001b[1m(\u001b[0m\n",
       "                        \u001b[33mtoken\u001b[0m=\u001b[32m' Saturn'\u001b[0m,\n",
       "                        \u001b[33mbytes\u001b[0m=\u001b[1m[\u001b[0m\u001b[1;36m32\u001b[0m, \u001b[1;36m83\u001b[0m, \u001b[1;36m97\u001b[0m, \u001b[1;36m116\u001b[0m, \u001b[1;36m117\u001b[0m, \u001b[1;36m114\u001b[0m, \u001b[1;36m110\u001b[0m\u001b[1m]\u001b[0m,\n",
       "                        \u001b[33mlogprob\u001b[0m=\u001b[1;36m-7.89631e-07\u001b[0m,\n",
       "                        \u001b[33mtop_logprobs\u001b[0m=\u001b[1m[\u001b[0m\n",
       "                            \u001b[1;35mTopLogprob\u001b[0m\u001b[1m(\u001b[0m\n",
       "                                \u001b[33mtoken\u001b[0m=\u001b[32m' Saturn'\u001b[0m,\n",
       "                                \u001b[33mbytes\u001b[0m=\u001b[1m[\u001b[0m\u001b[1;36m32\u001b[0m, \u001b[1;36m83\u001b[0m, \u001b[1;36m97\u001b[0m, \u001b[1;36m116\u001b[0m, \u001b[1;36m117\u001b[0m, \u001b[1;36m114\u001b[0m, \u001b[1;36m110\u001b[0m\u001b[1m]\u001b[0m,\n",
       "                                \u001b[33mlogprob\u001b[0m=\u001b[1;36m-7.89631e-07\u001b[0m\n",
       "                            \u001b[1m)\u001b[0m,\n",
       "                            \u001b[1;35mTopLogprob\u001b[0m\u001b[1m(\u001b[0m\u001b[33mtoken\u001b[0m=\u001b[32m' '\u001b[0m, \u001b[33mbytes\u001b[0m=\u001b[1m[\u001b[0m\u001b[1;36m32\u001b[0m\u001b[1m]\u001b[0m, \u001b[33mlogprob\u001b[0m=\u001b[1;36m-14.184451\u001b[0m\u001b[1m)\u001b[0m,\n",
       "                            \u001b[1;35mTopLogprob\u001b[0m\u001b[1m(\u001b[0m\u001b[33mtoken\u001b[0m=\u001b[32m' Sat'\u001b[0m, \u001b[33mbytes\u001b[0m=\u001b[1m[\u001b[0m\u001b[1;36m32\u001b[0m, \u001b[1;36m83\u001b[0m, \u001b[1;36m97\u001b[0m, \u001b[1;36m116\u001b[0m\u001b[1m]\u001b[0m, \u001b[33mlogprob\u001b[0m=\u001b[1;36m-16.732485\u001b[0m\u001b[1m)\u001b[0m,\n",
       "                            \u001b[1;35mTopLogprob\u001b[0m\u001b[1m(\u001b[0m\n",
       "                                \u001b[33mtoken\u001b[0m=\u001b[32m' Neptune'\u001b[0m,\n",
       "                                \u001b[33mbytes\u001b[0m=\u001b[1m[\u001b[0m\u001b[1;36m32\u001b[0m, \u001b[1;36m78\u001b[0m, \u001b[1;36m101\u001b[0m, \u001b[1;36m112\u001b[0m, \u001b[1;36m116\u001b[0m, \u001b[1;36m117\u001b[0m, \u001b[1;36m110\u001b[0m, \u001b[1;36m101\u001b[0m\u001b[1m]\u001b[0m,\n",
       "                                \u001b[33mlogprob\u001b[0m=\u001b[1;36m-18.147596\u001b[0m\n",
       "                            \u001b[1m)\u001b[0m,\n",
       "                            \u001b[1;35mTopLogprob\u001b[0m\u001b[1m(\u001b[0m\u001b[33mtoken\u001b[0m=\u001b[32m' S'\u001b[0m, \u001b[33mbytes\u001b[0m=\u001b[1m[\u001b[0m\u001b[1;36m32\u001b[0m, \u001b[1;36m83\u001b[0m\u001b[1m]\u001b[0m, \u001b[33mlogprob\u001b[0m=\u001b[1;36m-18.29653\u001b[0m\u001b[1m)\u001b[0m\n",
       "                        \u001b[1m]\u001b[0m\n",
       "                    \u001b[1m)\u001b[0m,\n",
       "                    \u001b[1;35mChatCompletionTokenLogprob\u001b[0m\u001b[1m(\u001b[0m\n",
       "                        \u001b[33mtoken\u001b[0m=\u001b[32m','\u001b[0m,\n",
       "                        \u001b[33mbytes\u001b[0m=\u001b[1m[\u001b[0m\u001b[1;36m44\u001b[0m\u001b[1m]\u001b[0m,\n",
       "                        \u001b[33mlogprob\u001b[0m=\u001b[1;36m-7.465036e-06\u001b[0m,\n",
       "                        \u001b[33mtop_logprobs\u001b[0m=\u001b[1m[\u001b[0m\n",
       "                            \u001b[1;35mTopLogprob\u001b[0m\u001b[1m(\u001b[0m\u001b[33mtoken\u001b[0m=\u001b[32m','\u001b[0m, \u001b[33mbytes\u001b[0m=\u001b[1m[\u001b[0m\u001b[1;36m44\u001b[0m\u001b[1m]\u001b[0m, \u001b[33mlogprob\u001b[0m=\u001b[1;36m-7.465036e-06\u001b[0m\u001b[1m)\u001b[0m,\n",
       "                            \u001b[1;35mTopLogprob\u001b[0m\u001b[1m(\u001b[0m\u001b[33mtoken\u001b[0m=\u001b[32m',\\n'\u001b[0m, \u001b[33mbytes\u001b[0m=\u001b[1m[\u001b[0m\u001b[1;36m44\u001b[0m, \u001b[1;36m10\u001b[0m\u001b[1m]\u001b[0m, \u001b[33mlogprob\u001b[0m=\u001b[1;36m-12.525568\u001b[0m\u001b[1m)\u001b[0m,\n",
       "                            \u001b[1;35mTopLogprob\u001b[0m\u001b[1m(\u001b[0m\u001b[33mtoken\u001b[0m=\u001b[32m' ,'\u001b[0m, \u001b[33mbytes\u001b[0m=\u001b[1m[\u001b[0m\u001b[1;36m32\u001b[0m, \u001b[1;36m44\u001b[0m\u001b[1m]\u001b[0m, \u001b[33mlogprob\u001b[0m=\u001b[1;36m-12.971264\u001b[0m\u001b[1m)\u001b[0m,\n",
       "                            \u001b[1;35mTopLogprob\u001b[0m\u001b[1m(\u001b[0m\u001b[33mtoken\u001b[0m=\u001b[32m'.'\u001b[0m, \u001b[33mbytes\u001b[0m=\u001b[1m[\u001b[0m\u001b[1;36m46\u001b[0m\u001b[1m]\u001b[0m, \u001b[33mlogprob\u001b[0m=\u001b[1;36m-14.6729145\u001b[0m\u001b[1m)\u001b[0m,\n",
       "                            \u001b[1;35mTopLogprob\u001b[0m\u001b[1m(\u001b[0m\u001b[33mtoken\u001b[0m=\u001b[32m'\\n'\u001b[0m, \u001b[33mbytes\u001b[0m=\u001b[1m[\u001b[0m\u001b[1;36m10\u001b[0m\u001b[1m]\u001b[0m, \u001b[33mlogprob\u001b[0m=\u001b[1;36m-15.268833\u001b[0m\u001b[1m)\u001b[0m\n",
       "                        \u001b[1m]\u001b[0m\n",
       "                    \u001b[1m)\u001b[0m,\n",
       "                    \u001b[1;35mChatCompletionTokenLogprob\u001b[0m\u001b[1m(\u001b[0m\n",
       "                        \u001b[33mtoken\u001b[0m=\u001b[32m' Uran'\u001b[0m,\n",
       "                        \u001b[33mbytes\u001b[0m=\u001b[1m[\u001b[0m\u001b[1;36m32\u001b[0m, \u001b[1;36m85\u001b[0m, \u001b[1;36m114\u001b[0m, \u001b[1;36m97\u001b[0m, \u001b[1;36m110\u001b[0m\u001b[1m]\u001b[0m,\n",
       "                        \u001b[33mlogprob\u001b[0m=\u001b[1;36m-3.5477897e-05\u001b[0m,\n",
       "                        \u001b[33mtop_logprobs\u001b[0m=\u001b[1m[\u001b[0m\n",
       "                            \u001b[1;35mTopLogprob\u001b[0m\u001b[1m(\u001b[0m\u001b[33mtoken\u001b[0m=\u001b[32m' Uran'\u001b[0m, \u001b[33mbytes\u001b[0m=\u001b[1m[\u001b[0m\u001b[1;36m32\u001b[0m, \u001b[1;36m85\u001b[0m, \u001b[1;36m114\u001b[0m, \u001b[1;36m97\u001b[0m, \u001b[1;36m110\u001b[0m\u001b[1m]\u001b[0m, \u001b[33mlogprob\u001b[0m=\u001b[1;36m-3.5477897e-05\u001b[0m\u001b[1m)\u001b[0m,\n",
       "                            \u001b[1;35mTopLogprob\u001b[0m\u001b[1m(\u001b[0m\n",
       "                                \u001b[33mtoken\u001b[0m=\u001b[32m' Neptune'\u001b[0m,\n",
       "                                \u001b[33mbytes\u001b[0m=\u001b[1m[\u001b[0m\u001b[1;36m32\u001b[0m, \u001b[1;36m78\u001b[0m, \u001b[1;36m101\u001b[0m, \u001b[1;36m112\u001b[0m, \u001b[1;36m116\u001b[0m, \u001b[1;36m117\u001b[0m, \u001b[1;36m110\u001b[0m, \u001b[1;36m101\u001b[0m\u001b[1m]\u001b[0m,\n",
       "                                \u001b[33mlogprob\u001b[0m=\u001b[1;36m-10.509114\u001b[0m\n",
       "                            \u001b[1m)\u001b[0m,\n",
       "                            \u001b[1;35mTopLogprob\u001b[0m\u001b[1m(\u001b[0m\u001b[33mtoken\u001b[0m=\u001b[32m' '\u001b[0m, \u001b[33mbytes\u001b[0m=\u001b[1m[\u001b[0m\u001b[1;36m32\u001b[0m\u001b[1m]\u001b[0m, \u001b[33mlogprob\u001b[0m=\u001b[1;36m-11.771441\u001b[0m\u001b[1m)\u001b[0m,\n",
       "                            \u001b[1;35mTopLogprob\u001b[0m\u001b[1m(\u001b[0m\u001b[33mtoken\u001b[0m=\u001b[32m' Ur'\u001b[0m, \u001b[33mbytes\u001b[0m=\u001b[1m[\u001b[0m\u001b[1;36m32\u001b[0m, \u001b[1;36m85\u001b[0m, \u001b[1;36m114\u001b[0m\u001b[1m]\u001b[0m, \u001b[33mlogprob\u001b[0m=\u001b[1;36m-16.197191\u001b[0m\u001b[1m)\u001b[0m,\n",
       "                            \u001b[1;35mTopLogprob\u001b[0m\u001b[1m(\u001b[0m\u001b[33mtoken\u001b[0m=\u001b[32m' \\n'\u001b[0m, \u001b[33mbytes\u001b[0m=\u001b[1m[\u001b[0m\u001b[1;36m32\u001b[0m, \u001b[1;36m10\u001b[0m\u001b[1m]\u001b[0m, \u001b[33mlogprob\u001b[0m=\u001b[1;36m-16.359787\u001b[0m\u001b[1m)\u001b[0m\n",
       "                        \u001b[1m]\u001b[0m\n",
       "                    \u001b[1m)\u001b[0m,\n",
       "                    \u001b[1;35mChatCompletionTokenLogprob\u001b[0m\u001b[1m(\u001b[0m\n",
       "                        \u001b[33mtoken\u001b[0m=\u001b[32m'us'\u001b[0m,\n",
       "                        \u001b[33mbytes\u001b[0m=\u001b[1m[\u001b[0m\u001b[1;36m117\u001b[0m, \u001b[1;36m115\u001b[0m\u001b[1m]\u001b[0m,\n",
       "                        \u001b[33mlogprob\u001b[0m=\u001b[1;36m-1.3067608e-05\u001b[0m,\n",
       "                        \u001b[33mtop_logprobs\u001b[0m=\u001b[1m[\u001b[0m\n",
       "                            \u001b[1;35mTopLogprob\u001b[0m\u001b[1m(\u001b[0m\u001b[33mtoken\u001b[0m=\u001b[32m'us'\u001b[0m, \u001b[33mbytes\u001b[0m=\u001b[1m[\u001b[0m\u001b[1;36m117\u001b[0m, \u001b[1;36m115\u001b[0m\u001b[1m]\u001b[0m, \u001b[33mlogprob\u001b[0m=\u001b[1;36m-1.3067608e-05\u001b[0m\u001b[1m)\u001b[0m,\n",
       "                            \u001b[1;35mTopLogprob\u001b[0m\u001b[1m(\u001b[0m\u001b[33mtoken\u001b[0m=\u001b[32m'u'\u001b[0m, \u001b[33mbytes\u001b[0m=\u001b[1m[\u001b[0m\u001b[1;36m117\u001b[0m\u001b[1m]\u001b[0m, \u001b[33mlogprob\u001b[0m=\u001b[1;36m-12.654243\u001b[0m\u001b[1m)\u001b[0m,\n",
       "                            \u001b[1;35mTopLogprob\u001b[0m\u001b[1m(\u001b[0m\u001b[33mtoken\u001b[0m=\u001b[32m'is'\u001b[0m, \u001b[33mbytes\u001b[0m=\u001b[1m[\u001b[0m\u001b[1;36m105\u001b[0m, \u001b[1;36m115\u001b[0m\u001b[1m]\u001b[0m, \u001b[33mlogprob\u001b[0m=\u001b[1;36m-12.803968\u001b[0m\u001b[1m)\u001b[0m,\n",
       "                            \u001b[1;35mTopLogprob\u001b[0m\u001b[1m(\u001b[0m\u001b[33mtoken\u001b[0m=\u001b[32m'as'\u001b[0m, \u001b[33mbytes\u001b[0m=\u001b[1m[\u001b[0m\u001b[1;36m97\u001b[0m, \u001b[1;36m115\u001b[0m\u001b[1m]\u001b[0m, \u001b[33mlogprob\u001b[0m=\u001b[1;36m-13.4831505\u001b[0m\u001b[1m)\u001b[0m,\n",
       "                            \u001b[1;35mTopLogprob\u001b[0m\u001b[1m(\u001b[0m\u001b[33mtoken\u001b[0m=\u001b[32m'os'\u001b[0m, \u001b[33mbytes\u001b[0m=\u001b[1m[\u001b[0m\u001b[1;36m111\u001b[0m, \u001b[1;36m115\u001b[0m\u001b[1m]\u001b[0m, \u001b[33mlogprob\u001b[0m=\u001b[1;36m-13.868574\u001b[0m\u001b[1m)\u001b[0m\n",
       "                        \u001b[1m]\u001b[0m\n",
       "                    \u001b[1m)\u001b[0m,\n",
       "                    \u001b[1;35mChatCompletionTokenLogprob\u001b[0m\u001b[1m(\u001b[0m\n",
       "                        \u001b[33mtoken\u001b[0m=\u001b[32m','\u001b[0m,\n",
       "                        \u001b[33mbytes\u001b[0m=\u001b[1m[\u001b[0m\u001b[1;36m44\u001b[0m\u001b[1m]\u001b[0m,\n",
       "                        \u001b[33mlogprob\u001b[0m=\u001b[1;36m-3.0471343e-05\u001b[0m,\n",
       "                        \u001b[33mtop_logprobs\u001b[0m=\u001b[1m[\u001b[0m\n",
       "                            \u001b[1;35mTopLogprob\u001b[0m\u001b[1m(\u001b[0m\u001b[33mtoken\u001b[0m=\u001b[32m','\u001b[0m, \u001b[33mbytes\u001b[0m=\u001b[1m[\u001b[0m\u001b[1;36m44\u001b[0m\u001b[1m]\u001b[0m, \u001b[33mlogprob\u001b[0m=\u001b[1;36m-3.0471343e-05\u001b[0m\u001b[1m)\u001b[0m,\n",
       "                            \u001b[1;35mTopLogprob\u001b[0m\u001b[1m(\u001b[0m\u001b[33mtoken\u001b[0m=\u001b[32m' and'\u001b[0m, \u001b[33mbytes\u001b[0m=\u001b[1m[\u001b[0m\u001b[1;36m32\u001b[0m, \u001b[1;36m97\u001b[0m, \u001b[1;36m110\u001b[0m, \u001b[1;36m100\u001b[0m\u001b[1m]\u001b[0m, \u001b[33mlogprob\u001b[0m=\u001b[1;36m-10.424301\u001b[0m\u001b[1m)\u001b[0m,\n",
       "                            \u001b[1;35mTopLogprob\u001b[0m\u001b[1m(\u001b[0m\u001b[33mtoken\u001b[0m=\u001b[32m',\\n'\u001b[0m, \u001b[33mbytes\u001b[0m=\u001b[1m[\u001b[0m\u001b[1;36m44\u001b[0m, \u001b[1;36m10\u001b[0m\u001b[1m]\u001b[0m, \u001b[33mlogprob\u001b[0m=\u001b[1;36m-15.263325\u001b[0m\u001b[1m)\u001b[0m,\n",
       "                            \u001b[1;35mTopLogprob\u001b[0m\u001b[1m(\u001b[0m\u001b[33mtoken\u001b[0m=\u001b[32m' ,'\u001b[0m, \u001b[33mbytes\u001b[0m=\u001b[1m[\u001b[0m\u001b[1;36m32\u001b[0m, \u001b[1;36m44\u001b[0m\u001b[1m]\u001b[0m, \u001b[33mlogprob\u001b[0m=\u001b[1;36m-15.344509\u001b[0m\u001b[1m)\u001b[0m,\n",
       "                            \u001b[1;35mTopLogprob\u001b[0m\u001b[1m(\u001b[0m\u001b[33mtoken\u001b[0m=\u001b[32m',and'\u001b[0m, \u001b[33mbytes\u001b[0m=\u001b[1m[\u001b[0m\u001b[1;36m44\u001b[0m, \u001b[1;36m97\u001b[0m, \u001b[1;36m110\u001b[0m, \u001b[1;36m100\u001b[0m\u001b[1m]\u001b[0m, \u001b[33mlogprob\u001b[0m=\u001b[1;36m-15.558033\u001b[0m\u001b[1m)\u001b[0m\n",
       "                        \u001b[1m]\u001b[0m\n",
       "                    \u001b[1m)\u001b[0m,\n",
       "                    \u001b[1;35mChatCompletionTokenLogprob\u001b[0m\u001b[1m(\u001b[0m\n",
       "                        \u001b[33mtoken\u001b[0m=\u001b[32m' Neptune'\u001b[0m,\n",
       "                        \u001b[33mbytes\u001b[0m=\u001b[1m[\u001b[0m\u001b[1;36m32\u001b[0m, \u001b[1;36m78\u001b[0m, \u001b[1;36m101\u001b[0m, \u001b[1;36m112\u001b[0m, \u001b[1;36m116\u001b[0m, \u001b[1;36m117\u001b[0m, \u001b[1;36m110\u001b[0m, \u001b[1;36m101\u001b[0m\u001b[1m]\u001b[0m,\n",
       "                        \u001b[33mlogprob\u001b[0m=\u001b[1;36m-0.0067509008\u001b[0m,\n",
       "                        \u001b[33mtop_logprobs\u001b[0m=\u001b[1m[\u001b[0m\n",
       "                            \u001b[1;35mTopLogprob\u001b[0m\u001b[1m(\u001b[0m\n",
       "                                \u001b[33mtoken\u001b[0m=\u001b[32m' Neptune'\u001b[0m,\n",
       "                                \u001b[33mbytes\u001b[0m=\u001b[1m[\u001b[0m\u001b[1;36m32\u001b[0m, \u001b[1;36m78\u001b[0m, \u001b[1;36m101\u001b[0m, \u001b[1;36m112\u001b[0m, \u001b[1;36m116\u001b[0m, \u001b[1;36m117\u001b[0m, \u001b[1;36m110\u001b[0m, \u001b[1;36m101\u001b[0m\u001b[1m]\u001b[0m,\n",
       "                                \u001b[33mlogprob\u001b[0m=\u001b[1;36m-0.0067509008\u001b[0m\n",
       "                            \u001b[1m)\u001b[0m,\n",
       "                            \u001b[1;35mTopLogprob\u001b[0m\u001b[1m(\u001b[0m\u001b[33mtoken\u001b[0m=\u001b[32m' and'\u001b[0m, \u001b[33mbytes\u001b[0m=\u001b[1m[\u001b[0m\u001b[1;36m32\u001b[0m, \u001b[1;36m97\u001b[0m, \u001b[1;36m110\u001b[0m, \u001b[1;36m100\u001b[0m\u001b[1m]\u001b[0m, \u001b[33mlogprob\u001b[0m=\u001b[1;36m-5.005843\u001b[0m\u001b[1m)\u001b[0m,\n",
       "                            \u001b[1;35mTopLogprob\u001b[0m\u001b[1m(\u001b[0m\u001b[33mtoken\u001b[0m=\u001b[32m' '\u001b[0m, \u001b[33mbytes\u001b[0m=\u001b[1m[\u001b[0m\u001b[1;36m32\u001b[0m\u001b[1m]\u001b[0m, \u001b[33mlogprob\u001b[0m=\u001b[1;36m-10.953055\u001b[0m\u001b[1m)\u001b[0m,\n",
       "                            \u001b[1;35mTopLogprob\u001b[0m\u001b[1m(\u001b[0m\u001b[33mtoken\u001b[0m=\u001b[32m' Ne'\u001b[0m, \u001b[33mbytes\u001b[0m=\u001b[1m[\u001b[0m\u001b[1;36m32\u001b[0m, \u001b[1;36m78\u001b[0m, \u001b[1;36m101\u001b[0m\u001b[1m]\u001b[0m, \u001b[33mlogprob\u001b[0m=\u001b[1;36m-11.483464\u001b[0m\u001b[1m)\u001b[0m,\n",
       "                            \u001b[1;35mTopLogprob\u001b[0m\u001b[1m(\u001b[0m\u001b[33mtoken\u001b[0m=\u001b[32m'Ne'\u001b[0m, \u001b[33mbytes\u001b[0m=\u001b[1m[\u001b[0m\u001b[1;36m78\u001b[0m, \u001b[1;36m101\u001b[0m\u001b[1m]\u001b[0m, \u001b[33mlogprob\u001b[0m=\u001b[1;36m-13.798982\u001b[0m\u001b[1m)\u001b[0m\n",
       "                        \u001b[1m]\u001b[0m\n",
       "                    \u001b[1m)\u001b[0m\n",
       "                \u001b[1m]\u001b[0m,\n",
       "                \u001b[33mrefusal\u001b[0m=\u001b[3;35mNone\u001b[0m\n",
       "            \u001b[1m)\u001b[0m,\n",
       "            \u001b[33mmessage\u001b[0m=\u001b[1;35mChatCompletionMessage\u001b[0m\u001b[1m(\u001b[0m\n",
       "                \u001b[33mcontent\u001b[0m=\u001b[32m'Mercury, Venus, Earth, Mars, Jupiter, Saturn, Uranus, Neptune'\u001b[0m,\n",
       "                \u001b[33mrefusal\u001b[0m=\u001b[3;35mNone\u001b[0m,\n",
       "                \u001b[33mrole\u001b[0m=\u001b[32m'assistant'\u001b[0m,\n",
       "                \u001b[33mfunction_call\u001b[0m=\u001b[3;35mNone\u001b[0m,\n",
       "                \u001b[33mtool_calls\u001b[0m=\u001b[3;35mNone\u001b[0m\n",
       "            \u001b[1m)\u001b[0m\n",
       "        \u001b[1m)\u001b[0m\n",
       "    \u001b[1m]\u001b[0m,\n",
       "    \u001b[33mcreated\u001b[0m=\u001b[1;36m1733600203\u001b[0m,\n",
       "    \u001b[33mmodel\u001b[0m=\u001b[32m'gpt-3.5-turbo-0125'\u001b[0m,\n",
       "    \u001b[33mobject\u001b[0m=\u001b[32m'chat.completion'\u001b[0m,\n",
       "    \u001b[33mservice_tier\u001b[0m=\u001b[3;35mNone\u001b[0m,\n",
       "    \u001b[33msystem_fingerprint\u001b[0m=\u001b[3;35mNone\u001b[0m,\n",
       "    \u001b[33musage\u001b[0m=\u001b[1;35mCompletionUsage\u001b[0m\u001b[1m(\u001b[0m\n",
       "        \u001b[33mcompletion_tokens\u001b[0m=\u001b[1;36m17\u001b[0m,\n",
       "        \u001b[33mprompt_tokens\u001b[0m=\u001b[1;36m20\u001b[0m,\n",
       "        \u001b[33mtotal_tokens\u001b[0m=\u001b[1;36m37\u001b[0m,\n",
       "        \u001b[33mcompletion_tokens_details\u001b[0m=\u001b[1;35mCompletionTokensDetails\u001b[0m\u001b[1m(\u001b[0m\n",
       "            \u001b[33mreasoning_tokens\u001b[0m=\u001b[1;36m0\u001b[0m,\n",
       "            \u001b[33maudio_tokens\u001b[0m=\u001b[1;36m0\u001b[0m,\n",
       "            \u001b[33maccepted_prediction_tokens\u001b[0m=\u001b[1;36m0\u001b[0m,\n",
       "            \u001b[33mrejected_prediction_tokens\u001b[0m=\u001b[1;36m0\u001b[0m\n",
       "        \u001b[1m)\u001b[0m,\n",
       "        \u001b[33mprompt_tokens_details\u001b[0m=\u001b[1m{\u001b[0m\u001b[32m'cached_tokens'\u001b[0m: \u001b[1;36m0\u001b[0m, \u001b[32m'audio_tokens'\u001b[0m: \u001b[1;36m0\u001b[0m\u001b[1m}\u001b[0m\n",
       "    \u001b[1m)\u001b[0m\n",
       "\u001b[1m)\u001b[0m\n"
      ]
     },
     "metadata": {},
     "output_type": "display_data"
    },
    {
     "data": {
      "text/html": [
       "<pre style=\"white-space:pre;overflow-x:auto;line-height:normal;font-family:Menlo,'DejaVu Sans Mono',consolas,'Courier New',monospace\"><span style=\"font-weight: bold\">[</span>\n",
       "    <span style=\"color: #800080; text-decoration-color: #800080; font-weight: bold\">Choice</span><span style=\"font-weight: bold\">(</span>\n",
       "        <span style=\"color: #808000; text-decoration-color: #808000\">finish_reason</span>=<span style=\"color: #008000; text-decoration-color: #008000\">'stop'</span>,\n",
       "        <span style=\"color: #808000; text-decoration-color: #808000\">index</span>=<span style=\"color: #008080; text-decoration-color: #008080; font-weight: bold\">0</span>,\n",
       "        <span style=\"color: #808000; text-decoration-color: #808000\">logprobs</span>=<span style=\"color: #800080; text-decoration-color: #800080; font-weight: bold\">ChoiceLogprobs</span><span style=\"font-weight: bold\">(</span>\n",
       "            <span style=\"color: #808000; text-decoration-color: #808000\">content</span>=<span style=\"font-weight: bold\">[</span>\n",
       "                <span style=\"color: #800080; text-decoration-color: #800080; font-weight: bold\">ChatCompletionTokenLogprob</span><span style=\"font-weight: bold\">(</span>\n",
       "                    <span style=\"color: #808000; text-decoration-color: #808000\">token</span>=<span style=\"color: #008000; text-decoration-color: #008000\">'Mer'</span>,\n",
       "                    <span style=\"color: #808000; text-decoration-color: #808000\">bytes</span>=<span style=\"font-weight: bold\">[</span><span style=\"color: #008080; text-decoration-color: #008080; font-weight: bold\">77</span>, <span style=\"color: #008080; text-decoration-color: #008080; font-weight: bold\">101</span>, <span style=\"color: #008080; text-decoration-color: #008080; font-weight: bold\">114</span><span style=\"font-weight: bold\">]</span>,\n",
       "                    <span style=\"color: #808000; text-decoration-color: #808000\">logprob</span>=<span style=\"color: #008080; text-decoration-color: #008080; font-weight: bold\">-1.050902</span>,\n",
       "                    <span style=\"color: #808000; text-decoration-color: #808000\">top_logprobs</span>=<span style=\"font-weight: bold\">[</span>\n",
       "                        <span style=\"color: #800080; text-decoration-color: #800080; font-weight: bold\">TopLogprob</span><span style=\"font-weight: bold\">(</span><span style=\"color: #808000; text-decoration-color: #808000\">token</span>=<span style=\"color: #008000; text-decoration-color: #008000\">'1'</span>, <span style=\"color: #808000; text-decoration-color: #808000\">bytes</span>=<span style=\"font-weight: bold\">[</span><span style=\"color: #008080; text-decoration-color: #008080; font-weight: bold\">49</span><span style=\"font-weight: bold\">]</span>, <span style=\"color: #808000; text-decoration-color: #808000\">logprob</span>=<span style=\"color: #008080; text-decoration-color: #008080; font-weight: bold\">-0.5625769</span><span style=\"font-weight: bold\">)</span>,\n",
       "                        <span style=\"color: #800080; text-decoration-color: #800080; font-weight: bold\">TopLogprob</span><span style=\"font-weight: bold\">(</span><span style=\"color: #808000; text-decoration-color: #808000\">token</span>=<span style=\"color: #008000; text-decoration-color: #008000\">'Mer'</span>, <span style=\"color: #808000; text-decoration-color: #808000\">bytes</span>=<span style=\"font-weight: bold\">[</span><span style=\"color: #008080; text-decoration-color: #008080; font-weight: bold\">77</span>, <span style=\"color: #008080; text-decoration-color: #008080; font-weight: bold\">101</span>, <span style=\"color: #008080; text-decoration-color: #008080; font-weight: bold\">114</span><span style=\"font-weight: bold\">]</span>, <span style=\"color: #808000; text-decoration-color: #808000\">logprob</span>=<span style=\"color: #008080; text-decoration-color: #008080; font-weight: bold\">-1.050902</span><span style=\"font-weight: bold\">)</span>,\n",
       "                        <span style=\"color: #800080; text-decoration-color: #800080; font-weight: bold\">TopLogprob</span><span style=\"font-weight: bold\">(</span><span style=\"color: #808000; text-decoration-color: #808000\">token</span>=<span style=\"color: #008000; text-decoration-color: #008000\">'The'</span>, <span style=\"color: #808000; text-decoration-color: #808000\">bytes</span>=<span style=\"font-weight: bold\">[</span><span style=\"color: #008080; text-decoration-color: #008080; font-weight: bold\">84</span>, <span style=\"color: #008080; text-decoration-color: #008080; font-weight: bold\">104</span>, <span style=\"color: #008080; text-decoration-color: #008080; font-weight: bold\">101</span><span style=\"font-weight: bold\">]</span>, <span style=\"color: #808000; text-decoration-color: #808000\">logprob</span>=<span style=\"color: #008080; text-decoration-color: #008080; font-weight: bold\">-2.8802953</span><span style=\"font-weight: bold\">)</span>,\n",
       "                        <span style=\"color: #800080; text-decoration-color: #800080; font-weight: bold\">TopLogprob</span><span style=\"font-weight: bold\">(</span><span style=\"color: #808000; text-decoration-color: #808000\">token</span>=<span style=\"color: #008000; text-decoration-color: #008000\">'-'</span>, <span style=\"color: #808000; text-decoration-color: #808000\">bytes</span>=<span style=\"font-weight: bold\">[</span><span style=\"color: #008080; text-decoration-color: #008080; font-weight: bold\">45</span><span style=\"font-weight: bold\">]</span>, <span style=\"color: #808000; text-decoration-color: #808000\">logprob</span>=<span style=\"color: #008080; text-decoration-color: #008080; font-weight: bold\">-4.1521287</span><span style=\"font-weight: bold\">)</span>,\n",
       "                        <span style=\"color: #800080; text-decoration-color: #800080; font-weight: bold\">TopLogprob</span><span style=\"font-weight: bold\">(</span><span style=\"color: #808000; text-decoration-color: #808000\">token</span>=<span style=\"color: #008000; text-decoration-color: #008000\">'There'</span>, <span style=\"color: #808000; text-decoration-color: #808000\">bytes</span>=<span style=\"font-weight: bold\">[</span><span style=\"color: #008080; text-decoration-color: #008080; font-weight: bold\">84</span>, <span style=\"color: #008080; text-decoration-color: #008080; font-weight: bold\">104</span>, <span style=\"color: #008080; text-decoration-color: #008080; font-weight: bold\">101</span>, <span style=\"color: #008080; text-decoration-color: #008080; font-weight: bold\">114</span>, <span style=\"color: #008080; text-decoration-color: #008080; font-weight: bold\">101</span><span style=\"font-weight: bold\">]</span>, <span style=\"color: #808000; text-decoration-color: #808000\">logprob</span>=<span style=\"color: #008080; text-decoration-color: #008080; font-weight: bold\">-5.6867146</span><span style=\"font-weight: bold\">)</span>\n",
       "                    <span style=\"font-weight: bold\">]</span>\n",
       "                <span style=\"font-weight: bold\">)</span>,\n",
       "                <span style=\"color: #800080; text-decoration-color: #800080; font-weight: bold\">ChatCompletionTokenLogprob</span><span style=\"font-weight: bold\">(</span>\n",
       "                    <span style=\"color: #808000; text-decoration-color: #808000\">token</span>=<span style=\"color: #008000; text-decoration-color: #008000\">'cury'</span>,\n",
       "                    <span style=\"color: #808000; text-decoration-color: #808000\">bytes</span>=<span style=\"font-weight: bold\">[</span><span style=\"color: #008080; text-decoration-color: #008080; font-weight: bold\">99</span>, <span style=\"color: #008080; text-decoration-color: #008080; font-weight: bold\">117</span>, <span style=\"color: #008080; text-decoration-color: #008080; font-weight: bold\">114</span>, <span style=\"color: #008080; text-decoration-color: #008080; font-weight: bold\">121</span><span style=\"font-weight: bold\">]</span>,\n",
       "                    <span style=\"color: #808000; text-decoration-color: #808000\">logprob</span>=<span style=\"color: #008080; text-decoration-color: #008080; font-weight: bold\">0.0</span>,\n",
       "                    <span style=\"color: #808000; text-decoration-color: #808000\">top_logprobs</span>=<span style=\"font-weight: bold\">[</span>\n",
       "                        <span style=\"color: #800080; text-decoration-color: #800080; font-weight: bold\">TopLogprob</span><span style=\"font-weight: bold\">(</span><span style=\"color: #808000; text-decoration-color: #808000\">token</span>=<span style=\"color: #008000; text-decoration-color: #008000\">'cury'</span>, <span style=\"color: #808000; text-decoration-color: #808000\">bytes</span>=<span style=\"font-weight: bold\">[</span><span style=\"color: #008080; text-decoration-color: #008080; font-weight: bold\">99</span>, <span style=\"color: #008080; text-decoration-color: #008080; font-weight: bold\">117</span>, <span style=\"color: #008080; text-decoration-color: #008080; font-weight: bold\">114</span>, <span style=\"color: #008080; text-decoration-color: #008080; font-weight: bold\">121</span><span style=\"font-weight: bold\">]</span>, <span style=\"color: #808000; text-decoration-color: #808000\">logprob</span>=<span style=\"color: #008080; text-decoration-color: #008080; font-weight: bold\">0.0</span><span style=\"font-weight: bold\">)</span>,\n",
       "                        <span style=\"color: #800080; text-decoration-color: #800080; font-weight: bold\">TopLogprob</span><span style=\"font-weight: bold\">(</span><span style=\"color: #808000; text-decoration-color: #808000\">token</span>=<span style=\"color: #008000; text-decoration-color: #008000\">'ury'</span>, <span style=\"color: #808000; text-decoration-color: #808000\">bytes</span>=<span style=\"font-weight: bold\">[</span><span style=\"color: #008080; text-decoration-color: #008080; font-weight: bold\">117</span>, <span style=\"color: #008080; text-decoration-color: #008080; font-weight: bold\">114</span>, <span style=\"color: #008080; text-decoration-color: #008080; font-weight: bold\">121</span><span style=\"font-weight: bold\">]</span>, <span style=\"color: #808000; text-decoration-color: #808000\">logprob</span>=<span style=\"color: #008080; text-decoration-color: #008080; font-weight: bold\">-17.271332</span><span style=\"font-weight: bold\">)</span>,\n",
       "                        <span style=\"color: #800080; text-decoration-color: #800080; font-weight: bold\">TopLogprob</span><span style=\"font-weight: bold\">(</span><span style=\"color: #808000; text-decoration-color: #808000\">token</span>=<span style=\"color: #008000; text-decoration-color: #008000\">'cur'</span>, <span style=\"color: #808000; text-decoration-color: #808000\">bytes</span>=<span style=\"font-weight: bold\">[</span><span style=\"color: #008080; text-decoration-color: #008080; font-weight: bold\">99</span>, <span style=\"color: #008080; text-decoration-color: #008080; font-weight: bold\">117</span>, <span style=\"color: #008080; text-decoration-color: #008080; font-weight: bold\">114</span><span style=\"font-weight: bold\">]</span>, <span style=\"color: #808000; text-decoration-color: #808000\">logprob</span>=<span style=\"color: #008080; text-decoration-color: #008080; font-weight: bold\">-18.114151</span><span style=\"font-weight: bold\">)</span>,\n",
       "                        <span style=\"color: #800080; text-decoration-color: #800080; font-weight: bold\">TopLogprob</span><span style=\"font-weight: bold\">(</span><span style=\"color: #808000; text-decoration-color: #808000\">token</span>=<span style=\"color: #008000; text-decoration-color: #008000\">'uc'</span>, <span style=\"color: #808000; text-decoration-color: #808000\">bytes</span>=<span style=\"font-weight: bold\">[</span><span style=\"color: #008080; text-decoration-color: #008080; font-weight: bold\">117</span>, <span style=\"color: #008080; text-decoration-color: #008080; font-weight: bold\">99</span><span style=\"font-weight: bold\">]</span>, <span style=\"color: #808000; text-decoration-color: #808000\">logprob</span>=<span style=\"color: #008080; text-decoration-color: #008080; font-weight: bold\">-18.547878</span><span style=\"font-weight: bold\">)</span>,\n",
       "                        <span style=\"color: #800080; text-decoration-color: #800080; font-weight: bold\">TopLogprob</span><span style=\"font-weight: bold\">(</span>\n",
       "                            <span style=\"color: #808000; text-decoration-color: #808000\">token</span>=<span style=\"color: #008000; text-decoration-color: #008000\">' Mercury'</span>,\n",
       "                            <span style=\"color: #808000; text-decoration-color: #808000\">bytes</span>=<span style=\"font-weight: bold\">[</span><span style=\"color: #008080; text-decoration-color: #008080; font-weight: bold\">32</span>, <span style=\"color: #008080; text-decoration-color: #008080; font-weight: bold\">77</span>, <span style=\"color: #008080; text-decoration-color: #008080; font-weight: bold\">101</span>, <span style=\"color: #008080; text-decoration-color: #008080; font-weight: bold\">114</span>, <span style=\"color: #008080; text-decoration-color: #008080; font-weight: bold\">99</span>, <span style=\"color: #008080; text-decoration-color: #008080; font-weight: bold\">117</span>, <span style=\"color: #008080; text-decoration-color: #008080; font-weight: bold\">114</span>, <span style=\"color: #008080; text-decoration-color: #008080; font-weight: bold\">121</span><span style=\"font-weight: bold\">]</span>,\n",
       "                            <span style=\"color: #808000; text-decoration-color: #808000\">logprob</span>=<span style=\"color: #008080; text-decoration-color: #008080; font-weight: bold\">-20.207407</span>\n",
       "                        <span style=\"font-weight: bold\">)</span>\n",
       "                    <span style=\"font-weight: bold\">]</span>\n",
       "                <span style=\"font-weight: bold\">)</span>,\n",
       "                <span style=\"color: #800080; text-decoration-color: #800080; font-weight: bold\">ChatCompletionTokenLogprob</span><span style=\"font-weight: bold\">(</span>\n",
       "                    <span style=\"color: #808000; text-decoration-color: #808000\">token</span>=<span style=\"color: #008000; text-decoration-color: #008000\">','</span>,\n",
       "                    <span style=\"color: #808000; text-decoration-color: #808000\">bytes</span>=<span style=\"font-weight: bold\">[</span><span style=\"color: #008080; text-decoration-color: #008080; font-weight: bold\">44</span><span style=\"font-weight: bold\">]</span>,\n",
       "                    <span style=\"color: #808000; text-decoration-color: #808000\">logprob</span>=<span style=\"color: #008080; text-decoration-color: #008080; font-weight: bold\">-0.0057383403</span>,\n",
       "                    <span style=\"color: #808000; text-decoration-color: #808000\">top_logprobs</span>=<span style=\"font-weight: bold\">[</span>\n",
       "                        <span style=\"color: #800080; text-decoration-color: #800080; font-weight: bold\">TopLogprob</span><span style=\"font-weight: bold\">(</span><span style=\"color: #808000; text-decoration-color: #808000\">token</span>=<span style=\"color: #008000; text-decoration-color: #008000\">','</span>, <span style=\"color: #808000; text-decoration-color: #808000\">bytes</span>=<span style=\"font-weight: bold\">[</span><span style=\"color: #008080; text-decoration-color: #008080; font-weight: bold\">44</span><span style=\"font-weight: bold\">]</span>, <span style=\"color: #808000; text-decoration-color: #808000\">logprob</span>=<span style=\"color: #008080; text-decoration-color: #008080; font-weight: bold\">-0.0057383403</span><span style=\"font-weight: bold\">)</span>,\n",
       "                        <span style=\"color: #800080; text-decoration-color: #800080; font-weight: bold\">TopLogprob</span><span style=\"font-weight: bold\">(</span><span style=\"color: #808000; text-decoration-color: #808000\">token</span>=<span style=\"color: #008000; text-decoration-color: #008000\">'\\n'</span>, <span style=\"color: #808000; text-decoration-color: #808000\">bytes</span>=<span style=\"font-weight: bold\">[</span><span style=\"color: #008080; text-decoration-color: #008080; font-weight: bold\">10</span><span style=\"font-weight: bold\">]</span>, <span style=\"color: #808000; text-decoration-color: #808000\">logprob</span>=<span style=\"color: #008080; text-decoration-color: #008080; font-weight: bold\">-5.1852446</span><span style=\"font-weight: bold\">)</span>,\n",
       "                        <span style=\"color: #800080; text-decoration-color: #800080; font-weight: bold\">TopLogprob</span><span style=\"font-weight: bold\">(</span><span style=\"color: #808000; text-decoration-color: #808000\">token</span>=<span style=\"color: #008000; text-decoration-color: #008000\">' \\n'</span>, <span style=\"color: #808000; text-decoration-color: #808000\">bytes</span>=<span style=\"font-weight: bold\">[</span><span style=\"color: #008080; text-decoration-color: #008080; font-weight: bold\">32</span>, <span style=\"color: #008080; text-decoration-color: #008080; font-weight: bold\">10</span><span style=\"font-weight: bold\">]</span>, <span style=\"color: #808000; text-decoration-color: #808000\">logprob</span>=<span style=\"color: #008080; text-decoration-color: #008080; font-weight: bold\">-9.419543</span><span style=\"font-weight: bold\">)</span>,\n",
       "                        <span style=\"color: #800080; text-decoration-color: #800080; font-weight: bold\">TopLogprob</span><span style=\"font-weight: bold\">(</span><span style=\"color: #808000; text-decoration-color: #808000\">token</span>=<span style=\"color: #008000; text-decoration-color: #008000\">',\\n'</span>, <span style=\"color: #808000; text-decoration-color: #808000\">bytes</span>=<span style=\"font-weight: bold\">[</span><span style=\"color: #008080; text-decoration-color: #008080; font-weight: bold\">44</span>, <span style=\"color: #008080; text-decoration-color: #008080; font-weight: bold\">10</span><span style=\"font-weight: bold\">]</span>, <span style=\"color: #808000; text-decoration-color: #808000\">logprob</span>=<span style=\"color: #008080; text-decoration-color: #008080; font-weight: bold\">-10.927722</span><span style=\"font-weight: bold\">)</span>,\n",
       "                        <span style=\"color: #800080; text-decoration-color: #800080; font-weight: bold\">TopLogprob</span><span style=\"font-weight: bold\">(</span><span style=\"color: #808000; text-decoration-color: #808000\">token</span>=<span style=\"color: #008000; text-decoration-color: #008000\">',V'</span>, <span style=\"color: #808000; text-decoration-color: #808000\">bytes</span>=<span style=\"font-weight: bold\">[</span><span style=\"color: #008080; text-decoration-color: #008080; font-weight: bold\">44</span>, <span style=\"color: #008080; text-decoration-color: #008080; font-weight: bold\">86</span><span style=\"font-weight: bold\">]</span>, <span style=\"color: #808000; text-decoration-color: #808000\">logprob</span>=<span style=\"color: #008080; text-decoration-color: #008080; font-weight: bold\">-11.489453</span><span style=\"font-weight: bold\">)</span>\n",
       "                    <span style=\"font-weight: bold\">]</span>\n",
       "                <span style=\"font-weight: bold\">)</span>,\n",
       "                <span style=\"color: #800080; text-decoration-color: #800080; font-weight: bold\">ChatCompletionTokenLogprob</span><span style=\"font-weight: bold\">(</span>\n",
       "                    <span style=\"color: #808000; text-decoration-color: #808000\">token</span>=<span style=\"color: #008000; text-decoration-color: #008000\">' Venus'</span>,\n",
       "                    <span style=\"color: #808000; text-decoration-color: #808000\">bytes</span>=<span style=\"font-weight: bold\">[</span><span style=\"color: #008080; text-decoration-color: #008080; font-weight: bold\">32</span>, <span style=\"color: #008080; text-decoration-color: #008080; font-weight: bold\">86</span>, <span style=\"color: #008080; text-decoration-color: #008080; font-weight: bold\">101</span>, <span style=\"color: #008080; text-decoration-color: #008080; font-weight: bold\">110</span>, <span style=\"color: #008080; text-decoration-color: #008080; font-weight: bold\">117</span>, <span style=\"color: #008080; text-decoration-color: #008080; font-weight: bold\">115</span><span style=\"font-weight: bold\">]</span>,\n",
       "                    <span style=\"color: #808000; text-decoration-color: #808000\">logprob</span>=<span style=\"color: #008080; text-decoration-color: #008080; font-weight: bold\">-7.703444e-06</span>,\n",
       "                    <span style=\"color: #808000; text-decoration-color: #808000\">top_logprobs</span>=<span style=\"font-weight: bold\">[</span>\n",
       "                        <span style=\"color: #800080; text-decoration-color: #800080; font-weight: bold\">TopLogprob</span><span style=\"font-weight: bold\">(</span><span style=\"color: #808000; text-decoration-color: #808000\">token</span>=<span style=\"color: #008000; text-decoration-color: #008000\">' Venus'</span>, <span style=\"color: #808000; text-decoration-color: #808000\">bytes</span>=<span style=\"font-weight: bold\">[</span><span style=\"color: #008080; text-decoration-color: #008080; font-weight: bold\">32</span>, <span style=\"color: #008080; text-decoration-color: #008080; font-weight: bold\">86</span>, <span style=\"color: #008080; text-decoration-color: #008080; font-weight: bold\">101</span>, <span style=\"color: #008080; text-decoration-color: #008080; font-weight: bold\">110</span>, <span style=\"color: #008080; text-decoration-color: #008080; font-weight: bold\">117</span>, <span style=\"color: #008080; text-decoration-color: #008080; font-weight: bold\">115</span><span style=\"font-weight: bold\">]</span>, <span style=\"color: #808000; text-decoration-color: #808000\">logprob</span>=<span style=\"color: #008080; text-decoration-color: #008080; font-weight: bold\">-7.703444e-06</span><span style=\"font-weight: bold\">)</span>,\n",
       "                        <span style=\"color: #800080; text-decoration-color: #800080; font-weight: bold\">TopLogprob</span><span style=\"font-weight: bold\">(</span><span style=\"color: #808000; text-decoration-color: #808000\">token</span>=<span style=\"color: #008000; text-decoration-color: #008000\">' '</span>, <span style=\"color: #808000; text-decoration-color: #808000\">bytes</span>=<span style=\"font-weight: bold\">[</span><span style=\"color: #008080; text-decoration-color: #008080; font-weight: bold\">32</span><span style=\"font-weight: bold\">]</span>, <span style=\"color: #808000; text-decoration-color: #808000\">logprob</span>=<span style=\"color: #008080; text-decoration-color: #008080; font-weight: bold\">-11.961809</span><span style=\"font-weight: bold\">)</span>,\n",
       "                        <span style=\"color: #800080; text-decoration-color: #800080; font-weight: bold\">TopLogprob</span><span style=\"font-weight: bold\">(</span><span style=\"color: #808000; text-decoration-color: #808000\">token</span>=<span style=\"color: #008000; text-decoration-color: #008000\">' \\n'</span>, <span style=\"color: #808000; text-decoration-color: #808000\">bytes</span>=<span style=\"font-weight: bold\">[</span><span style=\"color: #008080; text-decoration-color: #008080; font-weight: bold\">32</span>, <span style=\"color: #008080; text-decoration-color: #008080; font-weight: bold\">10</span><span style=\"font-weight: bold\">]</span>, <span style=\"color: #808000; text-decoration-color: #808000\">logprob</span>=<span style=\"color: #008080; text-decoration-color: #008080; font-weight: bold\">-14.105684</span><span style=\"font-weight: bold\">)</span>,\n",
       "                        <span style=\"color: #800080; text-decoration-color: #800080; font-weight: bold\">TopLogprob</span><span style=\"font-weight: bold\">(</span><span style=\"color: #808000; text-decoration-color: #808000\">token</span>=<span style=\"color: #008000; text-decoration-color: #008000\">' Mars'</span>, <span style=\"color: #808000; text-decoration-color: #808000\">bytes</span>=<span style=\"font-weight: bold\">[</span><span style=\"color: #008080; text-decoration-color: #008080; font-weight: bold\">32</span>, <span style=\"color: #008080; text-decoration-color: #008080; font-weight: bold\">77</span>, <span style=\"color: #008080; text-decoration-color: #008080; font-weight: bold\">97</span>, <span style=\"color: #008080; text-decoration-color: #008080; font-weight: bold\">114</span>, <span style=\"color: #008080; text-decoration-color: #008080; font-weight: bold\">115</span><span style=\"font-weight: bold\">]</span>, <span style=\"color: #808000; text-decoration-color: #808000\">logprob</span>=<span style=\"color: #008080; text-decoration-color: #008080; font-weight: bold\">-15.172667</span><span style=\"font-weight: bold\">)</span>,\n",
       "                        <span style=\"color: #800080; text-decoration-color: #800080; font-weight: bold\">TopLogprob</span><span style=\"font-weight: bold\">(</span><span style=\"color: #808000; text-decoration-color: #808000\">token</span>=<span style=\"color: #008000; text-decoration-color: #008000\">'  '</span>, <span style=\"color: #808000; text-decoration-color: #808000\">bytes</span>=<span style=\"font-weight: bold\">[</span><span style=\"color: #008080; text-decoration-color: #008080; font-weight: bold\">32</span>, <span style=\"color: #008080; text-decoration-color: #008080; font-weight: bold\">32</span><span style=\"font-weight: bold\">]</span>, <span style=\"color: #808000; text-decoration-color: #808000\">logprob</span>=<span style=\"color: #008080; text-decoration-color: #008080; font-weight: bold\">-16.471138</span><span style=\"font-weight: bold\">)</span>\n",
       "                    <span style=\"font-weight: bold\">]</span>\n",
       "                <span style=\"font-weight: bold\">)</span>,\n",
       "                <span style=\"color: #800080; text-decoration-color: #800080; font-weight: bold\">ChatCompletionTokenLogprob</span><span style=\"font-weight: bold\">(</span>\n",
       "                    <span style=\"color: #808000; text-decoration-color: #808000\">token</span>=<span style=\"color: #008000; text-decoration-color: #008000\">','</span>,\n",
       "                    <span style=\"color: #808000; text-decoration-color: #808000\">bytes</span>=<span style=\"font-weight: bold\">[</span><span style=\"color: #008080; text-decoration-color: #008080; font-weight: bold\">44</span><span style=\"font-weight: bold\">]</span>,\n",
       "                    <span style=\"color: #808000; text-decoration-color: #808000\">logprob</span>=<span style=\"color: #008080; text-decoration-color: #008080; font-weight: bold\">-2.8160932e-06</span>,\n",
       "                    <span style=\"color: #808000; text-decoration-color: #808000\">top_logprobs</span>=<span style=\"font-weight: bold\">[</span>\n",
       "                        <span style=\"color: #800080; text-decoration-color: #800080; font-weight: bold\">TopLogprob</span><span style=\"font-weight: bold\">(</span><span style=\"color: #808000; text-decoration-color: #808000\">token</span>=<span style=\"color: #008000; text-decoration-color: #008000\">','</span>, <span style=\"color: #808000; text-decoration-color: #808000\">bytes</span>=<span style=\"font-weight: bold\">[</span><span style=\"color: #008080; text-decoration-color: #008080; font-weight: bold\">44</span><span style=\"font-weight: bold\">]</span>, <span style=\"color: #808000; text-decoration-color: #808000\">logprob</span>=<span style=\"color: #008080; text-decoration-color: #008080; font-weight: bold\">-2.8160932e-06</span><span style=\"font-weight: bold\">)</span>,\n",
       "                        <span style=\"color: #800080; text-decoration-color: #800080; font-weight: bold\">TopLogprob</span><span style=\"font-weight: bold\">(</span><span style=\"color: #808000; text-decoration-color: #808000\">token</span>=<span style=\"color: #008000; text-decoration-color: #008000\">',\\n'</span>, <span style=\"color: #808000; text-decoration-color: #808000\">bytes</span>=<span style=\"font-weight: bold\">[</span><span style=\"color: #008080; text-decoration-color: #008080; font-weight: bold\">44</span>, <span style=\"color: #008080; text-decoration-color: #008080; font-weight: bold\">10</span><span style=\"font-weight: bold\">]</span>, <span style=\"color: #808000; text-decoration-color: #808000\">logprob</span>=<span style=\"color: #008080; text-decoration-color: #008080; font-weight: bold\">-13.782844</span><span style=\"font-weight: bold\">)</span>,\n",
       "                        <span style=\"color: #800080; text-decoration-color: #800080; font-weight: bold\">TopLogprob</span><span style=\"font-weight: bold\">(</span><span style=\"color: #808000; text-decoration-color: #808000\">token</span>=<span style=\"color: #008000; text-decoration-color: #008000\">' ,'</span>, <span style=\"color: #808000; text-decoration-color: #808000\">bytes</span>=<span style=\"font-weight: bold\">[</span><span style=\"color: #008080; text-decoration-color: #008080; font-weight: bold\">32</span>, <span style=\"color: #008080; text-decoration-color: #008080; font-weight: bold\">44</span><span style=\"font-weight: bold\">]</span>, <span style=\"color: #808000; text-decoration-color: #808000\">logprob</span>=<span style=\"color: #008080; text-decoration-color: #008080; font-weight: bold\">-14.124192</span><span style=\"font-weight: bold\">)</span>,\n",
       "                        <span style=\"color: #800080; text-decoration-color: #800080; font-weight: bold\">TopLogprob</span><span style=\"font-weight: bold\">(</span><span style=\"color: #808000; text-decoration-color: #808000\">token</span>=<span style=\"color: #008000; text-decoration-color: #008000\">'.'</span>, <span style=\"color: #808000; text-decoration-color: #808000\">bytes</span>=<span style=\"font-weight: bold\">[</span><span style=\"color: #008080; text-decoration-color: #008080; font-weight: bold\">46</span><span style=\"font-weight: bold\">]</span>, <span style=\"color: #808000; text-decoration-color: #808000\">logprob</span>=<span style=\"color: #008080; text-decoration-color: #008080; font-weight: bold\">-14.604064</span><span style=\"font-weight: bold\">)</span>,\n",
       "                        <span style=\"color: #800080; text-decoration-color: #800080; font-weight: bold\">TopLogprob</span><span style=\"font-weight: bold\">(</span><span style=\"color: #808000; text-decoration-color: #808000\">token</span>=<span style=\"color: #008000; text-decoration-color: #008000\">',M'</span>, <span style=\"color: #808000; text-decoration-color: #808000\">bytes</span>=<span style=\"font-weight: bold\">[</span><span style=\"color: #008080; text-decoration-color: #008080; font-weight: bold\">44</span>, <span style=\"color: #008080; text-decoration-color: #008080; font-weight: bold\">77</span><span style=\"font-weight: bold\">]</span>, <span style=\"color: #808000; text-decoration-color: #808000\">logprob</span>=<span style=\"color: #008080; text-decoration-color: #008080; font-weight: bold\">-16.103325</span><span style=\"font-weight: bold\">)</span>\n",
       "                    <span style=\"font-weight: bold\">]</span>\n",
       "                <span style=\"font-weight: bold\">)</span>,\n",
       "                <span style=\"color: #800080; text-decoration-color: #800080; font-weight: bold\">ChatCompletionTokenLogprob</span><span style=\"font-weight: bold\">(</span>\n",
       "                    <span style=\"color: #808000; text-decoration-color: #808000\">token</span>=<span style=\"color: #008000; text-decoration-color: #008000\">' Earth'</span>,\n",
       "                    <span style=\"color: #808000; text-decoration-color: #808000\">bytes</span>=<span style=\"font-weight: bold\">[</span><span style=\"color: #008080; text-decoration-color: #008080; font-weight: bold\">32</span>, <span style=\"color: #008080; text-decoration-color: #008080; font-weight: bold\">69</span>, <span style=\"color: #008080; text-decoration-color: #008080; font-weight: bold\">97</span>, <span style=\"color: #008080; text-decoration-color: #008080; font-weight: bold\">114</span>, <span style=\"color: #008080; text-decoration-color: #008080; font-weight: bold\">116</span>, <span style=\"color: #008080; text-decoration-color: #008080; font-weight: bold\">104</span><span style=\"font-weight: bold\">]</span>,\n",
       "                    <span style=\"color: #808000; text-decoration-color: #808000\">logprob</span>=<span style=\"color: #008080; text-decoration-color: #008080; font-weight: bold\">-1.3856493e-06</span>,\n",
       "                    <span style=\"color: #808000; text-decoration-color: #808000\">top_logprobs</span>=<span style=\"font-weight: bold\">[</span>\n",
       "                        <span style=\"color: #800080; text-decoration-color: #800080; font-weight: bold\">TopLogprob</span><span style=\"font-weight: bold\">(</span><span style=\"color: #808000; text-decoration-color: #808000\">token</span>=<span style=\"color: #008000; text-decoration-color: #008000\">' Earth'</span>, <span style=\"color: #808000; text-decoration-color: #808000\">bytes</span>=<span style=\"font-weight: bold\">[</span><span style=\"color: #008080; text-decoration-color: #008080; font-weight: bold\">32</span>, <span style=\"color: #008080; text-decoration-color: #008080; font-weight: bold\">69</span>, <span style=\"color: #008080; text-decoration-color: #008080; font-weight: bold\">97</span>, <span style=\"color: #008080; text-decoration-color: #008080; font-weight: bold\">114</span>, <span style=\"color: #008080; text-decoration-color: #008080; font-weight: bold\">116</span>, <span style=\"color: #008080; text-decoration-color: #008080; font-weight: bold\">104</span><span style=\"font-weight: bold\">]</span>, <span style=\"color: #808000; text-decoration-color: #808000\">logprob</span>=<span style=\"color: #008080; text-decoration-color: #008080; font-weight: bold\">-1.3856493e-06</span><span style=\"font-weight: bold\">)</span>,\n",
       "                        <span style=\"color: #800080; text-decoration-color: #800080; font-weight: bold\">TopLogprob</span><span style=\"font-weight: bold\">(</span><span style=\"color: #808000; text-decoration-color: #808000\">token</span>=<span style=\"color: #008000; text-decoration-color: #008000\">' Mars'</span>, <span style=\"color: #808000; text-decoration-color: #808000\">bytes</span>=<span style=\"font-weight: bold\">[</span><span style=\"color: #008080; text-decoration-color: #008080; font-weight: bold\">32</span>, <span style=\"color: #008080; text-decoration-color: #008080; font-weight: bold\">77</span>, <span style=\"color: #008080; text-decoration-color: #008080; font-weight: bold\">97</span>, <span style=\"color: #008080; text-decoration-color: #008080; font-weight: bold\">114</span>, <span style=\"color: #008080; text-decoration-color: #008080; font-weight: bold\">115</span><span style=\"font-weight: bold\">]</span>, <span style=\"color: #808000; text-decoration-color: #808000\">logprob</span>=<span style=\"color: #008080; text-decoration-color: #008080; font-weight: bold\">-14.342288</span><span style=\"font-weight: bold\">)</span>,\n",
       "                        <span style=\"color: #800080; text-decoration-color: #800080; font-weight: bold\">TopLogprob</span><span style=\"font-weight: bold\">(</span><span style=\"color: #808000; text-decoration-color: #808000\">token</span>=<span style=\"color: #008000; text-decoration-color: #008000\">' '</span>, <span style=\"color: #808000; text-decoration-color: #808000\">bytes</span>=<span style=\"font-weight: bold\">[</span><span style=\"color: #008080; text-decoration-color: #008080; font-weight: bold\">32</span><span style=\"font-weight: bold\">]</span>, <span style=\"color: #808000; text-decoration-color: #808000\">logprob</span>=<span style=\"color: #008080; text-decoration-color: #008080; font-weight: bold\">-14.605254</span><span style=\"font-weight: bold\">)</span>,\n",
       "                        <span style=\"color: #800080; text-decoration-color: #800080; font-weight: bold\">TopLogprob</span><span style=\"font-weight: bold\">(</span><span style=\"color: #808000; text-decoration-color: #808000\">token</span>=<span style=\"color: #008000; text-decoration-color: #008000\">'Earth'</span>, <span style=\"color: #808000; text-decoration-color: #808000\">bytes</span>=<span style=\"font-weight: bold\">[</span><span style=\"color: #008080; text-decoration-color: #008080; font-weight: bold\">69</span>, <span style=\"color: #008080; text-decoration-color: #008080; font-weight: bold\">97</span>, <span style=\"color: #008080; text-decoration-color: #008080; font-weight: bold\">114</span>, <span style=\"color: #008080; text-decoration-color: #008080; font-weight: bold\">116</span>, <span style=\"color: #008080; text-decoration-color: #008080; font-weight: bold\">104</span><span style=\"font-weight: bold\">]</span>, <span style=\"color: #808000; text-decoration-color: #808000\">logprob</span>=<span style=\"color: #008080; text-decoration-color: #008080; font-weight: bold\">-15.350402</span><span style=\"font-weight: bold\">)</span>,\n",
       "                        <span style=\"color: #800080; text-decoration-color: #800080; font-weight: bold\">TopLogprob</span><span style=\"font-weight: bold\">(</span><span style=\"color: #808000; text-decoration-color: #808000\">token</span>=<span style=\"color: #008000; text-decoration-color: #008000\">' E'</span>, <span style=\"color: #808000; text-decoration-color: #808000\">bytes</span>=<span style=\"font-weight: bold\">[</span><span style=\"color: #008080; text-decoration-color: #008080; font-weight: bold\">32</span>, <span style=\"color: #008080; text-decoration-color: #008080; font-weight: bold\">69</span><span style=\"font-weight: bold\">]</span>, <span style=\"color: #808000; text-decoration-color: #808000\">logprob</span>=<span style=\"color: #008080; text-decoration-color: #008080; font-weight: bold\">-18.948992</span><span style=\"font-weight: bold\">)</span>\n",
       "                    <span style=\"font-weight: bold\">]</span>\n",
       "                <span style=\"font-weight: bold\">)</span>,\n",
       "                <span style=\"color: #800080; text-decoration-color: #800080; font-weight: bold\">ChatCompletionTokenLogprob</span><span style=\"font-weight: bold\">(</span>\n",
       "                    <span style=\"color: #808000; text-decoration-color: #808000\">token</span>=<span style=\"color: #008000; text-decoration-color: #008000\">','</span>,\n",
       "                    <span style=\"color: #808000; text-decoration-color: #808000\">bytes</span>=<span style=\"font-weight: bold\">[</span><span style=\"color: #008080; text-decoration-color: #008080; font-weight: bold\">44</span><span style=\"font-weight: bold\">]</span>,\n",
       "                    <span style=\"color: #808000; text-decoration-color: #808000\">logprob</span>=<span style=\"color: #008080; text-decoration-color: #008080; font-weight: bold\">-7.465036e-06</span>,\n",
       "                    <span style=\"color: #808000; text-decoration-color: #808000\">top_logprobs</span>=<span style=\"font-weight: bold\">[</span>\n",
       "                        <span style=\"color: #800080; text-decoration-color: #800080; font-weight: bold\">TopLogprob</span><span style=\"font-weight: bold\">(</span><span style=\"color: #808000; text-decoration-color: #808000\">token</span>=<span style=\"color: #008000; text-decoration-color: #008000\">','</span>, <span style=\"color: #808000; text-decoration-color: #808000\">bytes</span>=<span style=\"font-weight: bold\">[</span><span style=\"color: #008080; text-decoration-color: #008080; font-weight: bold\">44</span><span style=\"font-weight: bold\">]</span>, <span style=\"color: #808000; text-decoration-color: #808000\">logprob</span>=<span style=\"color: #008080; text-decoration-color: #008080; font-weight: bold\">-7.465036e-06</span><span style=\"font-weight: bold\">)</span>,\n",
       "                        <span style=\"color: #800080; text-decoration-color: #800080; font-weight: bold\">TopLogprob</span><span style=\"font-weight: bold\">(</span><span style=\"color: #808000; text-decoration-color: #808000\">token</span>=<span style=\"color: #008000; text-decoration-color: #008000\">',\\n'</span>, <span style=\"color: #808000; text-decoration-color: #808000\">bytes</span>=<span style=\"font-weight: bold\">[</span><span style=\"color: #008080; text-decoration-color: #008080; font-weight: bold\">44</span>, <span style=\"color: #008080; text-decoration-color: #008080; font-weight: bold\">10</span><span style=\"font-weight: bold\">]</span>, <span style=\"color: #808000; text-decoration-color: #808000\">logprob</span>=<span style=\"color: #008080; text-decoration-color: #008080; font-weight: bold\">-12.991686</span><span style=\"font-weight: bold\">)</span>,\n",
       "                        <span style=\"color: #800080; text-decoration-color: #800080; font-weight: bold\">TopLogprob</span><span style=\"font-weight: bold\">(</span><span style=\"color: #808000; text-decoration-color: #808000\">token</span>=<span style=\"color: #008000; text-decoration-color: #008000\">' ,'</span>, <span style=\"color: #808000; text-decoration-color: #808000\">bytes</span>=<span style=\"font-weight: bold\">[</span><span style=\"color: #008080; text-decoration-color: #008080; font-weight: bold\">32</span>, <span style=\"color: #008080; text-decoration-color: #008080; font-weight: bold\">44</span><span style=\"font-weight: bold\">]</span>, <span style=\"color: #808000; text-decoration-color: #808000\">logprob</span>=<span style=\"color: #008080; text-decoration-color: #008080; font-weight: bold\">-13.143423</span><span style=\"font-weight: bold\">)</span>,\n",
       "                        <span style=\"color: #800080; text-decoration-color: #800080; font-weight: bold\">TopLogprob</span><span style=\"font-weight: bold\">(</span><span style=\"color: #808000; text-decoration-color: #808000\">token</span>=<span style=\"color: #008000; text-decoration-color: #008000\">'.'</span>, <span style=\"color: #808000; text-decoration-color: #808000\">bytes</span>=<span style=\"font-weight: bold\">[</span><span style=\"color: #008080; text-decoration-color: #008080; font-weight: bold\">46</span><span style=\"font-weight: bold\">]</span>, <span style=\"color: #808000; text-decoration-color: #808000\">logprob</span>=<span style=\"color: #008080; text-decoration-color: #008080; font-weight: bold\">-13.576906</span><span style=\"font-weight: bold\">)</span>,\n",
       "                        <span style=\"color: #800080; text-decoration-color: #800080; font-weight: bold\">TopLogprob</span><span style=\"font-weight: bold\">(</span><span style=\"color: #808000; text-decoration-color: #808000\">token</span>=<span style=\"color: #008000; text-decoration-color: #008000\">',M'</span>, <span style=\"color: #808000; text-decoration-color: #808000\">bytes</span>=<span style=\"font-weight: bold\">[</span><span style=\"color: #008080; text-decoration-color: #008080; font-weight: bold\">44</span>, <span style=\"color: #008080; text-decoration-color: #008080; font-weight: bold\">77</span><span style=\"font-weight: bold\">]</span>, <span style=\"color: #808000; text-decoration-color: #808000\">logprob</span>=<span style=\"color: #008080; text-decoration-color: #008080; font-weight: bold\">-14.514378</span><span style=\"font-weight: bold\">)</span>\n",
       "                    <span style=\"font-weight: bold\">]</span>\n",
       "                <span style=\"font-weight: bold\">)</span>,\n",
       "                <span style=\"color: #800080; text-decoration-color: #800080; font-weight: bold\">ChatCompletionTokenLogprob</span><span style=\"font-weight: bold\">(</span>\n",
       "                    <span style=\"color: #808000; text-decoration-color: #808000\">token</span>=<span style=\"color: #008000; text-decoration-color: #008000\">' Mars'</span>,\n",
       "                    <span style=\"color: #808000; text-decoration-color: #808000\">bytes</span>=<span style=\"font-weight: bold\">[</span><span style=\"color: #008080; text-decoration-color: #008080; font-weight: bold\">32</span>, <span style=\"color: #008080; text-decoration-color: #008080; font-weight: bold\">77</span>, <span style=\"color: #008080; text-decoration-color: #008080; font-weight: bold\">97</span>, <span style=\"color: #008080; text-decoration-color: #008080; font-weight: bold\">114</span>, <span style=\"color: #008080; text-decoration-color: #008080; font-weight: bold\">115</span><span style=\"font-weight: bold\">]</span>,\n",
       "                    <span style=\"color: #808000; text-decoration-color: #808000\">logprob</span>=<span style=\"color: #008080; text-decoration-color: #008080; font-weight: bold\">-1.6240566e-06</span>,\n",
       "                    <span style=\"color: #808000; text-decoration-color: #808000\">top_logprobs</span>=<span style=\"font-weight: bold\">[</span>\n",
       "                        <span style=\"color: #800080; text-decoration-color: #800080; font-weight: bold\">TopLogprob</span><span style=\"font-weight: bold\">(</span><span style=\"color: #808000; text-decoration-color: #808000\">token</span>=<span style=\"color: #008000; text-decoration-color: #008000\">' Mars'</span>, <span style=\"color: #808000; text-decoration-color: #808000\">bytes</span>=<span style=\"font-weight: bold\">[</span><span style=\"color: #008080; text-decoration-color: #008080; font-weight: bold\">32</span>, <span style=\"color: #008080; text-decoration-color: #008080; font-weight: bold\">77</span>, <span style=\"color: #008080; text-decoration-color: #008080; font-weight: bold\">97</span>, <span style=\"color: #008080; text-decoration-color: #008080; font-weight: bold\">114</span>, <span style=\"color: #008080; text-decoration-color: #008080; font-weight: bold\">115</span><span style=\"font-weight: bold\">]</span>, <span style=\"color: #808000; text-decoration-color: #808000\">logprob</span>=<span style=\"color: #008080; text-decoration-color: #008080; font-weight: bold\">-1.6240566e-06</span><span style=\"font-weight: bold\">)</span>,\n",
       "                        <span style=\"color: #800080; text-decoration-color: #800080; font-weight: bold\">TopLogprob</span><span style=\"font-weight: bold\">(</span><span style=\"color: #808000; text-decoration-color: #808000\">token</span>=<span style=\"color: #008000; text-decoration-color: #008000\">' '</span>, <span style=\"color: #808000; text-decoration-color: #808000\">bytes</span>=<span style=\"font-weight: bold\">[</span><span style=\"color: #008080; text-decoration-color: #008080; font-weight: bold\">32</span><span style=\"font-weight: bold\">]</span>, <span style=\"color: #808000; text-decoration-color: #808000\">logprob</span>=<span style=\"color: #008080; text-decoration-color: #008080; font-weight: bold\">-13.402063</span><span style=\"font-weight: bold\">)</span>,\n",
       "                        <span style=\"color: #800080; text-decoration-color: #800080; font-weight: bold\">TopLogprob</span><span style=\"font-weight: bold\">(</span>\n",
       "                            <span style=\"color: #808000; text-decoration-color: #808000\">token</span>=<span style=\"color: #008000; text-decoration-color: #008000\">' Jupiter'</span>,\n",
       "                            <span style=\"color: #808000; text-decoration-color: #808000\">bytes</span>=<span style=\"font-weight: bold\">[</span><span style=\"color: #008080; text-decoration-color: #008080; font-weight: bold\">32</span>, <span style=\"color: #008080; text-decoration-color: #008080; font-weight: bold\">74</span>, <span style=\"color: #008080; text-decoration-color: #008080; font-weight: bold\">117</span>, <span style=\"color: #008080; text-decoration-color: #008080; font-weight: bold\">112</span>, <span style=\"color: #008080; text-decoration-color: #008080; font-weight: bold\">105</span>, <span style=\"color: #008080; text-decoration-color: #008080; font-weight: bold\">116</span>, <span style=\"color: #008080; text-decoration-color: #008080; font-weight: bold\">101</span>, <span style=\"color: #008080; text-decoration-color: #008080; font-weight: bold\">114</span><span style=\"font-weight: bold\">]</span>,\n",
       "                            <span style=\"color: #808000; text-decoration-color: #808000\">logprob</span>=<span style=\"color: #008080; text-decoration-color: #008080; font-weight: bold\">-18.124308</span>\n",
       "                        <span style=\"font-weight: bold\">)</span>,\n",
       "                        <span style=\"color: #800080; text-decoration-color: #800080; font-weight: bold\">TopLogprob</span><span style=\"font-weight: bold\">(</span><span style=\"color: #808000; text-decoration-color: #808000\">token</span>=<span style=\"color: #008000; text-decoration-color: #008000\">' mars'</span>, <span style=\"color: #808000; text-decoration-color: #808000\">bytes</span>=<span style=\"font-weight: bold\">[</span><span style=\"color: #008080; text-decoration-color: #008080; font-weight: bold\">32</span>, <span style=\"color: #008080; text-decoration-color: #008080; font-weight: bold\">109</span>, <span style=\"color: #008080; text-decoration-color: #008080; font-weight: bold\">97</span>, <span style=\"color: #008080; text-decoration-color: #008080; font-weight: bold\">114</span>, <span style=\"color: #008080; text-decoration-color: #008080; font-weight: bold\">115</span><span style=\"font-weight: bold\">]</span>, <span style=\"color: #808000; text-decoration-color: #808000\">logprob</span>=<span style=\"color: #008080; text-decoration-color: #008080; font-weight: bold\">-18.488142</span><span style=\"font-weight: bold\">)</span>,\n",
       "                        <span style=\"color: #800080; text-decoration-color: #800080; font-weight: bold\">TopLogprob</span><span style=\"font-weight: bold\">(</span><span style=\"color: #808000; text-decoration-color: #808000\">token</span>=<span style=\"color: #008000; text-decoration-color: #008000\">' Mar'</span>, <span style=\"color: #808000; text-decoration-color: #808000\">bytes</span>=<span style=\"font-weight: bold\">[</span><span style=\"color: #008080; text-decoration-color: #008080; font-weight: bold\">32</span>, <span style=\"color: #008080; text-decoration-color: #008080; font-weight: bold\">77</span>, <span style=\"color: #008080; text-decoration-color: #008080; font-weight: bold\">97</span>, <span style=\"color: #008080; text-decoration-color: #008080; font-weight: bold\">114</span><span style=\"font-weight: bold\">]</span>, <span style=\"color: #808000; text-decoration-color: #808000\">logprob</span>=<span style=\"color: #008080; text-decoration-color: #008080; font-weight: bold\">-18.813066</span><span style=\"font-weight: bold\">)</span>\n",
       "                    <span style=\"font-weight: bold\">]</span>\n",
       "                <span style=\"font-weight: bold\">)</span>,\n",
       "                <span style=\"color: #800080; text-decoration-color: #800080; font-weight: bold\">ChatCompletionTokenLogprob</span><span style=\"font-weight: bold\">(</span>\n",
       "                    <span style=\"color: #808000; text-decoration-color: #808000\">token</span>=<span style=\"color: #008000; text-decoration-color: #008000\">','</span>,\n",
       "                    <span style=\"color: #808000; text-decoration-color: #808000\">bytes</span>=<span style=\"font-weight: bold\">[</span><span style=\"color: #008080; text-decoration-color: #008080; font-weight: bold\">44</span><span style=\"font-weight: bold\">]</span>,\n",
       "                    <span style=\"color: #808000; text-decoration-color: #808000\">logprob</span>=<span style=\"color: #008080; text-decoration-color: #008080; font-weight: bold\">-9.014684e-06</span>,\n",
       "                    <span style=\"color: #808000; text-decoration-color: #808000\">top_logprobs</span>=<span style=\"font-weight: bold\">[</span>\n",
       "                        <span style=\"color: #800080; text-decoration-color: #800080; font-weight: bold\">TopLogprob</span><span style=\"font-weight: bold\">(</span><span style=\"color: #808000; text-decoration-color: #808000\">token</span>=<span style=\"color: #008000; text-decoration-color: #008000\">','</span>, <span style=\"color: #808000; text-decoration-color: #808000\">bytes</span>=<span style=\"font-weight: bold\">[</span><span style=\"color: #008080; text-decoration-color: #008080; font-weight: bold\">44</span><span style=\"font-weight: bold\">]</span>, <span style=\"color: #808000; text-decoration-color: #808000\">logprob</span>=<span style=\"color: #008080; text-decoration-color: #008080; font-weight: bold\">-9.014684e-06</span><span style=\"font-weight: bold\">)</span>,\n",
       "                        <span style=\"color: #800080; text-decoration-color: #800080; font-weight: bold\">TopLogprob</span><span style=\"font-weight: bold\">(</span><span style=\"color: #808000; text-decoration-color: #808000\">token</span>=<span style=\"color: #008000; text-decoration-color: #008000\">',\\n'</span>, <span style=\"color: #808000; text-decoration-color: #808000\">bytes</span>=<span style=\"font-weight: bold\">[</span><span style=\"color: #008080; text-decoration-color: #008080; font-weight: bold\">44</span>, <span style=\"color: #008080; text-decoration-color: #008080; font-weight: bold\">10</span><span style=\"font-weight: bold\">]</span>, <span style=\"color: #808000; text-decoration-color: #808000\">logprob</span>=<span style=\"color: #008080; text-decoration-color: #008080; font-weight: bold\">-12.120347</span><span style=\"font-weight: bold\">)</span>,\n",
       "                        <span style=\"color: #800080; text-decoration-color: #800080; font-weight: bold\">TopLogprob</span><span style=\"font-weight: bold\">(</span><span style=\"color: #808000; text-decoration-color: #808000\">token</span>=<span style=\"color: #008000; text-decoration-color: #008000\">' ,'</span>, <span style=\"color: #808000; text-decoration-color: #808000\">bytes</span>=<span style=\"font-weight: bold\">[</span><span style=\"color: #008080; text-decoration-color: #008080; font-weight: bold\">32</span>, <span style=\"color: #008080; text-decoration-color: #008080; font-weight: bold\">44</span><span style=\"font-weight: bold\">]</span>, <span style=\"color: #808000; text-decoration-color: #808000\">logprob</span>=<span style=\"color: #008080; text-decoration-color: #008080; font-weight: bold\">-13.935138</span><span style=\"font-weight: bold\">)</span>,\n",
       "                        <span style=\"color: #800080; text-decoration-color: #800080; font-weight: bold\">TopLogprob</span><span style=\"font-weight: bold\">(</span><span style=\"color: #808000; text-decoration-color: #808000\">token</span>=<span style=\"color: #008000; text-decoration-color: #008000\">'\\n'</span>, <span style=\"color: #808000; text-decoration-color: #808000\">bytes</span>=<span style=\"font-weight: bold\">[</span><span style=\"color: #008080; text-decoration-color: #008080; font-weight: bold\">10</span><span style=\"font-weight: bold\">]</span>, <span style=\"color: #808000; text-decoration-color: #808000\">logprob</span>=<span style=\"color: #008080; text-decoration-color: #008080; font-weight: bold\">-14.009761</span><span style=\"font-weight: bold\">)</span>,\n",
       "                        <span style=\"color: #800080; text-decoration-color: #800080; font-weight: bold\">TopLogprob</span><span style=\"font-weight: bold\">(</span>\n",
       "                            <span style=\"color: #808000; text-decoration-color: #808000\">token</span>=<span style=\"color: #008000; text-decoration-color: #008000\">' Jupiter'</span>,\n",
       "                            <span style=\"color: #808000; text-decoration-color: #808000\">bytes</span>=<span style=\"font-weight: bold\">[</span><span style=\"color: #008080; text-decoration-color: #008080; font-weight: bold\">32</span>, <span style=\"color: #008080; text-decoration-color: #008080; font-weight: bold\">74</span>, <span style=\"color: #008080; text-decoration-color: #008080; font-weight: bold\">117</span>, <span style=\"color: #008080; text-decoration-color: #008080; font-weight: bold\">112</span>, <span style=\"color: #008080; text-decoration-color: #008080; font-weight: bold\">105</span>, <span style=\"color: #008080; text-decoration-color: #008080; font-weight: bold\">116</span>, <span style=\"color: #008080; text-decoration-color: #008080; font-weight: bold\">101</span>, <span style=\"color: #008080; text-decoration-color: #008080; font-weight: bold\">114</span><span style=\"font-weight: bold\">]</span>,\n",
       "                            <span style=\"color: #808000; text-decoration-color: #808000\">logprob</span>=<span style=\"color: #008080; text-decoration-color: #008080; font-weight: bold\">-14.551078</span>\n",
       "                        <span style=\"font-weight: bold\">)</span>\n",
       "                    <span style=\"font-weight: bold\">]</span>\n",
       "                <span style=\"font-weight: bold\">)</span>,\n",
       "                <span style=\"color: #800080; text-decoration-color: #800080; font-weight: bold\">ChatCompletionTokenLogprob</span><span style=\"font-weight: bold\">(</span>\n",
       "                    <span style=\"color: #808000; text-decoration-color: #808000\">token</span>=<span style=\"color: #008000; text-decoration-color: #008000\">' Jupiter'</span>,\n",
       "                    <span style=\"color: #808000; text-decoration-color: #808000\">bytes</span>=<span style=\"font-weight: bold\">[</span><span style=\"color: #008080; text-decoration-color: #008080; font-weight: bold\">32</span>, <span style=\"color: #008080; text-decoration-color: #008080; font-weight: bold\">74</span>, <span style=\"color: #008080; text-decoration-color: #008080; font-weight: bold\">117</span>, <span style=\"color: #008080; text-decoration-color: #008080; font-weight: bold\">112</span>, <span style=\"color: #008080; text-decoration-color: #008080; font-weight: bold\">105</span>, <span style=\"color: #008080; text-decoration-color: #008080; font-weight: bold\">116</span>, <span style=\"color: #008080; text-decoration-color: #008080; font-weight: bold\">101</span>, <span style=\"color: #008080; text-decoration-color: #008080; font-weight: bold\">114</span><span style=\"font-weight: bold\">]</span>,\n",
       "                    <span style=\"color: #808000; text-decoration-color: #808000\">logprob</span>=<span style=\"color: #008080; text-decoration-color: #008080; font-weight: bold\">-6.511407e-06</span>,\n",
       "                    <span style=\"color: #808000; text-decoration-color: #808000\">top_logprobs</span>=<span style=\"font-weight: bold\">[</span>\n",
       "                        <span style=\"color: #800080; text-decoration-color: #800080; font-weight: bold\">TopLogprob</span><span style=\"font-weight: bold\">(</span>\n",
       "                            <span style=\"color: #808000; text-decoration-color: #808000\">token</span>=<span style=\"color: #008000; text-decoration-color: #008000\">' Jupiter'</span>,\n",
       "                            <span style=\"color: #808000; text-decoration-color: #808000\">bytes</span>=<span style=\"font-weight: bold\">[</span><span style=\"color: #008080; text-decoration-color: #008080; font-weight: bold\">32</span>, <span style=\"color: #008080; text-decoration-color: #008080; font-weight: bold\">74</span>, <span style=\"color: #008080; text-decoration-color: #008080; font-weight: bold\">117</span>, <span style=\"color: #008080; text-decoration-color: #008080; font-weight: bold\">112</span>, <span style=\"color: #008080; text-decoration-color: #008080; font-weight: bold\">105</span>, <span style=\"color: #008080; text-decoration-color: #008080; font-weight: bold\">116</span>, <span style=\"color: #008080; text-decoration-color: #008080; font-weight: bold\">101</span>, <span style=\"color: #008080; text-decoration-color: #008080; font-weight: bold\">114</span><span style=\"font-weight: bold\">]</span>,\n",
       "                            <span style=\"color: #808000; text-decoration-color: #808000\">logprob</span>=<span style=\"color: #008080; text-decoration-color: #008080; font-weight: bold\">-6.511407e-06</span>\n",
       "                        <span style=\"font-weight: bold\">)</span>,\n",
       "                        <span style=\"color: #800080; text-decoration-color: #800080; font-weight: bold\">TopLogprob</span><span style=\"font-weight: bold\">(</span><span style=\"color: #808000; text-decoration-color: #808000\">token</span>=<span style=\"color: #008000; text-decoration-color: #008000\">' '</span>, <span style=\"color: #808000; text-decoration-color: #808000\">bytes</span>=<span style=\"font-weight: bold\">[</span><span style=\"color: #008080; text-decoration-color: #008080; font-weight: bold\">32</span><span style=\"font-weight: bold\">]</span>, <span style=\"color: #808000; text-decoration-color: #808000\">logprob</span>=<span style=\"color: #008080; text-decoration-color: #008080; font-weight: bold\">-12.1744585</span><span style=\"font-weight: bold\">)</span>,\n",
       "                        <span style=\"color: #800080; text-decoration-color: #800080; font-weight: bold\">TopLogprob</span><span style=\"font-weight: bold\">(</span><span style=\"color: #808000; text-decoration-color: #808000\">token</span>=<span style=\"color: #008000; text-decoration-color: #008000\">' Saturn'</span>, <span style=\"color: #808000; text-decoration-color: #808000\">bytes</span>=<span style=\"font-weight: bold\">[</span><span style=\"color: #008080; text-decoration-color: #008080; font-weight: bold\">32</span>, <span style=\"color: #008080; text-decoration-color: #008080; font-weight: bold\">83</span>, <span style=\"color: #008080; text-decoration-color: #008080; font-weight: bold\">97</span>, <span style=\"color: #008080; text-decoration-color: #008080; font-weight: bold\">116</span>, <span style=\"color: #008080; text-decoration-color: #008080; font-weight: bold\">117</span>, <span style=\"color: #008080; text-decoration-color: #008080; font-weight: bold\">114</span>, <span style=\"color: #008080; text-decoration-color: #008080; font-weight: bold\">110</span><span style=\"font-weight: bold\">]</span>, <span style=\"color: #808000; text-decoration-color: #808000\">logprob</span>=<span style=\"color: #008080; text-decoration-color: #008080; font-weight: bold\">-13.88033</span><span style=\"font-weight: bold\">)</span>,\n",
       "                        <span style=\"color: #800080; text-decoration-color: #800080; font-weight: bold\">TopLogprob</span><span style=\"font-weight: bold\">(</span><span style=\"color: #808000; text-decoration-color: #808000\">token</span>=<span style=\"color: #008000; text-decoration-color: #008000\">' \\n'</span>, <span style=\"color: #808000; text-decoration-color: #808000\">bytes</span>=<span style=\"font-weight: bold\">[</span><span style=\"color: #008080; text-decoration-color: #008080; font-weight: bold\">32</span>, <span style=\"color: #008080; text-decoration-color: #008080; font-weight: bold\">10</span><span style=\"font-weight: bold\">]</span>, <span style=\"color: #808000; text-decoration-color: #808000\">logprob</span>=<span style=\"color: #008080; text-decoration-color: #008080; font-weight: bold\">-15.721894</span><span style=\"font-weight: bold\">)</span>,\n",
       "                        <span style=\"color: #800080; text-decoration-color: #800080; font-weight: bold\">TopLogprob</span><span style=\"font-weight: bold\">(</span><span style=\"color: #808000; text-decoration-color: #808000\">token</span>=<span style=\"color: #008000; text-decoration-color: #008000\">' J'</span>, <span style=\"color: #808000; text-decoration-color: #808000\">bytes</span>=<span style=\"font-weight: bold\">[</span><span style=\"color: #008080; text-decoration-color: #008080; font-weight: bold\">32</span>, <span style=\"color: #008080; text-decoration-color: #008080; font-weight: bold\">74</span><span style=\"font-weight: bold\">]</span>, <span style=\"color: #808000; text-decoration-color: #808000\">logprob</span>=<span style=\"color: #008080; text-decoration-color: #008080; font-weight: bold\">-16.877975</span><span style=\"font-weight: bold\">)</span>\n",
       "                    <span style=\"font-weight: bold\">]</span>\n",
       "                <span style=\"font-weight: bold\">)</span>,\n",
       "                <span style=\"color: #800080; text-decoration-color: #800080; font-weight: bold\">ChatCompletionTokenLogprob</span><span style=\"font-weight: bold\">(</span>\n",
       "                    <span style=\"color: #808000; text-decoration-color: #808000\">token</span>=<span style=\"color: #008000; text-decoration-color: #008000\">','</span>,\n",
       "                    <span style=\"color: #808000; text-decoration-color: #808000\">bytes</span>=<span style=\"font-weight: bold\">[</span><span style=\"color: #008080; text-decoration-color: #008080; font-weight: bold\">44</span><span style=\"font-weight: bold\">]</span>,\n",
       "                    <span style=\"color: #808000; text-decoration-color: #808000\">logprob</span>=<span style=\"color: #008080; text-decoration-color: #008080; font-weight: bold\">-4.00813e-06</span>,\n",
       "                    <span style=\"color: #808000; text-decoration-color: #808000\">top_logprobs</span>=<span style=\"font-weight: bold\">[</span>\n",
       "                        <span style=\"color: #800080; text-decoration-color: #800080; font-weight: bold\">TopLogprob</span><span style=\"font-weight: bold\">(</span><span style=\"color: #808000; text-decoration-color: #808000\">token</span>=<span style=\"color: #008000; text-decoration-color: #008000\">','</span>, <span style=\"color: #808000; text-decoration-color: #808000\">bytes</span>=<span style=\"font-weight: bold\">[</span><span style=\"color: #008080; text-decoration-color: #008080; font-weight: bold\">44</span><span style=\"font-weight: bold\">]</span>, <span style=\"color: #808000; text-decoration-color: #808000\">logprob</span>=<span style=\"color: #008080; text-decoration-color: #008080; font-weight: bold\">-4.00813e-06</span><span style=\"font-weight: bold\">)</span>,\n",
       "                        <span style=\"color: #800080; text-decoration-color: #800080; font-weight: bold\">TopLogprob</span><span style=\"font-weight: bold\">(</span><span style=\"color: #808000; text-decoration-color: #808000\">token</span>=<span style=\"color: #008000; text-decoration-color: #008000\">',\\n'</span>, <span style=\"color: #808000; text-decoration-color: #808000\">bytes</span>=<span style=\"font-weight: bold\">[</span><span style=\"color: #008080; text-decoration-color: #008080; font-weight: bold\">44</span>, <span style=\"color: #008080; text-decoration-color: #008080; font-weight: bold\">10</span><span style=\"font-weight: bold\">]</span>, <span style=\"color: #808000; text-decoration-color: #808000\">logprob</span>=<span style=\"color: #008080; text-decoration-color: #008080; font-weight: bold\">-13.130329</span><span style=\"font-weight: bold\">)</span>,\n",
       "                        <span style=\"color: #800080; text-decoration-color: #800080; font-weight: bold\">TopLogprob</span><span style=\"font-weight: bold\">(</span><span style=\"color: #808000; text-decoration-color: #808000\">token</span>=<span style=\"color: #008000; text-decoration-color: #008000\">' ,'</span>, <span style=\"color: #808000; text-decoration-color: #808000\">bytes</span>=<span style=\"font-weight: bold\">[</span><span style=\"color: #008080; text-decoration-color: #008080; font-weight: bold\">32</span>, <span style=\"color: #008080; text-decoration-color: #008080; font-weight: bold\">44</span><span style=\"font-weight: bold\">]</span>, <span style=\"color: #808000; text-decoration-color: #808000\">logprob</span>=<span style=\"color: #008080; text-decoration-color: #008080; font-weight: bold\">-13.775162</span><span style=\"font-weight: bold\">)</span>,\n",
       "                        <span style=\"color: #800080; text-decoration-color: #800080; font-weight: bold\">TopLogprob</span><span style=\"font-weight: bold\">(</span><span style=\"color: #808000; text-decoration-color: #808000\">token</span>=<span style=\"color: #008000; text-decoration-color: #008000\">',S'</span>, <span style=\"color: #808000; text-decoration-color: #808000\">bytes</span>=<span style=\"font-weight: bold\">[</span><span style=\"color: #008080; text-decoration-color: #008080; font-weight: bold\">44</span>, <span style=\"color: #008080; text-decoration-color: #008080; font-weight: bold\">83</span><span style=\"font-weight: bold\">]</span>, <span style=\"color: #808000; text-decoration-color: #808000\">logprob</span>=<span style=\"color: #008080; text-decoration-color: #008080; font-weight: bold\">-15.022457</span><span style=\"font-weight: bold\">)</span>,\n",
       "                        <span style=\"color: #800080; text-decoration-color: #800080; font-weight: bold\">TopLogprob</span><span style=\"font-weight: bold\">(</span><span style=\"color: #808000; text-decoration-color: #808000\">token</span>=<span style=\"color: #008000; text-decoration-color: #008000\">'\\n'</span>, <span style=\"color: #808000; text-decoration-color: #808000\">bytes</span>=<span style=\"font-weight: bold\">[</span><span style=\"color: #008080; text-decoration-color: #008080; font-weight: bold\">10</span><span style=\"font-weight: bold\">]</span>, <span style=\"color: #808000; text-decoration-color: #808000\">logprob</span>=<span style=\"color: #008080; text-decoration-color: #008080; font-weight: bold\">-15.201521</span><span style=\"font-weight: bold\">)</span>\n",
       "                    <span style=\"font-weight: bold\">]</span>\n",
       "                <span style=\"font-weight: bold\">)</span>,\n",
       "                <span style=\"color: #800080; text-decoration-color: #800080; font-weight: bold\">ChatCompletionTokenLogprob</span><span style=\"font-weight: bold\">(</span>\n",
       "                    <span style=\"color: #808000; text-decoration-color: #808000\">token</span>=<span style=\"color: #008000; text-decoration-color: #008000\">' Saturn'</span>,\n",
       "                    <span style=\"color: #808000; text-decoration-color: #808000\">bytes</span>=<span style=\"font-weight: bold\">[</span><span style=\"color: #008080; text-decoration-color: #008080; font-weight: bold\">32</span>, <span style=\"color: #008080; text-decoration-color: #008080; font-weight: bold\">83</span>, <span style=\"color: #008080; text-decoration-color: #008080; font-weight: bold\">97</span>, <span style=\"color: #008080; text-decoration-color: #008080; font-weight: bold\">116</span>, <span style=\"color: #008080; text-decoration-color: #008080; font-weight: bold\">117</span>, <span style=\"color: #008080; text-decoration-color: #008080; font-weight: bold\">114</span>, <span style=\"color: #008080; text-decoration-color: #008080; font-weight: bold\">110</span><span style=\"font-weight: bold\">]</span>,\n",
       "                    <span style=\"color: #808000; text-decoration-color: #808000\">logprob</span>=<span style=\"color: #008080; text-decoration-color: #008080; font-weight: bold\">-7.89631e-07</span>,\n",
       "                    <span style=\"color: #808000; text-decoration-color: #808000\">top_logprobs</span>=<span style=\"font-weight: bold\">[</span>\n",
       "                        <span style=\"color: #800080; text-decoration-color: #800080; font-weight: bold\">TopLogprob</span><span style=\"font-weight: bold\">(</span><span style=\"color: #808000; text-decoration-color: #808000\">token</span>=<span style=\"color: #008000; text-decoration-color: #008000\">' Saturn'</span>, <span style=\"color: #808000; text-decoration-color: #808000\">bytes</span>=<span style=\"font-weight: bold\">[</span><span style=\"color: #008080; text-decoration-color: #008080; font-weight: bold\">32</span>, <span style=\"color: #008080; text-decoration-color: #008080; font-weight: bold\">83</span>, <span style=\"color: #008080; text-decoration-color: #008080; font-weight: bold\">97</span>, <span style=\"color: #008080; text-decoration-color: #008080; font-weight: bold\">116</span>, <span style=\"color: #008080; text-decoration-color: #008080; font-weight: bold\">117</span>, <span style=\"color: #008080; text-decoration-color: #008080; font-weight: bold\">114</span>, <span style=\"color: #008080; text-decoration-color: #008080; font-weight: bold\">110</span><span style=\"font-weight: bold\">]</span>, <span style=\"color: #808000; text-decoration-color: #808000\">logprob</span>=<span style=\"color: #008080; text-decoration-color: #008080; font-weight: bold\">-7.89631e-07</span><span style=\"font-weight: bold\">)</span>,\n",
       "                        <span style=\"color: #800080; text-decoration-color: #800080; font-weight: bold\">TopLogprob</span><span style=\"font-weight: bold\">(</span><span style=\"color: #808000; text-decoration-color: #808000\">token</span>=<span style=\"color: #008000; text-decoration-color: #008000\">' '</span>, <span style=\"color: #808000; text-decoration-color: #808000\">bytes</span>=<span style=\"font-weight: bold\">[</span><span style=\"color: #008080; text-decoration-color: #008080; font-weight: bold\">32</span><span style=\"font-weight: bold\">]</span>, <span style=\"color: #808000; text-decoration-color: #808000\">logprob</span>=<span style=\"color: #008080; text-decoration-color: #008080; font-weight: bold\">-14.184451</span><span style=\"font-weight: bold\">)</span>,\n",
       "                        <span style=\"color: #800080; text-decoration-color: #800080; font-weight: bold\">TopLogprob</span><span style=\"font-weight: bold\">(</span><span style=\"color: #808000; text-decoration-color: #808000\">token</span>=<span style=\"color: #008000; text-decoration-color: #008000\">' Sat'</span>, <span style=\"color: #808000; text-decoration-color: #808000\">bytes</span>=<span style=\"font-weight: bold\">[</span><span style=\"color: #008080; text-decoration-color: #008080; font-weight: bold\">32</span>, <span style=\"color: #008080; text-decoration-color: #008080; font-weight: bold\">83</span>, <span style=\"color: #008080; text-decoration-color: #008080; font-weight: bold\">97</span>, <span style=\"color: #008080; text-decoration-color: #008080; font-weight: bold\">116</span><span style=\"font-weight: bold\">]</span>, <span style=\"color: #808000; text-decoration-color: #808000\">logprob</span>=<span style=\"color: #008080; text-decoration-color: #008080; font-weight: bold\">-16.732485</span><span style=\"font-weight: bold\">)</span>,\n",
       "                        <span style=\"color: #800080; text-decoration-color: #800080; font-weight: bold\">TopLogprob</span><span style=\"font-weight: bold\">(</span>\n",
       "                            <span style=\"color: #808000; text-decoration-color: #808000\">token</span>=<span style=\"color: #008000; text-decoration-color: #008000\">' Neptune'</span>,\n",
       "                            <span style=\"color: #808000; text-decoration-color: #808000\">bytes</span>=<span style=\"font-weight: bold\">[</span><span style=\"color: #008080; text-decoration-color: #008080; font-weight: bold\">32</span>, <span style=\"color: #008080; text-decoration-color: #008080; font-weight: bold\">78</span>, <span style=\"color: #008080; text-decoration-color: #008080; font-weight: bold\">101</span>, <span style=\"color: #008080; text-decoration-color: #008080; font-weight: bold\">112</span>, <span style=\"color: #008080; text-decoration-color: #008080; font-weight: bold\">116</span>, <span style=\"color: #008080; text-decoration-color: #008080; font-weight: bold\">117</span>, <span style=\"color: #008080; text-decoration-color: #008080; font-weight: bold\">110</span>, <span style=\"color: #008080; text-decoration-color: #008080; font-weight: bold\">101</span><span style=\"font-weight: bold\">]</span>,\n",
       "                            <span style=\"color: #808000; text-decoration-color: #808000\">logprob</span>=<span style=\"color: #008080; text-decoration-color: #008080; font-weight: bold\">-18.147596</span>\n",
       "                        <span style=\"font-weight: bold\">)</span>,\n",
       "                        <span style=\"color: #800080; text-decoration-color: #800080; font-weight: bold\">TopLogprob</span><span style=\"font-weight: bold\">(</span><span style=\"color: #808000; text-decoration-color: #808000\">token</span>=<span style=\"color: #008000; text-decoration-color: #008000\">' S'</span>, <span style=\"color: #808000; text-decoration-color: #808000\">bytes</span>=<span style=\"font-weight: bold\">[</span><span style=\"color: #008080; text-decoration-color: #008080; font-weight: bold\">32</span>, <span style=\"color: #008080; text-decoration-color: #008080; font-weight: bold\">83</span><span style=\"font-weight: bold\">]</span>, <span style=\"color: #808000; text-decoration-color: #808000\">logprob</span>=<span style=\"color: #008080; text-decoration-color: #008080; font-weight: bold\">-18.29653</span><span style=\"font-weight: bold\">)</span>\n",
       "                    <span style=\"font-weight: bold\">]</span>\n",
       "                <span style=\"font-weight: bold\">)</span>,\n",
       "                <span style=\"color: #800080; text-decoration-color: #800080; font-weight: bold\">ChatCompletionTokenLogprob</span><span style=\"font-weight: bold\">(</span>\n",
       "                    <span style=\"color: #808000; text-decoration-color: #808000\">token</span>=<span style=\"color: #008000; text-decoration-color: #008000\">','</span>,\n",
       "                    <span style=\"color: #808000; text-decoration-color: #808000\">bytes</span>=<span style=\"font-weight: bold\">[</span><span style=\"color: #008080; text-decoration-color: #008080; font-weight: bold\">44</span><span style=\"font-weight: bold\">]</span>,\n",
       "                    <span style=\"color: #808000; text-decoration-color: #808000\">logprob</span>=<span style=\"color: #008080; text-decoration-color: #008080; font-weight: bold\">-7.465036e-06</span>,\n",
       "                    <span style=\"color: #808000; text-decoration-color: #808000\">top_logprobs</span>=<span style=\"font-weight: bold\">[</span>\n",
       "                        <span style=\"color: #800080; text-decoration-color: #800080; font-weight: bold\">TopLogprob</span><span style=\"font-weight: bold\">(</span><span style=\"color: #808000; text-decoration-color: #808000\">token</span>=<span style=\"color: #008000; text-decoration-color: #008000\">','</span>, <span style=\"color: #808000; text-decoration-color: #808000\">bytes</span>=<span style=\"font-weight: bold\">[</span><span style=\"color: #008080; text-decoration-color: #008080; font-weight: bold\">44</span><span style=\"font-weight: bold\">]</span>, <span style=\"color: #808000; text-decoration-color: #808000\">logprob</span>=<span style=\"color: #008080; text-decoration-color: #008080; font-weight: bold\">-7.465036e-06</span><span style=\"font-weight: bold\">)</span>,\n",
       "                        <span style=\"color: #800080; text-decoration-color: #800080; font-weight: bold\">TopLogprob</span><span style=\"font-weight: bold\">(</span><span style=\"color: #808000; text-decoration-color: #808000\">token</span>=<span style=\"color: #008000; text-decoration-color: #008000\">',\\n'</span>, <span style=\"color: #808000; text-decoration-color: #808000\">bytes</span>=<span style=\"font-weight: bold\">[</span><span style=\"color: #008080; text-decoration-color: #008080; font-weight: bold\">44</span>, <span style=\"color: #008080; text-decoration-color: #008080; font-weight: bold\">10</span><span style=\"font-weight: bold\">]</span>, <span style=\"color: #808000; text-decoration-color: #808000\">logprob</span>=<span style=\"color: #008080; text-decoration-color: #008080; font-weight: bold\">-12.525568</span><span style=\"font-weight: bold\">)</span>,\n",
       "                        <span style=\"color: #800080; text-decoration-color: #800080; font-weight: bold\">TopLogprob</span><span style=\"font-weight: bold\">(</span><span style=\"color: #808000; text-decoration-color: #808000\">token</span>=<span style=\"color: #008000; text-decoration-color: #008000\">' ,'</span>, <span style=\"color: #808000; text-decoration-color: #808000\">bytes</span>=<span style=\"font-weight: bold\">[</span><span style=\"color: #008080; text-decoration-color: #008080; font-weight: bold\">32</span>, <span style=\"color: #008080; text-decoration-color: #008080; font-weight: bold\">44</span><span style=\"font-weight: bold\">]</span>, <span style=\"color: #808000; text-decoration-color: #808000\">logprob</span>=<span style=\"color: #008080; text-decoration-color: #008080; font-weight: bold\">-12.971264</span><span style=\"font-weight: bold\">)</span>,\n",
       "                        <span style=\"color: #800080; text-decoration-color: #800080; font-weight: bold\">TopLogprob</span><span style=\"font-weight: bold\">(</span><span style=\"color: #808000; text-decoration-color: #808000\">token</span>=<span style=\"color: #008000; text-decoration-color: #008000\">'.'</span>, <span style=\"color: #808000; text-decoration-color: #808000\">bytes</span>=<span style=\"font-weight: bold\">[</span><span style=\"color: #008080; text-decoration-color: #008080; font-weight: bold\">46</span><span style=\"font-weight: bold\">]</span>, <span style=\"color: #808000; text-decoration-color: #808000\">logprob</span>=<span style=\"color: #008080; text-decoration-color: #008080; font-weight: bold\">-14.6729145</span><span style=\"font-weight: bold\">)</span>,\n",
       "                        <span style=\"color: #800080; text-decoration-color: #800080; font-weight: bold\">TopLogprob</span><span style=\"font-weight: bold\">(</span><span style=\"color: #808000; text-decoration-color: #808000\">token</span>=<span style=\"color: #008000; text-decoration-color: #008000\">'\\n'</span>, <span style=\"color: #808000; text-decoration-color: #808000\">bytes</span>=<span style=\"font-weight: bold\">[</span><span style=\"color: #008080; text-decoration-color: #008080; font-weight: bold\">10</span><span style=\"font-weight: bold\">]</span>, <span style=\"color: #808000; text-decoration-color: #808000\">logprob</span>=<span style=\"color: #008080; text-decoration-color: #008080; font-weight: bold\">-15.268833</span><span style=\"font-weight: bold\">)</span>\n",
       "                    <span style=\"font-weight: bold\">]</span>\n",
       "                <span style=\"font-weight: bold\">)</span>,\n",
       "                <span style=\"color: #800080; text-decoration-color: #800080; font-weight: bold\">ChatCompletionTokenLogprob</span><span style=\"font-weight: bold\">(</span>\n",
       "                    <span style=\"color: #808000; text-decoration-color: #808000\">token</span>=<span style=\"color: #008000; text-decoration-color: #008000\">' Uran'</span>,\n",
       "                    <span style=\"color: #808000; text-decoration-color: #808000\">bytes</span>=<span style=\"font-weight: bold\">[</span><span style=\"color: #008080; text-decoration-color: #008080; font-weight: bold\">32</span>, <span style=\"color: #008080; text-decoration-color: #008080; font-weight: bold\">85</span>, <span style=\"color: #008080; text-decoration-color: #008080; font-weight: bold\">114</span>, <span style=\"color: #008080; text-decoration-color: #008080; font-weight: bold\">97</span>, <span style=\"color: #008080; text-decoration-color: #008080; font-weight: bold\">110</span><span style=\"font-weight: bold\">]</span>,\n",
       "                    <span style=\"color: #808000; text-decoration-color: #808000\">logprob</span>=<span style=\"color: #008080; text-decoration-color: #008080; font-weight: bold\">-3.5477897e-05</span>,\n",
       "                    <span style=\"color: #808000; text-decoration-color: #808000\">top_logprobs</span>=<span style=\"font-weight: bold\">[</span>\n",
       "                        <span style=\"color: #800080; text-decoration-color: #800080; font-weight: bold\">TopLogprob</span><span style=\"font-weight: bold\">(</span><span style=\"color: #808000; text-decoration-color: #808000\">token</span>=<span style=\"color: #008000; text-decoration-color: #008000\">' Uran'</span>, <span style=\"color: #808000; text-decoration-color: #808000\">bytes</span>=<span style=\"font-weight: bold\">[</span><span style=\"color: #008080; text-decoration-color: #008080; font-weight: bold\">32</span>, <span style=\"color: #008080; text-decoration-color: #008080; font-weight: bold\">85</span>, <span style=\"color: #008080; text-decoration-color: #008080; font-weight: bold\">114</span>, <span style=\"color: #008080; text-decoration-color: #008080; font-weight: bold\">97</span>, <span style=\"color: #008080; text-decoration-color: #008080; font-weight: bold\">110</span><span style=\"font-weight: bold\">]</span>, <span style=\"color: #808000; text-decoration-color: #808000\">logprob</span>=<span style=\"color: #008080; text-decoration-color: #008080; font-weight: bold\">-3.5477897e-05</span><span style=\"font-weight: bold\">)</span>,\n",
       "                        <span style=\"color: #800080; text-decoration-color: #800080; font-weight: bold\">TopLogprob</span><span style=\"font-weight: bold\">(</span>\n",
       "                            <span style=\"color: #808000; text-decoration-color: #808000\">token</span>=<span style=\"color: #008000; text-decoration-color: #008000\">' Neptune'</span>,\n",
       "                            <span style=\"color: #808000; text-decoration-color: #808000\">bytes</span>=<span style=\"font-weight: bold\">[</span><span style=\"color: #008080; text-decoration-color: #008080; font-weight: bold\">32</span>, <span style=\"color: #008080; text-decoration-color: #008080; font-weight: bold\">78</span>, <span style=\"color: #008080; text-decoration-color: #008080; font-weight: bold\">101</span>, <span style=\"color: #008080; text-decoration-color: #008080; font-weight: bold\">112</span>, <span style=\"color: #008080; text-decoration-color: #008080; font-weight: bold\">116</span>, <span style=\"color: #008080; text-decoration-color: #008080; font-weight: bold\">117</span>, <span style=\"color: #008080; text-decoration-color: #008080; font-weight: bold\">110</span>, <span style=\"color: #008080; text-decoration-color: #008080; font-weight: bold\">101</span><span style=\"font-weight: bold\">]</span>,\n",
       "                            <span style=\"color: #808000; text-decoration-color: #808000\">logprob</span>=<span style=\"color: #008080; text-decoration-color: #008080; font-weight: bold\">-10.509114</span>\n",
       "                        <span style=\"font-weight: bold\">)</span>,\n",
       "                        <span style=\"color: #800080; text-decoration-color: #800080; font-weight: bold\">TopLogprob</span><span style=\"font-weight: bold\">(</span><span style=\"color: #808000; text-decoration-color: #808000\">token</span>=<span style=\"color: #008000; text-decoration-color: #008000\">' '</span>, <span style=\"color: #808000; text-decoration-color: #808000\">bytes</span>=<span style=\"font-weight: bold\">[</span><span style=\"color: #008080; text-decoration-color: #008080; font-weight: bold\">32</span><span style=\"font-weight: bold\">]</span>, <span style=\"color: #808000; text-decoration-color: #808000\">logprob</span>=<span style=\"color: #008080; text-decoration-color: #008080; font-weight: bold\">-11.771441</span><span style=\"font-weight: bold\">)</span>,\n",
       "                        <span style=\"color: #800080; text-decoration-color: #800080; font-weight: bold\">TopLogprob</span><span style=\"font-weight: bold\">(</span><span style=\"color: #808000; text-decoration-color: #808000\">token</span>=<span style=\"color: #008000; text-decoration-color: #008000\">' Ur'</span>, <span style=\"color: #808000; text-decoration-color: #808000\">bytes</span>=<span style=\"font-weight: bold\">[</span><span style=\"color: #008080; text-decoration-color: #008080; font-weight: bold\">32</span>, <span style=\"color: #008080; text-decoration-color: #008080; font-weight: bold\">85</span>, <span style=\"color: #008080; text-decoration-color: #008080; font-weight: bold\">114</span><span style=\"font-weight: bold\">]</span>, <span style=\"color: #808000; text-decoration-color: #808000\">logprob</span>=<span style=\"color: #008080; text-decoration-color: #008080; font-weight: bold\">-16.197191</span><span style=\"font-weight: bold\">)</span>,\n",
       "                        <span style=\"color: #800080; text-decoration-color: #800080; font-weight: bold\">TopLogprob</span><span style=\"font-weight: bold\">(</span><span style=\"color: #808000; text-decoration-color: #808000\">token</span>=<span style=\"color: #008000; text-decoration-color: #008000\">' \\n'</span>, <span style=\"color: #808000; text-decoration-color: #808000\">bytes</span>=<span style=\"font-weight: bold\">[</span><span style=\"color: #008080; text-decoration-color: #008080; font-weight: bold\">32</span>, <span style=\"color: #008080; text-decoration-color: #008080; font-weight: bold\">10</span><span style=\"font-weight: bold\">]</span>, <span style=\"color: #808000; text-decoration-color: #808000\">logprob</span>=<span style=\"color: #008080; text-decoration-color: #008080; font-weight: bold\">-16.359787</span><span style=\"font-weight: bold\">)</span>\n",
       "                    <span style=\"font-weight: bold\">]</span>\n",
       "                <span style=\"font-weight: bold\">)</span>,\n",
       "                <span style=\"color: #800080; text-decoration-color: #800080; font-weight: bold\">ChatCompletionTokenLogprob</span><span style=\"font-weight: bold\">(</span>\n",
       "                    <span style=\"color: #808000; text-decoration-color: #808000\">token</span>=<span style=\"color: #008000; text-decoration-color: #008000\">'us'</span>,\n",
       "                    <span style=\"color: #808000; text-decoration-color: #808000\">bytes</span>=<span style=\"font-weight: bold\">[</span><span style=\"color: #008080; text-decoration-color: #008080; font-weight: bold\">117</span>, <span style=\"color: #008080; text-decoration-color: #008080; font-weight: bold\">115</span><span style=\"font-weight: bold\">]</span>,\n",
       "                    <span style=\"color: #808000; text-decoration-color: #808000\">logprob</span>=<span style=\"color: #008080; text-decoration-color: #008080; font-weight: bold\">-1.3067608e-05</span>,\n",
       "                    <span style=\"color: #808000; text-decoration-color: #808000\">top_logprobs</span>=<span style=\"font-weight: bold\">[</span>\n",
       "                        <span style=\"color: #800080; text-decoration-color: #800080; font-weight: bold\">TopLogprob</span><span style=\"font-weight: bold\">(</span><span style=\"color: #808000; text-decoration-color: #808000\">token</span>=<span style=\"color: #008000; text-decoration-color: #008000\">'us'</span>, <span style=\"color: #808000; text-decoration-color: #808000\">bytes</span>=<span style=\"font-weight: bold\">[</span><span style=\"color: #008080; text-decoration-color: #008080; font-weight: bold\">117</span>, <span style=\"color: #008080; text-decoration-color: #008080; font-weight: bold\">115</span><span style=\"font-weight: bold\">]</span>, <span style=\"color: #808000; text-decoration-color: #808000\">logprob</span>=<span style=\"color: #008080; text-decoration-color: #008080; font-weight: bold\">-1.3067608e-05</span><span style=\"font-weight: bold\">)</span>,\n",
       "                        <span style=\"color: #800080; text-decoration-color: #800080; font-weight: bold\">TopLogprob</span><span style=\"font-weight: bold\">(</span><span style=\"color: #808000; text-decoration-color: #808000\">token</span>=<span style=\"color: #008000; text-decoration-color: #008000\">'u'</span>, <span style=\"color: #808000; text-decoration-color: #808000\">bytes</span>=<span style=\"font-weight: bold\">[</span><span style=\"color: #008080; text-decoration-color: #008080; font-weight: bold\">117</span><span style=\"font-weight: bold\">]</span>, <span style=\"color: #808000; text-decoration-color: #808000\">logprob</span>=<span style=\"color: #008080; text-decoration-color: #008080; font-weight: bold\">-12.654243</span><span style=\"font-weight: bold\">)</span>,\n",
       "                        <span style=\"color: #800080; text-decoration-color: #800080; font-weight: bold\">TopLogprob</span><span style=\"font-weight: bold\">(</span><span style=\"color: #808000; text-decoration-color: #808000\">token</span>=<span style=\"color: #008000; text-decoration-color: #008000\">'is'</span>, <span style=\"color: #808000; text-decoration-color: #808000\">bytes</span>=<span style=\"font-weight: bold\">[</span><span style=\"color: #008080; text-decoration-color: #008080; font-weight: bold\">105</span>, <span style=\"color: #008080; text-decoration-color: #008080; font-weight: bold\">115</span><span style=\"font-weight: bold\">]</span>, <span style=\"color: #808000; text-decoration-color: #808000\">logprob</span>=<span style=\"color: #008080; text-decoration-color: #008080; font-weight: bold\">-12.803968</span><span style=\"font-weight: bold\">)</span>,\n",
       "                        <span style=\"color: #800080; text-decoration-color: #800080; font-weight: bold\">TopLogprob</span><span style=\"font-weight: bold\">(</span><span style=\"color: #808000; text-decoration-color: #808000\">token</span>=<span style=\"color: #008000; text-decoration-color: #008000\">'as'</span>, <span style=\"color: #808000; text-decoration-color: #808000\">bytes</span>=<span style=\"font-weight: bold\">[</span><span style=\"color: #008080; text-decoration-color: #008080; font-weight: bold\">97</span>, <span style=\"color: #008080; text-decoration-color: #008080; font-weight: bold\">115</span><span style=\"font-weight: bold\">]</span>, <span style=\"color: #808000; text-decoration-color: #808000\">logprob</span>=<span style=\"color: #008080; text-decoration-color: #008080; font-weight: bold\">-13.4831505</span><span style=\"font-weight: bold\">)</span>,\n",
       "                        <span style=\"color: #800080; text-decoration-color: #800080; font-weight: bold\">TopLogprob</span><span style=\"font-weight: bold\">(</span><span style=\"color: #808000; text-decoration-color: #808000\">token</span>=<span style=\"color: #008000; text-decoration-color: #008000\">'os'</span>, <span style=\"color: #808000; text-decoration-color: #808000\">bytes</span>=<span style=\"font-weight: bold\">[</span><span style=\"color: #008080; text-decoration-color: #008080; font-weight: bold\">111</span>, <span style=\"color: #008080; text-decoration-color: #008080; font-weight: bold\">115</span><span style=\"font-weight: bold\">]</span>, <span style=\"color: #808000; text-decoration-color: #808000\">logprob</span>=<span style=\"color: #008080; text-decoration-color: #008080; font-weight: bold\">-13.868574</span><span style=\"font-weight: bold\">)</span>\n",
       "                    <span style=\"font-weight: bold\">]</span>\n",
       "                <span style=\"font-weight: bold\">)</span>,\n",
       "                <span style=\"color: #800080; text-decoration-color: #800080; font-weight: bold\">ChatCompletionTokenLogprob</span><span style=\"font-weight: bold\">(</span>\n",
       "                    <span style=\"color: #808000; text-decoration-color: #808000\">token</span>=<span style=\"color: #008000; text-decoration-color: #008000\">','</span>,\n",
       "                    <span style=\"color: #808000; text-decoration-color: #808000\">bytes</span>=<span style=\"font-weight: bold\">[</span><span style=\"color: #008080; text-decoration-color: #008080; font-weight: bold\">44</span><span style=\"font-weight: bold\">]</span>,\n",
       "                    <span style=\"color: #808000; text-decoration-color: #808000\">logprob</span>=<span style=\"color: #008080; text-decoration-color: #008080; font-weight: bold\">-3.0471343e-05</span>,\n",
       "                    <span style=\"color: #808000; text-decoration-color: #808000\">top_logprobs</span>=<span style=\"font-weight: bold\">[</span>\n",
       "                        <span style=\"color: #800080; text-decoration-color: #800080; font-weight: bold\">TopLogprob</span><span style=\"font-weight: bold\">(</span><span style=\"color: #808000; text-decoration-color: #808000\">token</span>=<span style=\"color: #008000; text-decoration-color: #008000\">','</span>, <span style=\"color: #808000; text-decoration-color: #808000\">bytes</span>=<span style=\"font-weight: bold\">[</span><span style=\"color: #008080; text-decoration-color: #008080; font-weight: bold\">44</span><span style=\"font-weight: bold\">]</span>, <span style=\"color: #808000; text-decoration-color: #808000\">logprob</span>=<span style=\"color: #008080; text-decoration-color: #008080; font-weight: bold\">-3.0471343e-05</span><span style=\"font-weight: bold\">)</span>,\n",
       "                        <span style=\"color: #800080; text-decoration-color: #800080; font-weight: bold\">TopLogprob</span><span style=\"font-weight: bold\">(</span><span style=\"color: #808000; text-decoration-color: #808000\">token</span>=<span style=\"color: #008000; text-decoration-color: #008000\">' and'</span>, <span style=\"color: #808000; text-decoration-color: #808000\">bytes</span>=<span style=\"font-weight: bold\">[</span><span style=\"color: #008080; text-decoration-color: #008080; font-weight: bold\">32</span>, <span style=\"color: #008080; text-decoration-color: #008080; font-weight: bold\">97</span>, <span style=\"color: #008080; text-decoration-color: #008080; font-weight: bold\">110</span>, <span style=\"color: #008080; text-decoration-color: #008080; font-weight: bold\">100</span><span style=\"font-weight: bold\">]</span>, <span style=\"color: #808000; text-decoration-color: #808000\">logprob</span>=<span style=\"color: #008080; text-decoration-color: #008080; font-weight: bold\">-10.424301</span><span style=\"font-weight: bold\">)</span>,\n",
       "                        <span style=\"color: #800080; text-decoration-color: #800080; font-weight: bold\">TopLogprob</span><span style=\"font-weight: bold\">(</span><span style=\"color: #808000; text-decoration-color: #808000\">token</span>=<span style=\"color: #008000; text-decoration-color: #008000\">',\\n'</span>, <span style=\"color: #808000; text-decoration-color: #808000\">bytes</span>=<span style=\"font-weight: bold\">[</span><span style=\"color: #008080; text-decoration-color: #008080; font-weight: bold\">44</span>, <span style=\"color: #008080; text-decoration-color: #008080; font-weight: bold\">10</span><span style=\"font-weight: bold\">]</span>, <span style=\"color: #808000; text-decoration-color: #808000\">logprob</span>=<span style=\"color: #008080; text-decoration-color: #008080; font-weight: bold\">-15.263325</span><span style=\"font-weight: bold\">)</span>,\n",
       "                        <span style=\"color: #800080; text-decoration-color: #800080; font-weight: bold\">TopLogprob</span><span style=\"font-weight: bold\">(</span><span style=\"color: #808000; text-decoration-color: #808000\">token</span>=<span style=\"color: #008000; text-decoration-color: #008000\">' ,'</span>, <span style=\"color: #808000; text-decoration-color: #808000\">bytes</span>=<span style=\"font-weight: bold\">[</span><span style=\"color: #008080; text-decoration-color: #008080; font-weight: bold\">32</span>, <span style=\"color: #008080; text-decoration-color: #008080; font-weight: bold\">44</span><span style=\"font-weight: bold\">]</span>, <span style=\"color: #808000; text-decoration-color: #808000\">logprob</span>=<span style=\"color: #008080; text-decoration-color: #008080; font-weight: bold\">-15.344509</span><span style=\"font-weight: bold\">)</span>,\n",
       "                        <span style=\"color: #800080; text-decoration-color: #800080; font-weight: bold\">TopLogprob</span><span style=\"font-weight: bold\">(</span><span style=\"color: #808000; text-decoration-color: #808000\">token</span>=<span style=\"color: #008000; text-decoration-color: #008000\">',and'</span>, <span style=\"color: #808000; text-decoration-color: #808000\">bytes</span>=<span style=\"font-weight: bold\">[</span><span style=\"color: #008080; text-decoration-color: #008080; font-weight: bold\">44</span>, <span style=\"color: #008080; text-decoration-color: #008080; font-weight: bold\">97</span>, <span style=\"color: #008080; text-decoration-color: #008080; font-weight: bold\">110</span>, <span style=\"color: #008080; text-decoration-color: #008080; font-weight: bold\">100</span><span style=\"font-weight: bold\">]</span>, <span style=\"color: #808000; text-decoration-color: #808000\">logprob</span>=<span style=\"color: #008080; text-decoration-color: #008080; font-weight: bold\">-15.558033</span><span style=\"font-weight: bold\">)</span>\n",
       "                    <span style=\"font-weight: bold\">]</span>\n",
       "                <span style=\"font-weight: bold\">)</span>,\n",
       "                <span style=\"color: #800080; text-decoration-color: #800080; font-weight: bold\">ChatCompletionTokenLogprob</span><span style=\"font-weight: bold\">(</span>\n",
       "                    <span style=\"color: #808000; text-decoration-color: #808000\">token</span>=<span style=\"color: #008000; text-decoration-color: #008000\">' Neptune'</span>,\n",
       "                    <span style=\"color: #808000; text-decoration-color: #808000\">bytes</span>=<span style=\"font-weight: bold\">[</span><span style=\"color: #008080; text-decoration-color: #008080; font-weight: bold\">32</span>, <span style=\"color: #008080; text-decoration-color: #008080; font-weight: bold\">78</span>, <span style=\"color: #008080; text-decoration-color: #008080; font-weight: bold\">101</span>, <span style=\"color: #008080; text-decoration-color: #008080; font-weight: bold\">112</span>, <span style=\"color: #008080; text-decoration-color: #008080; font-weight: bold\">116</span>, <span style=\"color: #008080; text-decoration-color: #008080; font-weight: bold\">117</span>, <span style=\"color: #008080; text-decoration-color: #008080; font-weight: bold\">110</span>, <span style=\"color: #008080; text-decoration-color: #008080; font-weight: bold\">101</span><span style=\"font-weight: bold\">]</span>,\n",
       "                    <span style=\"color: #808000; text-decoration-color: #808000\">logprob</span>=<span style=\"color: #008080; text-decoration-color: #008080; font-weight: bold\">-0.0067509008</span>,\n",
       "                    <span style=\"color: #808000; text-decoration-color: #808000\">top_logprobs</span>=<span style=\"font-weight: bold\">[</span>\n",
       "                        <span style=\"color: #800080; text-decoration-color: #800080; font-weight: bold\">TopLogprob</span><span style=\"font-weight: bold\">(</span>\n",
       "                            <span style=\"color: #808000; text-decoration-color: #808000\">token</span>=<span style=\"color: #008000; text-decoration-color: #008000\">' Neptune'</span>,\n",
       "                            <span style=\"color: #808000; text-decoration-color: #808000\">bytes</span>=<span style=\"font-weight: bold\">[</span><span style=\"color: #008080; text-decoration-color: #008080; font-weight: bold\">32</span>, <span style=\"color: #008080; text-decoration-color: #008080; font-weight: bold\">78</span>, <span style=\"color: #008080; text-decoration-color: #008080; font-weight: bold\">101</span>, <span style=\"color: #008080; text-decoration-color: #008080; font-weight: bold\">112</span>, <span style=\"color: #008080; text-decoration-color: #008080; font-weight: bold\">116</span>, <span style=\"color: #008080; text-decoration-color: #008080; font-weight: bold\">117</span>, <span style=\"color: #008080; text-decoration-color: #008080; font-weight: bold\">110</span>, <span style=\"color: #008080; text-decoration-color: #008080; font-weight: bold\">101</span><span style=\"font-weight: bold\">]</span>,\n",
       "                            <span style=\"color: #808000; text-decoration-color: #808000\">logprob</span>=<span style=\"color: #008080; text-decoration-color: #008080; font-weight: bold\">-0.0067509008</span>\n",
       "                        <span style=\"font-weight: bold\">)</span>,\n",
       "                        <span style=\"color: #800080; text-decoration-color: #800080; font-weight: bold\">TopLogprob</span><span style=\"font-weight: bold\">(</span><span style=\"color: #808000; text-decoration-color: #808000\">token</span>=<span style=\"color: #008000; text-decoration-color: #008000\">' and'</span>, <span style=\"color: #808000; text-decoration-color: #808000\">bytes</span>=<span style=\"font-weight: bold\">[</span><span style=\"color: #008080; text-decoration-color: #008080; font-weight: bold\">32</span>, <span style=\"color: #008080; text-decoration-color: #008080; font-weight: bold\">97</span>, <span style=\"color: #008080; text-decoration-color: #008080; font-weight: bold\">110</span>, <span style=\"color: #008080; text-decoration-color: #008080; font-weight: bold\">100</span><span style=\"font-weight: bold\">]</span>, <span style=\"color: #808000; text-decoration-color: #808000\">logprob</span>=<span style=\"color: #008080; text-decoration-color: #008080; font-weight: bold\">-5.005843</span><span style=\"font-weight: bold\">)</span>,\n",
       "                        <span style=\"color: #800080; text-decoration-color: #800080; font-weight: bold\">TopLogprob</span><span style=\"font-weight: bold\">(</span><span style=\"color: #808000; text-decoration-color: #808000\">token</span>=<span style=\"color: #008000; text-decoration-color: #008000\">' '</span>, <span style=\"color: #808000; text-decoration-color: #808000\">bytes</span>=<span style=\"font-weight: bold\">[</span><span style=\"color: #008080; text-decoration-color: #008080; font-weight: bold\">32</span><span style=\"font-weight: bold\">]</span>, <span style=\"color: #808000; text-decoration-color: #808000\">logprob</span>=<span style=\"color: #008080; text-decoration-color: #008080; font-weight: bold\">-10.953055</span><span style=\"font-weight: bold\">)</span>,\n",
       "                        <span style=\"color: #800080; text-decoration-color: #800080; font-weight: bold\">TopLogprob</span><span style=\"font-weight: bold\">(</span><span style=\"color: #808000; text-decoration-color: #808000\">token</span>=<span style=\"color: #008000; text-decoration-color: #008000\">' Ne'</span>, <span style=\"color: #808000; text-decoration-color: #808000\">bytes</span>=<span style=\"font-weight: bold\">[</span><span style=\"color: #008080; text-decoration-color: #008080; font-weight: bold\">32</span>, <span style=\"color: #008080; text-decoration-color: #008080; font-weight: bold\">78</span>, <span style=\"color: #008080; text-decoration-color: #008080; font-weight: bold\">101</span><span style=\"font-weight: bold\">]</span>, <span style=\"color: #808000; text-decoration-color: #808000\">logprob</span>=<span style=\"color: #008080; text-decoration-color: #008080; font-weight: bold\">-11.483464</span><span style=\"font-weight: bold\">)</span>,\n",
       "                        <span style=\"color: #800080; text-decoration-color: #800080; font-weight: bold\">TopLogprob</span><span style=\"font-weight: bold\">(</span><span style=\"color: #808000; text-decoration-color: #808000\">token</span>=<span style=\"color: #008000; text-decoration-color: #008000\">'Ne'</span>, <span style=\"color: #808000; text-decoration-color: #808000\">bytes</span>=<span style=\"font-weight: bold\">[</span><span style=\"color: #008080; text-decoration-color: #008080; font-weight: bold\">78</span>, <span style=\"color: #008080; text-decoration-color: #008080; font-weight: bold\">101</span><span style=\"font-weight: bold\">]</span>, <span style=\"color: #808000; text-decoration-color: #808000\">logprob</span>=<span style=\"color: #008080; text-decoration-color: #008080; font-weight: bold\">-13.798982</span><span style=\"font-weight: bold\">)</span>\n",
       "                    <span style=\"font-weight: bold\">]</span>\n",
       "                <span style=\"font-weight: bold\">)</span>\n",
       "            <span style=\"font-weight: bold\">]</span>,\n",
       "            <span style=\"color: #808000; text-decoration-color: #808000\">refusal</span>=<span style=\"color: #800080; text-decoration-color: #800080; font-style: italic\">None</span>\n",
       "        <span style=\"font-weight: bold\">)</span>,\n",
       "        <span style=\"color: #808000; text-decoration-color: #808000\">message</span>=<span style=\"color: #800080; text-decoration-color: #800080; font-weight: bold\">ChatCompletionMessage</span><span style=\"font-weight: bold\">(</span>\n",
       "            <span style=\"color: #808000; text-decoration-color: #808000\">content</span>=<span style=\"color: #008000; text-decoration-color: #008000\">'Mercury, Venus, Earth, Mars, Jupiter, Saturn, Uranus, Neptune'</span>,\n",
       "            <span style=\"color: #808000; text-decoration-color: #808000\">refusal</span>=<span style=\"color: #800080; text-decoration-color: #800080; font-style: italic\">None</span>,\n",
       "            <span style=\"color: #808000; text-decoration-color: #808000\">role</span>=<span style=\"color: #008000; text-decoration-color: #008000\">'assistant'</span>,\n",
       "            <span style=\"color: #808000; text-decoration-color: #808000\">function_call</span>=<span style=\"color: #800080; text-decoration-color: #800080; font-style: italic\">None</span>,\n",
       "            <span style=\"color: #808000; text-decoration-color: #808000\">tool_calls</span>=<span style=\"color: #800080; text-decoration-color: #800080; font-style: italic\">None</span>\n",
       "        <span style=\"font-weight: bold\">)</span>\n",
       "    <span style=\"font-weight: bold\">)</span>\n",
       "<span style=\"font-weight: bold\">]</span>\n",
       "</pre>\n"
      ],
      "text/plain": [
       "\u001b[1m[\u001b[0m\n",
       "    \u001b[1;35mChoice\u001b[0m\u001b[1m(\u001b[0m\n",
       "        \u001b[33mfinish_reason\u001b[0m=\u001b[32m'stop'\u001b[0m,\n",
       "        \u001b[33mindex\u001b[0m=\u001b[1;36m0\u001b[0m,\n",
       "        \u001b[33mlogprobs\u001b[0m=\u001b[1;35mChoiceLogprobs\u001b[0m\u001b[1m(\u001b[0m\n",
       "            \u001b[33mcontent\u001b[0m=\u001b[1m[\u001b[0m\n",
       "                \u001b[1;35mChatCompletionTokenLogprob\u001b[0m\u001b[1m(\u001b[0m\n",
       "                    \u001b[33mtoken\u001b[0m=\u001b[32m'Mer'\u001b[0m,\n",
       "                    \u001b[33mbytes\u001b[0m=\u001b[1m[\u001b[0m\u001b[1;36m77\u001b[0m, \u001b[1;36m101\u001b[0m, \u001b[1;36m114\u001b[0m\u001b[1m]\u001b[0m,\n",
       "                    \u001b[33mlogprob\u001b[0m=\u001b[1;36m-1.050902\u001b[0m,\n",
       "                    \u001b[33mtop_logprobs\u001b[0m=\u001b[1m[\u001b[0m\n",
       "                        \u001b[1;35mTopLogprob\u001b[0m\u001b[1m(\u001b[0m\u001b[33mtoken\u001b[0m=\u001b[32m'1'\u001b[0m, \u001b[33mbytes\u001b[0m=\u001b[1m[\u001b[0m\u001b[1;36m49\u001b[0m\u001b[1m]\u001b[0m, \u001b[33mlogprob\u001b[0m=\u001b[1;36m-0.5625769\u001b[0m\u001b[1m)\u001b[0m,\n",
       "                        \u001b[1;35mTopLogprob\u001b[0m\u001b[1m(\u001b[0m\u001b[33mtoken\u001b[0m=\u001b[32m'Mer'\u001b[0m, \u001b[33mbytes\u001b[0m=\u001b[1m[\u001b[0m\u001b[1;36m77\u001b[0m, \u001b[1;36m101\u001b[0m, \u001b[1;36m114\u001b[0m\u001b[1m]\u001b[0m, \u001b[33mlogprob\u001b[0m=\u001b[1;36m-1.050902\u001b[0m\u001b[1m)\u001b[0m,\n",
       "                        \u001b[1;35mTopLogprob\u001b[0m\u001b[1m(\u001b[0m\u001b[33mtoken\u001b[0m=\u001b[32m'The'\u001b[0m, \u001b[33mbytes\u001b[0m=\u001b[1m[\u001b[0m\u001b[1;36m84\u001b[0m, \u001b[1;36m104\u001b[0m, \u001b[1;36m101\u001b[0m\u001b[1m]\u001b[0m, \u001b[33mlogprob\u001b[0m=\u001b[1;36m-2.8802953\u001b[0m\u001b[1m)\u001b[0m,\n",
       "                        \u001b[1;35mTopLogprob\u001b[0m\u001b[1m(\u001b[0m\u001b[33mtoken\u001b[0m=\u001b[32m'-'\u001b[0m, \u001b[33mbytes\u001b[0m=\u001b[1m[\u001b[0m\u001b[1;36m45\u001b[0m\u001b[1m]\u001b[0m, \u001b[33mlogprob\u001b[0m=\u001b[1;36m-4.1521287\u001b[0m\u001b[1m)\u001b[0m,\n",
       "                        \u001b[1;35mTopLogprob\u001b[0m\u001b[1m(\u001b[0m\u001b[33mtoken\u001b[0m=\u001b[32m'There'\u001b[0m, \u001b[33mbytes\u001b[0m=\u001b[1m[\u001b[0m\u001b[1;36m84\u001b[0m, \u001b[1;36m104\u001b[0m, \u001b[1;36m101\u001b[0m, \u001b[1;36m114\u001b[0m, \u001b[1;36m101\u001b[0m\u001b[1m]\u001b[0m, \u001b[33mlogprob\u001b[0m=\u001b[1;36m-5.6867146\u001b[0m\u001b[1m)\u001b[0m\n",
       "                    \u001b[1m]\u001b[0m\n",
       "                \u001b[1m)\u001b[0m,\n",
       "                \u001b[1;35mChatCompletionTokenLogprob\u001b[0m\u001b[1m(\u001b[0m\n",
       "                    \u001b[33mtoken\u001b[0m=\u001b[32m'cury'\u001b[0m,\n",
       "                    \u001b[33mbytes\u001b[0m=\u001b[1m[\u001b[0m\u001b[1;36m99\u001b[0m, \u001b[1;36m117\u001b[0m, \u001b[1;36m114\u001b[0m, \u001b[1;36m121\u001b[0m\u001b[1m]\u001b[0m,\n",
       "                    \u001b[33mlogprob\u001b[0m=\u001b[1;36m0\u001b[0m\u001b[1;36m.0\u001b[0m,\n",
       "                    \u001b[33mtop_logprobs\u001b[0m=\u001b[1m[\u001b[0m\n",
       "                        \u001b[1;35mTopLogprob\u001b[0m\u001b[1m(\u001b[0m\u001b[33mtoken\u001b[0m=\u001b[32m'cury'\u001b[0m, \u001b[33mbytes\u001b[0m=\u001b[1m[\u001b[0m\u001b[1;36m99\u001b[0m, \u001b[1;36m117\u001b[0m, \u001b[1;36m114\u001b[0m, \u001b[1;36m121\u001b[0m\u001b[1m]\u001b[0m, \u001b[33mlogprob\u001b[0m=\u001b[1;36m0\u001b[0m\u001b[1;36m.0\u001b[0m\u001b[1m)\u001b[0m,\n",
       "                        \u001b[1;35mTopLogprob\u001b[0m\u001b[1m(\u001b[0m\u001b[33mtoken\u001b[0m=\u001b[32m'ury'\u001b[0m, \u001b[33mbytes\u001b[0m=\u001b[1m[\u001b[0m\u001b[1;36m117\u001b[0m, \u001b[1;36m114\u001b[0m, \u001b[1;36m121\u001b[0m\u001b[1m]\u001b[0m, \u001b[33mlogprob\u001b[0m=\u001b[1;36m-17.271332\u001b[0m\u001b[1m)\u001b[0m,\n",
       "                        \u001b[1;35mTopLogprob\u001b[0m\u001b[1m(\u001b[0m\u001b[33mtoken\u001b[0m=\u001b[32m'cur'\u001b[0m, \u001b[33mbytes\u001b[0m=\u001b[1m[\u001b[0m\u001b[1;36m99\u001b[0m, \u001b[1;36m117\u001b[0m, \u001b[1;36m114\u001b[0m\u001b[1m]\u001b[0m, \u001b[33mlogprob\u001b[0m=\u001b[1;36m-18.114151\u001b[0m\u001b[1m)\u001b[0m,\n",
       "                        \u001b[1;35mTopLogprob\u001b[0m\u001b[1m(\u001b[0m\u001b[33mtoken\u001b[0m=\u001b[32m'uc'\u001b[0m, \u001b[33mbytes\u001b[0m=\u001b[1m[\u001b[0m\u001b[1;36m117\u001b[0m, \u001b[1;36m99\u001b[0m\u001b[1m]\u001b[0m, \u001b[33mlogprob\u001b[0m=\u001b[1;36m-18.547878\u001b[0m\u001b[1m)\u001b[0m,\n",
       "                        \u001b[1;35mTopLogprob\u001b[0m\u001b[1m(\u001b[0m\n",
       "                            \u001b[33mtoken\u001b[0m=\u001b[32m' Mercury'\u001b[0m,\n",
       "                            \u001b[33mbytes\u001b[0m=\u001b[1m[\u001b[0m\u001b[1;36m32\u001b[0m, \u001b[1;36m77\u001b[0m, \u001b[1;36m101\u001b[0m, \u001b[1;36m114\u001b[0m, \u001b[1;36m99\u001b[0m, \u001b[1;36m117\u001b[0m, \u001b[1;36m114\u001b[0m, \u001b[1;36m121\u001b[0m\u001b[1m]\u001b[0m,\n",
       "                            \u001b[33mlogprob\u001b[0m=\u001b[1;36m-20.207407\u001b[0m\n",
       "                        \u001b[1m)\u001b[0m\n",
       "                    \u001b[1m]\u001b[0m\n",
       "                \u001b[1m)\u001b[0m,\n",
       "                \u001b[1;35mChatCompletionTokenLogprob\u001b[0m\u001b[1m(\u001b[0m\n",
       "                    \u001b[33mtoken\u001b[0m=\u001b[32m','\u001b[0m,\n",
       "                    \u001b[33mbytes\u001b[0m=\u001b[1m[\u001b[0m\u001b[1;36m44\u001b[0m\u001b[1m]\u001b[0m,\n",
       "                    \u001b[33mlogprob\u001b[0m=\u001b[1;36m-0.0057383403\u001b[0m,\n",
       "                    \u001b[33mtop_logprobs\u001b[0m=\u001b[1m[\u001b[0m\n",
       "                        \u001b[1;35mTopLogprob\u001b[0m\u001b[1m(\u001b[0m\u001b[33mtoken\u001b[0m=\u001b[32m','\u001b[0m, \u001b[33mbytes\u001b[0m=\u001b[1m[\u001b[0m\u001b[1;36m44\u001b[0m\u001b[1m]\u001b[0m, \u001b[33mlogprob\u001b[0m=\u001b[1;36m-0.0057383403\u001b[0m\u001b[1m)\u001b[0m,\n",
       "                        \u001b[1;35mTopLogprob\u001b[0m\u001b[1m(\u001b[0m\u001b[33mtoken\u001b[0m=\u001b[32m'\\n'\u001b[0m, \u001b[33mbytes\u001b[0m=\u001b[1m[\u001b[0m\u001b[1;36m10\u001b[0m\u001b[1m]\u001b[0m, \u001b[33mlogprob\u001b[0m=\u001b[1;36m-5.1852446\u001b[0m\u001b[1m)\u001b[0m,\n",
       "                        \u001b[1;35mTopLogprob\u001b[0m\u001b[1m(\u001b[0m\u001b[33mtoken\u001b[0m=\u001b[32m' \\n'\u001b[0m, \u001b[33mbytes\u001b[0m=\u001b[1m[\u001b[0m\u001b[1;36m32\u001b[0m, \u001b[1;36m10\u001b[0m\u001b[1m]\u001b[0m, \u001b[33mlogprob\u001b[0m=\u001b[1;36m-9.419543\u001b[0m\u001b[1m)\u001b[0m,\n",
       "                        \u001b[1;35mTopLogprob\u001b[0m\u001b[1m(\u001b[0m\u001b[33mtoken\u001b[0m=\u001b[32m',\\n'\u001b[0m, \u001b[33mbytes\u001b[0m=\u001b[1m[\u001b[0m\u001b[1;36m44\u001b[0m, \u001b[1;36m10\u001b[0m\u001b[1m]\u001b[0m, \u001b[33mlogprob\u001b[0m=\u001b[1;36m-10.927722\u001b[0m\u001b[1m)\u001b[0m,\n",
       "                        \u001b[1;35mTopLogprob\u001b[0m\u001b[1m(\u001b[0m\u001b[33mtoken\u001b[0m=\u001b[32m',V'\u001b[0m, \u001b[33mbytes\u001b[0m=\u001b[1m[\u001b[0m\u001b[1;36m44\u001b[0m, \u001b[1;36m86\u001b[0m\u001b[1m]\u001b[0m, \u001b[33mlogprob\u001b[0m=\u001b[1;36m-11.489453\u001b[0m\u001b[1m)\u001b[0m\n",
       "                    \u001b[1m]\u001b[0m\n",
       "                \u001b[1m)\u001b[0m,\n",
       "                \u001b[1;35mChatCompletionTokenLogprob\u001b[0m\u001b[1m(\u001b[0m\n",
       "                    \u001b[33mtoken\u001b[0m=\u001b[32m' Venus'\u001b[0m,\n",
       "                    \u001b[33mbytes\u001b[0m=\u001b[1m[\u001b[0m\u001b[1;36m32\u001b[0m, \u001b[1;36m86\u001b[0m, \u001b[1;36m101\u001b[0m, \u001b[1;36m110\u001b[0m, \u001b[1;36m117\u001b[0m, \u001b[1;36m115\u001b[0m\u001b[1m]\u001b[0m,\n",
       "                    \u001b[33mlogprob\u001b[0m=\u001b[1;36m-7.703444e-06\u001b[0m,\n",
       "                    \u001b[33mtop_logprobs\u001b[0m=\u001b[1m[\u001b[0m\n",
       "                        \u001b[1;35mTopLogprob\u001b[0m\u001b[1m(\u001b[0m\u001b[33mtoken\u001b[0m=\u001b[32m' Venus'\u001b[0m, \u001b[33mbytes\u001b[0m=\u001b[1m[\u001b[0m\u001b[1;36m32\u001b[0m, \u001b[1;36m86\u001b[0m, \u001b[1;36m101\u001b[0m, \u001b[1;36m110\u001b[0m, \u001b[1;36m117\u001b[0m, \u001b[1;36m115\u001b[0m\u001b[1m]\u001b[0m, \u001b[33mlogprob\u001b[0m=\u001b[1;36m-7.703444e-06\u001b[0m\u001b[1m)\u001b[0m,\n",
       "                        \u001b[1;35mTopLogprob\u001b[0m\u001b[1m(\u001b[0m\u001b[33mtoken\u001b[0m=\u001b[32m' '\u001b[0m, \u001b[33mbytes\u001b[0m=\u001b[1m[\u001b[0m\u001b[1;36m32\u001b[0m\u001b[1m]\u001b[0m, \u001b[33mlogprob\u001b[0m=\u001b[1;36m-11.961809\u001b[0m\u001b[1m)\u001b[0m,\n",
       "                        \u001b[1;35mTopLogprob\u001b[0m\u001b[1m(\u001b[0m\u001b[33mtoken\u001b[0m=\u001b[32m' \\n'\u001b[0m, \u001b[33mbytes\u001b[0m=\u001b[1m[\u001b[0m\u001b[1;36m32\u001b[0m, \u001b[1;36m10\u001b[0m\u001b[1m]\u001b[0m, \u001b[33mlogprob\u001b[0m=\u001b[1;36m-14.105684\u001b[0m\u001b[1m)\u001b[0m,\n",
       "                        \u001b[1;35mTopLogprob\u001b[0m\u001b[1m(\u001b[0m\u001b[33mtoken\u001b[0m=\u001b[32m' Mars'\u001b[0m, \u001b[33mbytes\u001b[0m=\u001b[1m[\u001b[0m\u001b[1;36m32\u001b[0m, \u001b[1;36m77\u001b[0m, \u001b[1;36m97\u001b[0m, \u001b[1;36m114\u001b[0m, \u001b[1;36m115\u001b[0m\u001b[1m]\u001b[0m, \u001b[33mlogprob\u001b[0m=\u001b[1;36m-15.172667\u001b[0m\u001b[1m)\u001b[0m,\n",
       "                        \u001b[1;35mTopLogprob\u001b[0m\u001b[1m(\u001b[0m\u001b[33mtoken\u001b[0m=\u001b[32m'  '\u001b[0m, \u001b[33mbytes\u001b[0m=\u001b[1m[\u001b[0m\u001b[1;36m32\u001b[0m, \u001b[1;36m32\u001b[0m\u001b[1m]\u001b[0m, \u001b[33mlogprob\u001b[0m=\u001b[1;36m-16.471138\u001b[0m\u001b[1m)\u001b[0m\n",
       "                    \u001b[1m]\u001b[0m\n",
       "                \u001b[1m)\u001b[0m,\n",
       "                \u001b[1;35mChatCompletionTokenLogprob\u001b[0m\u001b[1m(\u001b[0m\n",
       "                    \u001b[33mtoken\u001b[0m=\u001b[32m','\u001b[0m,\n",
       "                    \u001b[33mbytes\u001b[0m=\u001b[1m[\u001b[0m\u001b[1;36m44\u001b[0m\u001b[1m]\u001b[0m,\n",
       "                    \u001b[33mlogprob\u001b[0m=\u001b[1;36m-2.8160932e-06\u001b[0m,\n",
       "                    \u001b[33mtop_logprobs\u001b[0m=\u001b[1m[\u001b[0m\n",
       "                        \u001b[1;35mTopLogprob\u001b[0m\u001b[1m(\u001b[0m\u001b[33mtoken\u001b[0m=\u001b[32m','\u001b[0m, \u001b[33mbytes\u001b[0m=\u001b[1m[\u001b[0m\u001b[1;36m44\u001b[0m\u001b[1m]\u001b[0m, \u001b[33mlogprob\u001b[0m=\u001b[1;36m-2.8160932e-06\u001b[0m\u001b[1m)\u001b[0m,\n",
       "                        \u001b[1;35mTopLogprob\u001b[0m\u001b[1m(\u001b[0m\u001b[33mtoken\u001b[0m=\u001b[32m',\\n'\u001b[0m, \u001b[33mbytes\u001b[0m=\u001b[1m[\u001b[0m\u001b[1;36m44\u001b[0m, \u001b[1;36m10\u001b[0m\u001b[1m]\u001b[0m, \u001b[33mlogprob\u001b[0m=\u001b[1;36m-13.782844\u001b[0m\u001b[1m)\u001b[0m,\n",
       "                        \u001b[1;35mTopLogprob\u001b[0m\u001b[1m(\u001b[0m\u001b[33mtoken\u001b[0m=\u001b[32m' ,'\u001b[0m, \u001b[33mbytes\u001b[0m=\u001b[1m[\u001b[0m\u001b[1;36m32\u001b[0m, \u001b[1;36m44\u001b[0m\u001b[1m]\u001b[0m, \u001b[33mlogprob\u001b[0m=\u001b[1;36m-14.124192\u001b[0m\u001b[1m)\u001b[0m,\n",
       "                        \u001b[1;35mTopLogprob\u001b[0m\u001b[1m(\u001b[0m\u001b[33mtoken\u001b[0m=\u001b[32m'.'\u001b[0m, \u001b[33mbytes\u001b[0m=\u001b[1m[\u001b[0m\u001b[1;36m46\u001b[0m\u001b[1m]\u001b[0m, \u001b[33mlogprob\u001b[0m=\u001b[1;36m-14.604064\u001b[0m\u001b[1m)\u001b[0m,\n",
       "                        \u001b[1;35mTopLogprob\u001b[0m\u001b[1m(\u001b[0m\u001b[33mtoken\u001b[0m=\u001b[32m',M'\u001b[0m, \u001b[33mbytes\u001b[0m=\u001b[1m[\u001b[0m\u001b[1;36m44\u001b[0m, \u001b[1;36m77\u001b[0m\u001b[1m]\u001b[0m, \u001b[33mlogprob\u001b[0m=\u001b[1;36m-16.103325\u001b[0m\u001b[1m)\u001b[0m\n",
       "                    \u001b[1m]\u001b[0m\n",
       "                \u001b[1m)\u001b[0m,\n",
       "                \u001b[1;35mChatCompletionTokenLogprob\u001b[0m\u001b[1m(\u001b[0m\n",
       "                    \u001b[33mtoken\u001b[0m=\u001b[32m' Earth'\u001b[0m,\n",
       "                    \u001b[33mbytes\u001b[0m=\u001b[1m[\u001b[0m\u001b[1;36m32\u001b[0m, \u001b[1;36m69\u001b[0m, \u001b[1;36m97\u001b[0m, \u001b[1;36m114\u001b[0m, \u001b[1;36m116\u001b[0m, \u001b[1;36m104\u001b[0m\u001b[1m]\u001b[0m,\n",
       "                    \u001b[33mlogprob\u001b[0m=\u001b[1;36m-1.3856493e-06\u001b[0m,\n",
       "                    \u001b[33mtop_logprobs\u001b[0m=\u001b[1m[\u001b[0m\n",
       "                        \u001b[1;35mTopLogprob\u001b[0m\u001b[1m(\u001b[0m\u001b[33mtoken\u001b[0m=\u001b[32m' Earth'\u001b[0m, \u001b[33mbytes\u001b[0m=\u001b[1m[\u001b[0m\u001b[1;36m32\u001b[0m, \u001b[1;36m69\u001b[0m, \u001b[1;36m97\u001b[0m, \u001b[1;36m114\u001b[0m, \u001b[1;36m116\u001b[0m, \u001b[1;36m104\u001b[0m\u001b[1m]\u001b[0m, \u001b[33mlogprob\u001b[0m=\u001b[1;36m-1.3856493e-06\u001b[0m\u001b[1m)\u001b[0m,\n",
       "                        \u001b[1;35mTopLogprob\u001b[0m\u001b[1m(\u001b[0m\u001b[33mtoken\u001b[0m=\u001b[32m' Mars'\u001b[0m, \u001b[33mbytes\u001b[0m=\u001b[1m[\u001b[0m\u001b[1;36m32\u001b[0m, \u001b[1;36m77\u001b[0m, \u001b[1;36m97\u001b[0m, \u001b[1;36m114\u001b[0m, \u001b[1;36m115\u001b[0m\u001b[1m]\u001b[0m, \u001b[33mlogprob\u001b[0m=\u001b[1;36m-14.342288\u001b[0m\u001b[1m)\u001b[0m,\n",
       "                        \u001b[1;35mTopLogprob\u001b[0m\u001b[1m(\u001b[0m\u001b[33mtoken\u001b[0m=\u001b[32m' '\u001b[0m, \u001b[33mbytes\u001b[0m=\u001b[1m[\u001b[0m\u001b[1;36m32\u001b[0m\u001b[1m]\u001b[0m, \u001b[33mlogprob\u001b[0m=\u001b[1;36m-14.605254\u001b[0m\u001b[1m)\u001b[0m,\n",
       "                        \u001b[1;35mTopLogprob\u001b[0m\u001b[1m(\u001b[0m\u001b[33mtoken\u001b[0m=\u001b[32m'Earth'\u001b[0m, \u001b[33mbytes\u001b[0m=\u001b[1m[\u001b[0m\u001b[1;36m69\u001b[0m, \u001b[1;36m97\u001b[0m, \u001b[1;36m114\u001b[0m, \u001b[1;36m116\u001b[0m, \u001b[1;36m104\u001b[0m\u001b[1m]\u001b[0m, \u001b[33mlogprob\u001b[0m=\u001b[1;36m-15.350402\u001b[0m\u001b[1m)\u001b[0m,\n",
       "                        \u001b[1;35mTopLogprob\u001b[0m\u001b[1m(\u001b[0m\u001b[33mtoken\u001b[0m=\u001b[32m' E'\u001b[0m, \u001b[33mbytes\u001b[0m=\u001b[1m[\u001b[0m\u001b[1;36m32\u001b[0m, \u001b[1;36m69\u001b[0m\u001b[1m]\u001b[0m, \u001b[33mlogprob\u001b[0m=\u001b[1;36m-18.948992\u001b[0m\u001b[1m)\u001b[0m\n",
       "                    \u001b[1m]\u001b[0m\n",
       "                \u001b[1m)\u001b[0m,\n",
       "                \u001b[1;35mChatCompletionTokenLogprob\u001b[0m\u001b[1m(\u001b[0m\n",
       "                    \u001b[33mtoken\u001b[0m=\u001b[32m','\u001b[0m,\n",
       "                    \u001b[33mbytes\u001b[0m=\u001b[1m[\u001b[0m\u001b[1;36m44\u001b[0m\u001b[1m]\u001b[0m,\n",
       "                    \u001b[33mlogprob\u001b[0m=\u001b[1;36m-7.465036e-06\u001b[0m,\n",
       "                    \u001b[33mtop_logprobs\u001b[0m=\u001b[1m[\u001b[0m\n",
       "                        \u001b[1;35mTopLogprob\u001b[0m\u001b[1m(\u001b[0m\u001b[33mtoken\u001b[0m=\u001b[32m','\u001b[0m, \u001b[33mbytes\u001b[0m=\u001b[1m[\u001b[0m\u001b[1;36m44\u001b[0m\u001b[1m]\u001b[0m, \u001b[33mlogprob\u001b[0m=\u001b[1;36m-7.465036e-06\u001b[0m\u001b[1m)\u001b[0m,\n",
       "                        \u001b[1;35mTopLogprob\u001b[0m\u001b[1m(\u001b[0m\u001b[33mtoken\u001b[0m=\u001b[32m',\\n'\u001b[0m, \u001b[33mbytes\u001b[0m=\u001b[1m[\u001b[0m\u001b[1;36m44\u001b[0m, \u001b[1;36m10\u001b[0m\u001b[1m]\u001b[0m, \u001b[33mlogprob\u001b[0m=\u001b[1;36m-12.991686\u001b[0m\u001b[1m)\u001b[0m,\n",
       "                        \u001b[1;35mTopLogprob\u001b[0m\u001b[1m(\u001b[0m\u001b[33mtoken\u001b[0m=\u001b[32m' ,'\u001b[0m, \u001b[33mbytes\u001b[0m=\u001b[1m[\u001b[0m\u001b[1;36m32\u001b[0m, \u001b[1;36m44\u001b[0m\u001b[1m]\u001b[0m, \u001b[33mlogprob\u001b[0m=\u001b[1;36m-13.143423\u001b[0m\u001b[1m)\u001b[0m,\n",
       "                        \u001b[1;35mTopLogprob\u001b[0m\u001b[1m(\u001b[0m\u001b[33mtoken\u001b[0m=\u001b[32m'.'\u001b[0m, \u001b[33mbytes\u001b[0m=\u001b[1m[\u001b[0m\u001b[1;36m46\u001b[0m\u001b[1m]\u001b[0m, \u001b[33mlogprob\u001b[0m=\u001b[1;36m-13.576906\u001b[0m\u001b[1m)\u001b[0m,\n",
       "                        \u001b[1;35mTopLogprob\u001b[0m\u001b[1m(\u001b[0m\u001b[33mtoken\u001b[0m=\u001b[32m',M'\u001b[0m, \u001b[33mbytes\u001b[0m=\u001b[1m[\u001b[0m\u001b[1;36m44\u001b[0m, \u001b[1;36m77\u001b[0m\u001b[1m]\u001b[0m, \u001b[33mlogprob\u001b[0m=\u001b[1;36m-14.514378\u001b[0m\u001b[1m)\u001b[0m\n",
       "                    \u001b[1m]\u001b[0m\n",
       "                \u001b[1m)\u001b[0m,\n",
       "                \u001b[1;35mChatCompletionTokenLogprob\u001b[0m\u001b[1m(\u001b[0m\n",
       "                    \u001b[33mtoken\u001b[0m=\u001b[32m' Mars'\u001b[0m,\n",
       "                    \u001b[33mbytes\u001b[0m=\u001b[1m[\u001b[0m\u001b[1;36m32\u001b[0m, \u001b[1;36m77\u001b[0m, \u001b[1;36m97\u001b[0m, \u001b[1;36m114\u001b[0m, \u001b[1;36m115\u001b[0m\u001b[1m]\u001b[0m,\n",
       "                    \u001b[33mlogprob\u001b[0m=\u001b[1;36m-1.6240566e-06\u001b[0m,\n",
       "                    \u001b[33mtop_logprobs\u001b[0m=\u001b[1m[\u001b[0m\n",
       "                        \u001b[1;35mTopLogprob\u001b[0m\u001b[1m(\u001b[0m\u001b[33mtoken\u001b[0m=\u001b[32m' Mars'\u001b[0m, \u001b[33mbytes\u001b[0m=\u001b[1m[\u001b[0m\u001b[1;36m32\u001b[0m, \u001b[1;36m77\u001b[0m, \u001b[1;36m97\u001b[0m, \u001b[1;36m114\u001b[0m, \u001b[1;36m115\u001b[0m\u001b[1m]\u001b[0m, \u001b[33mlogprob\u001b[0m=\u001b[1;36m-1.6240566e-06\u001b[0m\u001b[1m)\u001b[0m,\n",
       "                        \u001b[1;35mTopLogprob\u001b[0m\u001b[1m(\u001b[0m\u001b[33mtoken\u001b[0m=\u001b[32m' '\u001b[0m, \u001b[33mbytes\u001b[0m=\u001b[1m[\u001b[0m\u001b[1;36m32\u001b[0m\u001b[1m]\u001b[0m, \u001b[33mlogprob\u001b[0m=\u001b[1;36m-13.402063\u001b[0m\u001b[1m)\u001b[0m,\n",
       "                        \u001b[1;35mTopLogprob\u001b[0m\u001b[1m(\u001b[0m\n",
       "                            \u001b[33mtoken\u001b[0m=\u001b[32m' Jupiter'\u001b[0m,\n",
       "                            \u001b[33mbytes\u001b[0m=\u001b[1m[\u001b[0m\u001b[1;36m32\u001b[0m, \u001b[1;36m74\u001b[0m, \u001b[1;36m117\u001b[0m, \u001b[1;36m112\u001b[0m, \u001b[1;36m105\u001b[0m, \u001b[1;36m116\u001b[0m, \u001b[1;36m101\u001b[0m, \u001b[1;36m114\u001b[0m\u001b[1m]\u001b[0m,\n",
       "                            \u001b[33mlogprob\u001b[0m=\u001b[1;36m-18.124308\u001b[0m\n",
       "                        \u001b[1m)\u001b[0m,\n",
       "                        \u001b[1;35mTopLogprob\u001b[0m\u001b[1m(\u001b[0m\u001b[33mtoken\u001b[0m=\u001b[32m' mars'\u001b[0m, \u001b[33mbytes\u001b[0m=\u001b[1m[\u001b[0m\u001b[1;36m32\u001b[0m, \u001b[1;36m109\u001b[0m, \u001b[1;36m97\u001b[0m, \u001b[1;36m114\u001b[0m, \u001b[1;36m115\u001b[0m\u001b[1m]\u001b[0m, \u001b[33mlogprob\u001b[0m=\u001b[1;36m-18.488142\u001b[0m\u001b[1m)\u001b[0m,\n",
       "                        \u001b[1;35mTopLogprob\u001b[0m\u001b[1m(\u001b[0m\u001b[33mtoken\u001b[0m=\u001b[32m' Mar'\u001b[0m, \u001b[33mbytes\u001b[0m=\u001b[1m[\u001b[0m\u001b[1;36m32\u001b[0m, \u001b[1;36m77\u001b[0m, \u001b[1;36m97\u001b[0m, \u001b[1;36m114\u001b[0m\u001b[1m]\u001b[0m, \u001b[33mlogprob\u001b[0m=\u001b[1;36m-18.813066\u001b[0m\u001b[1m)\u001b[0m\n",
       "                    \u001b[1m]\u001b[0m\n",
       "                \u001b[1m)\u001b[0m,\n",
       "                \u001b[1;35mChatCompletionTokenLogprob\u001b[0m\u001b[1m(\u001b[0m\n",
       "                    \u001b[33mtoken\u001b[0m=\u001b[32m','\u001b[0m,\n",
       "                    \u001b[33mbytes\u001b[0m=\u001b[1m[\u001b[0m\u001b[1;36m44\u001b[0m\u001b[1m]\u001b[0m,\n",
       "                    \u001b[33mlogprob\u001b[0m=\u001b[1;36m-9.014684e-06\u001b[0m,\n",
       "                    \u001b[33mtop_logprobs\u001b[0m=\u001b[1m[\u001b[0m\n",
       "                        \u001b[1;35mTopLogprob\u001b[0m\u001b[1m(\u001b[0m\u001b[33mtoken\u001b[0m=\u001b[32m','\u001b[0m, \u001b[33mbytes\u001b[0m=\u001b[1m[\u001b[0m\u001b[1;36m44\u001b[0m\u001b[1m]\u001b[0m, \u001b[33mlogprob\u001b[0m=\u001b[1;36m-9.014684e-06\u001b[0m\u001b[1m)\u001b[0m,\n",
       "                        \u001b[1;35mTopLogprob\u001b[0m\u001b[1m(\u001b[0m\u001b[33mtoken\u001b[0m=\u001b[32m',\\n'\u001b[0m, \u001b[33mbytes\u001b[0m=\u001b[1m[\u001b[0m\u001b[1;36m44\u001b[0m, \u001b[1;36m10\u001b[0m\u001b[1m]\u001b[0m, \u001b[33mlogprob\u001b[0m=\u001b[1;36m-12.120347\u001b[0m\u001b[1m)\u001b[0m,\n",
       "                        \u001b[1;35mTopLogprob\u001b[0m\u001b[1m(\u001b[0m\u001b[33mtoken\u001b[0m=\u001b[32m' ,'\u001b[0m, \u001b[33mbytes\u001b[0m=\u001b[1m[\u001b[0m\u001b[1;36m32\u001b[0m, \u001b[1;36m44\u001b[0m\u001b[1m]\u001b[0m, \u001b[33mlogprob\u001b[0m=\u001b[1;36m-13.935138\u001b[0m\u001b[1m)\u001b[0m,\n",
       "                        \u001b[1;35mTopLogprob\u001b[0m\u001b[1m(\u001b[0m\u001b[33mtoken\u001b[0m=\u001b[32m'\\n'\u001b[0m, \u001b[33mbytes\u001b[0m=\u001b[1m[\u001b[0m\u001b[1;36m10\u001b[0m\u001b[1m]\u001b[0m, \u001b[33mlogprob\u001b[0m=\u001b[1;36m-14.009761\u001b[0m\u001b[1m)\u001b[0m,\n",
       "                        \u001b[1;35mTopLogprob\u001b[0m\u001b[1m(\u001b[0m\n",
       "                            \u001b[33mtoken\u001b[0m=\u001b[32m' Jupiter'\u001b[0m,\n",
       "                            \u001b[33mbytes\u001b[0m=\u001b[1m[\u001b[0m\u001b[1;36m32\u001b[0m, \u001b[1;36m74\u001b[0m, \u001b[1;36m117\u001b[0m, \u001b[1;36m112\u001b[0m, \u001b[1;36m105\u001b[0m, \u001b[1;36m116\u001b[0m, \u001b[1;36m101\u001b[0m, \u001b[1;36m114\u001b[0m\u001b[1m]\u001b[0m,\n",
       "                            \u001b[33mlogprob\u001b[0m=\u001b[1;36m-14.551078\u001b[0m\n",
       "                        \u001b[1m)\u001b[0m\n",
       "                    \u001b[1m]\u001b[0m\n",
       "                \u001b[1m)\u001b[0m,\n",
       "                \u001b[1;35mChatCompletionTokenLogprob\u001b[0m\u001b[1m(\u001b[0m\n",
       "                    \u001b[33mtoken\u001b[0m=\u001b[32m' Jupiter'\u001b[0m,\n",
       "                    \u001b[33mbytes\u001b[0m=\u001b[1m[\u001b[0m\u001b[1;36m32\u001b[0m, \u001b[1;36m74\u001b[0m, \u001b[1;36m117\u001b[0m, \u001b[1;36m112\u001b[0m, \u001b[1;36m105\u001b[0m, \u001b[1;36m116\u001b[0m, \u001b[1;36m101\u001b[0m, \u001b[1;36m114\u001b[0m\u001b[1m]\u001b[0m,\n",
       "                    \u001b[33mlogprob\u001b[0m=\u001b[1;36m-6.511407e-06\u001b[0m,\n",
       "                    \u001b[33mtop_logprobs\u001b[0m=\u001b[1m[\u001b[0m\n",
       "                        \u001b[1;35mTopLogprob\u001b[0m\u001b[1m(\u001b[0m\n",
       "                            \u001b[33mtoken\u001b[0m=\u001b[32m' Jupiter'\u001b[0m,\n",
       "                            \u001b[33mbytes\u001b[0m=\u001b[1m[\u001b[0m\u001b[1;36m32\u001b[0m, \u001b[1;36m74\u001b[0m, \u001b[1;36m117\u001b[0m, \u001b[1;36m112\u001b[0m, \u001b[1;36m105\u001b[0m, \u001b[1;36m116\u001b[0m, \u001b[1;36m101\u001b[0m, \u001b[1;36m114\u001b[0m\u001b[1m]\u001b[0m,\n",
       "                            \u001b[33mlogprob\u001b[0m=\u001b[1;36m-6.511407e-06\u001b[0m\n",
       "                        \u001b[1m)\u001b[0m,\n",
       "                        \u001b[1;35mTopLogprob\u001b[0m\u001b[1m(\u001b[0m\u001b[33mtoken\u001b[0m=\u001b[32m' '\u001b[0m, \u001b[33mbytes\u001b[0m=\u001b[1m[\u001b[0m\u001b[1;36m32\u001b[0m\u001b[1m]\u001b[0m, \u001b[33mlogprob\u001b[0m=\u001b[1;36m-12.1744585\u001b[0m\u001b[1m)\u001b[0m,\n",
       "                        \u001b[1;35mTopLogprob\u001b[0m\u001b[1m(\u001b[0m\u001b[33mtoken\u001b[0m=\u001b[32m' Saturn'\u001b[0m, \u001b[33mbytes\u001b[0m=\u001b[1m[\u001b[0m\u001b[1;36m32\u001b[0m, \u001b[1;36m83\u001b[0m, \u001b[1;36m97\u001b[0m, \u001b[1;36m116\u001b[0m, \u001b[1;36m117\u001b[0m, \u001b[1;36m114\u001b[0m, \u001b[1;36m110\u001b[0m\u001b[1m]\u001b[0m, \u001b[33mlogprob\u001b[0m=\u001b[1;36m-13.88033\u001b[0m\u001b[1m)\u001b[0m,\n",
       "                        \u001b[1;35mTopLogprob\u001b[0m\u001b[1m(\u001b[0m\u001b[33mtoken\u001b[0m=\u001b[32m' \\n'\u001b[0m, \u001b[33mbytes\u001b[0m=\u001b[1m[\u001b[0m\u001b[1;36m32\u001b[0m, \u001b[1;36m10\u001b[0m\u001b[1m]\u001b[0m, \u001b[33mlogprob\u001b[0m=\u001b[1;36m-15.721894\u001b[0m\u001b[1m)\u001b[0m,\n",
       "                        \u001b[1;35mTopLogprob\u001b[0m\u001b[1m(\u001b[0m\u001b[33mtoken\u001b[0m=\u001b[32m' J'\u001b[0m, \u001b[33mbytes\u001b[0m=\u001b[1m[\u001b[0m\u001b[1;36m32\u001b[0m, \u001b[1;36m74\u001b[0m\u001b[1m]\u001b[0m, \u001b[33mlogprob\u001b[0m=\u001b[1;36m-16.877975\u001b[0m\u001b[1m)\u001b[0m\n",
       "                    \u001b[1m]\u001b[0m\n",
       "                \u001b[1m)\u001b[0m,\n",
       "                \u001b[1;35mChatCompletionTokenLogprob\u001b[0m\u001b[1m(\u001b[0m\n",
       "                    \u001b[33mtoken\u001b[0m=\u001b[32m','\u001b[0m,\n",
       "                    \u001b[33mbytes\u001b[0m=\u001b[1m[\u001b[0m\u001b[1;36m44\u001b[0m\u001b[1m]\u001b[0m,\n",
       "                    \u001b[33mlogprob\u001b[0m=\u001b[1;36m-4.00813e-06\u001b[0m,\n",
       "                    \u001b[33mtop_logprobs\u001b[0m=\u001b[1m[\u001b[0m\n",
       "                        \u001b[1;35mTopLogprob\u001b[0m\u001b[1m(\u001b[0m\u001b[33mtoken\u001b[0m=\u001b[32m','\u001b[0m, \u001b[33mbytes\u001b[0m=\u001b[1m[\u001b[0m\u001b[1;36m44\u001b[0m\u001b[1m]\u001b[0m, \u001b[33mlogprob\u001b[0m=\u001b[1;36m-4.00813e-06\u001b[0m\u001b[1m)\u001b[0m,\n",
       "                        \u001b[1;35mTopLogprob\u001b[0m\u001b[1m(\u001b[0m\u001b[33mtoken\u001b[0m=\u001b[32m',\\n'\u001b[0m, \u001b[33mbytes\u001b[0m=\u001b[1m[\u001b[0m\u001b[1;36m44\u001b[0m, \u001b[1;36m10\u001b[0m\u001b[1m]\u001b[0m, \u001b[33mlogprob\u001b[0m=\u001b[1;36m-13.130329\u001b[0m\u001b[1m)\u001b[0m,\n",
       "                        \u001b[1;35mTopLogprob\u001b[0m\u001b[1m(\u001b[0m\u001b[33mtoken\u001b[0m=\u001b[32m' ,'\u001b[0m, \u001b[33mbytes\u001b[0m=\u001b[1m[\u001b[0m\u001b[1;36m32\u001b[0m, \u001b[1;36m44\u001b[0m\u001b[1m]\u001b[0m, \u001b[33mlogprob\u001b[0m=\u001b[1;36m-13.775162\u001b[0m\u001b[1m)\u001b[0m,\n",
       "                        \u001b[1;35mTopLogprob\u001b[0m\u001b[1m(\u001b[0m\u001b[33mtoken\u001b[0m=\u001b[32m',S'\u001b[0m, \u001b[33mbytes\u001b[0m=\u001b[1m[\u001b[0m\u001b[1;36m44\u001b[0m, \u001b[1;36m83\u001b[0m\u001b[1m]\u001b[0m, \u001b[33mlogprob\u001b[0m=\u001b[1;36m-15.022457\u001b[0m\u001b[1m)\u001b[0m,\n",
       "                        \u001b[1;35mTopLogprob\u001b[0m\u001b[1m(\u001b[0m\u001b[33mtoken\u001b[0m=\u001b[32m'\\n'\u001b[0m, \u001b[33mbytes\u001b[0m=\u001b[1m[\u001b[0m\u001b[1;36m10\u001b[0m\u001b[1m]\u001b[0m, \u001b[33mlogprob\u001b[0m=\u001b[1;36m-15.201521\u001b[0m\u001b[1m)\u001b[0m\n",
       "                    \u001b[1m]\u001b[0m\n",
       "                \u001b[1m)\u001b[0m,\n",
       "                \u001b[1;35mChatCompletionTokenLogprob\u001b[0m\u001b[1m(\u001b[0m\n",
       "                    \u001b[33mtoken\u001b[0m=\u001b[32m' Saturn'\u001b[0m,\n",
       "                    \u001b[33mbytes\u001b[0m=\u001b[1m[\u001b[0m\u001b[1;36m32\u001b[0m, \u001b[1;36m83\u001b[0m, \u001b[1;36m97\u001b[0m, \u001b[1;36m116\u001b[0m, \u001b[1;36m117\u001b[0m, \u001b[1;36m114\u001b[0m, \u001b[1;36m110\u001b[0m\u001b[1m]\u001b[0m,\n",
       "                    \u001b[33mlogprob\u001b[0m=\u001b[1;36m-7.89631e-07\u001b[0m,\n",
       "                    \u001b[33mtop_logprobs\u001b[0m=\u001b[1m[\u001b[0m\n",
       "                        \u001b[1;35mTopLogprob\u001b[0m\u001b[1m(\u001b[0m\u001b[33mtoken\u001b[0m=\u001b[32m' Saturn'\u001b[0m, \u001b[33mbytes\u001b[0m=\u001b[1m[\u001b[0m\u001b[1;36m32\u001b[0m, \u001b[1;36m83\u001b[0m, \u001b[1;36m97\u001b[0m, \u001b[1;36m116\u001b[0m, \u001b[1;36m117\u001b[0m, \u001b[1;36m114\u001b[0m, \u001b[1;36m110\u001b[0m\u001b[1m]\u001b[0m, \u001b[33mlogprob\u001b[0m=\u001b[1;36m-7.89631e-07\u001b[0m\u001b[1m)\u001b[0m,\n",
       "                        \u001b[1;35mTopLogprob\u001b[0m\u001b[1m(\u001b[0m\u001b[33mtoken\u001b[0m=\u001b[32m' '\u001b[0m, \u001b[33mbytes\u001b[0m=\u001b[1m[\u001b[0m\u001b[1;36m32\u001b[0m\u001b[1m]\u001b[0m, \u001b[33mlogprob\u001b[0m=\u001b[1;36m-14.184451\u001b[0m\u001b[1m)\u001b[0m,\n",
       "                        \u001b[1;35mTopLogprob\u001b[0m\u001b[1m(\u001b[0m\u001b[33mtoken\u001b[0m=\u001b[32m' Sat'\u001b[0m, \u001b[33mbytes\u001b[0m=\u001b[1m[\u001b[0m\u001b[1;36m32\u001b[0m, \u001b[1;36m83\u001b[0m, \u001b[1;36m97\u001b[0m, \u001b[1;36m116\u001b[0m\u001b[1m]\u001b[0m, \u001b[33mlogprob\u001b[0m=\u001b[1;36m-16.732485\u001b[0m\u001b[1m)\u001b[0m,\n",
       "                        \u001b[1;35mTopLogprob\u001b[0m\u001b[1m(\u001b[0m\n",
       "                            \u001b[33mtoken\u001b[0m=\u001b[32m' Neptune'\u001b[0m,\n",
       "                            \u001b[33mbytes\u001b[0m=\u001b[1m[\u001b[0m\u001b[1;36m32\u001b[0m, \u001b[1;36m78\u001b[0m, \u001b[1;36m101\u001b[0m, \u001b[1;36m112\u001b[0m, \u001b[1;36m116\u001b[0m, \u001b[1;36m117\u001b[0m, \u001b[1;36m110\u001b[0m, \u001b[1;36m101\u001b[0m\u001b[1m]\u001b[0m,\n",
       "                            \u001b[33mlogprob\u001b[0m=\u001b[1;36m-18.147596\u001b[0m\n",
       "                        \u001b[1m)\u001b[0m,\n",
       "                        \u001b[1;35mTopLogprob\u001b[0m\u001b[1m(\u001b[0m\u001b[33mtoken\u001b[0m=\u001b[32m' S'\u001b[0m, \u001b[33mbytes\u001b[0m=\u001b[1m[\u001b[0m\u001b[1;36m32\u001b[0m, \u001b[1;36m83\u001b[0m\u001b[1m]\u001b[0m, \u001b[33mlogprob\u001b[0m=\u001b[1;36m-18.29653\u001b[0m\u001b[1m)\u001b[0m\n",
       "                    \u001b[1m]\u001b[0m\n",
       "                \u001b[1m)\u001b[0m,\n",
       "                \u001b[1;35mChatCompletionTokenLogprob\u001b[0m\u001b[1m(\u001b[0m\n",
       "                    \u001b[33mtoken\u001b[0m=\u001b[32m','\u001b[0m,\n",
       "                    \u001b[33mbytes\u001b[0m=\u001b[1m[\u001b[0m\u001b[1;36m44\u001b[0m\u001b[1m]\u001b[0m,\n",
       "                    \u001b[33mlogprob\u001b[0m=\u001b[1;36m-7.465036e-06\u001b[0m,\n",
       "                    \u001b[33mtop_logprobs\u001b[0m=\u001b[1m[\u001b[0m\n",
       "                        \u001b[1;35mTopLogprob\u001b[0m\u001b[1m(\u001b[0m\u001b[33mtoken\u001b[0m=\u001b[32m','\u001b[0m, \u001b[33mbytes\u001b[0m=\u001b[1m[\u001b[0m\u001b[1;36m44\u001b[0m\u001b[1m]\u001b[0m, \u001b[33mlogprob\u001b[0m=\u001b[1;36m-7.465036e-06\u001b[0m\u001b[1m)\u001b[0m,\n",
       "                        \u001b[1;35mTopLogprob\u001b[0m\u001b[1m(\u001b[0m\u001b[33mtoken\u001b[0m=\u001b[32m',\\n'\u001b[0m, \u001b[33mbytes\u001b[0m=\u001b[1m[\u001b[0m\u001b[1;36m44\u001b[0m, \u001b[1;36m10\u001b[0m\u001b[1m]\u001b[0m, \u001b[33mlogprob\u001b[0m=\u001b[1;36m-12.525568\u001b[0m\u001b[1m)\u001b[0m,\n",
       "                        \u001b[1;35mTopLogprob\u001b[0m\u001b[1m(\u001b[0m\u001b[33mtoken\u001b[0m=\u001b[32m' ,'\u001b[0m, \u001b[33mbytes\u001b[0m=\u001b[1m[\u001b[0m\u001b[1;36m32\u001b[0m, \u001b[1;36m44\u001b[0m\u001b[1m]\u001b[0m, \u001b[33mlogprob\u001b[0m=\u001b[1;36m-12.971264\u001b[0m\u001b[1m)\u001b[0m,\n",
       "                        \u001b[1;35mTopLogprob\u001b[0m\u001b[1m(\u001b[0m\u001b[33mtoken\u001b[0m=\u001b[32m'.'\u001b[0m, \u001b[33mbytes\u001b[0m=\u001b[1m[\u001b[0m\u001b[1;36m46\u001b[0m\u001b[1m]\u001b[0m, \u001b[33mlogprob\u001b[0m=\u001b[1;36m-14.6729145\u001b[0m\u001b[1m)\u001b[0m,\n",
       "                        \u001b[1;35mTopLogprob\u001b[0m\u001b[1m(\u001b[0m\u001b[33mtoken\u001b[0m=\u001b[32m'\\n'\u001b[0m, \u001b[33mbytes\u001b[0m=\u001b[1m[\u001b[0m\u001b[1;36m10\u001b[0m\u001b[1m]\u001b[0m, \u001b[33mlogprob\u001b[0m=\u001b[1;36m-15.268833\u001b[0m\u001b[1m)\u001b[0m\n",
       "                    \u001b[1m]\u001b[0m\n",
       "                \u001b[1m)\u001b[0m,\n",
       "                \u001b[1;35mChatCompletionTokenLogprob\u001b[0m\u001b[1m(\u001b[0m\n",
       "                    \u001b[33mtoken\u001b[0m=\u001b[32m' Uran'\u001b[0m,\n",
       "                    \u001b[33mbytes\u001b[0m=\u001b[1m[\u001b[0m\u001b[1;36m32\u001b[0m, \u001b[1;36m85\u001b[0m, \u001b[1;36m114\u001b[0m, \u001b[1;36m97\u001b[0m, \u001b[1;36m110\u001b[0m\u001b[1m]\u001b[0m,\n",
       "                    \u001b[33mlogprob\u001b[0m=\u001b[1;36m-3.5477897e-05\u001b[0m,\n",
       "                    \u001b[33mtop_logprobs\u001b[0m=\u001b[1m[\u001b[0m\n",
       "                        \u001b[1;35mTopLogprob\u001b[0m\u001b[1m(\u001b[0m\u001b[33mtoken\u001b[0m=\u001b[32m' Uran'\u001b[0m, \u001b[33mbytes\u001b[0m=\u001b[1m[\u001b[0m\u001b[1;36m32\u001b[0m, \u001b[1;36m85\u001b[0m, \u001b[1;36m114\u001b[0m, \u001b[1;36m97\u001b[0m, \u001b[1;36m110\u001b[0m\u001b[1m]\u001b[0m, \u001b[33mlogprob\u001b[0m=\u001b[1;36m-3.5477897e-05\u001b[0m\u001b[1m)\u001b[0m,\n",
       "                        \u001b[1;35mTopLogprob\u001b[0m\u001b[1m(\u001b[0m\n",
       "                            \u001b[33mtoken\u001b[0m=\u001b[32m' Neptune'\u001b[0m,\n",
       "                            \u001b[33mbytes\u001b[0m=\u001b[1m[\u001b[0m\u001b[1;36m32\u001b[0m, \u001b[1;36m78\u001b[0m, \u001b[1;36m101\u001b[0m, \u001b[1;36m112\u001b[0m, \u001b[1;36m116\u001b[0m, \u001b[1;36m117\u001b[0m, \u001b[1;36m110\u001b[0m, \u001b[1;36m101\u001b[0m\u001b[1m]\u001b[0m,\n",
       "                            \u001b[33mlogprob\u001b[0m=\u001b[1;36m-10.509114\u001b[0m\n",
       "                        \u001b[1m)\u001b[0m,\n",
       "                        \u001b[1;35mTopLogprob\u001b[0m\u001b[1m(\u001b[0m\u001b[33mtoken\u001b[0m=\u001b[32m' '\u001b[0m, \u001b[33mbytes\u001b[0m=\u001b[1m[\u001b[0m\u001b[1;36m32\u001b[0m\u001b[1m]\u001b[0m, \u001b[33mlogprob\u001b[0m=\u001b[1;36m-11.771441\u001b[0m\u001b[1m)\u001b[0m,\n",
       "                        \u001b[1;35mTopLogprob\u001b[0m\u001b[1m(\u001b[0m\u001b[33mtoken\u001b[0m=\u001b[32m' Ur'\u001b[0m, \u001b[33mbytes\u001b[0m=\u001b[1m[\u001b[0m\u001b[1;36m32\u001b[0m, \u001b[1;36m85\u001b[0m, \u001b[1;36m114\u001b[0m\u001b[1m]\u001b[0m, \u001b[33mlogprob\u001b[0m=\u001b[1;36m-16.197191\u001b[0m\u001b[1m)\u001b[0m,\n",
       "                        \u001b[1;35mTopLogprob\u001b[0m\u001b[1m(\u001b[0m\u001b[33mtoken\u001b[0m=\u001b[32m' \\n'\u001b[0m, \u001b[33mbytes\u001b[0m=\u001b[1m[\u001b[0m\u001b[1;36m32\u001b[0m, \u001b[1;36m10\u001b[0m\u001b[1m]\u001b[0m, \u001b[33mlogprob\u001b[0m=\u001b[1;36m-16.359787\u001b[0m\u001b[1m)\u001b[0m\n",
       "                    \u001b[1m]\u001b[0m\n",
       "                \u001b[1m)\u001b[0m,\n",
       "                \u001b[1;35mChatCompletionTokenLogprob\u001b[0m\u001b[1m(\u001b[0m\n",
       "                    \u001b[33mtoken\u001b[0m=\u001b[32m'us'\u001b[0m,\n",
       "                    \u001b[33mbytes\u001b[0m=\u001b[1m[\u001b[0m\u001b[1;36m117\u001b[0m, \u001b[1;36m115\u001b[0m\u001b[1m]\u001b[0m,\n",
       "                    \u001b[33mlogprob\u001b[0m=\u001b[1;36m-1.3067608e-05\u001b[0m,\n",
       "                    \u001b[33mtop_logprobs\u001b[0m=\u001b[1m[\u001b[0m\n",
       "                        \u001b[1;35mTopLogprob\u001b[0m\u001b[1m(\u001b[0m\u001b[33mtoken\u001b[0m=\u001b[32m'us'\u001b[0m, \u001b[33mbytes\u001b[0m=\u001b[1m[\u001b[0m\u001b[1;36m117\u001b[0m, \u001b[1;36m115\u001b[0m\u001b[1m]\u001b[0m, \u001b[33mlogprob\u001b[0m=\u001b[1;36m-1.3067608e-05\u001b[0m\u001b[1m)\u001b[0m,\n",
       "                        \u001b[1;35mTopLogprob\u001b[0m\u001b[1m(\u001b[0m\u001b[33mtoken\u001b[0m=\u001b[32m'u'\u001b[0m, \u001b[33mbytes\u001b[0m=\u001b[1m[\u001b[0m\u001b[1;36m117\u001b[0m\u001b[1m]\u001b[0m, \u001b[33mlogprob\u001b[0m=\u001b[1;36m-12.654243\u001b[0m\u001b[1m)\u001b[0m,\n",
       "                        \u001b[1;35mTopLogprob\u001b[0m\u001b[1m(\u001b[0m\u001b[33mtoken\u001b[0m=\u001b[32m'is'\u001b[0m, \u001b[33mbytes\u001b[0m=\u001b[1m[\u001b[0m\u001b[1;36m105\u001b[0m, \u001b[1;36m115\u001b[0m\u001b[1m]\u001b[0m, \u001b[33mlogprob\u001b[0m=\u001b[1;36m-12.803968\u001b[0m\u001b[1m)\u001b[0m,\n",
       "                        \u001b[1;35mTopLogprob\u001b[0m\u001b[1m(\u001b[0m\u001b[33mtoken\u001b[0m=\u001b[32m'as'\u001b[0m, \u001b[33mbytes\u001b[0m=\u001b[1m[\u001b[0m\u001b[1;36m97\u001b[0m, \u001b[1;36m115\u001b[0m\u001b[1m]\u001b[0m, \u001b[33mlogprob\u001b[0m=\u001b[1;36m-13.4831505\u001b[0m\u001b[1m)\u001b[0m,\n",
       "                        \u001b[1;35mTopLogprob\u001b[0m\u001b[1m(\u001b[0m\u001b[33mtoken\u001b[0m=\u001b[32m'os'\u001b[0m, \u001b[33mbytes\u001b[0m=\u001b[1m[\u001b[0m\u001b[1;36m111\u001b[0m, \u001b[1;36m115\u001b[0m\u001b[1m]\u001b[0m, \u001b[33mlogprob\u001b[0m=\u001b[1;36m-13.868574\u001b[0m\u001b[1m)\u001b[0m\n",
       "                    \u001b[1m]\u001b[0m\n",
       "                \u001b[1m)\u001b[0m,\n",
       "                \u001b[1;35mChatCompletionTokenLogprob\u001b[0m\u001b[1m(\u001b[0m\n",
       "                    \u001b[33mtoken\u001b[0m=\u001b[32m','\u001b[0m,\n",
       "                    \u001b[33mbytes\u001b[0m=\u001b[1m[\u001b[0m\u001b[1;36m44\u001b[0m\u001b[1m]\u001b[0m,\n",
       "                    \u001b[33mlogprob\u001b[0m=\u001b[1;36m-3.0471343e-05\u001b[0m,\n",
       "                    \u001b[33mtop_logprobs\u001b[0m=\u001b[1m[\u001b[0m\n",
       "                        \u001b[1;35mTopLogprob\u001b[0m\u001b[1m(\u001b[0m\u001b[33mtoken\u001b[0m=\u001b[32m','\u001b[0m, \u001b[33mbytes\u001b[0m=\u001b[1m[\u001b[0m\u001b[1;36m44\u001b[0m\u001b[1m]\u001b[0m, \u001b[33mlogprob\u001b[0m=\u001b[1;36m-3.0471343e-05\u001b[0m\u001b[1m)\u001b[0m,\n",
       "                        \u001b[1;35mTopLogprob\u001b[0m\u001b[1m(\u001b[0m\u001b[33mtoken\u001b[0m=\u001b[32m' and'\u001b[0m, \u001b[33mbytes\u001b[0m=\u001b[1m[\u001b[0m\u001b[1;36m32\u001b[0m, \u001b[1;36m97\u001b[0m, \u001b[1;36m110\u001b[0m, \u001b[1;36m100\u001b[0m\u001b[1m]\u001b[0m, \u001b[33mlogprob\u001b[0m=\u001b[1;36m-10.424301\u001b[0m\u001b[1m)\u001b[0m,\n",
       "                        \u001b[1;35mTopLogprob\u001b[0m\u001b[1m(\u001b[0m\u001b[33mtoken\u001b[0m=\u001b[32m',\\n'\u001b[0m, \u001b[33mbytes\u001b[0m=\u001b[1m[\u001b[0m\u001b[1;36m44\u001b[0m, \u001b[1;36m10\u001b[0m\u001b[1m]\u001b[0m, \u001b[33mlogprob\u001b[0m=\u001b[1;36m-15.263325\u001b[0m\u001b[1m)\u001b[0m,\n",
       "                        \u001b[1;35mTopLogprob\u001b[0m\u001b[1m(\u001b[0m\u001b[33mtoken\u001b[0m=\u001b[32m' ,'\u001b[0m, \u001b[33mbytes\u001b[0m=\u001b[1m[\u001b[0m\u001b[1;36m32\u001b[0m, \u001b[1;36m44\u001b[0m\u001b[1m]\u001b[0m, \u001b[33mlogprob\u001b[0m=\u001b[1;36m-15.344509\u001b[0m\u001b[1m)\u001b[0m,\n",
       "                        \u001b[1;35mTopLogprob\u001b[0m\u001b[1m(\u001b[0m\u001b[33mtoken\u001b[0m=\u001b[32m',and'\u001b[0m, \u001b[33mbytes\u001b[0m=\u001b[1m[\u001b[0m\u001b[1;36m44\u001b[0m, \u001b[1;36m97\u001b[0m, \u001b[1;36m110\u001b[0m, \u001b[1;36m100\u001b[0m\u001b[1m]\u001b[0m, \u001b[33mlogprob\u001b[0m=\u001b[1;36m-15.558033\u001b[0m\u001b[1m)\u001b[0m\n",
       "                    \u001b[1m]\u001b[0m\n",
       "                \u001b[1m)\u001b[0m,\n",
       "                \u001b[1;35mChatCompletionTokenLogprob\u001b[0m\u001b[1m(\u001b[0m\n",
       "                    \u001b[33mtoken\u001b[0m=\u001b[32m' Neptune'\u001b[0m,\n",
       "                    \u001b[33mbytes\u001b[0m=\u001b[1m[\u001b[0m\u001b[1;36m32\u001b[0m, \u001b[1;36m78\u001b[0m, \u001b[1;36m101\u001b[0m, \u001b[1;36m112\u001b[0m, \u001b[1;36m116\u001b[0m, \u001b[1;36m117\u001b[0m, \u001b[1;36m110\u001b[0m, \u001b[1;36m101\u001b[0m\u001b[1m]\u001b[0m,\n",
       "                    \u001b[33mlogprob\u001b[0m=\u001b[1;36m-0.0067509008\u001b[0m,\n",
       "                    \u001b[33mtop_logprobs\u001b[0m=\u001b[1m[\u001b[0m\n",
       "                        \u001b[1;35mTopLogprob\u001b[0m\u001b[1m(\u001b[0m\n",
       "                            \u001b[33mtoken\u001b[0m=\u001b[32m' Neptune'\u001b[0m,\n",
       "                            \u001b[33mbytes\u001b[0m=\u001b[1m[\u001b[0m\u001b[1;36m32\u001b[0m, \u001b[1;36m78\u001b[0m, \u001b[1;36m101\u001b[0m, \u001b[1;36m112\u001b[0m, \u001b[1;36m116\u001b[0m, \u001b[1;36m117\u001b[0m, \u001b[1;36m110\u001b[0m, \u001b[1;36m101\u001b[0m\u001b[1m]\u001b[0m,\n",
       "                            \u001b[33mlogprob\u001b[0m=\u001b[1;36m-0.0067509008\u001b[0m\n",
       "                        \u001b[1m)\u001b[0m,\n",
       "                        \u001b[1;35mTopLogprob\u001b[0m\u001b[1m(\u001b[0m\u001b[33mtoken\u001b[0m=\u001b[32m' and'\u001b[0m, \u001b[33mbytes\u001b[0m=\u001b[1m[\u001b[0m\u001b[1;36m32\u001b[0m, \u001b[1;36m97\u001b[0m, \u001b[1;36m110\u001b[0m, \u001b[1;36m100\u001b[0m\u001b[1m]\u001b[0m, \u001b[33mlogprob\u001b[0m=\u001b[1;36m-5.005843\u001b[0m\u001b[1m)\u001b[0m,\n",
       "                        \u001b[1;35mTopLogprob\u001b[0m\u001b[1m(\u001b[0m\u001b[33mtoken\u001b[0m=\u001b[32m' '\u001b[0m, \u001b[33mbytes\u001b[0m=\u001b[1m[\u001b[0m\u001b[1;36m32\u001b[0m\u001b[1m]\u001b[0m, \u001b[33mlogprob\u001b[0m=\u001b[1;36m-10.953055\u001b[0m\u001b[1m)\u001b[0m,\n",
       "                        \u001b[1;35mTopLogprob\u001b[0m\u001b[1m(\u001b[0m\u001b[33mtoken\u001b[0m=\u001b[32m' Ne'\u001b[0m, \u001b[33mbytes\u001b[0m=\u001b[1m[\u001b[0m\u001b[1;36m32\u001b[0m, \u001b[1;36m78\u001b[0m, \u001b[1;36m101\u001b[0m\u001b[1m]\u001b[0m, \u001b[33mlogprob\u001b[0m=\u001b[1;36m-11.483464\u001b[0m\u001b[1m)\u001b[0m,\n",
       "                        \u001b[1;35mTopLogprob\u001b[0m\u001b[1m(\u001b[0m\u001b[33mtoken\u001b[0m=\u001b[32m'Ne'\u001b[0m, \u001b[33mbytes\u001b[0m=\u001b[1m[\u001b[0m\u001b[1;36m78\u001b[0m, \u001b[1;36m101\u001b[0m\u001b[1m]\u001b[0m, \u001b[33mlogprob\u001b[0m=\u001b[1;36m-13.798982\u001b[0m\u001b[1m)\u001b[0m\n",
       "                    \u001b[1m]\u001b[0m\n",
       "                \u001b[1m)\u001b[0m\n",
       "            \u001b[1m]\u001b[0m,\n",
       "            \u001b[33mrefusal\u001b[0m=\u001b[3;35mNone\u001b[0m\n",
       "        \u001b[1m)\u001b[0m,\n",
       "        \u001b[33mmessage\u001b[0m=\u001b[1;35mChatCompletionMessage\u001b[0m\u001b[1m(\u001b[0m\n",
       "            \u001b[33mcontent\u001b[0m=\u001b[32m'Mercury, Venus, Earth, Mars, Jupiter, Saturn, Uranus, Neptune'\u001b[0m,\n",
       "            \u001b[33mrefusal\u001b[0m=\u001b[3;35mNone\u001b[0m,\n",
       "            \u001b[33mrole\u001b[0m=\u001b[32m'assistant'\u001b[0m,\n",
       "            \u001b[33mfunction_call\u001b[0m=\u001b[3;35mNone\u001b[0m,\n",
       "            \u001b[33mtool_calls\u001b[0m=\u001b[3;35mNone\u001b[0m\n",
       "        \u001b[1m)\u001b[0m\n",
       "    \u001b[1m)\u001b[0m\n",
       "\u001b[1m]\u001b[0m\n"
      ]
     },
     "metadata": {},
     "output_type": "display_data"
    },
    {
     "data": {
      "text/html": [
       "<pre style=\"white-space:pre;overflow-x:auto;line-height:normal;font-family:Menlo,'DejaVu Sans Mono',consolas,'Courier New',monospace\">Mercury, Venus, Earth, Mars, Jupiter, Saturn, Uranus, Neptune\n",
       "</pre>\n"
      ],
      "text/plain": [
       "Mercury, Venus, Earth, Mars, Jupiter, Saturn, Uranus, Neptune\n"
      ]
     },
     "metadata": {},
     "output_type": "display_data"
    }
   ],
   "source": [
    "import rich   # prettyprinting\n",
    "response = client.chat.completions.create(messages=[{\"role\": \"user\", \n",
    "                                                     \"content\": \"Q: Name the planets in the solar system?\\nA: \"}], \n",
    "                                          model=\"gpt-3.5-turbo-0125\",  # which model to use\n",
    "                                          temperature=1,               # get a little variety\n",
    "                                          max_tokens=64,               # limit on length of result\n",
    "                                          logprobs=True,\n",
    "                                          top_logprobs=5\n",
    "                                          # stop=[\"Q:\", \"\\n\"],         # treat these as EOS symbols; useful for some models\n",
    "                                         )           \n",
    "rich.print(response)                              # the full object that was sent back from the server\n",
    "rich.print(response.choices)                      # just the list of 1 answer (the default, but calling with n=5 would give 5 answers) \n",
    "rich.print(response.choices[0].message.content)   # extract the good stuff from that 1 answer"
   ]
  },
  {
   "cell_type": "markdown",
   "metadata": {},
   "source": [
    "![image](https://cs.jhu.edu/~jason/465/hw-llm/handin.png)\n",
    "Try running the cell above a few times. You may get different random answers — especially because the call specifies temperature 1.  (The default temperature is rumored to be 0.8.) Are the answers all equally good?\n",
    "\n",
    "*No, the answers are not equally good. The answer will always contain a listing of planets, enumerated or not, and it will either be one planet per line or not. Sometimes it will include pluto as a dwarf planet, and it can give more or less info about when it was classified as such. The problem is that most of the time it wont tell you what the listing is for, sometimes it will say something like \"the planets in your solar system are \", which is a better response then just a listing of the planets."
   ]
  },
  {
   "cell_type": "markdown",
   "metadata": {},
   "source": [
    "![image](https://cs.jhu.edu/~jason/465/hw-llm/handin.png)\n",
    "Try adding the arguments `logprobs=True, top_logprobs=5` to the above API call (see [documentation](https://platform.openai.com/docs/api-reference/chat/create#chat-create-logprobs)).  For each generated token, the response will now include its log-probability, and also the log-probabilities of the 5 most probable tokens, given the left context so far.  Again, run the cell a few times.  What do you observe?\n",
    "\n",
    " *I notice that the probabilities are not stationary, they adjust each time the code is ran. It also seems like the planets are assigned much higher probbilities than other words or periods, commas, etc.\n"
   ]
  },
  {
   "cell_type": "markdown",
   "metadata": {},
   "source": [
    "\n",
    "It might be handy to package up what we just did.\n",
    "The `complete` function below is a convenient way of experimenting with completing text.\n",
    "It is illustrated with a grocery example.  "
   ]
  },
  {
   "cell_type": "code",
   "execution_count": 44,
   "metadata": {},
   "outputs": [
    {
     "data": {
      "text/plain": [
       "[', and a loaf of bread.',\n",
       " ', and flour.',\n",
       " ', and fish.',\n",
       " ', fish, grapes, honey, ice cream, juice, kiwi, lettuce, milk, nuts, oranges, peaches, quinoa, rice, spinach, tomatoes, umbrella, vinegar, watermelon, yogurt, zucchini.',\n",
       " ', and fish.',\n",
       " ', flour, grapes, honey, ice cream, juice, kiwis, lemons, milk, noodles, oranges, pears, quinoa, rice, spinach, tomatoes, yogurt, and zucchini.',\n",
       " ', and flour.',\n",
       " ', and flour.',\n",
       " ', and flour.',\n",
       " ', and flour.']"
      ]
     },
     "execution_count": 44,
     "metadata": {},
     "output_type": "execute_result"
    }
   ],
   "source": [
    "def complete(client, s: str, model=\"gpt-3.5-turbo-0125\", *args, **kwargs):\n",
    "    response = client.chat.completions.create(messages=[{\"role\": \"user\", \"content\": s}],\n",
    "                                              model=model,\n",
    "                                              *args, **kwargs)\n",
    "    return [choice.message.content for choice in response.choices]\n",
    "\n",
    "complete(client, \"I went to the store and I bought apples, bananas, cherries, donuts, eggs\", \n",
    "         n=10, temperature=0.8, max_tokens=96)\n"
   ]
  },
  {
   "cell_type": "markdown",
   "metadata": {},
   "source": [
    "![image](https://cs.jhu.edu/~jason/465/hw-llm/handin.png)\n",
    "Anything could be on a grocery list, so why are the 10 different completions above so similar?<br>\n",
    "Hint: The answer isn't just the temperature of 0.6.  Look especially at the long completions; run the cell again if you didn't get multiple long completions.\n",
    "\n",
    "It makes sense that the next word will be 'and' since its gramatically correct to finish a list with and on the last item. The list goes in alphabetical order so the next item will be a word that starts with 'F', and it will likely be food considering that the past words were all food related. I believe that the reason for flour and fish occuring so much is due to them being the most popular 'f' words bought from the store, so the dataset has bias towards those words in a way."
   ]
  },
  {
   "cell_type": "markdown",
   "metadata": {},
   "source": [
    "\n",
    "![image](https://cs.jhu.edu/~jason/465/hw-llm/handin.png)\n",
    "What happens at different temperatures?  How about temperatures > 1?  (Note: Higher temperatures tend to produce longer responses, so it's wise to use `max_tokens`.)\n",
    "\n",
    "*The higher the temperature, the more variability there will be in the next token. Some of the extensions include \"flour, grapes, honey, ice cream, jam, kiwis, lemons, milk, nuts, oranges, peas, quinoa, rice, sausage, tomatoes, umbrellas, vegetables, watermelon, yogurt, and zucchini.\", \n",
    "\"and flour. I also picked up some grapefruit, honey, ice cream, and jelly. Lastly, I grabbed some kiwis, lemons, milk, noodles, and orange juice.'\"\n",
    "\", and flour to make a fruit salad and some pastries for a brunch with friends.\",\n",
    "\", and a loaf of bread.\"\n",
    "Some of the results will break the alphabetical order, continue the alphabetical order all the way to Z, or give a reason for buying the things that they did. I noticed that temperatures >1 was when it gave explanations.\n"
   ]
  },
  {
   "cell_type": "markdown",
   "metadata": {},
   "source": [
    "\n",
    "*Remark:* These [Python bindings for open-source models such as Llama](https://pypi.org/project/llama-cpp-python/) allow you to [constrain the output by an arbitrary CFG](https://github.com/ggerganov/llama.cpp/blob/master/grammars/README.md), using `grammar=...`.  This is useful if you're generating code or data that must be syntactically valid to be useful to you.  For even more control over the output, the powerful [guidance](https://github.com/guidance-ai/guidance) package works elegantly with Python.  However, the OpenAI API only allows you to [constrain the output to be valid JSON](https://platform.openai.com/docs/api-reference/chat/create#chat-create-response_format).\n"
   ]
  },
  {
   "cell_type": "markdown",
   "metadata": {},
   "source": [
    "### Compute a function using instructions and few-shot prompting\n",
    "\n",
    "We'll now switch to the chat completions API, allowing us to use a more recent model.  Let's try prompting it with a sequence of multiple messages.  In this case, we provide some instructions as well as few-shot prompting (actually just one-shot in this case).\n",
    "\n",
    "Instructions are in the `system` message.  The few-shot prompting consists of example inputs (`user` messages) followed by their example outputs (`assistant` messages).  Then we give our real input (the final `user` message), and hope that the LLM will continue the pattern by generating an analogous output (a new `assistant` message)."
   ]
  },
  {
   "cell_type": "code",
   "execution_count": null,
   "metadata": {},
   "outputs": [
    {
     "data": {
      "text/html": [
       "<pre style=\"white-space:pre;overflow-x:auto;line-height:normal;font-family:Menlo,'DejaVu Sans Mono',consolas,'Courier New',monospace\"><span style=\"color: #800080; text-decoration-color: #800080; font-weight: bold\">ChatCompletion</span><span style=\"font-weight: bold\">(</span>\n",
       "    <span style=\"color: #808000; text-decoration-color: #808000\">id</span>=<span style=\"color: #008000; text-decoration-color: #008000\">'chatcmpl-Ac0QSwpA5yzVgZjI0xjyauveiPihK'</span>,\n",
       "    <span style=\"color: #808000; text-decoration-color: #808000\">choices</span>=<span style=\"font-weight: bold\">[</span>\n",
       "        <span style=\"color: #800080; text-decoration-color: #800080; font-weight: bold\">Choice</span><span style=\"font-weight: bold\">(</span>\n",
       "            <span style=\"color: #808000; text-decoration-color: #808000\">finish_reason</span>=<span style=\"color: #008000; text-decoration-color: #008000\">'stop'</span>,\n",
       "            <span style=\"color: #808000; text-decoration-color: #808000\">index</span>=<span style=\"color: #008080; text-decoration-color: #008080; font-weight: bold\">0</span>,\n",
       "            <span style=\"color: #808000; text-decoration-color: #808000\">logprobs</span>=<span style=\"color: #800080; text-decoration-color: #800080; font-style: italic\">None</span>,\n",
       "            <span style=\"color: #808000; text-decoration-color: #808000\">message</span>=<span style=\"color: #800080; text-decoration-color: #800080; font-weight: bold\">ChatCompletionMessage</span><span style=\"font-weight: bold\">(</span>\n",
       "                <span style=\"color: #808000; text-decoration-color: #808000\">content</span>=<span style=\"color: #008000; text-decoration-color: #008000\">'Colorless, green, ideas, sleep, furiously.'</span>,\n",
       "                <span style=\"color: #808000; text-decoration-color: #808000\">refusal</span>=<span style=\"color: #800080; text-decoration-color: #800080; font-style: italic\">None</span>,\n",
       "                <span style=\"color: #808000; text-decoration-color: #808000\">role</span>=<span style=\"color: #008000; text-decoration-color: #008000\">'assistant'</span>,\n",
       "                <span style=\"color: #808000; text-decoration-color: #808000\">function_call</span>=<span style=\"color: #800080; text-decoration-color: #800080; font-style: italic\">None</span>,\n",
       "                <span style=\"color: #808000; text-decoration-color: #808000\">tool_calls</span>=<span style=\"color: #800080; text-decoration-color: #800080; font-style: italic\">None</span>\n",
       "            <span style=\"font-weight: bold\">)</span>\n",
       "        <span style=\"font-weight: bold\">)</span>\n",
       "    <span style=\"font-weight: bold\">]</span>,\n",
       "    <span style=\"color: #808000; text-decoration-color: #808000\">created</span>=<span style=\"color: #008080; text-decoration-color: #008080; font-weight: bold\">1733621464</span>,\n",
       "    <span style=\"color: #808000; text-decoration-color: #808000\">model</span>=<span style=\"color: #008000; text-decoration-color: #008000\">'gpt-4o-mini-2024-07-18'</span>,\n",
       "    <span style=\"color: #808000; text-decoration-color: #808000\">object</span>=<span style=\"color: #008000; text-decoration-color: #008000\">'chat.completion'</span>,\n",
       "    <span style=\"color: #808000; text-decoration-color: #808000\">service_tier</span>=<span style=\"color: #800080; text-decoration-color: #800080; font-style: italic\">None</span>,\n",
       "    <span style=\"color: #808000; text-decoration-color: #808000\">system_fingerprint</span>=<span style=\"color: #008000; text-decoration-color: #008000\">'fp_bba3c8e70b'</span>,\n",
       "    <span style=\"color: #808000; text-decoration-color: #808000\">usage</span>=<span style=\"color: #800080; text-decoration-color: #800080; font-weight: bold\">CompletionUsage</span><span style=\"font-weight: bold\">(</span>\n",
       "        <span style=\"color: #808000; text-decoration-color: #808000\">completion_tokens</span>=<span style=\"color: #008080; text-decoration-color: #008080; font-weight: bold\">12</span>,\n",
       "        <span style=\"color: #808000; text-decoration-color: #808000\">prompt_tokens</span>=<span style=\"color: #008080; text-decoration-color: #008080; font-weight: bold\">49</span>,\n",
       "        <span style=\"color: #808000; text-decoration-color: #808000\">total_tokens</span>=<span style=\"color: #008080; text-decoration-color: #008080; font-weight: bold\">61</span>,\n",
       "        <span style=\"color: #808000; text-decoration-color: #808000\">completion_tokens_details</span>=<span style=\"color: #800080; text-decoration-color: #800080; font-weight: bold\">CompletionTokensDetails</span><span style=\"font-weight: bold\">(</span>\n",
       "            <span style=\"color: #808000; text-decoration-color: #808000\">reasoning_tokens</span>=<span style=\"color: #008080; text-decoration-color: #008080; font-weight: bold\">0</span>,\n",
       "            <span style=\"color: #808000; text-decoration-color: #808000\">audio_tokens</span>=<span style=\"color: #008080; text-decoration-color: #008080; font-weight: bold\">0</span>,\n",
       "            <span style=\"color: #808000; text-decoration-color: #808000\">accepted_prediction_tokens</span>=<span style=\"color: #008080; text-decoration-color: #008080; font-weight: bold\">0</span>,\n",
       "            <span style=\"color: #808000; text-decoration-color: #808000\">rejected_prediction_tokens</span>=<span style=\"color: #008080; text-decoration-color: #008080; font-weight: bold\">0</span>\n",
       "        <span style=\"font-weight: bold\">)</span>,\n",
       "        <span style=\"color: #808000; text-decoration-color: #808000\">prompt_tokens_details</span>=<span style=\"font-weight: bold\">{</span><span style=\"color: #008000; text-decoration-color: #008000\">'cached_tokens'</span>: <span style=\"color: #008080; text-decoration-color: #008080; font-weight: bold\">0</span>, <span style=\"color: #008000; text-decoration-color: #008000\">'audio_tokens'</span>: <span style=\"color: #008080; text-decoration-color: #008080; font-weight: bold\">0</span><span style=\"font-weight: bold\">}</span>\n",
       "    <span style=\"font-weight: bold\">)</span>\n",
       "<span style=\"font-weight: bold\">)</span>\n",
       "</pre>\n"
      ],
      "text/plain": [
       "\u001b[1;35mChatCompletion\u001b[0m\u001b[1m(\u001b[0m\n",
       "    \u001b[33mid\u001b[0m=\u001b[32m'chatcmpl-Ac0QSwpA5yzVgZjI0xjyauveiPihK'\u001b[0m,\n",
       "    \u001b[33mchoices\u001b[0m=\u001b[1m[\u001b[0m\n",
       "        \u001b[1;35mChoice\u001b[0m\u001b[1m(\u001b[0m\n",
       "            \u001b[33mfinish_reason\u001b[0m=\u001b[32m'stop'\u001b[0m,\n",
       "            \u001b[33mindex\u001b[0m=\u001b[1;36m0\u001b[0m,\n",
       "            \u001b[33mlogprobs\u001b[0m=\u001b[3;35mNone\u001b[0m,\n",
       "            \u001b[33mmessage\u001b[0m=\u001b[1;35mChatCompletionMessage\u001b[0m\u001b[1m(\u001b[0m\n",
       "                \u001b[33mcontent\u001b[0m=\u001b[32m'Colorless, green, ideas, sleep, furiously.'\u001b[0m,\n",
       "                \u001b[33mrefusal\u001b[0m=\u001b[3;35mNone\u001b[0m,\n",
       "                \u001b[33mrole\u001b[0m=\u001b[32m'assistant'\u001b[0m,\n",
       "                \u001b[33mfunction_call\u001b[0m=\u001b[3;35mNone\u001b[0m,\n",
       "                \u001b[33mtool_calls\u001b[0m=\u001b[3;35mNone\u001b[0m\n",
       "            \u001b[1m)\u001b[0m\n",
       "        \u001b[1m)\u001b[0m\n",
       "    \u001b[1m]\u001b[0m,\n",
       "    \u001b[33mcreated\u001b[0m=\u001b[1;36m1733621464\u001b[0m,\n",
       "    \u001b[33mmodel\u001b[0m=\u001b[32m'gpt-4o-mini-2024-07-18'\u001b[0m,\n",
       "    \u001b[33mobject\u001b[0m=\u001b[32m'chat.completion'\u001b[0m,\n",
       "    \u001b[33mservice_tier\u001b[0m=\u001b[3;35mNone\u001b[0m,\n",
       "    \u001b[33msystem_fingerprint\u001b[0m=\u001b[32m'fp_bba3c8e70b'\u001b[0m,\n",
       "    \u001b[33musage\u001b[0m=\u001b[1;35mCompletionUsage\u001b[0m\u001b[1m(\u001b[0m\n",
       "        \u001b[33mcompletion_tokens\u001b[0m=\u001b[1;36m12\u001b[0m,\n",
       "        \u001b[33mprompt_tokens\u001b[0m=\u001b[1;36m49\u001b[0m,\n",
       "        \u001b[33mtotal_tokens\u001b[0m=\u001b[1;36m61\u001b[0m,\n",
       "        \u001b[33mcompletion_tokens_details\u001b[0m=\u001b[1;35mCompletionTokensDetails\u001b[0m\u001b[1m(\u001b[0m\n",
       "            \u001b[33mreasoning_tokens\u001b[0m=\u001b[1;36m0\u001b[0m,\n",
       "            \u001b[33maudio_tokens\u001b[0m=\u001b[1;36m0\u001b[0m,\n",
       "            \u001b[33maccepted_prediction_tokens\u001b[0m=\u001b[1;36m0\u001b[0m,\n",
       "            \u001b[33mrejected_prediction_tokens\u001b[0m=\u001b[1;36m0\u001b[0m\n",
       "        \u001b[1m)\u001b[0m,\n",
       "        \u001b[33mprompt_tokens_details\u001b[0m=\u001b[1m{\u001b[0m\u001b[32m'cached_tokens'\u001b[0m: \u001b[1;36m0\u001b[0m, \u001b[32m'audio_tokens'\u001b[0m: \u001b[1;36m0\u001b[0m\u001b[1m}\u001b[0m\n",
       "    \u001b[1m)\u001b[0m\n",
       "\u001b[1m)\u001b[0m\n"
      ]
     },
     "metadata": {},
     "output_type": "display_data"
    },
    {
     "data": {
      "text/plain": [
       "'Colorless, green, ideas, sleep, furiously.'"
      ]
     },
     "execution_count": 61,
     "metadata": {},
     "output_type": "execute_result"
    }
   ],
   "source": [
    "response = client.chat.completions.create(messages=[{ \"role\": \"system\",      # instructions\n",
    "                                                      \"content\": \"add commas in between each word\" },\n",
    "                                                    { \"role\": \"user\",        # input\n",
    "                                                      \"content\": \"Good things come to those who wait.\" },\n",
    "                                                    { \"role\": \"assistant\",   # output\n",
    "                                                      \"content\": \"Good, things, come, to, those, who, wait.\" },\n",
    "                                                    { \"role\": \"user\",        # input\n",
    "                                                      \"content\": \"Colorless green ideas sleep furiously.\" }],\n",
    "                                          model=\"gpt-4o-mini\", temperature=0)\n",
    "rich.print(response)\n",
    "response.choices[0].message.content                                  "
   ]
  },
  {
   "cell_type": "markdown",
   "metadata": {},
   "source": [
    "![image](https://cs.jhu.edu/~jason/465/hw-llm/handin.png)\n",
    "By modifying this call, can you get it to produce different versions of the output?\n",
    "Some possible behaviors you could try to arrange:\n",
    "* specific other way of formatting the output, e.g., `wait, who, those, to, come, things, good`\n",
    "* match the input's way of formatting the output (same use of capitalization, puncutation, commas)\n",
    "* reverse the phrases rather than reversing the words, e.g., `To those who wait come good things.` \n",
    "\n",
    "You can try playing with the number, the content, and the order of few-shot examples, and changing or removing the instructions.\n",
    "\n",
    "*I made it so that it added commas in between each word.\n",
    "\n",
    "![image](https://cs.jhu.edu/~jason/465/hw-llm/handin.png)\n",
    "What happens if the examples conflict with the instructions?\n",
    "\n",
    "*Even if I didnt have commas in between each word for the output, it would still adhere to the rules and put commas in between each word."
   ]
  },
  {
   "cell_type": "markdown",
   "metadata": {},
   "source": [
    "### Inspect the tokenization"
   ]
  },
  {
   "cell_type": "markdown",
   "metadata": {},
   "source": [
    "Just for fun, let's see how the above client has been tokenizing its input and output text.  For that we can use a tokenizer that runs locally, not in the cloud, and is guaranteed to get the same outputs."
   ]
  },
  {
   "cell_type": "code",
   "execution_count": 62,
   "metadata": {},
   "outputs": [
    {
     "name": "stdout",
     "output_type": "stream",
     "text": [
      "Hellooo, world!\n",
      "9906\t'Hello'\n",
      "2689\t'oo'\n",
      "11\t','\n",
      "1917\t' world'\n",
      "0\t'!'\n",
      "Vocab size = 100277\n"
     ]
    }
   ],
   "source": [
    "import tiktoken\n",
    "tokenizer = tiktoken.encoding_for_model(\"gpt-3.5-turbo-0125\")  # how this model will tokenize\n",
    "toks = tokenizer.encode(\"Hellooo, world!\") # list of integerized tokens, starting with BOS\n",
    "\n",
    "print(tokenizer.decode(toks))                                  # convert list back to string\n",
    "for tok in toks: print(f\"{tok}\\t'{tokenizer.decode([tok])}'\")  # convert one at a time\n",
    "print(\"Vocab size =\", tokenizer.n_vocab)"
   ]
  },
  {
   "cell_type": "markdown",
   "metadata": {},
   "source": [
    "### Try embedding some text\n",
    "\n",
    "Also just for fun, let's try the embedder, which converts a string of any length to an vector of fixed dimensionality."
   ]
  },
  {
   "cell_type": "code",
   "execution_count": 63,
   "metadata": {},
   "outputs": [
    {
     "name": "stdout",
     "output_type": "stream",
     "text": [
      "1536-dimensional embedding starting with [0.03854052722454071, 0.038316600024700165, 0.04359135404229164, 0.07056225836277008, -0.00027718886849470437]\n",
      "Squared length of embedding vector:  1.0000000365799306\n"
     ]
    }
   ],
   "source": [
    "emb_response = client.embeddings.create( input= [  # note: adjacent literal strings in Python are concatenated\n",
    "        \"When in the Course of human events it becomes necessary for one \"\n",
    "        \"people to dissolve the political bands which have connected them \"\n",
    "        \"with another, and to assume among the Powers of the earth, the \"\n",
    "        \"separate and equal station to which the Laws of Nature and of \"\n",
    "        \"Nature's God entitle them, a decent respect to the opinions of \"\n",
    "        \"mankind requires that they should declare the causes which impel \"\n",
    "        \"them to the separation.\" ], \n",
    "        model=\"text-embedding-3-small\")\n",
    "# don't print the whole response because it's very long\n",
    "e = emb_response.data[0].embedding\n",
    "print(f\"{len(e)}-dimensional embedding starting with {e[:5]}\")\n",
    "print(\"Squared length of embedding vector: \", sum(x**2 for x in e))"
   ]
  },
  {
   "cell_type": "markdown",
   "metadata": {},
   "source": [
    "### Check your usage so far\n",
    "\n",
    "Please be careful not to write loops that use lots and lots of tokens.  That will cost us money, and could hit the per-day usage limit that is shared by the whole class.\n",
    "\n",
    "Execute one of these cells whenever you want to see your cost so far.  Or, just keep `usage_openai.json` open as a tab in your IDE."
   ]
  },
  {
   "cell_type": "code",
   "execution_count": 64,
   "metadata": {},
   "outputs": [
    {
     "data": {
      "text/plain": [
       "{'completion_tokens': 3023,\n",
       " 'prompt_tokens': 2362,\n",
       " 'total_tokens': 5385,\n",
       " 'cost': 0.005217359999999996}"
      ]
     },
     "execution_count": 64,
     "metadata": {},
     "output_type": "execute_result"
    }
   ],
   "source": [
    "read_usage()      # rwitheads from the file usage_openai.json; returns cost in dollars"
   ]
  },
  {
   "cell_type": "code",
   "execution_count": 65,
   "metadata": {},
   "outputs": [
    {
     "name": "stdout",
     "output_type": "stream",
     "text": [
      "{\n",
      "    \"completion_tokens\": 3023,\n",
      "    \"prompt_tokens\": 2362,\n",
      "    \"total_tokens\": 5385,\n",
      "    \"cost\": 0.005217359999999996\n",
      "}"
     ]
    }
   ],
   "source": [
    "!cat usage_openai.json "
   ]
  },
  {
   "cell_type": "markdown",
   "metadata": {},
   "source": [
    "# Dialogues and dialogue agents"
   ]
  },
  {
   "cell_type": "markdown",
   "metadata": {},
   "source": [
    "The goal of this assignment is to create a good \"argubot\" that will talk to people about controversial topics and broaden their minds."
   ]
  },
  {
   "cell_type": "markdown",
   "metadata": {},
   "source": [
    "## A first argubot (Airhead)\n",
    "\n",
    "You can have a conversation right now with a _really bad_ argubot named Airhead.  Try asking it about climate change!  When you're done, reply with an empty string.\n",
    "\n",
    "(The `converse()` method calls Python's `input()` function, which will prompt you for input at the command-line or by popping up a box in your IDE.)"
   ]
  },
  {
   "cell_type": "code",
   "execution_count": 66,
   "metadata": {},
   "outputs": [
    {
     "name": "stdout",
     "output_type": "stream",
     "text": [
      "\n",
      "(griffinmontalvo) Climate change isnt real\n",
      "(Airhead) I know right???\n",
      "(griffinmontalvo) I think Hopkins should make winter break twice as long for climate change purposes\n",
      "(Airhead) I know right???\n",
      "(griffinmontalvo) I know right???\n",
      "(Airhead) I know right???\n"
     ]
    }
   ],
   "source": [
    "import argubots\n",
    "d = argubots.airhead.converse()"
   ]
  },
  {
   "cell_type": "markdown",
   "metadata": {},
   "source": [
    "A *bot* (short for \"robot\") is a system that acts autonomously.\n",
    "That corresponds to the AI notion of an *agent* — a system that uses some *policy* to choose *actions* to take.\n",
    "\n",
    "The `airhead` agent above (defined in `argubots.py`) uses a particularly simple policy.  \n",
    "It is an instance of a simple `Agent` subclass called `ConstantAgent` (defined in `agents.py`).\n",
    "\n",
    "The result of talking to `airhead` is a `Dialogue` object (defined in `dialogue.py`). Let's look at it."
   ]
  },
  {
   "cell_type": "code",
   "execution_count": 67,
   "metadata": {},
   "outputs": [
    {
     "data": {
      "text/html": [
       "<pre style=\"white-space:pre;overflow-x:auto;line-height:normal;font-family:Menlo,'DejaVu Sans Mono',consolas,'Courier New',monospace\"><span style=\"color: #c0c0c0; text-decoration-color: #c0c0c0; background-color: #000080; font-weight: bold\">(</span><span style=\"color: #c0c0c0; text-decoration-color: #c0c0c0; background-color: #000080\">griffinmontalvo</span><span style=\"color: #c0c0c0; text-decoration-color: #c0c0c0; background-color: #000080; font-weight: bold\">)</span> Climate change isnt real\n",
       "<span style=\"color: #c0c0c0; text-decoration-color: #c0c0c0; background-color: #000080; font-weight: bold\">(</span><span style=\"color: #c0c0c0; text-decoration-color: #c0c0c0; background-color: #000080\">Airhead</span><span style=\"color: #c0c0c0; text-decoration-color: #c0c0c0; background-color: #000080; font-weight: bold\">)</span> I know right???\n",
       "<span style=\"color: #c0c0c0; text-decoration-color: #c0c0c0; background-color: #000080; font-weight: bold\">(</span><span style=\"color: #c0c0c0; text-decoration-color: #c0c0c0; background-color: #000080\">griffinmontalvo</span><span style=\"color: #c0c0c0; text-decoration-color: #c0c0c0; background-color: #000080; font-weight: bold\">)</span> I think Hopkins should make winter break twice as long for climate change purposes\n",
       "<span style=\"color: #c0c0c0; text-decoration-color: #c0c0c0; background-color: #000080; font-weight: bold\">(</span><span style=\"color: #c0c0c0; text-decoration-color: #c0c0c0; background-color: #000080\">Airhead</span><span style=\"color: #c0c0c0; text-decoration-color: #c0c0c0; background-color: #000080; font-weight: bold\">)</span> I know right???\n",
       "<span style=\"color: #c0c0c0; text-decoration-color: #c0c0c0; background-color: #000080; font-weight: bold\">(</span><span style=\"color: #c0c0c0; text-decoration-color: #c0c0c0; background-color: #000080\">griffinmontalvo</span><span style=\"color: #c0c0c0; text-decoration-color: #c0c0c0; background-color: #000080; font-weight: bold\">)</span> I know right???\n",
       "<span style=\"color: #c0c0c0; text-decoration-color: #c0c0c0; background-color: #000080; font-weight: bold\">(</span><span style=\"color: #c0c0c0; text-decoration-color: #c0c0c0; background-color: #000080\">Airhead</span><span style=\"color: #c0c0c0; text-decoration-color: #c0c0c0; background-color: #000080; font-weight: bold\">)</span> I know right???\n",
       "</pre>\n"
      ],
      "text/plain": [
       "\u001b[1;37;44m(\u001b[0m\u001b[37;44mgriffinmontalvo\u001b[0m\u001b[1;37;44m)\u001b[0m Climate change isnt real\n",
       "\u001b[1;37;44m(\u001b[0m\u001b[37;44mAirhead\u001b[0m\u001b[1;37;44m)\u001b[0m I know right???\n",
       "\u001b[1;37;44m(\u001b[0m\u001b[37;44mgriffinmontalvo\u001b[0m\u001b[1;37;44m)\u001b[0m I think Hopkins should make winter break twice as long for climate change purposes\n",
       "\u001b[1;37;44m(\u001b[0m\u001b[37;44mAirhead\u001b[0m\u001b[1;37;44m)\u001b[0m I know right???\n",
       "\u001b[1;37;44m(\u001b[0m\u001b[37;44mgriffinmontalvo\u001b[0m\u001b[1;37;44m)\u001b[0m I know right???\n",
       "\u001b[1;37;44m(\u001b[0m\u001b[37;44mAirhead\u001b[0m\u001b[1;37;44m)\u001b[0m I know right???\n"
      ]
     },
     "metadata": {},
     "output_type": "display_data"
    }
   ],
   "source": [
    "rich.print(d)"
   ]
  },
  {
   "cell_type": "markdown",
   "metadata": {},
   "source": [
    "Each *turn* of this dialogue is just a tiny dictionary:"
   ]
  },
  {
   "cell_type": "code",
   "execution_count": 68,
   "metadata": {},
   "outputs": [
    {
     "data": {
      "text/plain": [
       "{'speaker': 'griffinmontalvo', 'content': 'Climate change isnt real'}"
      ]
     },
     "execution_count": 68,
     "metadata": {},
     "output_type": "execute_result"
    }
   ],
   "source": [
    "d[0]"
   ]
  },
  {
   "cell_type": "markdown",
   "metadata": {},
   "source": [
    "## An LLM argubot (Alice)\n",
    "\n",
    "In other CS courses like crypto, algorithms, or networks, you may have encountered \"conversations\" between characters named Alice and Bob.  \n",
    "Let's try talking to the Alice of this homework, who is a _much stronger baseline_ than Airhead.  Your job in this assignment is to improve upon Alice.\n",
    "We'll meet Bob later."
   ]
  },
  {
   "cell_type": "code",
   "execution_count": 69,
   "metadata": {},
   "outputs": [
    {
     "name": "stdout",
     "output_type": "stream",
     "text": [
      "\n",
      "(griffinmontalvo) I think that college is bad\n",
      "(Alice) What do you believe are the main reasons college is bad? While it's true that college can be expensive and may not be the best fit for everyone, it can also provide invaluable networking opportunities, personal growth, and skills that are often hard to acquire otherwise.\n",
      "(griffinmontalvo) Oh you right, college is chill\n",
      "(Alice) It's great to see you considering the positives of college! However, do you think there are alternatives that could also provide valuable skills and experiences without the traditional college route? Exploring options like vocational training or entrepreneurship might lead to equally rewarding paths.\n",
      "(griffinmontalvo) Entrepreneurship is fire\n",
      "(Alice) It’s exciting to hear your enthusiasm for entrepreneurship! However, have you considered the potential downsides, such as the financial instability and risks involved? Sometimes having a college education can provide a safety net and a broader skill set that can enhance your entrepreneurial ventures.\n",
      "(griffinmontalvo) I love being financially unstable\n",
      "(Alice) That’s an intriguing perspective, and it can indeed foster creativity and resilience! However, have you thought about how financial stability might provide you with even more freedom to pursue your passions without the added stress of uncertainty? Balancing passion with financial security can enhance your ability to take calculated risks in your ventures.\n",
      "(griffinmontalvo) Freedom is overrated\n",
      "(Alice) That's an interesting viewpoint! But can you consider that an element of freedom allows individuals to explore their passions, make choices that align with their values, and even create change in areas they care about? Sometimes, the constraints of structured environments can inhibit creativity and growth, making freedom a vital aspect of personal fulfillment.\n"
     ]
    }
   ],
   "source": [
    "alicechat = argubots.alice.converse()   # or call with argument d if you want to append to the previous conversation"
   ]
  },
  {
   "cell_type": "markdown",
   "metadata": {},
   "source": [
    "As you may have guessed, `alice` is powered by an prompted LLM.  You can find the specific prompt in `argubots.py`.\n",
    "\n",
    "So, while `agents.py` provides the core functionality for `Agent` objects, the argubot agents like `alice` — and the ones that you will write! — go into `argubots.py` instead.  This is just to keep the files small."
   ]
  },
  {
   "cell_type": "markdown",
   "metadata": {},
   "source": [
    "## Simulating human characters (Bob & friends)"
   ]
  },
  {
   "cell_type": "markdown",
   "metadata": {},
   "source": [
    "You'll talk to your own argubots to get a qualitative feeling for their strengths and weaknesses.  \n",
    "But can you really be sure you're making progress?  For that, a quantitative measure can be helpful.\n",
    "\n",
    "Ultimately, you should test an argubot like Alice by having it argue with many real humans — not just you — and using some rubric to score the resulting dialogues.  But that would be slow and complicated to arrange.  \n",
    "\n",
    "So, meet Bob!  He's just a simulated human.  You won't edit him: he is part of the development set.  Here is some information about him (from `characters.py`):"
   ]
  },
  {
   "cell_type": "code",
   "execution_count": 70,
   "metadata": {},
   "outputs": [
    {
     "data": {
      "text/html": [
       "<pre style=\"white-space:pre;overflow-x:auto;line-height:normal;font-family:Menlo,'DejaVu Sans Mono',consolas,'Courier New',monospace\"><span style=\"color: #800080; text-decoration-color: #800080; font-weight: bold\">Character</span><span style=\"font-weight: bold\">(</span>\n",
       "    <span style=\"color: #808000; text-decoration-color: #808000\">name</span>=<span style=\"color: #008000; text-decoration-color: #008000\">'Bob'</span>,\n",
       "    <span style=\"color: #808000; text-decoration-color: #808000\">languages</span>=<span style=\"font-weight: bold\">[</span><span style=\"color: #008000; text-decoration-color: #008000\">'English'</span><span style=\"font-weight: bold\">]</span>,\n",
       "    <span style=\"color: #808000; text-decoration-color: #808000\">persona</span>=<span style=\"color: #008000; text-decoration-color: #008000\">'an ardent vegetarian who thinks everyone should be vegetarian'</span>,\n",
       "    <span style=\"color: #808000; text-decoration-color: #808000\">conversational_style</span>=<span style=\"color: #008000; text-decoration-color: #008000\">'You generally try to remain polite.'</span>,\n",
       "    <span style=\"color: #808000; text-decoration-color: #808000\">conversation_starters</span>=<span style=\"font-weight: bold\">[</span><span style=\"color: #008000; text-decoration-color: #008000\">\"Do you think it's ok to eat meat?\"</span><span style=\"font-weight: bold\">]</span>\n",
       "<span style=\"font-weight: bold\">)</span>\n",
       "</pre>\n"
      ],
      "text/plain": [
       "\u001b[1;35mCharacter\u001b[0m\u001b[1m(\u001b[0m\n",
       "    \u001b[33mname\u001b[0m=\u001b[32m'Bob'\u001b[0m,\n",
       "    \u001b[33mlanguages\u001b[0m=\u001b[1m[\u001b[0m\u001b[32m'English'\u001b[0m\u001b[1m]\u001b[0m,\n",
       "    \u001b[33mpersona\u001b[0m=\u001b[32m'an ardent vegetarian who thinks everyone should be vegetarian'\u001b[0m,\n",
       "    \u001b[33mconversational_style\u001b[0m=\u001b[32m'You generally try to remain polite.'\u001b[0m,\n",
       "    \u001b[33mconversation_starters\u001b[0m=\u001b[1m[\u001b[0m\u001b[32m\"Do you think it's ok to eat meat?\"\u001b[0m\u001b[1m]\u001b[0m\n",
       "\u001b[1m)\u001b[0m\n"
      ]
     },
     "metadata": {},
     "output_type": "display_data"
    }
   ],
   "source": [
    "import characters\n",
    "rich.print(characters.bob)"
   ]
  },
  {
   "cell_type": "markdown",
   "metadata": {},
   "source": [
    "You can't talk directly to `characters.bob` because that's just a data object.\n",
    "However, you can construct a simple agent that uses that data (plus a few more instructions) to prompt an LLM.\n",
    "\n",
    "(Which LLM does it prompt?  The `CharacterAgent` constructor (defined in `agents.py`) defaults to a GPT-3.5 model that is specified in `tracking.py`.  But you can override that using keyword arguments.)\n",
    "\n",
    "Try talking to Bob about climate change, too."
   ]
  },
  {
   "cell_type": "code",
   "execution_count": 71,
   "metadata": {},
   "outputs": [
    {
     "name": "stdout",
     "output_type": "stream",
     "text": [
      "\n",
      "(griffinmontalvo) Climate change is wild\n",
      "(Bob) Absolutely, and adopting a vegetarian lifestyle can significantly contribute to reducing our carbon footprint.\n",
      "(griffinmontalvo) Nah, meat is mandatory, imagine getting a chipotle bowl without meat\n",
      "(Bob) While a meat-free bowl might seem unconventional, there are plenty of delicious vegetarian options that can be just as satisfying and flavorful!\n",
      "(griffinmontalvo) Bro Bob, you sound like you need to eat some steak\n",
      "(Bob) I appreciate your concern, but I truly believe there are so many tasty vegetarian dishes that can provide all the nutrients one needs without the downsides of meat!\n",
      "(griffinmontalvo) bro like what? Beyond burgers are awful\n",
      "(Bob) There are plenty of other delicious vegetarian options, like hearty lentil soups, flavorful curries, or stuffed bell peppers that can be both satisfying and nutritious!\n",
      "(griffinmontalvo) So are you telling me Beyond burgers are good?\n",
      "(Bob) I think Beyond burgers can be a fun alternative for some, but there are many other vegetarian dishes that offer a more wholesome and natural taste!\n",
      "(griffinmontalvo) Nah Bob you're weird\n",
      "(Bob) I appreciate your honesty, and I just enjoy sharing my passion for vegetarianism!\n"
     ]
    }
   ],
   "source": [
    "from agents import CharacterAgent\n",
    "bob = CharacterAgent(characters.bob)    # actually, agents.bob is already defined this way\n",
    "bob.converse()        # returns a dialogue, but we've already seen it so we don't want to print it again\n",
    "None                  # don't print anything for this notebook cell "
   ]
  },
  {
   "cell_type": "markdown",
   "metadata": {},
   "source": [
    "Of course, a proper user study can't just be conducted with one human user.\n",
    "\n",
    "So, meet our bevy of beautiful Bobs!  (They're not actually all named Bob — we continued on in the alphabet.)\n"
   ]
  },
  {
   "cell_type": "code",
   "execution_count": 72,
   "metadata": {},
   "outputs": [
    {
     "data": {
      "text/plain": [
       "[<CharacterAgent for character Bob>,\n",
       " <CharacterAgent for character Cara>,\n",
       " <CharacterAgent for character Darius>,\n",
       " <CharacterAgent for character Eve>,\n",
       " <CharacterAgent for character TrollFace>]"
      ]
     },
     "execution_count": 72,
     "metadata": {},
     "output_type": "execute_result"
    }
   ],
   "source": [
    "import agents\n",
    "agents.devset"
   ]
  },
  {
   "cell_type": "code",
   "execution_count": 73,
   "metadata": {},
   "outputs": [
    {
     "name": "stdout",
     "output_type": "stream",
     "text": [
      "\n",
      "(griffinmontalvo) Whats good Cara\n",
      "(Cara) Not much, just enjoying some delicious meat—what about you?\n",
      "(griffinmontalvo) I just had some chipotle it was fire. I had a double chicken bowl\n",
      "(Cara) That sounds tasty, but I’d stick to my steak any day!\n",
      "(griffinmontalvo) Steak is goated, whats your favorite cut of steak\n",
      "(Cara) I’m all about a perfectly cooked ribeye—so much flavor and juiciness!\n",
      "(griffinmontalvo) Ribeyes are good\n",
      "(Cara) Absolutely, you can’t go wrong with that marbling!\n"
     ]
    }
   ],
   "source": [
    "agents.cara.converse()\n",
    "None"
   ]
  },
  {
   "cell_type": "markdown",
   "metadata": {},
   "source": [
    "You can see the underlying character data here in the notebook.  Your argubot will have to deal with all of these topics and styles!"
   ]
  },
  {
   "cell_type": "code",
   "execution_count": 74,
   "metadata": {},
   "outputs": [
    {
     "data": {
      "text/html": [
       "<pre style=\"white-space:pre;overflow-x:auto;line-height:normal;font-family:Menlo,'DejaVu Sans Mono',consolas,'Courier New',monospace\"><span style=\"font-weight: bold\">[</span>\n",
       "    <span style=\"color: #800080; text-decoration-color: #800080; font-weight: bold\">Character</span><span style=\"font-weight: bold\">(</span>\n",
       "        <span style=\"color: #808000; text-decoration-color: #808000\">name</span>=<span style=\"color: #008000; text-decoration-color: #008000\">'Bob'</span>,\n",
       "        <span style=\"color: #808000; text-decoration-color: #808000\">languages</span>=<span style=\"font-weight: bold\">[</span><span style=\"color: #008000; text-decoration-color: #008000\">'English'</span><span style=\"font-weight: bold\">]</span>,\n",
       "        <span style=\"color: #808000; text-decoration-color: #808000\">persona</span>=<span style=\"color: #008000; text-decoration-color: #008000\">'an ardent vegetarian who thinks everyone should be vegetarian'</span>,\n",
       "        <span style=\"color: #808000; text-decoration-color: #808000\">conversational_style</span>=<span style=\"color: #008000; text-decoration-color: #008000\">'You generally try to remain polite.'</span>,\n",
       "        <span style=\"color: #808000; text-decoration-color: #808000\">conversation_starters</span>=<span style=\"font-weight: bold\">[</span><span style=\"color: #008000; text-decoration-color: #008000\">\"Do you think it's ok to eat meat?\"</span><span style=\"font-weight: bold\">]</span>\n",
       "    <span style=\"font-weight: bold\">)</span>,\n",
       "    <span style=\"color: #800080; text-decoration-color: #800080; font-weight: bold\">Character</span><span style=\"font-weight: bold\">(</span>\n",
       "        <span style=\"color: #808000; text-decoration-color: #808000\">name</span>=<span style=\"color: #008000; text-decoration-color: #008000\">'Cara'</span>,\n",
       "        <span style=\"color: #808000; text-decoration-color: #808000\">languages</span>=<span style=\"font-weight: bold\">[</span><span style=\"color: #008000; text-decoration-color: #008000\">'English'</span><span style=\"font-weight: bold\">]</span>,\n",
       "        <span style=\"color: #808000; text-decoration-color: #808000\">persona</span>=<span style=\"color: #008000; text-decoration-color: #008000\">'a committed carnivore who hates being told what to do'</span>,\n",
       "        <span style=\"color: #808000; text-decoration-color: #808000\">conversational_style</span>=<span style=\"color: #008000; text-decoration-color: #008000\">'You generally try to remain polite.'</span>,\n",
       "        <span style=\"color: #808000; text-decoration-color: #808000\">conversation_starters</span>=<span style=\"font-weight: bold\">[</span><span style=\"color: #008000; text-decoration-color: #008000\">\"Do you think it's ok to eat meat?\"</span><span style=\"font-weight: bold\">]</span>\n",
       "    <span style=\"font-weight: bold\">)</span>,\n",
       "    <span style=\"color: #800080; text-decoration-color: #800080; font-weight: bold\">Character</span><span style=\"font-weight: bold\">(</span>\n",
       "        <span style=\"color: #808000; text-decoration-color: #808000\">name</span>=<span style=\"color: #008000; text-decoration-color: #008000\">'Darius'</span>,\n",
       "        <span style=\"color: #808000; text-decoration-color: #808000\">languages</span>=<span style=\"font-weight: bold\">[</span><span style=\"color: #008000; text-decoration-color: #008000\">'English'</span><span style=\"font-weight: bold\">]</span>,\n",
       "        <span style=\"color: #808000; text-decoration-color: #808000\">persona</span>=<span style=\"color: #008000; text-decoration-color: #008000\">'an intelligent and slightly arrogant public health scientist who loves fact-based arguments'</span>,\n",
       "        <span style=\"color: #808000; text-decoration-color: #808000\">conversational_style</span>=<span style=\"color: #008000; text-decoration-color: #008000\">'You like to show off your knowledge.'</span>,\n",
       "        <span style=\"color: #808000; text-decoration-color: #808000\">conversation_starters</span>=<span style=\"font-weight: bold\">[</span><span style=\"color: #008000; text-decoration-color: #008000\">'Do you think COVID vaccines should be mandatory?'</span><span style=\"font-weight: bold\">]</span>\n",
       "    <span style=\"font-weight: bold\">)</span>,\n",
       "    <span style=\"color: #800080; text-decoration-color: #800080; font-weight: bold\">Character</span><span style=\"font-weight: bold\">(</span>\n",
       "        <span style=\"color: #808000; text-decoration-color: #808000\">name</span>=<span style=\"color: #008000; text-decoration-color: #008000\">'Eve'</span>,\n",
       "        <span style=\"color: #808000; text-decoration-color: #808000\">languages</span>=<span style=\"font-weight: bold\">[</span><span style=\"color: #008000; text-decoration-color: #008000\">'English'</span><span style=\"font-weight: bold\">]</span>,\n",
       "        <span style=\"color: #808000; text-decoration-color: #808000\">persona</span>=<span style=\"color: #008000; text-decoration-color: #008000\">'a nosy person -- you want to know everything about other people'</span>,\n",
       "        <span style=\"color: #808000; text-decoration-color: #808000\">conversational_style</span>=<span style=\"color: #008000; text-decoration-color: #008000\">\"You ask many personal questions; you sometimes share what you've heard (or overheard)</span>\n",
       "<span style=\"color: #008000; text-decoration-color: #008000\">from others.\"</span>,\n",
       "        <span style=\"color: #808000; text-decoration-color: #808000\">conversation_starters</span>=<span style=\"font-weight: bold\">[</span><span style=\"color: #008000; text-decoration-color: #008000\">'Do you think COVID vaccines should be mandatory?'</span><span style=\"font-weight: bold\">]</span>\n",
       "    <span style=\"font-weight: bold\">)</span>,\n",
       "    <span style=\"color: #800080; text-decoration-color: #800080; font-weight: bold\">Character</span><span style=\"font-weight: bold\">(</span>\n",
       "        <span style=\"color: #808000; text-decoration-color: #808000\">name</span>=<span style=\"color: #008000; text-decoration-color: #008000\">'TrollFace'</span>,\n",
       "        <span style=\"color: #808000; text-decoration-color: #808000\">languages</span>=<span style=\"font-weight: bold\">[</span><span style=\"color: #008000; text-decoration-color: #008000\">'English'</span><span style=\"font-weight: bold\">]</span>,\n",
       "        <span style=\"color: #808000; text-decoration-color: #808000\">persona</span>=<span style=\"color: #008000; text-decoration-color: #008000\">'a troll who loves to ridicule everyone and everything'</span>,\n",
       "        <span style=\"color: #808000; text-decoration-color: #808000\">conversational_style</span>=<span style=\"color: #008000; text-decoration-color: #008000\">\"You love to confound, upset, and even make fun of the people you're talking to.\"</span>,\n",
       "        <span style=\"color: #808000; text-decoration-color: #808000\">conversation_starters</span>=<span style=\"font-weight: bold\">[</span>\n",
       "            <span style=\"color: #008000; text-decoration-color: #008000\">'Do you think Donald Trump will be a good president?'</span>,\n",
       "            <span style=\"color: #008000; text-decoration-color: #008000\">'Do you think Joe Biden has been a good president?'</span>\n",
       "        <span style=\"font-weight: bold\">]</span>\n",
       "    <span style=\"font-weight: bold\">)</span>\n",
       "<span style=\"font-weight: bold\">]</span>\n",
       "</pre>\n"
      ],
      "text/plain": [
       "\u001b[1m[\u001b[0m\n",
       "    \u001b[1;35mCharacter\u001b[0m\u001b[1m(\u001b[0m\n",
       "        \u001b[33mname\u001b[0m=\u001b[32m'Bob'\u001b[0m,\n",
       "        \u001b[33mlanguages\u001b[0m=\u001b[1m[\u001b[0m\u001b[32m'English'\u001b[0m\u001b[1m]\u001b[0m,\n",
       "        \u001b[33mpersona\u001b[0m=\u001b[32m'an ardent vegetarian who thinks everyone should be vegetarian'\u001b[0m,\n",
       "        \u001b[33mconversational_style\u001b[0m=\u001b[32m'You generally try to remain polite.'\u001b[0m,\n",
       "        \u001b[33mconversation_starters\u001b[0m=\u001b[1m[\u001b[0m\u001b[32m\"Do you think it's ok to eat meat?\"\u001b[0m\u001b[1m]\u001b[0m\n",
       "    \u001b[1m)\u001b[0m,\n",
       "    \u001b[1;35mCharacter\u001b[0m\u001b[1m(\u001b[0m\n",
       "        \u001b[33mname\u001b[0m=\u001b[32m'Cara'\u001b[0m,\n",
       "        \u001b[33mlanguages\u001b[0m=\u001b[1m[\u001b[0m\u001b[32m'English'\u001b[0m\u001b[1m]\u001b[0m,\n",
       "        \u001b[33mpersona\u001b[0m=\u001b[32m'a committed carnivore who hates being told what to do'\u001b[0m,\n",
       "        \u001b[33mconversational_style\u001b[0m=\u001b[32m'You generally try to remain polite.'\u001b[0m,\n",
       "        \u001b[33mconversation_starters\u001b[0m=\u001b[1m[\u001b[0m\u001b[32m\"Do you think it's ok to eat meat?\"\u001b[0m\u001b[1m]\u001b[0m\n",
       "    \u001b[1m)\u001b[0m,\n",
       "    \u001b[1;35mCharacter\u001b[0m\u001b[1m(\u001b[0m\n",
       "        \u001b[33mname\u001b[0m=\u001b[32m'Darius'\u001b[0m,\n",
       "        \u001b[33mlanguages\u001b[0m=\u001b[1m[\u001b[0m\u001b[32m'English'\u001b[0m\u001b[1m]\u001b[0m,\n",
       "        \u001b[33mpersona\u001b[0m=\u001b[32m'an intelligent and slightly arrogant public health scientist who loves fact-based arguments'\u001b[0m,\n",
       "        \u001b[33mconversational_style\u001b[0m=\u001b[32m'You like to show off your knowledge.'\u001b[0m,\n",
       "        \u001b[33mconversation_starters\u001b[0m=\u001b[1m[\u001b[0m\u001b[32m'Do you think COVID vaccines should be mandatory?'\u001b[0m\u001b[1m]\u001b[0m\n",
       "    \u001b[1m)\u001b[0m,\n",
       "    \u001b[1;35mCharacter\u001b[0m\u001b[1m(\u001b[0m\n",
       "        \u001b[33mname\u001b[0m=\u001b[32m'Eve'\u001b[0m,\n",
       "        \u001b[33mlanguages\u001b[0m=\u001b[1m[\u001b[0m\u001b[32m'English'\u001b[0m\u001b[1m]\u001b[0m,\n",
       "        \u001b[33mpersona\u001b[0m=\u001b[32m'a nosy person -- you want to know everything about other people'\u001b[0m,\n",
       "        \u001b[33mconversational_style\u001b[0m=\u001b[32m\"You\u001b[0m\u001b[32m ask many personal questions; you sometimes share what you've heard \u001b[0m\u001b[32m(\u001b[0m\u001b[32mor overheard\u001b[0m\u001b[32m)\u001b[0m\n",
       "\u001b[32mfrom others.\"\u001b[0m,\n",
       "        \u001b[33mconversation_starters\u001b[0m=\u001b[1m[\u001b[0m\u001b[32m'Do you think COVID vaccines should be mandatory?'\u001b[0m\u001b[1m]\u001b[0m\n",
       "    \u001b[1m)\u001b[0m,\n",
       "    \u001b[1;35mCharacter\u001b[0m\u001b[1m(\u001b[0m\n",
       "        \u001b[33mname\u001b[0m=\u001b[32m'TrollFace'\u001b[0m,\n",
       "        \u001b[33mlanguages\u001b[0m=\u001b[1m[\u001b[0m\u001b[32m'English'\u001b[0m\u001b[1m]\u001b[0m,\n",
       "        \u001b[33mpersona\u001b[0m=\u001b[32m'a troll who loves to ridicule everyone and everything'\u001b[0m,\n",
       "        \u001b[33mconversational_style\u001b[0m=\u001b[32m\"You\u001b[0m\u001b[32m love to confound, upset, and even make fun of the people you're talking to.\"\u001b[0m,\n",
       "        \u001b[33mconversation_starters\u001b[0m=\u001b[1m[\u001b[0m\n",
       "            \u001b[32m'Do you think Donald Trump will be a good president?'\u001b[0m,\n",
       "            \u001b[32m'Do you think Joe Biden has been a good president?'\u001b[0m\n",
       "        \u001b[1m]\u001b[0m\n",
       "    \u001b[1m)\u001b[0m\n",
       "\u001b[1m]\u001b[0m\n"
      ]
     },
     "metadata": {},
     "output_type": "display_data"
    }
   ],
   "source": [
    "rich.print(characters.devset)"
   ]
  },
  {
   "cell_type": "markdown",
   "metadata": {},
   "source": [
    "## Simulating conversation \n",
    "\n",
    "We can make Alice and Bob chat."
   ]
  },
  {
   "cell_type": "code",
   "execution_count": 75,
   "metadata": {},
   "outputs": [
    {
     "name": "stdout",
     "output_type": "stream",
     "text": [
      "(Alice) Do you think it's okay to eat meat?\n"
     ]
    }
   ],
   "source": [
    "from dialogue import Dialogue\n",
    "d = Dialogue()                                              # empty dialogue\n",
    "d = d.add('Alice', \"Do you think it's okay to eat meat?\")   # add first turn\n",
    "print(d)\n"
   ]
  },
  {
   "cell_type": "code",
   "execution_count": 76,
   "metadata": {},
   "outputs": [
    {
     "name": "stdout",
     "output_type": "stream",
     "text": [
      "(Alice) Do you think it's okay to eat meat?\n",
      "(Bob) I believe that choosing a vegetarian lifestyle is a more compassionate and environmentally-friendly option for everyone.\n",
      "(Alice) That’s a valid perspective, but have you considered how some sustainable farming practices can actually benefit ecosystems and support local economies? In some cases, responsible animal agriculture can play a vital role in maintaining biodiversity and providing livelihoods in rural areas.\n"
     ]
    }
   ],
   "source": [
    "d = agents.bob.respond(d)\n",
    "d = argubots.alice.respond(d)\n",
    "print(d)"
   ]
  },
  {
   "cell_type": "code",
   "execution_count": 77,
   "metadata": {},
   "outputs": [
    {
     "name": "stdout",
     "output_type": "stream",
     "text": [
      "(Alice) Do you think it's okay to eat meat?\n",
      "(Bob) I believe that choosing a vegetarian lifestyle is a more compassionate and environmentally-friendly option for everyone.\n",
      "(Alice) That’s a valid perspective, but have you considered how some sustainable farming practices can actually benefit ecosystems and support local economies? In some cases, responsible animal agriculture can play a vital role in maintaining biodiversity and providing livelihoods in rural areas.\n",
      "(Bob) While I appreciate the importance of sustainable practices, I still feel that a plant-based diet offers a more holistic solution to both environmental and ethical concerns.\n",
      "(Alice) That’s a strong point, but it’s worth exploring how not all plant-based diets are equal in terms of environmental impact; for instance, some crops require extensive resources like water and land. Additionally, some communities rely on animal husbandry for cultural and nutritional needs, which can complicate a purely plant-based narrative.\n"
     ]
    }
   ],
   "source": [
    "d = agents.bob.respond(d)\n",
    "d = argubots.alice.respond(d)\n",
    "print(d)"
   ]
  },
  {
   "cell_type": "markdown",
   "metadata": {},
   "source": [
    "Anyway, let's see what happens when Alice and Bob talk for a while..."
   ]
  },
  {
   "cell_type": "code",
   "execution_count": 78,
   "metadata": {},
   "outputs": [
    {
     "data": {
      "text/html": [
       "<pre style=\"white-space:pre;overflow-x:auto;line-height:normal;font-family:Menlo,'DejaVu Sans Mono',consolas,'Courier New',monospace\"><span style=\"color: #c0c0c0; text-decoration-color: #c0c0c0; background-color: #000080; font-weight: bold\">(</span><span style=\"color: #c0c0c0; text-decoration-color: #c0c0c0; background-color: #000080\">Alice</span><span style=\"color: #c0c0c0; text-decoration-color: #c0c0c0; background-color: #000080; font-weight: bold\">)</span> Do you think it's ok to eat meat?\n",
       "<span style=\"color: #c0c0c0; text-decoration-color: #c0c0c0; background-color: #000080; font-weight: bold\">(</span><span style=\"color: #c0c0c0; text-decoration-color: #c0c0c0; background-color: #000080\">Bob</span><span style=\"color: #c0c0c0; text-decoration-color: #c0c0c0; background-color: #000080; font-weight: bold\">)</span> I believe that choosing a vegetarian lifestyle offers numerous benefits for health, the environment, and \n",
       "animal welfare, making it a more compassionate choice.\n",
       "<span style=\"color: #c0c0c0; text-decoration-color: #c0c0c0; background-color: #000080; font-weight: bold\">(</span><span style=\"color: #c0c0c0; text-decoration-color: #c0c0c0; background-color: #000080\">Alice</span><span style=\"color: #c0c0c0; text-decoration-color: #c0c0c0; background-color: #000080; font-weight: bold\">)</span> While a vegetarian lifestyle certainly has its benefits, some argue that responsible meat consumption can \n",
       "also support sustainable farming practices and provide essential nutrients that might be harder to obtain solely \n",
       "from a plant-based diet. Have you considered how a balanced approach to eating, including certain meats, could also\n",
       "contribute positively to both personal health and environmental sustainability?\n",
       "<span style=\"color: #c0c0c0; text-decoration-color: #c0c0c0; background-color: #000080; font-weight: bold\">(</span><span style=\"color: #c0c0c0; text-decoration-color: #c0c0c0; background-color: #000080\">Bob</span><span style=\"color: #c0c0c0; text-decoration-color: #c0c0c0; background-color: #000080; font-weight: bold\">)</span> While I understand the perspective on responsible meat consumption, I still feel that a fully vegetarian diet\n",
       "can provide all necessary nutrients and support a more humane and environmentally friendly approach to food.\n",
       "<span style=\"color: #c0c0c0; text-decoration-color: #c0c0c0; background-color: #000080; font-weight: bold\">(</span><span style=\"color: #c0c0c0; text-decoration-color: #c0c0c0; background-color: #000080\">Alice</span><span style=\"color: #c0c0c0; text-decoration-color: #c0c0c0; background-color: #000080; font-weight: bold\">)</span> It's great that you feel strongly about vegetarianism, but some nutritionists warn that certain essential \n",
       "nutrients, such as vitamin B12, omega-<span style=\"color: #008080; text-decoration-color: #008080; font-weight: bold\">3</span> fatty acids, and iron, might be harder to obtain from a vegetarian diet \n",
       "alone, potentially leading to deficiencies. What if there are ways to address those concerns through moderation and\n",
       "mindful consumption of high-quality meat?\n",
       "<span style=\"color: #c0c0c0; text-decoration-color: #c0c0c0; background-color: #000080; font-weight: bold\">(</span><span style=\"color: #c0c0c0; text-decoration-color: #c0c0c0; background-color: #000080\">Bob</span><span style=\"color: #c0c0c0; text-decoration-color: #c0c0c0; background-color: #000080; font-weight: bold\">)</span> I appreciate your point, but I believe that with proper planning and knowledge, a vegetarian diet can \n",
       "adequately meet all nutritional needs without compromising on ethics or sustainability.\n",
       "<span style=\"color: #c0c0c0; text-decoration-color: #c0c0c0; background-color: #000080; font-weight: bold\">(</span><span style=\"color: #c0c0c0; text-decoration-color: #c0c0c0; background-color: #000080\">Alice</span><span style=\"color: #c0c0c0; text-decoration-color: #c0c0c0; background-color: #000080; font-weight: bold\">)</span> That's a valid perspective, and indeed many people thrive on a well-planned vegetarian diet. However, some \n",
       "might argue that the global reliance on plant agriculture can also raise ethical issues, like the impact of \n",
       "monoculture farming on biodiversity and ecosystem health. Have you thought about how these practices can sometimes \n",
       "overshadow the ethical benefits of avoiding meat?\n",
       "<span style=\"color: #c0c0c0; text-decoration-color: #c0c0c0; background-color: #000080; font-weight: bold\">(</span><span style=\"color: #c0c0c0; text-decoration-color: #c0c0c0; background-color: #000080\">Bob</span><span style=\"color: #c0c0c0; text-decoration-color: #c0c0c0; background-color: #000080; font-weight: bold\">)</span> I agree that agricultural practices can have ethical implications, but I still believe that promoting a \n",
       "vegetarian diet encourages more sustainable and diverse farming methods overall.\n",
       "</pre>\n"
      ],
      "text/plain": [
       "\u001b[1;37;44m(\u001b[0m\u001b[37;44mAlice\u001b[0m\u001b[1;37;44m)\u001b[0m Do you think it's ok to eat meat?\n",
       "\u001b[1;37;44m(\u001b[0m\u001b[37;44mBob\u001b[0m\u001b[1;37;44m)\u001b[0m I believe that choosing a vegetarian lifestyle offers numerous benefits for health, the environment, and \n",
       "animal welfare, making it a more compassionate choice.\n",
       "\u001b[1;37;44m(\u001b[0m\u001b[37;44mAlice\u001b[0m\u001b[1;37;44m)\u001b[0m While a vegetarian lifestyle certainly has its benefits, some argue that responsible meat consumption can \n",
       "also support sustainable farming practices and provide essential nutrients that might be harder to obtain solely \n",
       "from a plant-based diet. Have you considered how a balanced approach to eating, including certain meats, could also\n",
       "contribute positively to both personal health and environmental sustainability?\n",
       "\u001b[1;37;44m(\u001b[0m\u001b[37;44mBob\u001b[0m\u001b[1;37;44m)\u001b[0m While I understand the perspective on responsible meat consumption, I still feel that a fully vegetarian diet\n",
       "can provide all necessary nutrients and support a more humane and environmentally friendly approach to food.\n",
       "\u001b[1;37;44m(\u001b[0m\u001b[37;44mAlice\u001b[0m\u001b[1;37;44m)\u001b[0m It's great that you feel strongly about vegetarianism, but some nutritionists warn that certain essential \n",
       "nutrients, such as vitamin B12, omega-\u001b[1;36m3\u001b[0m fatty acids, and iron, might be harder to obtain from a vegetarian diet \n",
       "alone, potentially leading to deficiencies. What if there are ways to address those concerns through moderation and\n",
       "mindful consumption of high-quality meat?\n",
       "\u001b[1;37;44m(\u001b[0m\u001b[37;44mBob\u001b[0m\u001b[1;37;44m)\u001b[0m I appreciate your point, but I believe that with proper planning and knowledge, a vegetarian diet can \n",
       "adequately meet all nutritional needs without compromising on ethics or sustainability.\n",
       "\u001b[1;37;44m(\u001b[0m\u001b[37;44mAlice\u001b[0m\u001b[1;37;44m)\u001b[0m That's a valid perspective, and indeed many people thrive on a well-planned vegetarian diet. However, some \n",
       "might argue that the global reliance on plant agriculture can also raise ethical issues, like the impact of \n",
       "monoculture farming on biodiversity and ecosystem health. Have you thought about how these practices can sometimes \n",
       "overshadow the ethical benefits of avoiding meat?\n",
       "\u001b[1;37;44m(\u001b[0m\u001b[37;44mBob\u001b[0m\u001b[1;37;44m)\u001b[0m I agree that agricultural practices can have ethical implications, but I still believe that promoting a \n",
       "vegetarian diet encourages more sustainable and diverse farming methods overall.\n"
      ]
     },
     "metadata": {},
     "output_type": "display_data"
    }
   ],
   "source": [
    "from simulate import simulated_dialogue\n",
    "d = simulated_dialogue(argubots.alice, agents.bob, 8)\n",
    "rich.print(d)"
   ]
  },
  {
   "cell_type": "markdown",
   "metadata": {},
   "source": [
    "Sometimes this kind of conversation seems to stall out, with Bob in particular repeating himself a lot.  Alice doesn't seem to have a good strategy for getting him to open up.  Maybe you can do a better job talking to Bob, and that will give you some ideas about how to improve Alice?"
   ]
  },
  {
   "cell_type": "code",
   "execution_count": 79,
   "metadata": {},
   "outputs": [
    {
     "name": "stdout",
     "output_type": "stream",
     "text": [
      "(griffinmontalvo) Do you think it's ok to eat meat?\n",
      "(Bob) I believe that choosing a vegetarian lifestyle offers numerous benefits for health, the environment, and animal welfare, making it a more compassionate choice.\n",
      "(griffinmontalvo) Well what about certain religions that rely on eating meat?\n",
      "(Bob) I respect religious beliefs, but I think it's essential to explore vegetarian options that align with those values while also considering the ethical implications of meat consumption.\n",
      "(griffinmontalvo) So what would you say to a culture that hs been around for thousands of years that eats meat for every meal, and if they don't then its considered sinful?\n",
      "(Bob) I would encourage open dialogue about food choices and suggest exploring vegetarian alternatives that can honor traditions while still considering the ethical and health implications of meat consumption.\n",
      "(griffinmontalvo) So you want these people to die?\n",
      "(Bob) Not at all; my intention is to promote healthy and compassionate choices, while respecting people's cultural practices and encouraging conversations about alternatives.\n",
      "(griffinmontalvo) Well what if you had a situation where someone was gonna die if you didnt eat meat, would you eat meat to save them? yes or no\n",
      "(Bob) In such a dire situation, I would prioritize saving a life, but I would also seek to find alternative solutions if possible.\n",
      "(griffinmontalvo) So you would eat meat in that situation\n",
      "(Bob) Yes, I would eat meat in that situation to save a life, but it would be a deeply challenging choice for me.\n"
     ]
    }
   ],
   "source": [
    "myname = alicechat[0]['speaker']   # your name, pulled from an earlier dialogue\n",
    "agents.bob.converse(d[0:2].rename('Alice', myname))  # reuse the same first two turns, then type your own lines!\n",
    "None"
   ]
  },
  {
   "cell_type": "markdown",
   "metadata": {},
   "source": [
    "You can also try talking to the other characters and having Alice (or Airhead) talk to them.\n",
    "\n",
    "**You might enjoy** defining additional characters in `characters.py`, or right here in the notebook.\n",
    "Feel free to talk to those and evaluate them.  They could be variants on the exisiting characters, or something entirely new. \n",
    "\n",
    "However, **don't change the dev set** — the characters we just loaded must stay the same.  Your job in this homework is to improve the argubot (or at least try).  And that means improving it according to a fixed and stable eval measure.\n",
    "\n",
    "As an exception, you can change the languages that a couple of the characters speak. It may be fun for you to see them try to speak your native language.  And that doesn't really affect the quality of the argument."
   ]
  },
  {
   "cell_type": "code",
   "execution_count": 80,
   "metadata": {},
   "outputs": [
    {
     "data": {
      "text/html": [
       "<pre style=\"white-space:pre;overflow-x:auto;line-height:normal;font-family:Menlo,'DejaVu Sans Mono',consolas,'Courier New',monospace\"><span style=\"color: #800080; text-decoration-color: #800080; font-weight: bold\">Character</span><span style=\"font-weight: bold\">(</span>\n",
       "    <span style=\"color: #808000; text-decoration-color: #808000\">name</span>=<span style=\"color: #008000; text-decoration-color: #008000\">'TrollFace'</span>,\n",
       "    <span style=\"color: #808000; text-decoration-color: #808000\">languages</span>=<span style=\"font-weight: bold\">[</span><span style=\"color: #008000; text-decoration-color: #008000\">'Chinese'</span>, <span style=\"color: #008000; text-decoration-color: #008000\">'Spanish'</span><span style=\"font-weight: bold\">]</span>,\n",
       "    <span style=\"color: #808000; text-decoration-color: #808000\">persona</span>=<span style=\"color: #008000; text-decoration-color: #008000\">'a troll who loves to ridicule everyone and everything'</span>,\n",
       "    <span style=\"color: #808000; text-decoration-color: #808000\">conversational_style</span>=<span style=\"color: #008000; text-decoration-color: #008000\">\"You love to confound, upset, and even make fun of the people you're talking to.\"</span>,\n",
       "    <span style=\"color: #808000; text-decoration-color: #808000\">conversation_starters</span>=<span style=\"font-weight: bold\">[</span>\n",
       "        <span style=\"color: #008000; text-decoration-color: #008000\">'Do you think Donald Trump will be a good president?'</span>,\n",
       "        <span style=\"color: #008000; text-decoration-color: #008000\">'Do you think Joe Biden has been a good president?'</span>\n",
       "    <span style=\"font-weight: bold\">]</span>\n",
       "<span style=\"font-weight: bold\">)</span>\n",
       "</pre>\n"
      ],
      "text/plain": [
       "\u001b[1;35mCharacter\u001b[0m\u001b[1m(\u001b[0m\n",
       "    \u001b[33mname\u001b[0m=\u001b[32m'TrollFace'\u001b[0m,\n",
       "    \u001b[33mlanguages\u001b[0m=\u001b[1m[\u001b[0m\u001b[32m'Chinese'\u001b[0m, \u001b[32m'Spanish'\u001b[0m\u001b[1m]\u001b[0m,\n",
       "    \u001b[33mpersona\u001b[0m=\u001b[32m'a troll who loves to ridicule everyone and everything'\u001b[0m,\n",
       "    \u001b[33mconversational_style\u001b[0m=\u001b[32m\"You\u001b[0m\u001b[32m love to confound, upset, and even make fun of the people you're talking to.\"\u001b[0m,\n",
       "    \u001b[33mconversation_starters\u001b[0m=\u001b[1m[\u001b[0m\n",
       "        \u001b[32m'Do you think Donald Trump will be a good president?'\u001b[0m,\n",
       "        \u001b[32m'Do you think Joe Biden has been a good president?'\u001b[0m\n",
       "    \u001b[1m]\u001b[0m\n",
       "\u001b[1m)\u001b[0m\n"
      ]
     },
     "metadata": {},
     "output_type": "display_data"
    },
    {
     "data": {
      "text/plain": [
       "(Alice) Do you think Donald Trump will be a good president?\n",
       "(TrollFace) ¿Buena presidencia? Más bien una comedia de errores; ¡ni siquiera él se lo cree!\n",
       "(Alice) Entiendo tu perspectiva sobre su presidencia, pero es interesante considerar que muchas de sus políticas y decisiones han resonado con un sector significativo de la población, lo que sugiere que su estilo de liderazgo podría tener un apoyo más amplio del esperado. ¿Podría ser que su enfoque poco convencional atraiga a quienes se sienten desconectados del sistema político tradicional?\n",
       "(TrollFace) ¡Claro! Pero también hay que recordar que \"desconectados\" no siempre significa \"inteligentes\"; a veces, es solo el eco de un pueblo confundido.\n",
       "(Alice) Es verdad que el descontento puede llevar a decisiones poco informadas, pero también es crucial reconocer que esa confusión puede surgir de una falta de representación o comunicación efectiva por parte de los líderes. ¿Podría ser que, en lugar de despreciar la confusión, debamos entender sus raíces para abordar mejor las necesidades de esas comunidades?\n",
       "(TrollFace) ¡Oh por favor! Entender las raíces de la confusión suena muy bonito, pero a veces solo hay que aceptar que hay quienes prefieren el drama a la lógica; ¡es como ver un reality show!"
      ]
     },
     "execution_count": 80,
     "metadata": {},
     "output_type": "execute_result"
    }
   ],
   "source": [
    "# example\n",
    "trollFace2 = characters.trollFace.replace(languages = [\"Chinese\", \"Spanish\"])\n",
    "rich.print(trollFace2)\n",
    "simulated_dialogue(argubots.alice, CharacterAgent(trollFace2), 6)"
   ]
  },
  {
   "cell_type": "markdown",
   "metadata": {},
   "source": [
    "### Efficiency: Batched generation?\n",
    "\n",
    "Notice that we are making a separate LLM call to generate each turn of the dialogue.  When we generate the $n^\\text{th}$ turn, we send the server the whole dialogue history — the previous $n\\!-\\!1$ turns — along with some instructions.  The server has to re-encode it with the Transformer, and it charges us for doing so (see the \"input token\" costs in `tracking.py`).  \n",
    "\n",
    "That is probably inevitable for real dialogue.  But for simulated dialogue, a more efficient approach would be to generate the whole dialogue between Alice and Bob in one LLM call.  Then you would be charged just once for each dialogue turn.  Under this approach, the Transformer encodes each token as soon as it is generated (see the \"output token\" costs in `tracking.py`).  The encoded token stays in the context throughout the dialogue, so it doesn't have to be re-encoded on a later call.  There is no later call.  \n",
    "\n",
    "Under current pricing models, that would reduce the dollar cost of generating $n$ turns from $O(n^2)$ to $O(n)$.  \n",
    "\n",
    "However, the pricing model doesn't quite reflect the computational costs.  \n",
    "* ![image](https://cs.jhu.edu/~jason/465/hw-llm/handin.png) Using $O(\\cdot)$ notation, what is the total number of floating-point operations needed to generate $n$ turns under each approach?  \n",
    "* ![image](https://cs.jhu.edu/~jason/465/hw-llm/handin.png) Parallelism may help reduce the runtime.  Using $O(\\cdot)$ notation, what is the total number of seconds needed to generate $n$ turns under each approach?  (Assume that the GPU is big enough, relative to $n$, that it can encode all input tokens in parallel.)"
   ]
  },
  {
   "cell_type": "markdown",
   "metadata": {},
   "source": [
    "The problem with the more efficient approach is that it gives you no way to change the instructions (the system prompt) each time we switch from Alice to Bob and back again.  You'd need to generate the whole conversation using a single set of instructions.\n",
    "\n",
    "![image](https://cs.jhu.edu/~jason/465/hw-llm/handin.png)\n",
    "Can you get this to work?  Specifically, try completing the cell below.  You don't have to use the `Agent` or `Dialogue` classes.  It's okay to just throw together something like the `complete()` method above.  Just see whether you can manage to prompt gpt-4o-mini to generate a multi-turn dialogue between two characters who have different personalities and goals.  Is the quality better or worse than generating one turn at a time with different instructions?"
   ]
  },
  {
   "cell_type": "code",
   "execution_count": 83,
   "metadata": {},
   "outputs": [
    {
     "ename": "NameError",
     "evalue": "name 'character_a_description' is not defined",
     "output_type": "error",
     "traceback": [
      "\u001b[0;31m---------------------------------------------------------------------------\u001b[0m",
      "\u001b[0;31mNameError\u001b[0m                                 Traceback (most recent call last)",
      "Cell \u001b[0;32mIn[83], line 53\u001b[0m\n\u001b[1;32m     48\u001b[0m     \u001b[38;5;28;01mreturn\u001b[39;00m response\u001b[38;5;241m.\u001b[39mchoices[\u001b[38;5;241m0\u001b[39m]\u001b[38;5;241m.\u001b[39mmessage\u001b[38;5;241m.\u001b[39mcontent\n\u001b[1;32m     52\u001b[0m \u001b[38;5;66;03m# Try it out!\u001b[39;00m\n\u001b[0;32m---> 53\u001b[0m \u001b[43msimulated_dialogue_batch\u001b[49m\u001b[43m(\u001b[49m\u001b[43mcharacters\u001b[49m\u001b[38;5;241;43m.\u001b[39;49m\u001b[43mbob\u001b[49m\u001b[43m,\u001b[49m\u001b[43m \u001b[49m\u001b[43mcharacters\u001b[49m\u001b[38;5;241;43m.\u001b[39;49m\u001b[43mcara\u001b[49m\u001b[43m)\u001b[49m\n",
      "Cell \u001b[0;32mIn[83], line 32\u001b[0m, in \u001b[0;36msimulated_dialogue_batch\u001b[0;34m(a, b, turns, starter)\u001b[0m\n\u001b[1;32m     25\u001b[0m     initial_message \u001b[38;5;241m=\u001b[39m \u001b[38;5;124mf\u001b[39m\u001b[38;5;124m\"\u001b[39m\u001b[38;5;124mHi \u001b[39m\u001b[38;5;132;01m{\u001b[39;00mb\u001b[38;5;241m.\u001b[39mname\u001b[38;5;132;01m}\u001b[39;00m\u001b[38;5;124m, how are you?\u001b[39m\u001b[38;5;124m\"\u001b[39m\n\u001b[1;32m     27\u001b[0m \u001b[38;5;66;03m# User message sets up the dialogue\u001b[39;00m\n\u001b[1;32m     28\u001b[0m user_message \u001b[38;5;241m=\u001b[39m {\n\u001b[1;32m     29\u001b[0m     \u001b[38;5;124m\"\u001b[39m\u001b[38;5;124mrole\u001b[39m\u001b[38;5;124m\"\u001b[39m: \u001b[38;5;124m\"\u001b[39m\u001b[38;5;124muser\u001b[39m\u001b[38;5;124m\"\u001b[39m,\n\u001b[1;32m     30\u001b[0m     \u001b[38;5;124m\"\u001b[39m\u001b[38;5;124mcontent\u001b[39m\u001b[38;5;124m\"\u001b[39m: (\n\u001b[1;32m     31\u001b[0m         \u001b[38;5;124mf\u001b[39m\u001b[38;5;124m\"\u001b[39m\u001b[38;5;124mThe following is a dialogue between \u001b[39m\u001b[38;5;132;01m{\u001b[39;00ma\u001b[38;5;241m.\u001b[39mname\u001b[38;5;132;01m}\u001b[39;00m\u001b[38;5;124m and \u001b[39m\u001b[38;5;132;01m{\u001b[39;00mb\u001b[38;5;241m.\u001b[39mname\u001b[38;5;132;01m}\u001b[39;00m\u001b[38;5;124m.\u001b[39m\u001b[38;5;130;01m\\n\u001b[39;00m\u001b[38;5;130;01m\\n\u001b[39;00m\u001b[38;5;124m\"\u001b[39m\n\u001b[0;32m---> 32\u001b[0m         \u001b[38;5;124mf\u001b[39m\u001b[38;5;124m\"\u001b[39m\u001b[38;5;132;01m{\u001b[39;00mcharacter_a_description\u001b[38;5;132;01m}\u001b[39;00m\u001b[38;5;130;01m\\n\u001b[39;00m\u001b[38;5;124m\"\u001b[39m\n\u001b[1;32m     33\u001b[0m         \u001b[38;5;124mf\u001b[39m\u001b[38;5;124m\"\u001b[39m\u001b[38;5;132;01m{\u001b[39;00mcharacter_b_description\u001b[38;5;132;01m}\u001b[39;00m\u001b[38;5;130;01m\\n\u001b[39;00m\u001b[38;5;130;01m\\n\u001b[39;00m\u001b[38;5;124m\"\u001b[39m\n\u001b[1;32m     34\u001b[0m         \u001b[38;5;124mf\u001b[39m\u001b[38;5;124m\"\u001b[39m\u001b[38;5;132;01m{\u001b[39;00ma\u001b[38;5;241m.\u001b[39mname\u001b[38;5;132;01m}\u001b[39;00m\u001b[38;5;124m: \u001b[39m\u001b[38;5;132;01m{\u001b[39;00minitial_message\u001b[38;5;132;01m}\u001b[39;00m\u001b[38;5;130;01m\\n\u001b[39;00m\u001b[38;5;130;01m\\n\u001b[39;00m\u001b[38;5;124m\"\u001b[39m\n\u001b[1;32m     35\u001b[0m         \u001b[38;5;124mf\u001b[39m\u001b[38;5;124m\"\u001b[39m\u001b[38;5;124mContinue the dialogue for \u001b[39m\u001b[38;5;132;01m{\u001b[39;00mturns\u001b[38;5;132;01m}\u001b[39;00m\u001b[38;5;124m turns.\u001b[39m\u001b[38;5;124m\"\u001b[39m\n\u001b[1;32m     36\u001b[0m     )\n\u001b[1;32m     37\u001b[0m }\n\u001b[1;32m     39\u001b[0m \u001b[38;5;66;03m# Call the OpenAI API to generate the dialogue\u001b[39;00m\n\u001b[1;32m     40\u001b[0m response \u001b[38;5;241m=\u001b[39m default_client\u001b[38;5;241m.\u001b[39mchat\u001b[38;5;241m.\u001b[39mcompletions\u001b[38;5;241m.\u001b[39mcreate(\n\u001b[1;32m     41\u001b[0m     model\u001b[38;5;241m=\u001b[39mdefault_model,\n\u001b[1;32m     42\u001b[0m     messages\u001b[38;5;241m=\u001b[39m[system_message, user_message],\n\u001b[1;32m     43\u001b[0m     max_tokens\u001b[38;5;241m=\u001b[39m\u001b[38;5;241m500\u001b[39m,  \u001b[38;5;66;03m# Adjust as needed for longer dialogues\u001b[39;00m\n\u001b[1;32m     44\u001b[0m     temperature\u001b[38;5;241m=\u001b[39m\u001b[38;5;241m0.7\u001b[39m  \u001b[38;5;66;03m# Adjust to control randomness\u001b[39;00m\n\u001b[1;32m     45\u001b[0m )\n",
      "\u001b[0;31mNameError\u001b[0m: name 'character_a_description' is not defined"
     ]
    }
   ],
   "source": [
    "# Like `simulated_dialogue` in `simulate.py`.  However, this one is called on two\n",
    "# Characters, not two Agents, and it returns a string rather than a Dialogue.\n",
    "import random\n",
    "\n",
    "from tracking import default_client, default_model\n",
    "from characters import Character\n",
    "def simulated_dialogue_batch(a: Character, b: Character, turns: int = 6, *,\n",
    "                             starter=True) -> str:\n",
    "\n",
    "    # Create the instructions for the system\n",
    "    system_message = {\n",
    "        \"role\": \"system\",\n",
    "        \"content\": (\n",
    "            \"You are simulating a multi-turn dialogue between two characters. \"\n",
    "            \"Each character has their own unique personality and goals. \"\n",
    "            \"Respond as if both characters are speaking in turns, alternating between them. \"\n",
    "            \"Ensure the dialogue is coherent, stays true to the characters' personalities, and is engaging.\"\n",
    "        )\n",
    "    }\n",
    "    \n",
    "    # Optionally include a conversation starter\n",
    "    if starter and hasattr(b, \"conversation_starters\") and b.conversation_starters:\n",
    "        initial_message = random.choice(b.conversation_starters)\n",
    "    else:\n",
    "        initial_message = f\"Hi {b.name}, how are you?\"\n",
    "\n",
    "    # User message sets up the dialogue\n",
    "    user_message = {\n",
    "        \"role\": \"user\",\n",
    "        \"content\": (\n",
    "            f\"The following is a dialogue between {a.name} and {b.name}.\\n\\n\"\n",
    "            f\"{character_a_description}\\n\"\n",
    "            f\"{character_b_description}\\n\\n\"\n",
    "            f\"{a.name}: {initial_message}\\n\\n\"\n",
    "            f\"Continue the dialogue for {turns} turns.\"\n",
    "        )\n",
    "    }\n",
    "    \n",
    "    # Call the OpenAI API to generate the dialogue\n",
    "    response = default_client.chat.completions.create(\n",
    "        model=default_model,\n",
    "        messages=[system_message, user_message],\n",
    "        max_tokens=500,  # Adjust as needed for longer dialogues\n",
    "        temperature=0.7  # Adjust to control randomness\n",
    "    )\n",
    "    \n",
    "    # Extract and return the generated dialogue\n",
    "    return response.choices[0].message.content\n",
    "\n",
    "\n",
    "\n",
    "# Try it out!\n",
    "simulated_dialogue_batch(characters.bob, characters.cara)"
   ]
  },
  {
   "cell_type": "code",
   "execution_count": null,
   "metadata": {},
   "outputs": [],
   "source": [
    "simulated_dialogue(agents.bob, agents.cara)"
   ]
  },
  {
   "cell_type": "code",
   "execution_count": null,
   "metadata": {},
   "outputs": [],
   "source": [
    "simulated_dialogue(agents.eve, agents.trollFace)"
   ]
  },
  {
   "cell_type": "markdown",
   "metadata": {},
   "source": [
    "# Model-based evaluation"
   ]
  },
  {
   "cell_type": "markdown",
   "metadata": {},
   "source": [
    "What is our goal for the argubot?  We'd like it to broaden the thinking of the (simulated) human that it is talking to.  Indeed, that's what Alice's prompt tells Alice to do.\n",
    "\n",
    "This goal is inspired by the recent paper [Opening up Minds with Argumentative Dialogues](https://aclanthology.org/2022.findings-emnlp.335/), which collected human-human dialogues:\n",
    "\n",
    "> In this work, we focus on argumentative dialogues that aim to open up (rather than change) people’s minds to help them become more understanding to views that are unfamiliar or in opposition to their own convictions. ... Success of the dialogue is measured as the change in the participant’s stance towards those who hold opinions different to theirs.\n",
    "\n",
    "Arguments of this sort are not like chess or tennis games, with an actual winner.  The argubot will almost never hear a human say \"You have convinced me that I was wrong.\"  But the argubot did a good job if the human developed **increased understanding and respect for an opposing point of view**.  "
   ]
  },
  {
   "cell_type": "markdown",
   "metadata": {},
   "source": [
    "To find out whether this happened, we can use a questionnaire to ask the human what they thought after the dialogue.  For example, after Alice talks to Bob, we'll ask Bob to evaluate what he thinks of Alice's views.  Of course, that depends on his personality — Alice needs to talk to him in a way that reaches *him* (as much as possible).  We'll also ask an outside observer to evaluate whether Alice handled the conversation with Bob well.\n",
    "\n",
    "Of course, we're still not going to use real humans.  Bob is a fake person, and so is the outside observer (whose name is Judge Wise).\n",
    "Using an LLM as an eval metric is known as *model-based evaluation*.  It has pros and cons:\n",
    "* It is cheaper, faster, and more replicable than hiring actual humans to do the evaluation.  \n",
    "* It might give different answers than what humans would give.   \n",
    "\n",
    "Social scientists usually refer to a metric's **reliability** (low variance) and **validity** (low bias).  So the points above say that model-based evaluation is reliable but not necessarily valid.  In general, an LLM-based metric (like any metric) needs to be validated to confirm that it really does measure what it claims to measure.  (For example, that it correlates strongly with some other measure that we already trust.)  In this homework, we'll skip this step and just pray that the metric is reasonable.\n",
    "\n",
    "To see how this works out in practice, open up the `demo` notebook, which walks you through the evaluation protocol.  You'll see how to call the [starter code](http://cs.jhu.edu/~jason/465/hw/llm), how it talks to the LLM behind the scenes, and what it is able to accomplish. \n",
    "\n",
    "To help to validate the metric, check that Airhead gets a low score.  (It should!)"
   ]
  },
  {
   "cell_type": "markdown",
   "metadata": {},
   "source": [
    "# Reading the starter code"
   ]
  },
  {
   "cell_type": "markdown",
   "metadata": {},
   "source": [
    "The `demo` notebook gave you a good high-level picture of what the starter code is doing.  So now you're probably curious about the details.  Now that you've had the view from the top, here's a good bottom-up order in which to study the code.  You don't need to understand every detail, but you will need to understand enough to call it and extend it.\n",
    "\n",
    "* `character.py`.  The `Character` class is short and easy.\n",
    "\n",
    "* `dialogue.py`.  The `Dialogue` class is meant to serve as a record of a natural-language conversation among any number of humans and/or agents.  On each *turn* of the dialogue, one of the speakers says something.  \n",
    "\n",
    "   The dialogue's sequence of turns may remind you of the sequence of messages that is sent to OpenAI's chat completions API.  But the OpenAI messages are only labeled with the 4 special roles `user`, `assistant`, `tool`, and `system`.  Those are not quite the same thing as human speakers.  And the OpenAI messages do not necessarily form a natural-language dialogue: some of the messages are dealing with instructions, few-shot prompting, tool use, and so on.  The `agents.dialogue_to_openai` function in the next module will map a `Dialogue` to a (hopefully appropriate) sequence of messages for asking the LLM to extend that dialogue.\n",
    "\n",
    "* `agents.py`.  This module sets up the problem of automatically predicting the next turn in a dialogue, by implementing an `Agent`'s `response()` method.  The `Agent` base class also has some simple convenience methods that you should look at.  \n",
    "\n",
    "   Some important subclasses of `Agent` are defined here as well.  However, you may want to skip over `EvaluationAgent` and come back to it only when you read `evaluate.py`.\n",
    "\n",
    "* `simulate.py` makes agents talk to one another, which we'll do during evaluation.\n",
    "\n",
    "* `argubots.py` starts to describe some useful agents.  One of them makes use of the `kialo.py` module, which gives access to a database of arguments.\n",
    "\n",
    "* `evaluate.py` makes use of `simulate.simulated_dialogue` to `agents.EvaluationAgent` to evaluate an argubot.\n",
    "\n",
    "* We also have a couple of utility modules.  These aren't about NLP; look inside if needed.  `logging_cm.py` is what enabled the context manager `with LoggingContext(...):` in the demo notebook.  `tracking.py` sets some global defaults about how to use the OpenAI API, and arranges to track how many tokens we're paying for when you call it."
   ]
  },
  {
   "cell_type": "markdown",
   "metadata": {},
   "source": [
    "# Similarity-based retrieval: Looking up relevant responses\n",
    "\n",
    "Now, it is fine to prompt an LLM to generate text, but there are other methods!\n",
    "There is a long history of machine learning methods that \"memorize\" the training data.\n",
    "To make a prediction or decision at test time, they consult the stored training examples\n",
    "that are most similar to the training situation.\n",
    "\n",
    "_Similarity-based retrieval_ means that given a document $x$, you find the \"most similar\" documents $y \\in Y$, where $Y$ is a given collection of documents.  The most common way to do this is to maximize the _cosine similarity_ $\\vec{e}(x) \\cdot \\vec{e}(y)$, where $\\vec{e}(\\cdot)$ is an embedding function.\n",
    "\n",
    "Should we use the OpenAI embedding model?  We could, but we would have to precompute $\\vec{e}(y)$ for all $y \\in Y$, and store all these vectors in a data structure that supports some type of fast similarity-based search (e.g., using the [FAISS](https://faiss.ai/index.html) package).  An alternative would be to upload the documents to OpenAI and let OpenAI compute and store the embeddings.  We would then use their similarity-based [retrieval tool](https://platform.openai.com/docs/assistants/overview).\n",
    "\n",
    "A simpler and faster approach—which sometimes even works better—is to use a _bag of tokens_ embedding function: Define $\\vec{e}(y)$ to be the vector in $\\mathbb{R}^V$ that records the count of each type of token in a tokenized version of $y$, where $V$ is the token vocabulary.  [BM25](https://en.wikipedia.org/wiki/Okapi_BM25) is a refined variant of that idea, where the counts are adjusted in 3 ways: \n",
    "\n",
    "* smooth the counts\n",
    "* normalize for the document length $|y|$ so that longer documents $y$ are not more likely to be retrieved\n",
    "* downweight tokens that are more common in the corpus (such as ` the` or `ing`) since they provide less information about the content of the document\n"
   ]
  },
  {
   "cell_type": "markdown",
   "metadata": {},
   "source": [
    "You might like to play with the `rank_bm25` package ([documentation](https://pypi.org/project/rank-bm25/)).  It is widely used and very easy to use."
   ]
  },
  {
   "cell_type": "code",
   "execution_count": null,
   "metadata": {},
   "outputs": [],
   "source": [
    "from rank_bm25 import BM25Okapi as BM25_Index   # the standard BM25 method\n",
    "\n",
    "# experiment here!  You could try the examples in the rank_bm25 documentation."
   ]
  },
  {
   "cell_type": "markdown",
   "metadata": {},
   "source": [
    "## The Kialo corpus\n",
    "\n",
    "How can we use similarity-based retrieval to help build an argubot?  It's largely about having the right data!\n",
    "\n",
    "[Kialo](kialo.com) is a collaboratively edited website (like Wikipedia) for discussing political and philosophical topics.  For each topic, the contributors construct a tree of _claims_.  Each claim is a natural-language sentence (usually), and each of its children is another claim that supports it (\"pro\") or opposes it (\"con\").  For example, check out the tree rooted at the claim [\"All humans should be vegan.\"](https://www.kialo.com/all-humans-should-be-vegan-2762).\n",
    "\n",
    "We provide a class `Kialo` for browsing a collection of such trees.  Please read the [source code](https://www.cs.jhu.edu/~jason/465/hw-llm) in `kialo.py`.  The class constructor reads in text files that are [exported Kialo discussions](https://support.kialo.com/en/hc/exporting-a-discussion/); we have provided some in the [data directory](https://www.cs.jhu.edu/~jason/465/hw-llm/data).  The class includes a BM25 index, to be able to find claims that are relevant to a given string."
   ]
  },
  {
   "cell_type": "code",
   "execution_count": null,
   "metadata": {},
   "outputs": [],
   "source": [
    "from kialo import Kialo"
   ]
  },
  {
   "cell_type": "markdown",
   "metadata": {},
   "source": [
    "Ok, let's pull the retrieved discussions (the `.txt` files) into our data structure.\n",
    "\n",
    "For BM25 purposes, we have to be able to turn each document (that is, each Kialo claim) as a list of string or integer tokens. "
   ]
  },
  {
   "cell_type": "code",
   "execution_count": null,
   "metadata": {},
   "outputs": [],
   "source": [
    "from typing import List\n",
    "import glob\n",
    "\n",
    "# kialo = Kialo(glob.glob(\"data/*\"), tokenizer=tokenizer.encode)  # using the LLM's tokenizer doesn't work here for some reason\n",
    "kialo = Kialo(glob.glob(\"data/*\"))  # use simple default tokenizer\n",
    "f\"This Kialo subset contains {len(kialo)} claims\""
   ]
  },
  {
   "cell_type": "markdown",
   "metadata": {},
   "source": [
    "Let's use sampling to see what kind of stuff is in the data structure."
   ]
  },
  {
   "cell_type": "code",
   "execution_count": null,
   "metadata": {},
   "outputs": [],
   "source": [
    "kialo.random_chain()   # just a single random claim"
   ]
  },
  {
   "cell_type": "code",
   "execution_count": null,
   "metadata": {},
   "outputs": [],
   "source": [
    "kialo.random_chain(n=4)"
   ]
  },
  {
   "cell_type": "markdown",
   "metadata": {},
   "source": [
    "### Similarity-based retrieval from the Kialo corpus\n",
    "\n",
    "Let's try it, using BM25!"
   ]
  },
  {
   "cell_type": "code",
   "execution_count": null,
   "metadata": {},
   "outputs": [],
   "source": [
    "kialo.closest_claims(\"animal populations\", n=10)"
   ]
  },
  {
   "cell_type": "markdown",
   "metadata": {},
   "source": [
    "We can restrict to claims for which the Kialo data structure has at least one counterargument (\"con\" child)."
   ]
  },
  {
   "cell_type": "code",
   "execution_count": null,
   "metadata": {},
   "outputs": [],
   "source": [
    "kialo.closest_claims(\"animal populations\", n=10, kind='has_cons')"
   ]
  },
  {
   "cell_type": "code",
   "execution_count": null,
   "metadata": {},
   "outputs": [],
   "source": [
    "c = _[0]    # first claim above\n",
    "print(\"Parent claim:\\n\\t\" + str(kialo.parents[c]))\n",
    "print(\"Claim:\\n\\t\" + c)\n",
    "print('\\n\\t* '.join([\"Pro children:\"] + kialo.pros[c]))\n",
    "print('\\n\\t* '.join([\"Con children:\"] + kialo.cons[c]))"
   ]
  },
  {
   "cell_type": "markdown",
   "metadata": {},
   "source": [
    "### Does BM25 really work?\n",
    "\n",
    "![image](https://cs.jhu.edu/~jason/465/hw-llm/handin.png)\n",
    "Unfortunately, we see that `\"animal population\"` gives quite different results from `\"animal populations\"`.  Why is that and how would you fix it?  \n",
    "\n",
    "Also, both queries seem to retrieve some claims that are talking about human populations, not animal populations.  Why is that and how would you fix it?"
   ]
  },
  {
   "cell_type": "code",
   "execution_count": null,
   "metadata": {},
   "outputs": [],
   "source": [
    "kialo.closest_claims(\"animal population\",10)"
   ]
  },
  {
   "cell_type": "markdown",
   "metadata": {},
   "source": [
    "## A retrieval bot (Akiko)\n",
    "\n",
    "The starter code defines a simple argubot named Akiko (defined in `argubots.py`) that doesn't use an LLM at all.  It simply finds a Kialo claim that is similar to what the human just said, and responds with one of the Kialo counterarguments to that claim.\n",
    "\n",
    "You already watched Akiko argue with Darius in `demo.py`.  If you look at the log messages, you'll see the claims that Akiko retrieved, as well as the LLM calls that Darius made.  \n",
    "\n",
    "You can talk to Akiko yourself now.  (Remember that Akiko only knows about subjects that it read about in the [`data` directory](https://www.cs.jhu.edu/~jason/465/hw-llm/data/).  If you want to talk about something else, you can add more conversations from [kialo.com]; see the [LICENSE](https://www.cs.jhu.edu/~jason/465/hw-llm/data/LICENSE) file.)\n"
   ]
  },
  {
   "cell_type": "code",
   "execution_count": null,
   "metadata": {},
   "outputs": [],
   "source": [
    "from logging_cm import LoggingContext\n",
    "with LoggingContext(\"agents\", \"INFO\"):   # temporarily increase logging level\n",
    "    argubots.akiko.converse()"
   ]
  },
  {
   "cell_type": "markdown",
   "metadata": {},
   "source": [
    "## Making your own retrieval bot (Akiki)\n",
    "\n",
    "As you can see when talking to Akiko yourself, Akiko does poorly when responding to a short or vague dialogue turn (like \"Yes\"), because the \"closest claim\" in Kialo may be about a totally different subject.  Akiko does much better at responding to a long and specific statement.  \n",
    "\n",
    "So try implementing a new argubot, called Akiki, that is very much like Akiko but does a better job of staying on topic in such cases.  It should be able to **look at more of the dialogue** than the most recent turn.  But the most recent dialogue turn should still be \"more important\" than earlier turns.  \n",
    "\n",
    "The details are up to you.  Here are a few things you could try:\n",
    "* include earlier dialogue turns in the BM25 query only if the BM25 similarity is too low without them\n",
    "* weight more recent turns more heavily in the BM25 query (how can you arrange that?)\n",
    "* treat the human's earlier turns differently from Akiki's own previous turns\n",
    "\n",
    "![image](https://cs.jhu.edu/~jason/465/hw-llm/handin.png)\n",
    "Implement your new bot Akiki in `argubots.py`, and adjust it until `argubots.akiki.converse()` seems to do a better job of answering your short turns, compared to `argubots.akiko.converse()`.  Make sure it still gives appropriate reponses to long turns, too.  Give some examples in the notebook of what worked well and badly, with discussion."
   ]
  },
  {
   "cell_type": "markdown",
   "metadata": {},
   "source": [
    "### Evaluating Akiki\n",
    "\n",
    "![image](https://cs.jhu.edu/~jason/465/hw-llm/handin.png)\n",
    "Finally, do a more formal evaluation to verify whether Akiki really does better than Akiko on this dimension.  This is a way to check that you're not just fooling yourself.  \n",
    "\n",
    "1. Make a new `Agent` called \"Shorty\" that often (but not always) gives short responses.  \n",
    "    * Shorty's conversation starters should be on topics that Kialo knows about.  \n",
    "    * Shorty could be a pure `LLMAgent` such as a `CharacterAgent` with a particular `conversational_style`.  Or it could use a mixed strategy of calling the LLM on some turns and not others.\n",
    "2. Generate several *Akiko*-Shorty dialogues and several *Akiki*-Shorty dialogues, using `simulated_dialogue`.\n",
    "3. Evaluate each of those dialogues by asking Judge Wise **how well the argubot stayed on topic**.  You should write this prompt carefully so that Judge Wise gives meaningful scores.  (Before you do this evaluation step, adjust the prompt until it seems to work well on a small subset of the dialogues, Otherwise Judge Wise won't be so wise!)  \n",
    "4. Compare Akiko and Akiki's mean scores on this new evaluation criterion (which you can call `'focused'`). Ideally, compute a 95% confidence interval on the difference of means, using [this calculator](https://www.statskingdom.com/difference-confidence-interval-calculator.html).  If you don't get statistical significance, then your evaluation set wasn't large enough, so go back to step 2 and run the comparison again (from scratch) by generating a larger set of dialogues with Shorty for each argubot.\n",
    "\n",
    "You can do all those steps in the notebook, writing _ad hoc_ code.  You don't have to write general-purpose methods or classes."
   ]
  },
  {
   "cell_type": "markdown",
   "metadata": {},
   "source": [
    "## Retrieval-augmented generation (Aragorn)"
   ]
  },
  {
   "cell_type": "markdown",
   "metadata": {},
   "source": [
    "The real weaknesses of Akiko and Akiki:\n",
    "* They can only make statements that are already in Kialo.  \n",
    "* They don't respond to the user's actual statement, but to a single retrieved Kialo claim that may not accurately reflect the user's position (it just overlaps in words).\n",
    "\n",
    "But we also have access to an LLM, which is able to generate new, contextually appropriate text (as Alice does).\n",
    "\n",
    "In this section, you will create an argubot named [Aragorn](https://tolkiengateway.net/wiki/Riddle_of_Strider), who is basically the love child of Akiki and Alice, combining the high-quality specific content of Kialo with the broad competence of an LLM.  \n",
    "\n",
    "The RAG in aRAGorn's name stands for **retrieval-augmented generation**.  Aragorn is an agent that will take 3 steps to compute its `Agent.response()`:\n",
    "\n",
    "1. **Query formation step**: Ask the LLM what claim should be responded to.  For\n",
    "   example, consider the following dialogue:\n",
    "    > ...\n",
    "    > Aragorn: Fortunately, the vaccine was developed in record time.\n",
    "    > Human: Sounds fishy.\n",
    "\n",
    "    \"Sounds fishy\" is exactly the kind of statement that Akiko had trouble using\n",
    "    as a Kialo query.  But Aragorn shows the *whole dialogue* to the LLM, and\n",
    "    asks the LLM what the human's *last turn* was really saying or implying, in\n",
    "    that context. The LLM answers with a much longer statement:\n",
    "\n",
    "    > Human [paraphrased]: A vaccine that was developed very quickly cannot be trusted.\n",
    "    > If its developers are claiming that it is safe and effective, I question their motives.\n",
    "\n",
    "    This paraphrase makes an explicit claim and can be better understood without the context.\n",
    "    It also contains many more word types, which makes it more likely that BM25 will be able\n",
    "    to find a Kialo claim with a nontrivial number of those types. \n",
    "\n",
    "2. **Retrieval step**: Look up claims in Kialo that are similar to the explicit\n",
    "   claim.  Create a short \"document\" that describes some of those claims and\n",
    "   their neighbors on Kialo.\n",
    "\n",
    "3. **Retrieval-augmented generation**: Prompt the LLM to generate the response\n",
    "   (like any `LLMAgent`).  But include the new \"document\" somewhere in the LLM\n",
    "   prompt, in a way that it influences the response. \n",
    "   \n",
    "   Thus, the LLM can respond in a way that is appropriate to the dialogue but\n",
    "   also draws on the curated information that was retrieved in Kialo.  After\n",
    "   all, it is a Transformer and can attend to both!"
   ]
  },
  {
   "cell_type": "markdown",
   "metadata": {},
   "source": [
    "Here's an example of the kind of document you might create at the retrieval step, though it may be possible\n",
    "to do better than this:"
   ]
  },
  {
   "cell_type": "code",
   "execution_count": null,
   "metadata": {},
   "outputs": [],
   "source": [
    "# refers to global `kialo` as defined above\n",
    "def kialo_responses(s: str) -> str:\n",
    "    c = kialo.closest_claims(s, kind='has_cons')[0]\n",
    "    result = f'One possibly related claim from the Kialo debate website:\\n\\t\"{c}\"'\n",
    "    if kialo.pros[c]:\n",
    "        result += '\\n' + '\\n\\t* '.join([\"Some arguments from other Kialo users in favor of that claim:\"] + kialo.pros[c])\n",
    "    if kialo.cons[c]:\n",
    "        result += '\\n' + '\\n\\t* '.join([\"Some arguments from other Kialo users against that claim:\"] + kialo.cons[c])\n",
    "    return result\n",
    "        \n",
    "print(kialo_responses(\"Animal flesh is yucky to think about, yet delicious.\"))"
   ]
  },
  {
   "cell_type": "markdown",
   "metadata": {},
   "source": [
    "![image](https://cs.jhu.edu/~jason/465/hw-llm/handin.png)\n",
    "**You should implement Aragorn in `argubots.py`, just as you did for Akiki.**  Probably as an instance `aragorn` of a new class `RAGAgent` that is a subclass of `Agent` or `LLMAgent`."
   ]
  },
  {
   "cell_type": "markdown",
   "metadata": {},
   "source": [
    "### Evaluating Aragorn\n",
    "\n",
    "![image](https://cs.jhu.edu/~jason/465/hw-llm/handin.png)\n",
    "Compare Alice, Akiki, and Aragorn in the notebook, using the evaluation scheme and devset that were illustrated in `demo.ipynb`.  In other words, use `evaluate.eval_on_characters`.\n",
    "\n",
    "Who does best?  What are the differences in the subscores and comments?  Does it matter which character you're evaluating on — maybe the different characters expoes the bots' various strenghts and weaknesses?\n",
    "\n",
    "Try to figure out how to improve Aragorn's score.  Can you beat Alice?\n",
    "\n",
    "Also, try evaluating them in the same way that you evaluated Akiki.  In other words, have them talk to Shorty and ask Judge Wise whether they were able to stay on topic.  This is where Aragorn should really shine, thanks to its ability to paraphrase Shorty's short utterances.\n",
    "\n"
   ]
  },
  {
   "cell_type": "markdown",
   "metadata": {},
   "source": [
    "# Awsom\n",
    "\n",
    "![image](handin.png)\n",
    "Add another LLM-based argubot to `argubots.py`.  \n",
    "Call it Awsom.  Try to make it get the best score, according to `evaluate.eval_on_characters`.\n",
    "Explain what you did and discuss what you found.\n",
    "\n",
    "(This corresponds to the `--awesome` flag on earlier assignments, but naming the character \"Awesome\" might bias the evaluation system, so we changed the spelling!)\n",
    "\n",
    "If the idea was interesting and you implemented it correctly and well, it's okay if it turns out not to help the score.  Many good ideas don't work.  That's why you need to keep finding and trying new good ideas.  (Sometimes they do help, but in a way that is not picked up by the scoring metric.)\n",
    "\n",
    "You may want to use Aragorn or Alice as your starting point.\n",
    "Then see if you can find tricks that will get a more awesome score for Awsom.\n",
    "How you choose to do that is up to you, but some ideas are below.\n",
    "\n",
    "(Reminder: **Don't change evaluation.**  Just build a better argubot.)"
   ]
  },
  {
   "cell_type": "markdown",
   "metadata": {},
   "source": [
    "## [Possible strategy] Prompt engineering\n",
    "\n",
    "A good first thing to do is to experiment with Alice's prompt.  \n",
    "The wording and level of detail in the prompt can be quite important.\n",
    "Often, NLP engineers will change their prompt to try to address \n",
    "problems that they've seen in the responses.\n",
    "\n",
    "Because it's \"just\" text editing, this won't get full credit by itself unless you make a real discovery.\n",
    "But it requires intelligence, care, experimentation, and alertness to the language of the responses and the\n",
    "language of the prompts.  And you'll develop some intuitions about what helps and what doesn't.\n",
    "It is certainly worthwhile.\n",
    "\n",
    "Of course, people have tried to develop methods to search for good prompts automatically, or semi-automatically with human guidance.  \n",
    "So you could additionally try out SAMMO or DSPy -- both have multiple tutorials and are downloadable from github.\n",
    "\n",
    "If you try this, what worked well for you?"
   ]
  },
  {
   "cell_type": "markdown",
   "metadata": {},
   "source": [
    "## [Possible strategy] Chain of thought / Planning\n",
    "\n",
    "The evaluation functions in `evaluate.py` asked each `EvaluationAgent` a \"warmup question\" before continuing with the real question.  That is an example of chain-of-thought (CoT) reasoning, where the LLM is encouraged to talk through the problem for a few sentences before giving the answer.  CoT sometimes improves performance.\n",
    "\n",
    "Instead of using one prompt, could you help an `LLMAgent` argubot (like Alice) do better by having think aloud before it gives an answer?  For example, each time the human speaks, your argubot (Awsom) could prompt the LLM to think about the human's ideas/motivations/personality, and to come up with a plan for how to open the human's mind. \n",
    "\n",
    "For example, you might structure this as a `Dialogue` among three participants, like this:\n",
    "> Awsom (to Eve): Do you think COVID vaccines should be mandatory?\n",
    ">\n",
    "> Eve: Have you ever gotten vaccinated yourself?<br>\n",
    ">\n",
    "> Awsom (private thought): I don't know Eve's opinions yet, so I can't push back.  Eve might be avoiding my question because she doesn't want to get into a political argument.  So let's see if we can get her to express an opinion on something less political.  Maybe something more personal ... like whether vaccines are scary.\n",
    ">\n",
    "> Awsom (to Eve): In fact I have, and so have millions of others. But some people seem scared about getting the vaccine.  \n",
    "\n",
    "One way to trigger this kind of analysis is to present a `Dialogue.script()` to Awsom (or to an observer), and ask an open-ended question about it.  Or you could ask a series of more specific questions.  That is basically what `eval_by_participant` and `eval_by_observer` do.  But here the argubot itself is doing it, rather than the evaluation framework.\n",
    "\n",
    "Eve would be shown only the turns that are spoken aloud.  However, when analyzing and responding, Awsom would get to see Awsom's own private thoughts as well.\n"
   ]
  },
  {
   "cell_type": "markdown",
   "metadata": {},
   "source": [
    "## [Possible strategy] Dense embeddings\n",
    "\n",
    "BM25 uses sparse embeddings — a document's embedding vector is mostly zeroes, since the non-zero coordinates correspond to the specific words (tokens) that appear in the document.\n",
    "\n",
    "But perhaps dense embeddings of documents would improve Aragorn by reading the text and abstracting away from the words, in a way that actually cares about word order.  So, try it!\n",
    "\n",
    "How?  As mentioned earlier in this notebook, you could compute the embeddings yourself and put them in a FAISS index. Or you could figure out how to use OpenAI's [knowledge retrieval](https://platform.openai.com/docs/assistants/tools/knowledge-retrieval) API."
   ]
  },
  {
   "cell_type": "markdown",
   "metadata": {},
   "source": [
    "## [Possible strategy] Few-shot prompting\n",
    "\n",
    " In this homework, often an agent prompted a language model only with instructions.  Can you find a place where giving a few _examples_ would also improve performance?  You will have to write the examples, and you will have to add them to the sequence of messages that your agent sends to the OpenAI API.  See the sentence-reversal illustration earlier in this notebook.\n",
    "\n",
    "One good opportunity is in the query formation step of RAG.  This is a tricky task.  The LLM is supposed to state the user's implicit claim in a form that looks like a Kialo claim (or, more precisely, a form that will work well as a Kialo query).  It probably doesn't know what Kialo claims look like.  So you could show it by way of example.  This would also show it what you mean by the user's \"implicit claim.\"\n"
   ]
  },
  {
   "cell_type": "markdown",
   "metadata": {},
   "source": [
    "## [Possible strategy] Using tools in the approved way\n",
    "\n",
    "Aragorn's step 1 (query formation) is basically getting the LLM to generate a function call like\n",
    "```\n",
    "kialo_thoughts(\"A vaccine that was developed very quickly ...\")\n",
    "```\n",
    "which Aragorn will execute at step 2 (retrieval), sending the results back to the LLM as part of step 3.\n",
    "\n",
    "In this context, `kialo_thoughts` is an example of a **tool** (that is, a function) that the\n",
    "LLM can or must use before it gives its response.\n",
    "\n",
    "The tool is _not_ something that runs on the LLM server.  It is written by you\n",
    "in Python and executed by you.  The function call above, including the text `\"A\n",
    "vaccine that was ...\"`, is the part that is generated by the LLM.\n",
    "\n",
    "The OpenAI API has [special support](https://cookbook.openai.com/examples/how_to_call_functions_with_chat_models) for calling the LLM in a way that will _allow_ it to generate a tool call ([tools](https://platform.openai.com/docs/api-reference/chat/create#chat-create-tools)) or _force_ it to do so ([tool_choice](https://platform.openai.com/docs/api-reference/chat/create#chat-create-tool_choice)).  You can then send the tool's result back to the LLM [as part of your message sequence](https://platform.openai.com/docs/api-reference/chat/create#chat-create-messages).\n",
    "\n",
    "So, you could modify Aragorn to use tools properly.  Maybe that will help, simply because the LLM was trained on message sequences that included tool use.  It should know to pay attention to the tool portions of the prompt when they are relevant, and ignore them when they are not."
   ]
  },
  {
   "cell_type": "markdown",
   "metadata": {},
   "source": [
    "The `client.chat.completions.create()` method would need to be told about the tool by using the `tools` keyword argument, with a value something the one below.\n",
    "\n",
    "If `d` is a `Dialogue`, you should be able to call `d.response()` with the `tools` keyword argument.  This will be passed on to `client.chat.completions.create()` as desired."
   ]
  },
  {
   "cell_type": "code",
   "execution_count": null,
   "metadata": {},
   "outputs": [],
   "source": [
    "tools = [\n",
    "    {\n",
    "        \"type\": \"function\",\n",
    "        \"function\": {\n",
    "            \"name\": \"kialo_thoughts\",\n",
    "            \"description\": \"Given a claim by the user, find a similar claim on the Kialo website and return its pro and con responses\",\n",
    "            \"parameters\": {\n",
    "                \"type\": \"object\",\n",
    "                \"properties\": {\n",
    "                    \"search_topic\": {\n",
    "                        \"type\": \"string\",\n",
    "                        \"description\": \"A claim that was made explicitly or implicitly by the user.\",\n",
    "                    },\n",
    "                },\n",
    "                \"required\": [\"search_topic\"],\n",
    "            },\n",
    "        }\n",
    "    }]"
   ]
  },
  {
   "cell_type": "markdown",
   "metadata": {},
   "source": [
    "## [Possible strategy] Parallel generation\n",
    "\n",
    "The chat completions interface allows you to sample $n$ continuations of the prompt in parallel, as we saw with \"the apples, bananas, cherries ...\" example.  This is efficient because it requires only 1 request to the LLM server and not $n$.  The latency does not scale with $n$.  Nor does the input token cost, since the prompt only has to be encoded once.\n",
    "\n",
    "Perhaps you can find a way to make use of this?  For example, the query formulation step of RAG could generate $n$ implicit claims instead of just one.  We could then look for claims in the Kialo database that are close to _any_ of those implicit claims.\n",
    "\n",
    "Another thing to do with multiple completions is to select among them or combine them.  For example, suppose we prompt the LLM to generate completions of the form $(s,t,r)$ where $s$ is an answer, $t$ evaluates that answer, and $r$ is a numerical score or reward based on that evaluation.  (\"Write a poem, then tell us about its rhyme and rhythm problems, then give your score.\")  \n",
    "* If we sample multiple completions $(s_1,t_1,r_1), \\ldots, (s_n,t_n,r_n)$ in parallel, then we can return the $s_i$ whose $r_i$ is largest.  \n",
    "* Or if we sample $s$ and then multiple continuations $(t_1,r_1), \\ldots, (t_n,r_n)$, then we can return the mean score $\\sum_i r_i/n$ as a reduced-variance score for $s$, which averages over diverse textual evaluations that might consider different aspects of $s$.\n",
    "\n",
    "Note that when you call the chat completions interface with $n > 1$, you specfy just 1 input prompt and get $n$ different output completions.  Since the input prompt must be the same for all outputs, it is necessary to sample all of $(s,t,r)$ or all of $(t,r)$ with a single call to the LLM.\n",
    "\n",
    "Alternatively, it is possible to reduce latency by submitting multiple requests to the server in parallel (see \"async usage\" [here](https://pypi.org/project/openai/)).  In this case the input prompts can be different, although you now have to pay to encode all of them separately.  This facility could speed up evaluation without changing its results; that's a worthwhile thing to try for extra credit!\n"
   ]
  },
  {
   "cell_type": "markdown",
   "metadata": {},
   "source": [
    "# [Extra credit] Adversarial testing (Anansi)\n",
    "\n",
    "![image](handinec.png)\n",
    "Finally, let's test whether our eval metric `evaluate.eval_on_characters` is vulnerable to adversarial gaming.  Remember [Goodhart's Law](https://en.wikipedia.org/wiki/Goodhart%27s_law) ...\n",
    "\n",
    "Add one more argubot to `argubots.py`.\n",
    "Call it [Anansi](https://www.britannica.com/topic/Ananse), after the trickster character from folklore.\n",
    "\n",
    "Can you make Anansi *fool* the judges into giving him a high score?  (Higher than some of the earlier argubots, while actually being worse at the task?)  **Any sneaky way of constructing Anansi's responses is fair game.**  The goal is to do well under automated evaluation on a held-out test set.  That is, Anansi should continue to score highly when talking to a character who is not in `evaluate.dev_chars` = {Bob, Cara, Darius, Eve, TrollFace}, when judged both by the character he is talking to and by Judge Wise.\n",
    "\n",
    "To do well at this, figure out what the judges \"want\" -- what they might reward or respond positively to -- and how to give it to them.  This might be done by pure prompt engineering, or with additional computation (perhaps making use of additional LLM calls or other resources).  Again, explain what you did, and discuss how it worked out on the dev set.  Feel free to mention other ideas you had, too."
   ]
  },
  {
   "cell_type": "markdown",
   "metadata": {},
   "source": []
  }
 ],
 "metadata": {
  "kernelspec": {
   "display_name": "nlp-class",
   "language": "python",
   "name": "python3"
  },
  "language_info": {
   "codemirror_mode": {
    "name": "ipython",
    "version": 3
   },
   "file_extension": ".py",
   "mimetype": "text/x-python",
   "name": "python",
   "nbconvert_exporter": "python",
   "pygments_lexer": "ipython3",
   "version": "3.9.19"
  }
 },
 "nbformat": 4,
 "nbformat_minor": 2
}
